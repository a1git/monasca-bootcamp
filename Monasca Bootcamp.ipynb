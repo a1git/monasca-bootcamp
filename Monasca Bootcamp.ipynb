{
 "cells": [
  {
   "cell_type": "markdown",
   "metadata": {
    "slideshow": {
     "slide_type": "slide"
    }
   },
   "source": [
    "\n",
    "# Monasca Bootcamp\n",
    "## Hands on Lab\n",
    "---\n",
    "### [Roland Hochmuth](https://www.linkedin.com/in/rolandhochmuth)\n",
    "email: <roland.hochmuth@hpe.com>\n",
    "### [Michael Hoppal](https://www.linkedin.com/in/hoppalmichael)\n",
    "email: <michael.jam.hoppal@hpe.com>"
   ]
  },
  {
   "cell_type": "markdown",
   "metadata": {
    "slideshow": {
     "slide_type": "slide"
    }
   },
   "source": [
    "# Agenda\n",
    "---\n",
    "* Overview\n",
    "* Architecture\n",
    "* Deployment\n",
    "* API, CLI (python-monascaclient) and client\n",
    "* Agent\n",
    "* Developing\n",
    "* Current status\n",
    "* What next?\n"
   ]
  },
  {
   "cell_type": "markdown",
   "metadata": {
    "slideshow": {
     "slide_type": "slide"
    }
   },
   "source": [
    "# Architecture\n",
    "---"
   ]
  },
  {
   "cell_type": "markdown",
   "metadata": {
    "slideshow": {
     "slide_type": "subslide"
    }
   },
   "source": [
    "# Horizon\n",
    "---"
   ]
  },
  {
   "cell_type": "markdown",
   "metadata": {
    "slideshow": {
     "slide_type": "subslide"
    }
   },
   "source": [
    "# Grafana 2\n",
    "---"
   ]
  },
  {
   "cell_type": "markdown",
   "metadata": {
    "slideshow": {
     "slide_type": "subslide"
    }
   },
   "source": [
    "# Logging-as-a-Service\n",
    "---"
   ]
  },
  {
   "cell_type": "markdown",
   "metadata": {},
   "source": [
    "# Integration with other OpenStack projects\n",
    "---\n",
    "* Ceilometer\n",
    "* Heat\n",
    "* Congress\n",
    "* Vitrage\n",
    "* Broadview\n",
    "* Neutron\n",
    "* Rally"
   ]
  },
  {
   "cell_type": "markdown",
   "metadata": {},
   "source": [
    "# Other Monasca activities at the Austin OpenStack Summit\n",
    "---"
   ]
  },
  {
   "cell_type": "markdown",
   "metadata": {
    "slideshow": {
     "slide_type": "slide"
    }
   },
   "source": [
    "# Deployment\n",
    "---"
   ]
  },
  {
   "cell_type": "markdown",
   "metadata": {
    "slideshow": {
     "slide_type": "slide"
    }
   },
   "source": [
    "# Import libraries\n",
    "---"
   ]
  },
  {
   "cell_type": "code",
   "execution_count": null,
   "metadata": {
    "collapsed": false,
    "slideshow": {
     "slide_type": "-"
    }
   },
   "outputs": [],
   "source": [
    "import datetime\n",
    "import time\n",
    "\n",
    "# Import libraries use for visualization and analysis\n",
    "import pandas as pd\n",
    "import numpy as np\n",
    "from plotly.offline import download_plotlyjs, init_notebook_mode, iplot\n",
    "from plotly.graph_objs import *\n",
    "import cufflinks as cf\n",
    "\n",
    "# Import the Monasca and Keystone client\n",
    "from monascaclient import client\n",
    "from monascaclient import ksclient"
   ]
  },
  {
   "cell_type": "markdown",
   "metadata": {
    "slideshow": {
     "slide_type": "slide"
    }
   },
   "source": [
    "# Initialize the Keystone and Monasca Client\n",
    "---"
   ]
  },
  {
   "cell_type": "code",
   "execution_count": null,
   "metadata": {
    "collapsed": true,
    "slideshow": {
     "slide_type": "-"
    }
   },
   "outputs": [],
   "source": [
    "KEYSTONE_URL = 'http://192.168.10.6:5000/v3'\n",
    "PROJECT_NAME = 'mini-mon'\n",
    "USERNAME = 'mini-mon'\n",
    "PASSWORD = 'password'"
   ]
  },
  {
   "cell_type": "code",
   "execution_count": null,
   "metadata": {
    "collapsed": false,
    "slideshow": {
     "slide_type": "-"
    }
   },
   "outputs": [],
   "source": [
    "# Authenticate to Keystone\n",
    "keystone_client = ksclient.KSClient(auth_url=KEYSTONE_URL, username=USERNAME, password=PASSWORD)\n",
    "\n",
    "# Create the Monasca client\n",
    "monasca_client = client.Client('2_0', keystone_client.monasca_url, token=keystone_client.token)\n",
    "\n",
    "# Initialize environment variables to use the Monasca CLI\n",
    "%env OS_PROJECT_NAME=$PROJECT_NAME\n",
    "%env OS_PASSWORD=$PASSWORD\n",
    "%env OS_AUTH_URL=$KEYSTONE_URL\n",
    "%env OS_USERNAME=$USERNAME\n",
    "\n",
    "# If you are doing development on your local system and running from there then set the URL to the Monasca API\n",
    "# to override the one returned from Keystone\n",
    "# %env MONASCA_API_URL=http://127.0.0.1:8070/v2.0"
   ]
  },
  {
   "cell_type": "markdown",
   "metadata": {
    "slideshow": {
     "slide_type": "slide"
    }
   },
   "source": [
    "# Initialize Plotly\n",
    "---\n",
    "\n",
    "We'll be using Plotly for displaying some graphs later on in this notebook."
   ]
  },
  {
   "cell_type": "code",
   "execution_count": null,
   "metadata": {
    "collapsed": false,
    "slideshow": {
     "slide_type": "-"
    }
   },
   "outputs": [],
   "source": [
    "WIDTH = 640\n",
    "HEIGHT = 768\n",
    "\n",
    "cf.offline.go_offline()\n",
    "\n",
    "layout = Layout(\n",
    "    autosize=False,\n",
    "    width=WIDTH,\n",
    "    height=HEIGHT,\n",
    "    margin=Margin(\n",
    "        l=50,\n",
    "        r=50,\n",
    "        b=100,\n",
    "        t=100,\n",
    "        pad=4\n",
    "    ))"
   ]
  },
  {
   "cell_type": "markdown",
   "metadata": {
    "slideshow": {
     "slide_type": "slide"
    }
   },
   "source": [
    "# Using the API\n",
    "---\n",
    "\n",
    "The Monasca API Specification has the following resources:\n",
    "\n",
    "* Versions\n",
    "\n",
    "* Metrics\n",
    "\n",
    "* Metrics Measurements\n",
    "\n",
    "* Metrics Statistics\n",
    "\n",
    "* Metrics Names\n",
    "\n",
    "* Notification Methods\n",
    "\n",
    "* Alarm Definitions\n",
    "\n",
    "* Alarms\n",
    "\n",
    "* Alarms State History"
   ]
  },
  {
   "cell_type": "markdown",
   "metadata": {
    "slideshow": {
     "slide_type": "slide"
    }
   },
   "source": [
    "# Common concepts"
   ]
  },
  {
   "cell_type": "markdown",
   "metadata": {
    "slideshow": {
     "slide_type": "subslide"
    }
   },
   "source": [
    "# Dimensions\n",
    "---\n",
    "\n",
    "* A dictionary of (key, value) pairs that are used to uniquely identify a metric.\n",
    "\n",
    "* Used to slice and dice metrics when querying.\n",
    "\n",
    "* Examples: hostname, service, component, region zone, resource_id, ..."
   ]
  },
  {
   "cell_type": "markdown",
   "metadata": {
    "slideshow": {
     "slide_type": "subslide"
    }
   },
   "source": [
    "# Roles\n",
    "---\n",
    "\n",
    "There are three roles in Monasca:\n",
    "\n",
    "1. user: Allows the client access to all CRUD operations on the API.\n",
    "\n",
    "2. agent: Can only POST metrics to the API.\n",
    "\n",
    "3. delegate: Allows the user to POST or query metrics."
   ]
  },
  {
   "cell_type": "markdown",
   "metadata": {
    "slideshow": {
     "slide_type": "subslide"
    }
   },
   "source": [
    "# Pagination\n",
    "---"
   ]
  },
  {
   "cell_type": "markdown",
   "metadata": {
    "slideshow": {
     "slide_type": "slide"
    }
   },
   "source": [
    "# Metrics\n",
    "---\n",
    "\n",
    "* name (string(255), required) - The name of the metric.\n",
    "\n",
    "* dimensions ({string(255): string(255)}, optional) - A dictionary consisting of (key, value) pairs used to uniquely identify a metric and slice and dice on.\n",
    "\n",
    "    * Examples: hostname, region, zone, service, component, process, ...\n",
    "\n",
    "* timestamp (string, required) - The timestamp in milliseconds from the Epoch.\n",
    "\n",
    "* value (float, required) - Value of the metric.\n",
    "\n",
    "* value_meta ({string(255): string(2048)}, optional) - A dictionary consisting of (key, value) pairs used to add information about the value.\n",
    "\n",
    "    * Examples: status_code, msg\n",
    "\n",
    "* tenant_id: Tenant ID to create metrics on behalf of.\n",
    "\n",
    "    * This parameter can be used to submit metrics from one tenant, to another.\n",
    "    * Requires the delegate role."
   ]
  },
  {
   "cell_type": "markdown",
   "metadata": {
    "slideshow": {
     "slide_type": "subslide"
    }
   },
   "source": [
    "# Create metrics\n",
    "---"
   ]
  },
  {
   "cell_type": "code",
   "execution_count": null,
   "metadata": {
    "collapsed": false,
    "slideshow": {
     "slide_type": "subslide"
    }
   },
   "outputs": [],
   "source": [
    "!monasca help metric-create"
   ]
  },
  {
   "cell_type": "markdown",
   "metadata": {
    "slideshow": {
     "slide_type": "subslide"
    }
   },
   "source": [
    "# POST /v2.0/metrics request body\n",
    "---\n",
    "\n",
    "```\n",
    "{\n",
    "\tname: http_status,\n",
    "\tdimensions: {\n",
    "\t\thostname: hostname.domain.com,\n",
    "\t\tregion: uswest,\n",
    "\t\tzone: 1,\n",
    "\t\tservice: compute\n",
    "\t}\n",
    "\ttimestamp: 0, /* milliseconds */\n",
    "\tvalue: 0.0,\n",
    "\tvalue_meta: {\n",
    "\t\tstatus_code: 500,\n",
    "\t\tmsg: Internal server error\n",
    "\t}\n",
    "}\n",
    "```"
   ]
  },
  {
   "cell_type": "markdown",
   "metadata": {
    "slideshow": {
     "slide_type": "subslide"
    }
   },
   "source": [
    "# List Metrics\n",
    "---"
   ]
  },
  {
   "cell_type": "code",
   "execution_count": 130,
   "metadata": {
    "collapsed": false
   },
   "outputs": [
    {
     "name": "stdout",
     "output_type": "stream",
     "text": [
      "usage: monasca metric-list [--name <METRIC_NAME>]\r\n",
      "                           [--dimensions <KEY1=VALUE1,KEY2=VALUE2...>]\r\n",
      "                           [--starttime <UTC_START_TIME>]\r\n",
      "                           [--endtime <UTC_END_TIME>]\r\n",
      "                           [--offset <OFFSET LOCATION>]\r\n",
      "                           [--limit <RETURN LIMIT>]\r\n",
      "\r\n",
      "List metrics for this tenant.\r\n",
      "\r\n",
      "Optional arguments:\r\n",
      "  --name <METRIC_NAME>  Name of the metric to list.\r\n",
      "  --dimensions <KEY1=VALUE1,KEY2=VALUE2...>\r\n",
      "                        key value pair used to specify a metric dimension.\r\n",
      "                        This can be specified multiple times, or once with\r\n",
      "                        parameters separated by a comma. Dimensions need\r\n",
      "                        quoting when they contain special chars\r\n",
      "                        [&,(,),{,},>,<] that confuse the CLI parser.\r\n",
      "  --starttime <UTC_START_TIME>\r\n",
      "                        measurements >= UTC time. format:\r\n",
      "                        2014-01-01T00:00:00Z. OR Format: -120 (previous 120\r\n",
      "                        minutes).\r\n",
      "  --endtime <UTC_END_TIME>\r\n",
      "                        measurements <= UTC time. format:\r\n",
      "                        2014-01-01T00:00:00Z.\r\n",
      "  --offset <OFFSET LOCATION>\r\n",
      "                        The offset used to paginate the return data.\r\n",
      "  --limit <RETURN LIMIT>\r\n",
      "                        The amount of data to be returned up to the API\r\n",
      "                        maximum limit.\r\n"
     ]
    }
   ],
   "source": [
    "!monasca help metric-list"
   ]
  },
  {
   "cell_type": "markdown",
   "metadata": {
    "slideshow": {
     "slide_type": "subslide"
    }
   },
   "source": [
    "# List metrics\n",
    "---"
   ]
  },
  {
   "cell_type": "code",
   "execution_count": 131,
   "metadata": {
    "collapsed": false
   },
   "outputs": [
    {
     "name": "stdout",
     "output_type": "stream",
     "text": [
      "+--------------------------------------+-----------------------+\n",
      "| name                                 | dimensions            |\n",
      "+--------------------------------------+-----------------------+\n",
      "| apache.net.hits                      | apache_host: devstack |\n",
      "|                                      | apache_port: 80       |\n",
      "|                                      | component: apache     |\n",
      "|                                      | hostname: devstack    |\n",
      "|                                      | service: apache       |\n",
      "| apache.net.kbytes_sec                | apache_host: devstack |\n",
      "|                                      | apache_port: 80       |\n",
      "|                                      | component: apache     |\n",
      "|                                      | hostname: devstack    |\n",
      "|                                      | service: apache       |\n",
      "| apache.net.requests_sec              | apache_host: devstack |\n",
      "|                                      | apache_port: 80       |\n",
      "|                                      | component: apache     |\n",
      "|                                      | hostname: devstack    |\n",
      "|                                      | service: apache       |\n",
      "| apache.net.total_kbytes              | apache_host: devstack |\n",
      "|                                      | apache_port: 80       |\n",
      "|                                      | component: apache     |\n",
      "|                                      | hostname: devstack    |\n",
      "|                                      | service: apache       |\n",
      "| apache.performance.busy_worker_count | apache_host: devstack |\n",
      "|                                      | apache_port: 80       |\n",
      "|                                      | component: apache     |\n",
      "|                                      | hostname: devstack    |\n",
      "|                                      | service: apache       |\n",
      "+--------------------------------------+-----------------------+\n"
     ]
    }
   ],
   "source": [
    "!monasca metric-list --limit 5"
   ]
  },
  {
   "cell_type": "markdown",
   "metadata": {
    "slideshow": {
     "slide_type": "subslide"
    }
   },
   "source": [
    "# List metrics and filter on name, dimensions and starttime\n",
    "---"
   ]
  },
  {
   "cell_type": "code",
   "execution_count": 132,
   "metadata": {
    "collapsed": false
   },
   "outputs": [
    {
     "name": "stdout",
     "output_type": "stream",
     "text": [
      "+---------------+---------------------+\r\n",
      "| name          | dimensions          |\r\n",
      "+---------------+---------------------+\r\n",
      "| cpu.user_perc | hostname: devstack  |\r\n",
      "|               | service: monitoring |\r\n",
      "+---------------+---------------------+\r\n"
     ]
    }
   ],
   "source": [
    "!monasca metric-list --name cpu.user_perc --dimensions hostname=devstack --starttime -60 --limit 10\n"
   ]
  },
  {
   "cell_type": "markdown",
   "metadata": {
    "slideshow": {
     "slide_type": "subslide"
    }
   },
   "source": [
    "# Create a function to get metrics using the Monasca client\n",
    "---"
   ]
  },
  {
   "cell_type": "code",
   "execution_count": 133,
   "metadata": {
    "collapsed": true
   },
   "outputs": [],
   "source": [
    "def get_metrics(names = [None], dimensions = None, limit=10):\n",
    "    metrics = []\n",
    "    for name in names:\n",
    "        kwargs = {}\n",
    "        if name is not None:\n",
    "            kwargs['name'] = name\n",
    "        if dimensions is not None:\n",
    "            kwargs['dimensions'] = dimensions\n",
    "        kwargs['limit'] = limit\n",
    "        \n",
    "        # Invoke the Monasca client\n",
    "        metrics = metrics + monasca_client.metrics.list(**kwargs)\n",
    "    return metrics"
   ]
  },
  {
   "cell_type": "markdown",
   "metadata": {
    "slideshow": {
     "slide_type": "slide"
    }
   },
   "source": [
    "# Metrics Measurements\n",
    "---"
   ]
  },
  {
   "cell_type": "markdown",
   "metadata": {
    "slideshow": {
     "slide_type": "subslide"
    }
   },
   "source": [
    "# Query measurements\n",
    "---"
   ]
  },
  {
   "cell_type": "code",
   "execution_count": 134,
   "metadata": {
    "collapsed": false
   },
   "outputs": [
    {
     "name": "stdout",
     "output_type": "stream",
     "text": [
      "usage: monasca measurement-list [--dimensions <KEY1=VALUE1,KEY2=VALUE2...>]\r\n",
      "                                [--endtime <UTC_END_TIME>]\r\n",
      "                                [--offset <OFFSET LOCATION>]\r\n",
      "                                [--limit <RETURN LIMIT>] [--merge_metrics]\r\n",
      "                                <METRIC_NAME> <UTC_START_TIME>\r\n",
      "\r\n",
      "List measurements for the specified metric.\r\n",
      "\r\n",
      "Positional arguments:\r\n",
      "  <METRIC_NAME>         Name of the metric to list measurements.\r\n",
      "  <UTC_START_TIME>      measurements >= UTC time. format:\r\n",
      "                        2014-01-01T00:00:00Z. OR Format: -120 (previous 120\r\n",
      "                        minutes).\r\n",
      "\r\n",
      "Optional arguments:\r\n",
      "  --dimensions <KEY1=VALUE1,KEY2=VALUE2...>\r\n",
      "                        key value pair used to specify a metric dimension.\r\n",
      "                        This can be specified multiple times, or once with\r\n",
      "                        parameters separated by a comma. Dimensions need\r\n",
      "                        quoting when they contain special chars\r\n",
      "                        [&,(,),{,},>,<] that confuse the CLI parser.\r\n",
      "  --endtime <UTC_END_TIME>\r\n",
      "                        measurements <= UTC time. format:\r\n",
      "                        2014-01-01T00:00:00Z.\r\n",
      "  --offset <OFFSET LOCATION>\r\n",
      "                        The offset used to paginate the return data.\r\n",
      "  --limit <RETURN LIMIT>\r\n",
      "                        The amount of data to be returned up to the API\r\n",
      "                        maximum limit.\r\n",
      "  --merge_metrics       Merge multiple metrics into a single result.\r\n"
     ]
    }
   ],
   "source": [
    "!monasca help measurement-list"
   ]
  },
  {
   "cell_type": "markdown",
   "metadata": {
    "slideshow": {
     "slide_type": "subslide"
    }
   },
   "source": [
    "# Query measurement list\n",
    "---"
   ]
  },
  {
   "cell_type": "code",
   "execution_count": 135,
   "metadata": {
    "collapsed": false,
    "slideshow": {
     "slide_type": "-"
    }
   },
   "outputs": [
    {
     "name": "stdout",
     "output_type": "stream",
     "text": [
      "+---------------+---------------------+--------------------------+--------------+------------+\r\n",
      "| name          | dimensions          | timestamp                | value        | value_meta |\r\n",
      "+---------------+---------------------+--------------------------+--------------+------------+\r\n",
      "| cpu.user_perc | hostname: devstack  | 2016-04-09T17:50:41.000Z |       11.000 |            |\r\n",
      "|               | service: monitoring | 2016-04-09T17:50:56.000Z |       10.200 |            |\r\n",
      "|               |                     | 2016-04-09T17:51:11.000Z |       11.300 |            |\r\n",
      "|               |                     | 2016-04-09T17:51:26.000Z |       10.100 |            |\r\n",
      "|               |                     | 2016-04-09T17:51:41.000Z |       10.800 |            |\r\n",
      "+---------------+---------------------+--------------------------+--------------+------------+\r\n"
     ]
    }
   ],
   "source": [
    "!monasca measurement-list --dimensions hostname=devstack --limit 5 cpu.user_perc -120"
   ]
  },
  {
   "cell_type": "markdown",
   "metadata": {
    "slideshow": {
     "slide_type": "subslide"
    }
   },
   "source": [
    "# Create a function to get measurements using the Monasca Client\n",
    "---"
   ]
  },
  {
   "cell_type": "code",
   "execution_count": 136,
   "metadata": {
    "collapsed": true
   },
   "outputs": [],
   "source": [
    "def get_measurements(metrics, start_time = None, end_time = None, limit=None):\n",
    "    measurements = []\n",
    "    \n",
    "    if start_time == None:\n",
    "        start_date = datetime.datetime.utcnow() - datetime.timedelta(seconds=3600)\n",
    "        start_time = start_date.strftime(\"%Y-%m-%dT%H:%M:%SZ\")\n",
    "\n",
    "    if end_time == None:\n",
    "        end_date = datetime.datetime.utcnow() - datetime.timedelta(seconds=0)\n",
    "        end_time = end_date.strftime(\"%Y-%m-%dT%H:%M:%SZ\")\n",
    "        \n",
    "    for metric in metrics:\n",
    "        kwargs = {}\n",
    "        kwargs['name'] = metric['name']\n",
    "        kwargs['dimensions'] = metric['dimensions']\n",
    "        kwargs['start_time'] = start_time\n",
    "        kwargs['end_time'] = end_time\n",
    "        \n",
    "        # Invoke the Monasca client\n",
    "        measurements.append(monasca_client.metrics.list_measurements(**kwargs))\n",
    "        \n",
    "    return measurements"
   ]
  },
  {
   "cell_type": "code",
   "execution_count": 137,
   "metadata": {
    "collapsed": false,
    "slideshow": {
     "slide_type": "subslide"
    }
   },
   "outputs": [
    {
     "data": {
      "text/plain": [
       "[[{u'columns': [u'timestamp', u'value', u'value_meta'],\n",
       "   u'dimensions': {u'hostname': u'devstack', u'service': u'monitoring'},\n",
       "   u'id': u'2016-04-09T19:50:02.000Z',\n",
       "   u'measurements': [[u'2016-04-09T18:50:29.000Z', 9.7, {}],\n",
       "    [u'2016-04-09T18:50:44.000Z', 10, {}],\n",
       "    [u'2016-04-09T18:50:59.000Z', 10.6, {}],\n",
       "    [u'2016-04-09T18:51:14.000Z', 9.6, {}],\n",
       "    [u'2016-04-09T18:51:29.000Z', 11.2, {}],\n",
       "    [u'2016-04-09T18:51:44.000Z', 9.8, {}],\n",
       "    [u'2016-04-09T18:51:59.000Z', 10.2, {}],\n",
       "    [u'2016-04-09T18:52:14.000Z', 9.6, {}],\n",
       "    [u'2016-04-09T18:52:29.000Z', 10, {}],\n",
       "    [u'2016-04-09T18:52:44.000Z', 10.4, {}],\n",
       "    [u'2016-04-09T18:52:59.000Z', 10.2, {}],\n",
       "    [u'2016-04-09T18:53:14.000Z', 10, {}],\n",
       "    [u'2016-04-09T18:53:29.000Z', 10.2, {}],\n",
       "    [u'2016-04-09T18:53:44.000Z', 10.1, {}],\n",
       "    [u'2016-04-09T18:53:59.000Z', 10.5, {}],\n",
       "    [u'2016-04-09T18:54:14.000Z', 10.3, {}],\n",
       "    [u'2016-04-09T18:54:29.000Z', 9.9, {}],\n",
       "    [u'2016-04-09T18:54:44.000Z', 10.2, {}],\n",
       "    [u'2016-04-09T18:54:59.000Z', 11, {}],\n",
       "    [u'2016-04-09T18:55:14.000Z', 9.7, {}],\n",
       "    [u'2016-04-09T18:55:29.000Z', 10.5, {}],\n",
       "    [u'2016-04-09T18:55:44.000Z', 10.4, {}],\n",
       "    [u'2016-04-09T18:55:59.000Z', 10.7, {}],\n",
       "    [u'2016-04-09T18:56:14.000Z', 10.2, {}],\n",
       "    [u'2016-04-09T18:56:29.000Z', 10.3, {}],\n",
       "    [u'2016-04-09T18:56:44.000Z', 9.9, {}],\n",
       "    [u'2016-04-09T18:56:59.000Z', 10.7, {}],\n",
       "    [u'2016-04-09T18:57:14.000Z', 10.1, {}],\n",
       "    [u'2016-04-09T18:57:29.000Z', 10.2, {}],\n",
       "    [u'2016-04-09T18:57:44.000Z', 10.1, {}],\n",
       "    [u'2016-04-09T18:57:59.000Z', 11, {}],\n",
       "    [u'2016-04-09T18:58:14.000Z', 10.6, {}],\n",
       "    [u'2016-04-09T18:58:29.000Z', 10.5, {}],\n",
       "    [u'2016-04-09T18:58:44.000Z', 10.3, {}],\n",
       "    [u'2016-04-09T18:59:00.000Z', 10.2, {}],\n",
       "    [u'2016-04-09T18:59:15.000Z', 10.2, {}],\n",
       "    [u'2016-04-09T18:59:30.000Z', 10.2, {}],\n",
       "    [u'2016-04-09T18:59:45.000Z', 9.9, {}],\n",
       "    [u'2016-04-09T19:00:00.000Z', 10.5, {}],\n",
       "    [u'2016-04-09T19:00:15.000Z', 10.4, {}],\n",
       "    [u'2016-04-09T19:00:30.000Z', 10.4, {}],\n",
       "    [u'2016-04-09T19:00:45.000Z', 9.6, {}],\n",
       "    [u'2016-04-09T19:01:00.000Z', 11.1, {}],\n",
       "    [u'2016-04-09T19:01:15.000Z', 10.1, {}],\n",
       "    [u'2016-04-09T19:01:30.000Z', 10.3, {}],\n",
       "    [u'2016-04-09T19:01:45.000Z', 10, {}],\n",
       "    [u'2016-04-09T19:02:00.000Z', 10.8, {}],\n",
       "    [u'2016-04-09T19:02:15.000Z', 10.4, {}],\n",
       "    [u'2016-04-09T19:02:30.000Z', 10.1, {}],\n",
       "    [u'2016-04-09T19:02:45.000Z', 10.1, {}],\n",
       "    [u'2016-04-09T19:03:00.000Z', 10.8, {}],\n",
       "    [u'2016-04-09T19:03:15.000Z', 10.3, {}],\n",
       "    [u'2016-04-09T19:03:30.000Z', 10.9, {}],\n",
       "    [u'2016-04-09T19:03:45.000Z', 9.8, {}],\n",
       "    [u'2016-04-09T19:04:00.000Z', 11, {}],\n",
       "    [u'2016-04-09T19:04:15.000Z', 10.6, {}],\n",
       "    [u'2016-04-09T19:04:30.000Z', 10.3, {}],\n",
       "    [u'2016-04-09T19:04:45.000Z', 10, {}],\n",
       "    [u'2016-04-09T19:05:00.000Z', 10.7, {}],\n",
       "    [u'2016-04-09T19:05:15.000Z', 10.1, {}],\n",
       "    [u'2016-04-09T19:05:30.000Z', 10, {}],\n",
       "    [u'2016-04-09T19:05:45.000Z', 9.8, {}],\n",
       "    [u'2016-04-09T19:06:00.000Z', 10.7, {}],\n",
       "    [u'2016-04-09T19:06:15.000Z', 9.6, {}],\n",
       "    [u'2016-04-09T19:06:30.000Z', 10.5, {}],\n",
       "    [u'2016-04-09T19:06:45.000Z', 9.7, {}],\n",
       "    [u'2016-04-09T19:07:00.000Z', 10.5, {}],\n",
       "    [u'2016-04-09T19:07:15.000Z', 11, {}],\n",
       "    [u'2016-04-09T19:07:30.000Z', 9.6, {}],\n",
       "    [u'2016-04-09T19:07:45.000Z', 10.3, {}],\n",
       "    [u'2016-04-09T19:08:00.000Z', 10.6, {}],\n",
       "    [u'2016-04-09T19:08:15.000Z', 10.4, {}],\n",
       "    [u'2016-04-09T19:08:30.000Z', 10.1, {}],\n",
       "    [u'2016-04-09T19:08:45.000Z', 9.6, {}],\n",
       "    [u'2016-04-09T19:09:00.000Z', 10.3, {}],\n",
       "    [u'2016-04-09T19:09:15.000Z', 10.2, {}],\n",
       "    [u'2016-04-09T19:09:30.000Z', 10.4, {}],\n",
       "    [u'2016-04-09T19:09:45.000Z', 10.4, {}],\n",
       "    [u'2016-04-09T19:10:00.000Z', 9.9, {}],\n",
       "    [u'2016-04-09T19:10:15.000Z', 9.6, {}],\n",
       "    [u'2016-04-09T19:10:30.000Z', 9.6, {}],\n",
       "    [u'2016-04-09T19:10:45.000Z', 9.8, {}],\n",
       "    [u'2016-04-09T19:11:00.000Z', 10.8, {}],\n",
       "    [u'2016-04-09T19:11:15.000Z', 10, {}],\n",
       "    [u'2016-04-09T19:11:30.000Z', 10.2, {}],\n",
       "    [u'2016-04-09T19:11:45.000Z', 9.9, {}],\n",
       "    [u'2016-04-09T19:12:00.000Z', 10.1, {}],\n",
       "    [u'2016-04-09T19:12:15.000Z', 10.4, {}],\n",
       "    [u'2016-04-09T19:12:30.000Z', 9.8, {}],\n",
       "    [u'2016-04-09T19:12:45.000Z', 9.2, {}],\n",
       "    [u'2016-04-09T19:13:00.000Z', 10, {}],\n",
       "    [u'2016-04-09T19:13:15.000Z', 10, {}],\n",
       "    [u'2016-04-09T19:13:30.000Z', 9.6, {}],\n",
       "    [u'2016-04-09T19:13:45.000Z', 9.6, {}],\n",
       "    [u'2016-04-09T19:14:00.000Z', 10.2, {}],\n",
       "    [u'2016-04-09T19:14:15.000Z', 10.1, {}],\n",
       "    [u'2016-04-09T19:14:30.000Z', 12, {}],\n",
       "    [u'2016-04-09T19:14:45.000Z', 10.3, {}],\n",
       "    [u'2016-04-09T19:15:00.000Z', 10.3, {}],\n",
       "    [u'2016-04-09T19:15:15.000Z', 9.7, {}],\n",
       "    [u'2016-04-09T19:15:30.000Z', 9.9, {}],\n",
       "    [u'2016-04-09T19:15:45.000Z', 9.8, {}],\n",
       "    [u'2016-04-09T19:16:00.000Z', 10, {}],\n",
       "    [u'2016-04-09T19:16:15.000Z', 10.2, {}],\n",
       "    [u'2016-04-09T19:16:30.000Z', 11.1, {}],\n",
       "    [u'2016-04-09T19:16:46.000Z', 10.5, {}],\n",
       "    [u'2016-04-09T19:17:00.000Z', 10.3, {}],\n",
       "    [u'2016-04-09T19:17:15.000Z', 11.3, {}],\n",
       "    [u'2016-04-09T19:17:31.000Z', 10.7, {}],\n",
       "    [u'2016-04-09T19:17:46.000Z', 10.7, {}],\n",
       "    [u'2016-04-09T19:18:01.000Z', 10, {}],\n",
       "    [u'2016-04-09T19:18:16.000Z', 10.3, {}],\n",
       "    [u'2016-04-09T19:18:31.000Z', 10.6, {}],\n",
       "    [u'2016-04-09T19:18:46.000Z', 9.7, {}],\n",
       "    [u'2016-04-09T19:19:01.000Z', 10.3, {}],\n",
       "    [u'2016-04-09T19:19:16.000Z', 10.5, {}],\n",
       "    [u'2016-04-09T19:19:31.000Z', 11.1, {}],\n",
       "    [u'2016-04-09T19:19:46.000Z', 10.3, {}],\n",
       "    [u'2016-04-09T19:20:01.000Z', 10.1, {}],\n",
       "    [u'2016-04-09T19:20:16.000Z', 10.6, {}],\n",
       "    [u'2016-04-09T19:20:31.000Z', 10.1, {}],\n",
       "    [u'2016-04-09T19:20:46.000Z', 10.2, {}],\n",
       "    [u'2016-04-09T19:21:01.000Z', 10.7, {}],\n",
       "    [u'2016-04-09T19:21:16.000Z', 10.4, {}],\n",
       "    [u'2016-04-09T19:21:31.000Z', 10.1, {}],\n",
       "    [u'2016-04-09T19:21:46.000Z', 10.4, {}],\n",
       "    [u'2016-04-09T19:22:01.000Z', 10.3, {}],\n",
       "    [u'2016-04-09T19:22:16.000Z', 10.3, {}],\n",
       "    [u'2016-04-09T19:22:31.000Z', 10.8, {}],\n",
       "    [u'2016-04-09T19:22:46.000Z', 10.4, {}],\n",
       "    [u'2016-04-09T19:23:01.000Z', 10.2, {}],\n",
       "    [u'2016-04-09T19:23:16.000Z', 10, {}],\n",
       "    [u'2016-04-09T19:23:31.000Z', 10.4, {}],\n",
       "    [u'2016-04-09T19:23:46.000Z', 9.6, {}],\n",
       "    [u'2016-04-09T19:24:01.000Z', 10.6, {}],\n",
       "    [u'2016-04-09T19:24:16.000Z', 9.8, {}],\n",
       "    [u'2016-04-09T19:24:31.000Z', 10.3, {}],\n",
       "    [u'2016-04-09T19:24:46.000Z', 10.6, {}],\n",
       "    [u'2016-04-09T19:25:01.000Z', 10.6, {}],\n",
       "    [u'2016-04-09T19:25:16.000Z', 10.1, {}],\n",
       "    [u'2016-04-09T19:25:31.000Z', 10.6, {}],\n",
       "    [u'2016-04-09T19:25:46.000Z', 10, {}],\n",
       "    [u'2016-04-09T19:26:01.000Z', 10.3, {}],\n",
       "    [u'2016-04-09T19:26:16.000Z', 9.8, {}],\n",
       "    [u'2016-04-09T19:26:31.000Z', 10.7, {}],\n",
       "    [u'2016-04-09T19:26:46.000Z', 10.3, {}],\n",
       "    [u'2016-04-09T19:27:01.000Z', 10.8, {}],\n",
       "    [u'2016-04-09T19:27:16.000Z', 10.1, {}],\n",
       "    [u'2016-04-09T19:27:31.000Z', 10.5, {}],\n",
       "    [u'2016-04-09T19:27:46.000Z', 10.4, {}],\n",
       "    [u'2016-04-09T19:28:01.000Z', 10.3, {}],\n",
       "    [u'2016-04-09T19:28:16.000Z', 10.5, {}],\n",
       "    [u'2016-04-09T19:28:31.000Z', 10.5, {}],\n",
       "    [u'2016-04-09T19:28:46.000Z', 10.9, {}],\n",
       "    [u'2016-04-09T19:29:01.000Z', 10.4, {}],\n",
       "    [u'2016-04-09T19:29:16.000Z', 10.3, {}],\n",
       "    [u'2016-04-09T19:29:31.000Z', 9.9, {}],\n",
       "    [u'2016-04-09T19:29:46.000Z', 10.2, {}],\n",
       "    [u'2016-04-09T19:30:01.000Z', 10.3, {}],\n",
       "    [u'2016-04-09T19:30:16.000Z', 9.8, {}],\n",
       "    [u'2016-04-09T19:30:31.000Z', 10.5, {}],\n",
       "    [u'2016-04-09T19:30:46.000Z', 9.9, {}],\n",
       "    [u'2016-04-09T19:31:01.000Z', 10.2, {}],\n",
       "    [u'2016-04-09T19:31:16.000Z', 9.6, {}],\n",
       "    [u'2016-04-09T19:31:31.000Z', 10.7, {}],\n",
       "    [u'2016-04-09T19:31:46.000Z', 10.1, {}],\n",
       "    [u'2016-04-09T19:32:01.000Z', 10.2, {}],\n",
       "    [u'2016-04-09T19:32:16.000Z', 9.6, {}],\n",
       "    [u'2016-04-09T19:32:31.000Z', 9.9, {}],\n",
       "    [u'2016-04-09T19:32:46.000Z', 10.6, {}],\n",
       "    [u'2016-04-09T19:33:01.000Z', 9.9, {}],\n",
       "    [u'2016-04-09T19:33:16.000Z', 9.8, {}],\n",
       "    [u'2016-04-09T19:33:31.000Z', 10, {}],\n",
       "    [u'2016-04-09T19:33:46.000Z', 11.1, {}],\n",
       "    [u'2016-04-09T19:34:01.000Z', 10.7, {}],\n",
       "    [u'2016-04-09T19:34:16.000Z', 9.3, {}],\n",
       "    [u'2016-04-09T19:34:31.000Z', 9.1, {}],\n",
       "    [u'2016-04-09T19:34:46.000Z', 9.9, {}],\n",
       "    [u'2016-04-09T19:35:01.000Z', 10.5, {}],\n",
       "    [u'2016-04-09T19:35:16.000Z', 9.7, {}],\n",
       "    [u'2016-04-09T19:35:32.000Z', 10.5, {}],\n",
       "    [u'2016-04-09T19:35:47.000Z', 10.9, {}],\n",
       "    [u'2016-04-09T19:36:01.000Z', 10.3, {}],\n",
       "    [u'2016-04-09T19:36:17.000Z', 10.3, {}],\n",
       "    [u'2016-04-09T19:36:32.000Z', 10.4, {}],\n",
       "    [u'2016-04-09T19:36:47.000Z', 10.2, {}],\n",
       "    [u'2016-04-09T19:37:02.000Z', 10.6, {}],\n",
       "    [u'2016-04-09T19:37:17.000Z', 10, {}],\n",
       "    [u'2016-04-09T19:37:32.000Z', 10.1, {}],\n",
       "    [u'2016-04-09T19:37:47.000Z', 10.2, {}],\n",
       "    [u'2016-04-09T19:38:02.000Z', 10.1, {}],\n",
       "    [u'2016-04-09T19:38:17.000Z', 10.3, {}],\n",
       "    [u'2016-04-09T19:38:32.000Z', 10.9, {}],\n",
       "    [u'2016-04-09T19:38:47.000Z', 10.1, {}],\n",
       "    [u'2016-04-09T19:39:02.000Z', 10.5, {}],\n",
       "    [u'2016-04-09T19:39:17.000Z', 9.9, {}],\n",
       "    [u'2016-04-09T19:39:32.000Z', 10.4, {}],\n",
       "    [u'2016-04-09T19:39:47.000Z', 10.1, {}],\n",
       "    [u'2016-04-09T19:40:02.000Z', 10.1, {}],\n",
       "    [u'2016-04-09T19:40:17.000Z', 10.9, {}],\n",
       "    [u'2016-04-09T19:40:32.000Z', 10.4, {}],\n",
       "    [u'2016-04-09T19:40:47.000Z', 10.3, {}],\n",
       "    [u'2016-04-09T19:41:02.000Z', 10.8, {}],\n",
       "    [u'2016-04-09T19:41:17.000Z', 9.9, {}],\n",
       "    [u'2016-04-09T19:41:32.000Z', 10.5, {}],\n",
       "    [u'2016-04-09T19:41:47.000Z', 10.6, {}],\n",
       "    [u'2016-04-09T19:42:02.000Z', 10.4, {}],\n",
       "    [u'2016-04-09T19:42:17.000Z', 9.7, {}],\n",
       "    [u'2016-04-09T19:42:32.000Z', 10.3, {}],\n",
       "    [u'2016-04-09T19:42:47.000Z', 10.8, {}],\n",
       "    [u'2016-04-09T19:43:02.000Z', 10.4, {}],\n",
       "    [u'2016-04-09T19:43:17.000Z', 9.6, {}],\n",
       "    [u'2016-04-09T19:43:32.000Z', 10.2, {}],\n",
       "    [u'2016-04-09T19:43:47.000Z', 10.3, {}],\n",
       "    [u'2016-04-09T19:44:02.000Z', 10.9, {}],\n",
       "    [u'2016-04-09T19:44:17.000Z', 10.1, {}],\n",
       "    [u'2016-04-09T19:44:32.000Z', 10.6, {}],\n",
       "    [u'2016-04-09T19:44:47.000Z', 10.3, {}],\n",
       "    [u'2016-04-09T19:45:02.000Z', 10.8, {}],\n",
       "    [u'2016-04-09T19:45:17.000Z', 9.7, {}],\n",
       "    [u'2016-04-09T19:45:32.000Z', 10.4, {}],\n",
       "    [u'2016-04-09T19:45:47.000Z', 10.8, {}],\n",
       "    [u'2016-04-09T19:46:02.000Z', 10.5, {}],\n",
       "    [u'2016-04-09T19:46:17.000Z', 10.3, {}],\n",
       "    [u'2016-04-09T19:46:32.000Z', 10.7, {}],\n",
       "    [u'2016-04-09T19:46:47.000Z', 9.9, {}],\n",
       "    [u'2016-04-09T19:47:02.000Z', 10.9, {}],\n",
       "    [u'2016-04-09T19:47:17.000Z', 9.9, {}],\n",
       "    [u'2016-04-09T19:47:32.000Z', 9.8, {}],\n",
       "    [u'2016-04-09T19:47:47.000Z', 10.1, {}],\n",
       "    [u'2016-04-09T19:48:02.000Z', 10.4, {}],\n",
       "    [u'2016-04-09T19:48:17.000Z', 10.7, {}],\n",
       "    [u'2016-04-09T19:48:32.000Z', 10.7, {}],\n",
       "    [u'2016-04-09T19:48:47.000Z', 10.3, {}],\n",
       "    [u'2016-04-09T19:49:02.000Z', 10.5, {}],\n",
       "    [u'2016-04-09T19:49:17.000Z', 10, {}],\n",
       "    [u'2016-04-09T19:49:32.000Z', 10.5, {}],\n",
       "    [u'2016-04-09T19:49:47.000Z', 10.4, {}],\n",
       "    [u'2016-04-09T19:50:02.000Z', 10.3, {}]],\n",
       "   u'name': u'cpu.user_perc'}]]"
      ]
     },
     "execution_count": 137,
     "metadata": {},
     "output_type": "execute_result"
    }
   ],
   "source": [
    "metrics = get_metrics(['cpu.user_perc'])\n",
    "get_measurements(metrics)"
   ]
  },
  {
   "cell_type": "markdown",
   "metadata": {
    "slideshow": {
     "slide_type": "subslide"
    }
   },
   "source": [
    "# Create a function to translate measurements to a Pandas DataFrame\n",
    "---"
   ]
  },
  {
   "cell_type": "code",
   "execution_count": 138,
   "metadata": {
    "collapsed": true,
    "slideshow": {
     "slide_type": "-"
    }
   },
   "outputs": [],
   "source": [
    "def df_from_measurements(measurements):\n",
    "    '''Returns a DataFrame given measurements'''\n",
    "    measurement = measurements[0][0]\n",
    "    m = np.array(measurement['measurements'])  \n",
    "    timestamps = m[:, measurement['columns'].index('timestamp')]\n",
    "    df = pd.DataFrame(index = timestamps)  \n",
    "    \n",
    "    for measurement in measurements:\n",
    "        measure = measurement[0]\n",
    "        m = np.array(measure['measurements'])\n",
    "        name = measure['name']\n",
    "        df[name] = m[:, measure['columns'].index('value')]     \n",
    "    return df"
   ]
  },
  {
   "cell_type": "markdown",
   "metadata": {
    "slideshow": {
     "slide_type": "subslide"
    }
   },
   "source": [
    "# Query measurements using the Monasca client\n",
    "---\n"
   ]
  },
  {
   "cell_type": "code",
   "execution_count": 139,
   "metadata": {
    "collapsed": false
   },
   "outputs": [],
   "source": [
    "#metrics = get_metrics(names=['cpu.user_perc', 'cpu.system_perc'])\n",
    "metrics = get_metrics()\n",
    "measurements = get_measurements(metrics)"
   ]
  },
  {
   "cell_type": "markdown",
   "metadata": {
    "slideshow": {
     "slide_type": "subslide"
    }
   },
   "source": [
    "# Display measurements using Plotly\n",
    "---"
   ]
  },
  {
   "cell_type": "code",
   "execution_count": 140,
   "metadata": {
    "collapsed": false,
    "scrolled": true
   },
   "outputs": [
    {
     "data": {
      "text/html": [
       "<div id=\"492eee3c-7b52-4a94-b24e-b510efd9d7c0\" style=\"height: 587; width: 1116px;\" class=\"plotly-graph-div\"></div><script type=\"text/javascript\">window.PLOTLYENV=window.PLOTLYENV || {};window.PLOTLYENV.BASE_URL=\"https://plot.ly\";Plotly.newPlot(\"492eee3c-7b52-4a94-b24e-b510efd9d7c0\", [{\"name\": \"apache.net.hits\", \"yaxis\": \"y1\", \"text\": \"\", \"fillcolor\": \"rgba(226, 74, 51, 0.3)\", \"mode\": \"lines\", \"xaxis\": \"x1\", \"y\": [709, 710, 711, 712, 719, 720, 721, 722, 724, 725, 727, 728, 730, 731, 732, 733, 734, 735, 736, 737, 738, 740, 742, 744, 746, 748, 749, 750, 751, 752, 754, 755, 757, 758, 759, 761, 762, 763, 764, 765, 766, 767, 774, 775, 777, 779, 781, 783, 785, 786, 787, 788, 789, 791, 792, 793, 795, 796, 797, 798, 799, 800, 801, 803, 804, 805, 807, 809, 810, 812, 814, 816, 817, 818, 819, 820, 821, 822, 823, 829, 831, 832, 833, 834, 835, 836, 837, 838, 839, 841, 842, 843, 845, 847, 848, 850, 868, 871, 872, 873, 875, 877, 878, 879, 880, 881, 882, 886, 887, 889, 890, 891, 892, 893, 895, 896, 898, 900, 901, 903, 904, 906, 907, 908, 909, 910, 911, 913, 920, 921, 922, 924, 925, 927, 928, 929, 930, 932, 934, 935, 936, 937, 939, 940, 942, 943, 944, 945, 947, 948, 949, 950, 954, 956, 957, 958, 959, 960, 962, 963, 965, 966, 967, 968, 970, 981, 987, 989, 991, 992, 993, 994, 995, 996, 999, 1000, 1001, 1003, 1006, 1007, 1008, 1009, 1010, 1011, 1012, 1015, 1016, 1019, 1020, 1021, 1022, 1025, 1028, 1029, 1030, 1031, 1032, 1034, 1035, 1036, 1039, 1040, 1041, 1042, 1043, 1044, 1047, 1048, 1050, 1052, 1053, 1055, 1056, 1058, 1059, 1060, 1062, 1065, 1066, 1068, 1069, 1070, 1071, 1073, 1074, 1075, 1076, 1077, 1078, 1080, 1081, 1082, 1084, 1086, 1087, 1088, 1092, 1094, 1096], \"x\": [\"2016-04-09T18:50:29.000Z\", \"2016-04-09T18:50:44.000Z\", \"2016-04-09T18:50:59.000Z\", \"2016-04-09T18:51:14.000Z\", \"2016-04-09T18:51:29.000Z\", \"2016-04-09T18:51:44.000Z\", \"2016-04-09T18:51:59.000Z\", \"2016-04-09T18:52:14.000Z\", \"2016-04-09T18:52:29.000Z\", \"2016-04-09T18:52:44.000Z\", \"2016-04-09T18:52:59.000Z\", \"2016-04-09T18:53:14.000Z\", \"2016-04-09T18:53:29.000Z\", \"2016-04-09T18:53:44.000Z\", \"2016-04-09T18:53:59.000Z\", \"2016-04-09T18:54:14.000Z\", \"2016-04-09T18:54:29.000Z\", \"2016-04-09T18:54:44.000Z\", \"2016-04-09T18:54:59.000Z\", \"2016-04-09T18:55:14.000Z\", \"2016-04-09T18:55:29.000Z\", \"2016-04-09T18:55:44.000Z\", \"2016-04-09T18:55:59.000Z\", \"2016-04-09T18:56:14.000Z\", \"2016-04-09T18:56:29.000Z\", \"2016-04-09T18:56:44.000Z\", \"2016-04-09T18:56:59.000Z\", \"2016-04-09T18:57:14.000Z\", \"2016-04-09T18:57:29.000Z\", \"2016-04-09T18:57:44.000Z\", \"2016-04-09T18:57:59.000Z\", \"2016-04-09T18:58:14.000Z\", \"2016-04-09T18:58:29.000Z\", \"2016-04-09T18:58:44.000Z\", \"2016-04-09T18:58:59.000Z\", \"2016-04-09T18:59:15.000Z\", \"2016-04-09T18:59:30.000Z\", \"2016-04-09T18:59:45.000Z\", \"2016-04-09T19:00:00.000Z\", \"2016-04-09T19:00:15.000Z\", \"2016-04-09T19:00:30.000Z\", \"2016-04-09T19:00:45.000Z\", \"2016-04-09T19:01:00.000Z\", \"2016-04-09T19:01:15.000Z\", \"2016-04-09T19:01:30.000Z\", \"2016-04-09T19:01:45.000Z\", \"2016-04-09T19:02:00.000Z\", \"2016-04-09T19:02:15.000Z\", \"2016-04-09T19:02:30.000Z\", \"2016-04-09T19:02:45.000Z\", \"2016-04-09T19:03:00.000Z\", \"2016-04-09T19:03:15.000Z\", \"2016-04-09T19:03:30.000Z\", \"2016-04-09T19:03:45.000Z\", \"2016-04-09T19:04:00.000Z\", \"2016-04-09T19:04:15.000Z\", \"2016-04-09T19:04:30.000Z\", \"2016-04-09T19:04:45.000Z\", \"2016-04-09T19:05:00.000Z\", \"2016-04-09T19:05:15.000Z\", \"2016-04-09T19:05:30.000Z\", \"2016-04-09T19:05:45.000Z\", \"2016-04-09T19:06:00.000Z\", \"2016-04-09T19:06:15.000Z\", \"2016-04-09T19:06:30.000Z\", \"2016-04-09T19:06:45.000Z\", \"2016-04-09T19:07:00.000Z\", \"2016-04-09T19:07:15.000Z\", \"2016-04-09T19:07:30.000Z\", \"2016-04-09T19:07:45.000Z\", \"2016-04-09T19:08:00.000Z\", \"2016-04-09T19:08:15.000Z\", \"2016-04-09T19:08:30.000Z\", \"2016-04-09T19:08:45.000Z\", \"2016-04-09T19:09:00.000Z\", \"2016-04-09T19:09:15.000Z\", \"2016-04-09T19:09:30.000Z\", \"2016-04-09T19:09:45.000Z\", \"2016-04-09T19:10:00.000Z\", \"2016-04-09T19:10:15.000Z\", \"2016-04-09T19:10:30.000Z\", \"2016-04-09T19:10:45.000Z\", \"2016-04-09T19:11:00.000Z\", \"2016-04-09T19:11:15.000Z\", \"2016-04-09T19:11:30.000Z\", \"2016-04-09T19:11:45.000Z\", \"2016-04-09T19:12:00.000Z\", \"2016-04-09T19:12:15.000Z\", \"2016-04-09T19:12:30.000Z\", \"2016-04-09T19:12:45.000Z\", \"2016-04-09T19:13:00.000Z\", \"2016-04-09T19:13:15.000Z\", \"2016-04-09T19:13:30.000Z\", \"2016-04-09T19:13:45.000Z\", \"2016-04-09T19:14:00.000Z\", \"2016-04-09T19:14:15.000Z\", \"2016-04-09T19:14:30.000Z\", \"2016-04-09T19:14:45.000Z\", \"2016-04-09T19:15:00.000Z\", \"2016-04-09T19:15:15.000Z\", \"2016-04-09T19:15:30.000Z\", \"2016-04-09T19:15:45.000Z\", \"2016-04-09T19:16:00.000Z\", \"2016-04-09T19:16:15.000Z\", \"2016-04-09T19:16:30.000Z\", \"2016-04-09T19:16:46.000Z\", \"2016-04-09T19:17:00.000Z\", \"2016-04-09T19:17:15.000Z\", \"2016-04-09T19:17:30.000Z\", \"2016-04-09T19:17:46.000Z\", \"2016-04-09T19:18:01.000Z\", \"2016-04-09T19:18:16.000Z\", \"2016-04-09T19:18:31.000Z\", \"2016-04-09T19:18:46.000Z\", \"2016-04-09T19:19:01.000Z\", \"2016-04-09T19:19:16.000Z\", \"2016-04-09T19:19:31.000Z\", \"2016-04-09T19:19:46.000Z\", \"2016-04-09T19:20:01.000Z\", \"2016-04-09T19:20:16.000Z\", \"2016-04-09T19:20:31.000Z\", \"2016-04-09T19:20:46.000Z\", \"2016-04-09T19:21:01.000Z\", \"2016-04-09T19:21:16.000Z\", \"2016-04-09T19:21:31.000Z\", \"2016-04-09T19:21:46.000Z\", \"2016-04-09T19:22:01.000Z\", \"2016-04-09T19:22:16.000Z\", \"2016-04-09T19:22:31.000Z\", \"2016-04-09T19:22:46.000Z\", \"2016-04-09T19:23:01.000Z\", \"2016-04-09T19:23:16.000Z\", \"2016-04-09T19:23:31.000Z\", \"2016-04-09T19:23:46.000Z\", \"2016-04-09T19:24:01.000Z\", \"2016-04-09T19:24:16.000Z\", \"2016-04-09T19:24:31.000Z\", \"2016-04-09T19:24:46.000Z\", \"2016-04-09T19:25:01.000Z\", \"2016-04-09T19:25:16.000Z\", \"2016-04-09T19:25:31.000Z\", \"2016-04-09T19:25:46.000Z\", \"2016-04-09T19:26:01.000Z\", \"2016-04-09T19:26:16.000Z\", \"2016-04-09T19:26:31.000Z\", \"2016-04-09T19:26:46.000Z\", \"2016-04-09T19:27:01.000Z\", \"2016-04-09T19:27:16.000Z\", \"2016-04-09T19:27:31.000Z\", \"2016-04-09T19:27:46.000Z\", \"2016-04-09T19:28:01.000Z\", \"2016-04-09T19:28:16.000Z\", \"2016-04-09T19:28:31.000Z\", \"2016-04-09T19:28:46.000Z\", \"2016-04-09T19:29:01.000Z\", \"2016-04-09T19:29:16.000Z\", \"2016-04-09T19:29:31.000Z\", \"2016-04-09T19:29:46.000Z\", \"2016-04-09T19:30:01.000Z\", \"2016-04-09T19:30:16.000Z\", \"2016-04-09T19:30:31.000Z\", \"2016-04-09T19:30:46.000Z\", \"2016-04-09T19:31:01.000Z\", \"2016-04-09T19:31:16.000Z\", \"2016-04-09T19:31:31.000Z\", \"2016-04-09T19:31:46.000Z\", \"2016-04-09T19:32:01.000Z\", \"2016-04-09T19:32:16.000Z\", \"2016-04-09T19:32:31.000Z\", \"2016-04-09T19:32:46.000Z\", \"2016-04-09T19:33:01.000Z\", \"2016-04-09T19:33:16.000Z\", \"2016-04-09T19:33:31.000Z\", \"2016-04-09T19:33:46.000Z\", \"2016-04-09T19:34:01.000Z\", \"2016-04-09T19:34:16.000Z\", \"2016-04-09T19:34:31.000Z\", \"2016-04-09T19:34:46.000Z\", \"2016-04-09T19:35:01.000Z\", \"2016-04-09T19:35:16.000Z\", \"2016-04-09T19:35:31.000Z\", \"2016-04-09T19:35:46.000Z\", \"2016-04-09T19:36:01.000Z\", \"2016-04-09T19:36:17.000Z\", \"2016-04-09T19:36:32.000Z\", \"2016-04-09T19:36:47.000Z\", \"2016-04-09T19:37:02.000Z\", \"2016-04-09T19:37:17.000Z\", \"2016-04-09T19:37:32.000Z\", \"2016-04-09T19:37:47.000Z\", \"2016-04-09T19:38:02.000Z\", \"2016-04-09T19:38:17.000Z\", \"2016-04-09T19:38:32.000Z\", \"2016-04-09T19:38:47.000Z\", \"2016-04-09T19:39:02.000Z\", \"2016-04-09T19:39:17.000Z\", \"2016-04-09T19:39:32.000Z\", \"2016-04-09T19:39:47.000Z\", \"2016-04-09T19:40:02.000Z\", \"2016-04-09T19:40:17.000Z\", \"2016-04-09T19:40:32.000Z\", \"2016-04-09T19:40:47.000Z\", \"2016-04-09T19:41:02.000Z\", \"2016-04-09T19:41:17.000Z\", \"2016-04-09T19:41:32.000Z\", \"2016-04-09T19:41:47.000Z\", \"2016-04-09T19:42:02.000Z\", \"2016-04-09T19:42:17.000Z\", \"2016-04-09T19:42:32.000Z\", \"2016-04-09T19:42:47.000Z\", \"2016-04-09T19:43:02.000Z\", \"2016-04-09T19:43:17.000Z\", \"2016-04-09T19:43:32.000Z\", \"2016-04-09T19:43:47.000Z\", \"2016-04-09T19:44:02.000Z\", \"2016-04-09T19:44:17.000Z\", \"2016-04-09T19:44:32.000Z\", \"2016-04-09T19:44:47.000Z\", \"2016-04-09T19:45:02.000Z\", \"2016-04-09T19:45:17.000Z\", \"2016-04-09T19:45:32.000Z\", \"2016-04-09T19:45:47.000Z\", \"2016-04-09T19:46:02.000Z\", \"2016-04-09T19:46:17.000Z\", \"2016-04-09T19:46:32.000Z\", \"2016-04-09T19:46:47.000Z\", \"2016-04-09T19:47:02.000Z\", \"2016-04-09T19:47:17.000Z\", \"2016-04-09T19:47:32.000Z\", \"2016-04-09T19:47:47.000Z\", \"2016-04-09T19:48:02.000Z\", \"2016-04-09T19:48:17.000Z\", \"2016-04-09T19:48:32.000Z\", \"2016-04-09T19:48:47.000Z\", \"2016-04-09T19:49:02.000Z\", \"2016-04-09T19:49:17.000Z\", \"2016-04-09T19:49:32.000Z\", \"2016-04-09T19:49:47.000Z\", \"2016-04-09T19:50:02.000Z\"], \"line\": {\"color\": \"rgba(226, 74, 51, 1.0)\", \"width\": 1.3, \"dash\": \"solid\"}, \"type\": \"scatter\", \"fill\": \"tozeroy\"}, {\"name\": \"apache.net.kbytes_sec\", \"yaxis\": \"y2\", \"text\": \"\", \"fillcolor\": \"rgba(62, 111, 176, 0.3)\", \"mode\": \"lines\", \"xaxis\": \"x1\", \"y\": [0.466666666667, 0.0, 0.0666666666667, 0.0666666666667, 2.4, 0.0666666666667, 0.0666666666667, 0.0, 0.466666666667, 0.0666666666667, 0.4, 0.0666666666667, 0.466666666667, 0.0666666666667, 0.0, 0.0666666666667, 0.0666666666667, 0.0666666666667, 0.0, 0.0666666666667, 0.0666666666667, 0.466666666667, 0.4, 0.466666666667, 0.4, 0.466666666667, 0.0666666666667, 0.0666666666667, 0.0, 0.0666666666667, 0.466666666667, 0.0666666666667, 0.4, 0.0666666666667, 0.0666666666667, 0.375, 0.0666666666667, 0.0666666666667, 0.0666666666667, 0.0666666666667, 0.0, 0.0666666666667, 2.4, 0.0666666666667, 0.466666666667, 0.4, 0.466666666667, 0.4, 0.466666666667, 0.0666666666667, 0.0666666666667, 0.0, 0.0666666666667, 0.466666666667, 0.0666666666667, 0.0, 0.466666666667, 0.0666666666667, 0.0, 0.0666666666667, 0.0666666666667, 0.0666666666667, 0.0666666666667, 0.4, 0.0666666666667, 0.0666666666667, 0.4, 0.466666666667, 0.0666666666667, 0.4, 0.466666666667, 0.466666666667, 0.0, 0.0666666666667, 0.0666666666667, 0.0666666666667, 0.0666666666667, 0.0, 0.0666666666667, 2.06666666667, 0.4, 0.0666666666667, 0.0666666666667, 0.0666666666667, 0.0, 0.0666666666667, 0.0666666666667, 0.0666666666667, 0.0666666666667, 0.4, 0.0666666666667, 0.0666666666667, 0.4, 0.466666666667, 0.0666666666667, 0.4, 6.8, 0.8, 0.0666666666667, 0.0666666666667, 0.4, 0.466666666667, 0.0666666666667, 0.0666666666667, 0.0, 0.0625, 0.0714285714286, 1.06666666667, 0.0666666666667, 0.4375, 0.0, 0.0666666666667, 0.0666666666667, 0.0666666666667, 0.4, 0.0666666666667, 0.466666666667, 0.4, 0.0666666666667, 0.466666666667, 0.0666666666667, 0.4, 0.0666666666667, 0.0666666666667, 0.0666666666667, 0.0, 0.0666666666667, 0.466666666667, 2.4, 0.0666666666667, 0.0, 0.466666666667, 0.0666666666667, 0.4, 0.0666666666667, 0.0666666666667, 0.0666666666667, 0.4, 0.466666666667, 0.0666666666667, 0.0666666666667, 0.0, 0.466666666667, 0.0666666666667, 0.4, 0.0666666666667, 0.0666666666667, 0.0666666666667, 0.4, 0.0666666666667, 0.0666666666667, 0.0666666666667, 1.2, 0.466666666667, 0.0, 0.0666666666667, 0.0666666666667, 0.0666666666667, 0.4, 0.0666666666667, 0.466666666667, 0.0666666666667, 0.0, 0.0666666666667, 0.466666666667, 4.0, 2.0, 0.466666666667, 0.4, 0.0666666666667, 0.0666666666667, 0.0666666666667, 0.0, 0.0666666666667, 0.733333333333, 0.0, 0.0666666666667, 0.466666666667, 0.666666666667, 0.0666666666667, 0.0666666666667, 0.0666666666667, 0.0, 0.0625, 0.0666666666667, 0.666666666667, 0.0666666666667, 0.733333333333, 0.0, 0.0666666666667, 0.0666666666667, 0.666666666667, 0.733333333333, 0.0, 0.0666666666667, 0.0666666666667, 0.0666666666667, 0.4, 0.0666666666667, 0.0666666666667, 0.666666666667, 0.0666666666667, 0.0666666666667, 0.0666666666667, 0.0666666666667, 0.0, 0.733333333333, 0.0666666666667, 0.4, 0.466666666667, 0.0666666666667, 0.4, 0.0666666666667, 0.466666666667, 0.0, 0.0666666666667, 0.466666666667, 0.666666666667, 0.0666666666667, 0.4, 0.0666666666667, 0.0666666666667, 0.0666666666667, 0.4, 0.0666666666667, 0.0666666666667, 0.0666666666667, 0.0666666666667, 0.0, 0.466666666667, 0.0666666666667, 0.0666666666667, 0.4, 0.466666666667, 0.0666666666667, 0.0, 0.933333333333, 0.4, 0.466666666667], \"x\": [\"2016-04-09T18:50:29.000Z\", \"2016-04-09T18:50:44.000Z\", \"2016-04-09T18:50:59.000Z\", \"2016-04-09T18:51:14.000Z\", \"2016-04-09T18:51:29.000Z\", \"2016-04-09T18:51:44.000Z\", \"2016-04-09T18:51:59.000Z\", \"2016-04-09T18:52:14.000Z\", \"2016-04-09T18:52:29.000Z\", \"2016-04-09T18:52:44.000Z\", \"2016-04-09T18:52:59.000Z\", \"2016-04-09T18:53:14.000Z\", \"2016-04-09T18:53:29.000Z\", \"2016-04-09T18:53:44.000Z\", \"2016-04-09T18:53:59.000Z\", \"2016-04-09T18:54:14.000Z\", \"2016-04-09T18:54:29.000Z\", \"2016-04-09T18:54:44.000Z\", \"2016-04-09T18:54:59.000Z\", \"2016-04-09T18:55:14.000Z\", \"2016-04-09T18:55:29.000Z\", \"2016-04-09T18:55:44.000Z\", \"2016-04-09T18:55:59.000Z\", \"2016-04-09T18:56:14.000Z\", \"2016-04-09T18:56:29.000Z\", \"2016-04-09T18:56:44.000Z\", \"2016-04-09T18:56:59.000Z\", \"2016-04-09T18:57:14.000Z\", \"2016-04-09T18:57:29.000Z\", \"2016-04-09T18:57:44.000Z\", \"2016-04-09T18:57:59.000Z\", \"2016-04-09T18:58:14.000Z\", \"2016-04-09T18:58:29.000Z\", \"2016-04-09T18:58:44.000Z\", \"2016-04-09T18:58:59.000Z\", \"2016-04-09T18:59:15.000Z\", \"2016-04-09T18:59:30.000Z\", \"2016-04-09T18:59:45.000Z\", \"2016-04-09T19:00:00.000Z\", \"2016-04-09T19:00:15.000Z\", \"2016-04-09T19:00:30.000Z\", \"2016-04-09T19:00:45.000Z\", \"2016-04-09T19:01:00.000Z\", \"2016-04-09T19:01:15.000Z\", \"2016-04-09T19:01:30.000Z\", \"2016-04-09T19:01:45.000Z\", \"2016-04-09T19:02:00.000Z\", \"2016-04-09T19:02:15.000Z\", \"2016-04-09T19:02:30.000Z\", \"2016-04-09T19:02:45.000Z\", \"2016-04-09T19:03:00.000Z\", \"2016-04-09T19:03:15.000Z\", \"2016-04-09T19:03:30.000Z\", \"2016-04-09T19:03:45.000Z\", \"2016-04-09T19:04:00.000Z\", \"2016-04-09T19:04:15.000Z\", \"2016-04-09T19:04:30.000Z\", \"2016-04-09T19:04:45.000Z\", \"2016-04-09T19:05:00.000Z\", \"2016-04-09T19:05:15.000Z\", \"2016-04-09T19:05:30.000Z\", \"2016-04-09T19:05:45.000Z\", \"2016-04-09T19:06:00.000Z\", \"2016-04-09T19:06:15.000Z\", \"2016-04-09T19:06:30.000Z\", \"2016-04-09T19:06:45.000Z\", \"2016-04-09T19:07:00.000Z\", \"2016-04-09T19:07:15.000Z\", \"2016-04-09T19:07:30.000Z\", \"2016-04-09T19:07:45.000Z\", \"2016-04-09T19:08:00.000Z\", \"2016-04-09T19:08:15.000Z\", \"2016-04-09T19:08:30.000Z\", \"2016-04-09T19:08:45.000Z\", \"2016-04-09T19:09:00.000Z\", \"2016-04-09T19:09:15.000Z\", \"2016-04-09T19:09:30.000Z\", \"2016-04-09T19:09:45.000Z\", \"2016-04-09T19:10:00.000Z\", \"2016-04-09T19:10:15.000Z\", \"2016-04-09T19:10:30.000Z\", \"2016-04-09T19:10:45.000Z\", \"2016-04-09T19:11:00.000Z\", \"2016-04-09T19:11:15.000Z\", \"2016-04-09T19:11:30.000Z\", \"2016-04-09T19:11:45.000Z\", \"2016-04-09T19:12:00.000Z\", \"2016-04-09T19:12:15.000Z\", \"2016-04-09T19:12:30.000Z\", \"2016-04-09T19:12:45.000Z\", \"2016-04-09T19:13:00.000Z\", \"2016-04-09T19:13:15.000Z\", \"2016-04-09T19:13:30.000Z\", \"2016-04-09T19:13:45.000Z\", \"2016-04-09T19:14:00.000Z\", \"2016-04-09T19:14:15.000Z\", \"2016-04-09T19:14:30.000Z\", \"2016-04-09T19:14:45.000Z\", \"2016-04-09T19:15:00.000Z\", \"2016-04-09T19:15:15.000Z\", \"2016-04-09T19:15:30.000Z\", \"2016-04-09T19:15:45.000Z\", \"2016-04-09T19:16:00.000Z\", \"2016-04-09T19:16:15.000Z\", \"2016-04-09T19:16:30.000Z\", \"2016-04-09T19:16:46.000Z\", \"2016-04-09T19:17:00.000Z\", \"2016-04-09T19:17:15.000Z\", \"2016-04-09T19:17:30.000Z\", \"2016-04-09T19:17:46.000Z\", \"2016-04-09T19:18:01.000Z\", \"2016-04-09T19:18:16.000Z\", \"2016-04-09T19:18:31.000Z\", \"2016-04-09T19:18:46.000Z\", \"2016-04-09T19:19:01.000Z\", \"2016-04-09T19:19:16.000Z\", \"2016-04-09T19:19:31.000Z\", \"2016-04-09T19:19:46.000Z\", \"2016-04-09T19:20:01.000Z\", \"2016-04-09T19:20:16.000Z\", \"2016-04-09T19:20:31.000Z\", \"2016-04-09T19:20:46.000Z\", \"2016-04-09T19:21:01.000Z\", \"2016-04-09T19:21:16.000Z\", \"2016-04-09T19:21:31.000Z\", \"2016-04-09T19:21:46.000Z\", \"2016-04-09T19:22:01.000Z\", \"2016-04-09T19:22:16.000Z\", \"2016-04-09T19:22:31.000Z\", \"2016-04-09T19:22:46.000Z\", \"2016-04-09T19:23:01.000Z\", \"2016-04-09T19:23:16.000Z\", \"2016-04-09T19:23:31.000Z\", \"2016-04-09T19:23:46.000Z\", \"2016-04-09T19:24:01.000Z\", \"2016-04-09T19:24:16.000Z\", \"2016-04-09T19:24:31.000Z\", \"2016-04-09T19:24:46.000Z\", \"2016-04-09T19:25:01.000Z\", \"2016-04-09T19:25:16.000Z\", \"2016-04-09T19:25:31.000Z\", \"2016-04-09T19:25:46.000Z\", \"2016-04-09T19:26:01.000Z\", \"2016-04-09T19:26:16.000Z\", \"2016-04-09T19:26:31.000Z\", \"2016-04-09T19:26:46.000Z\", \"2016-04-09T19:27:01.000Z\", \"2016-04-09T19:27:16.000Z\", \"2016-04-09T19:27:31.000Z\", \"2016-04-09T19:27:46.000Z\", \"2016-04-09T19:28:01.000Z\", \"2016-04-09T19:28:16.000Z\", \"2016-04-09T19:28:31.000Z\", \"2016-04-09T19:28:46.000Z\", \"2016-04-09T19:29:01.000Z\", \"2016-04-09T19:29:16.000Z\", \"2016-04-09T19:29:31.000Z\", \"2016-04-09T19:29:46.000Z\", \"2016-04-09T19:30:01.000Z\", \"2016-04-09T19:30:16.000Z\", \"2016-04-09T19:30:31.000Z\", \"2016-04-09T19:30:46.000Z\", \"2016-04-09T19:31:01.000Z\", \"2016-04-09T19:31:16.000Z\", \"2016-04-09T19:31:31.000Z\", \"2016-04-09T19:31:46.000Z\", \"2016-04-09T19:32:01.000Z\", \"2016-04-09T19:32:16.000Z\", \"2016-04-09T19:32:31.000Z\", \"2016-04-09T19:32:46.000Z\", \"2016-04-09T19:33:01.000Z\", \"2016-04-09T19:33:16.000Z\", \"2016-04-09T19:33:31.000Z\", \"2016-04-09T19:33:46.000Z\", \"2016-04-09T19:34:01.000Z\", \"2016-04-09T19:34:16.000Z\", \"2016-04-09T19:34:31.000Z\", \"2016-04-09T19:34:46.000Z\", \"2016-04-09T19:35:01.000Z\", \"2016-04-09T19:35:16.000Z\", \"2016-04-09T19:35:31.000Z\", \"2016-04-09T19:35:46.000Z\", \"2016-04-09T19:36:01.000Z\", \"2016-04-09T19:36:17.000Z\", \"2016-04-09T19:36:32.000Z\", \"2016-04-09T19:36:47.000Z\", \"2016-04-09T19:37:02.000Z\", \"2016-04-09T19:37:17.000Z\", \"2016-04-09T19:37:32.000Z\", \"2016-04-09T19:37:47.000Z\", \"2016-04-09T19:38:02.000Z\", \"2016-04-09T19:38:17.000Z\", \"2016-04-09T19:38:32.000Z\", \"2016-04-09T19:38:47.000Z\", \"2016-04-09T19:39:02.000Z\", \"2016-04-09T19:39:17.000Z\", \"2016-04-09T19:39:32.000Z\", \"2016-04-09T19:39:47.000Z\", \"2016-04-09T19:40:02.000Z\", \"2016-04-09T19:40:17.000Z\", \"2016-04-09T19:40:32.000Z\", \"2016-04-09T19:40:47.000Z\", \"2016-04-09T19:41:02.000Z\", \"2016-04-09T19:41:17.000Z\", \"2016-04-09T19:41:32.000Z\", \"2016-04-09T19:41:47.000Z\", \"2016-04-09T19:42:02.000Z\", \"2016-04-09T19:42:17.000Z\", \"2016-04-09T19:42:32.000Z\", \"2016-04-09T19:42:47.000Z\", \"2016-04-09T19:43:02.000Z\", \"2016-04-09T19:43:17.000Z\", \"2016-04-09T19:43:32.000Z\", \"2016-04-09T19:43:47.000Z\", \"2016-04-09T19:44:02.000Z\", \"2016-04-09T19:44:17.000Z\", \"2016-04-09T19:44:32.000Z\", \"2016-04-09T19:44:47.000Z\", \"2016-04-09T19:45:02.000Z\", \"2016-04-09T19:45:17.000Z\", \"2016-04-09T19:45:32.000Z\", \"2016-04-09T19:45:47.000Z\", \"2016-04-09T19:46:02.000Z\", \"2016-04-09T19:46:17.000Z\", \"2016-04-09T19:46:32.000Z\", \"2016-04-09T19:46:47.000Z\", \"2016-04-09T19:47:02.000Z\", \"2016-04-09T19:47:17.000Z\", \"2016-04-09T19:47:32.000Z\", \"2016-04-09T19:47:47.000Z\", \"2016-04-09T19:48:02.000Z\", \"2016-04-09T19:48:17.000Z\", \"2016-04-09T19:48:32.000Z\", \"2016-04-09T19:48:47.000Z\", \"2016-04-09T19:49:02.000Z\", \"2016-04-09T19:49:17.000Z\", \"2016-04-09T19:49:32.000Z\", \"2016-04-09T19:49:47.000Z\", \"2016-04-09T19:50:02.000Z\"], \"line\": {\"color\": \"rgba(62, 111, 176, 1.0)\", \"width\": 1.3, \"dash\": \"solid\"}, \"type\": \"scatter\", \"fill\": \"tozeroy\"}, {\"name\": \"apache.net.requests_sec\", \"yaxis\": \"y3\", \"text\": \"\", \"fillcolor\": \"rgba(132, 118, 202, 0.3)\", \"mode\": \"lines\", \"xaxis\": \"x1\", \"y\": [0.133333333333, 0.0666666666667, 0.0666666666667, 0.0666666666667, 0.466666666667, 0.0666666666667, 0.0666666666667, 0.0666666666667, 0.133333333333, 0.0666666666667, 0.133333333333, 0.0666666666667, 0.133333333333, 0.0666666666667, 0.0666666666667, 0.0666666666667, 0.0666666666667, 0.0666666666667, 0.0666666666667, 0.0666666666667, 0.0666666666667, 0.133333333333, 0.133333333333, 0.133333333333, 0.133333333333, 0.133333333333, 0.0666666666667, 0.0666666666667, 0.0666666666667, 0.0666666666667, 0.133333333333, 0.0666666666667, 0.133333333333, 0.0666666666667, 0.0666666666667, 0.125, 0.0666666666667, 0.0666666666667, 0.0666666666667, 0.0666666666667, 0.0666666666667, 0.0666666666667, 0.466666666667, 0.0666666666667, 0.133333333333, 0.133333333333, 0.133333333333, 0.133333333333, 0.133333333333, 0.0666666666667, 0.0666666666667, 0.0666666666667, 0.0666666666667, 0.133333333333, 0.0666666666667, 0.0666666666667, 0.133333333333, 0.0666666666667, 0.0666666666667, 0.0666666666667, 0.0666666666667, 0.0666666666667, 0.0666666666667, 0.133333333333, 0.0666666666667, 0.0666666666667, 0.133333333333, 0.133333333333, 0.0666666666667, 0.133333333333, 0.133333333333, 0.133333333333, 0.0666666666667, 0.0666666666667, 0.0666666666667, 0.0666666666667, 0.0666666666667, 0.0666666666667, 0.0666666666667, 0.4, 0.133333333333, 0.0666666666667, 0.0666666666667, 0.0666666666667, 0.0666666666667, 0.0666666666667, 0.0666666666667, 0.0666666666667, 0.0666666666667, 0.133333333333, 0.0666666666667, 0.0666666666667, 0.133333333333, 0.133333333333, 0.0666666666667, 0.133333333333, 1.2, 0.2, 0.0666666666667, 0.0666666666667, 0.133333333333, 0.133333333333, 0.0666666666667, 0.0666666666667, 0.0666666666667, 0.0625, 0.0714285714286, 0.266666666667, 0.0666666666667, 0.125, 0.0666666666667, 0.0666666666667, 0.0666666666667, 0.0666666666667, 0.133333333333, 0.0666666666667, 0.133333333333, 0.133333333333, 0.0666666666667, 0.133333333333, 0.0666666666667, 0.133333333333, 0.0666666666667, 0.0666666666667, 0.0666666666667, 0.0666666666667, 0.0666666666667, 0.133333333333, 0.466666666667, 0.0666666666667, 0.0666666666667, 0.133333333333, 0.0666666666667, 0.133333333333, 0.0666666666667, 0.0666666666667, 0.0666666666667, 0.133333333333, 0.133333333333, 0.0666666666667, 0.0666666666667, 0.0666666666667, 0.133333333333, 0.0666666666667, 0.133333333333, 0.0666666666667, 0.0666666666667, 0.0666666666667, 0.133333333333, 0.0666666666667, 0.0666666666667, 0.0666666666667, 0.266666666667, 0.133333333333, 0.0666666666667, 0.0666666666667, 0.0666666666667, 0.0666666666667, 0.133333333333, 0.0666666666667, 0.133333333333, 0.0666666666667, 0.0666666666667, 0.0666666666667, 0.133333333333, 0.733333333333, 0.4, 0.133333333333, 0.133333333333, 0.0666666666667, 0.0666666666667, 0.0666666666667, 0.0666666666667, 0.0666666666667, 0.2, 0.0666666666667, 0.0666666666667, 0.133333333333, 0.2, 0.0666666666667, 0.0666666666667, 0.0666666666667, 0.0666666666667, 0.0625, 0.0666666666667, 0.2, 0.0666666666667, 0.2, 0.0666666666667, 0.0666666666667, 0.0666666666667, 0.2, 0.2, 0.0666666666667, 0.0666666666667, 0.0666666666667, 0.0666666666667, 0.133333333333, 0.0666666666667, 0.0666666666667, 0.2, 0.0666666666667, 0.0666666666667, 0.0666666666667, 0.0666666666667, 0.0666666666667, 0.2, 0.0666666666667, 0.133333333333, 0.133333333333, 0.0666666666667, 0.133333333333, 0.0666666666667, 0.133333333333, 0.0666666666667, 0.0666666666667, 0.133333333333, 0.2, 0.0666666666667, 0.133333333333, 0.0666666666667, 0.0666666666667, 0.0666666666667, 0.133333333333, 0.0666666666667, 0.0666666666667, 0.0666666666667, 0.0666666666667, 0.0666666666667, 0.133333333333, 0.0666666666667, 0.0666666666667, 0.133333333333, 0.133333333333, 0.0666666666667, 0.0666666666667, 0.266666666667, 0.133333333333, 0.133333333333], \"x\": [\"2016-04-09T18:50:29.000Z\", \"2016-04-09T18:50:44.000Z\", \"2016-04-09T18:50:59.000Z\", \"2016-04-09T18:51:14.000Z\", \"2016-04-09T18:51:29.000Z\", \"2016-04-09T18:51:44.000Z\", \"2016-04-09T18:51:59.000Z\", \"2016-04-09T18:52:14.000Z\", \"2016-04-09T18:52:29.000Z\", \"2016-04-09T18:52:44.000Z\", \"2016-04-09T18:52:59.000Z\", \"2016-04-09T18:53:14.000Z\", \"2016-04-09T18:53:29.000Z\", \"2016-04-09T18:53:44.000Z\", \"2016-04-09T18:53:59.000Z\", \"2016-04-09T18:54:14.000Z\", \"2016-04-09T18:54:29.000Z\", \"2016-04-09T18:54:44.000Z\", \"2016-04-09T18:54:59.000Z\", \"2016-04-09T18:55:14.000Z\", \"2016-04-09T18:55:29.000Z\", \"2016-04-09T18:55:44.000Z\", \"2016-04-09T18:55:59.000Z\", \"2016-04-09T18:56:14.000Z\", \"2016-04-09T18:56:29.000Z\", \"2016-04-09T18:56:44.000Z\", \"2016-04-09T18:56:59.000Z\", \"2016-04-09T18:57:14.000Z\", \"2016-04-09T18:57:29.000Z\", \"2016-04-09T18:57:44.000Z\", \"2016-04-09T18:57:59.000Z\", \"2016-04-09T18:58:14.000Z\", \"2016-04-09T18:58:29.000Z\", \"2016-04-09T18:58:44.000Z\", \"2016-04-09T18:58:59.000Z\", \"2016-04-09T18:59:15.000Z\", \"2016-04-09T18:59:30.000Z\", \"2016-04-09T18:59:45.000Z\", \"2016-04-09T19:00:00.000Z\", \"2016-04-09T19:00:15.000Z\", \"2016-04-09T19:00:30.000Z\", \"2016-04-09T19:00:45.000Z\", \"2016-04-09T19:01:00.000Z\", \"2016-04-09T19:01:15.000Z\", \"2016-04-09T19:01:30.000Z\", \"2016-04-09T19:01:45.000Z\", \"2016-04-09T19:02:00.000Z\", \"2016-04-09T19:02:15.000Z\", \"2016-04-09T19:02:30.000Z\", \"2016-04-09T19:02:45.000Z\", \"2016-04-09T19:03:00.000Z\", \"2016-04-09T19:03:15.000Z\", \"2016-04-09T19:03:30.000Z\", \"2016-04-09T19:03:45.000Z\", \"2016-04-09T19:04:00.000Z\", \"2016-04-09T19:04:15.000Z\", \"2016-04-09T19:04:30.000Z\", \"2016-04-09T19:04:45.000Z\", \"2016-04-09T19:05:00.000Z\", \"2016-04-09T19:05:15.000Z\", \"2016-04-09T19:05:30.000Z\", \"2016-04-09T19:05:45.000Z\", \"2016-04-09T19:06:00.000Z\", \"2016-04-09T19:06:15.000Z\", \"2016-04-09T19:06:30.000Z\", \"2016-04-09T19:06:45.000Z\", \"2016-04-09T19:07:00.000Z\", \"2016-04-09T19:07:15.000Z\", \"2016-04-09T19:07:30.000Z\", \"2016-04-09T19:07:45.000Z\", \"2016-04-09T19:08:00.000Z\", \"2016-04-09T19:08:15.000Z\", \"2016-04-09T19:08:30.000Z\", \"2016-04-09T19:08:45.000Z\", \"2016-04-09T19:09:00.000Z\", \"2016-04-09T19:09:15.000Z\", \"2016-04-09T19:09:30.000Z\", \"2016-04-09T19:09:45.000Z\", \"2016-04-09T19:10:00.000Z\", \"2016-04-09T19:10:15.000Z\", \"2016-04-09T19:10:30.000Z\", \"2016-04-09T19:10:45.000Z\", \"2016-04-09T19:11:00.000Z\", \"2016-04-09T19:11:15.000Z\", \"2016-04-09T19:11:30.000Z\", \"2016-04-09T19:11:45.000Z\", \"2016-04-09T19:12:00.000Z\", \"2016-04-09T19:12:15.000Z\", \"2016-04-09T19:12:30.000Z\", \"2016-04-09T19:12:45.000Z\", \"2016-04-09T19:13:00.000Z\", \"2016-04-09T19:13:15.000Z\", \"2016-04-09T19:13:30.000Z\", \"2016-04-09T19:13:45.000Z\", \"2016-04-09T19:14:00.000Z\", \"2016-04-09T19:14:15.000Z\", \"2016-04-09T19:14:30.000Z\", \"2016-04-09T19:14:45.000Z\", \"2016-04-09T19:15:00.000Z\", \"2016-04-09T19:15:15.000Z\", \"2016-04-09T19:15:30.000Z\", \"2016-04-09T19:15:45.000Z\", \"2016-04-09T19:16:00.000Z\", \"2016-04-09T19:16:15.000Z\", \"2016-04-09T19:16:30.000Z\", \"2016-04-09T19:16:46.000Z\", \"2016-04-09T19:17:00.000Z\", \"2016-04-09T19:17:15.000Z\", \"2016-04-09T19:17:30.000Z\", \"2016-04-09T19:17:46.000Z\", \"2016-04-09T19:18:01.000Z\", \"2016-04-09T19:18:16.000Z\", \"2016-04-09T19:18:31.000Z\", \"2016-04-09T19:18:46.000Z\", \"2016-04-09T19:19:01.000Z\", \"2016-04-09T19:19:16.000Z\", \"2016-04-09T19:19:31.000Z\", \"2016-04-09T19:19:46.000Z\", \"2016-04-09T19:20:01.000Z\", \"2016-04-09T19:20:16.000Z\", \"2016-04-09T19:20:31.000Z\", \"2016-04-09T19:20:46.000Z\", \"2016-04-09T19:21:01.000Z\", \"2016-04-09T19:21:16.000Z\", \"2016-04-09T19:21:31.000Z\", \"2016-04-09T19:21:46.000Z\", \"2016-04-09T19:22:01.000Z\", \"2016-04-09T19:22:16.000Z\", \"2016-04-09T19:22:31.000Z\", \"2016-04-09T19:22:46.000Z\", \"2016-04-09T19:23:01.000Z\", \"2016-04-09T19:23:16.000Z\", \"2016-04-09T19:23:31.000Z\", \"2016-04-09T19:23:46.000Z\", \"2016-04-09T19:24:01.000Z\", \"2016-04-09T19:24:16.000Z\", \"2016-04-09T19:24:31.000Z\", \"2016-04-09T19:24:46.000Z\", \"2016-04-09T19:25:01.000Z\", \"2016-04-09T19:25:16.000Z\", \"2016-04-09T19:25:31.000Z\", \"2016-04-09T19:25:46.000Z\", \"2016-04-09T19:26:01.000Z\", \"2016-04-09T19:26:16.000Z\", \"2016-04-09T19:26:31.000Z\", \"2016-04-09T19:26:46.000Z\", \"2016-04-09T19:27:01.000Z\", \"2016-04-09T19:27:16.000Z\", \"2016-04-09T19:27:31.000Z\", \"2016-04-09T19:27:46.000Z\", \"2016-04-09T19:28:01.000Z\", \"2016-04-09T19:28:16.000Z\", \"2016-04-09T19:28:31.000Z\", \"2016-04-09T19:28:46.000Z\", \"2016-04-09T19:29:01.000Z\", \"2016-04-09T19:29:16.000Z\", \"2016-04-09T19:29:31.000Z\", \"2016-04-09T19:29:46.000Z\", \"2016-04-09T19:30:01.000Z\", \"2016-04-09T19:30:16.000Z\", \"2016-04-09T19:30:31.000Z\", \"2016-04-09T19:30:46.000Z\", \"2016-04-09T19:31:01.000Z\", \"2016-04-09T19:31:16.000Z\", \"2016-04-09T19:31:31.000Z\", \"2016-04-09T19:31:46.000Z\", \"2016-04-09T19:32:01.000Z\", \"2016-04-09T19:32:16.000Z\", \"2016-04-09T19:32:31.000Z\", \"2016-04-09T19:32:46.000Z\", \"2016-04-09T19:33:01.000Z\", \"2016-04-09T19:33:16.000Z\", \"2016-04-09T19:33:31.000Z\", \"2016-04-09T19:33:46.000Z\", \"2016-04-09T19:34:01.000Z\", \"2016-04-09T19:34:16.000Z\", \"2016-04-09T19:34:31.000Z\", \"2016-04-09T19:34:46.000Z\", \"2016-04-09T19:35:01.000Z\", \"2016-04-09T19:35:16.000Z\", \"2016-04-09T19:35:31.000Z\", \"2016-04-09T19:35:46.000Z\", \"2016-04-09T19:36:01.000Z\", \"2016-04-09T19:36:17.000Z\", \"2016-04-09T19:36:32.000Z\", \"2016-04-09T19:36:47.000Z\", \"2016-04-09T19:37:02.000Z\", \"2016-04-09T19:37:17.000Z\", \"2016-04-09T19:37:32.000Z\", \"2016-04-09T19:37:47.000Z\", \"2016-04-09T19:38:02.000Z\", \"2016-04-09T19:38:17.000Z\", \"2016-04-09T19:38:32.000Z\", \"2016-04-09T19:38:47.000Z\", \"2016-04-09T19:39:02.000Z\", \"2016-04-09T19:39:17.000Z\", \"2016-04-09T19:39:32.000Z\", \"2016-04-09T19:39:47.000Z\", \"2016-04-09T19:40:02.000Z\", \"2016-04-09T19:40:17.000Z\", \"2016-04-09T19:40:32.000Z\", \"2016-04-09T19:40:47.000Z\", \"2016-04-09T19:41:02.000Z\", \"2016-04-09T19:41:17.000Z\", \"2016-04-09T19:41:32.000Z\", \"2016-04-09T19:41:47.000Z\", \"2016-04-09T19:42:02.000Z\", \"2016-04-09T19:42:17.000Z\", \"2016-04-09T19:42:32.000Z\", \"2016-04-09T19:42:47.000Z\", \"2016-04-09T19:43:02.000Z\", \"2016-04-09T19:43:17.000Z\", \"2016-04-09T19:43:32.000Z\", \"2016-04-09T19:43:47.000Z\", \"2016-04-09T19:44:02.000Z\", \"2016-04-09T19:44:17.000Z\", \"2016-04-09T19:44:32.000Z\", \"2016-04-09T19:44:47.000Z\", \"2016-04-09T19:45:02.000Z\", \"2016-04-09T19:45:17.000Z\", \"2016-04-09T19:45:32.000Z\", \"2016-04-09T19:45:47.000Z\", \"2016-04-09T19:46:02.000Z\", \"2016-04-09T19:46:17.000Z\", \"2016-04-09T19:46:32.000Z\", \"2016-04-09T19:46:47.000Z\", \"2016-04-09T19:47:02.000Z\", \"2016-04-09T19:47:17.000Z\", \"2016-04-09T19:47:32.000Z\", \"2016-04-09T19:47:47.000Z\", \"2016-04-09T19:48:02.000Z\", \"2016-04-09T19:48:17.000Z\", \"2016-04-09T19:48:32.000Z\", \"2016-04-09T19:48:47.000Z\", \"2016-04-09T19:49:02.000Z\", \"2016-04-09T19:49:17.000Z\", \"2016-04-09T19:49:32.000Z\", \"2016-04-09T19:49:47.000Z\", \"2016-04-09T19:50:02.000Z\"], \"line\": {\"color\": \"rgba(132, 118, 202, 1.0)\", \"width\": 1.3, \"dash\": \"solid\"}, \"type\": \"scatter\", \"fill\": \"tozeroy\"}, {\"name\": \"apache.net.total_kbytes\", \"yaxis\": \"y4\", \"text\": \"\", \"fillcolor\": \"rgba(101, 101, 101, 0.3)\", \"mode\": \"lines\", \"xaxis\": \"x1\", \"y\": [4655, 4655, 4656, 4657, 4693, 4694, 4695, 4695, 4702, 4703, 4709, 4710, 4717, 4718, 4718, 4719, 4720, 4721, 4721, 4722, 4723, 4730, 4736, 4743, 4749, 4756, 4757, 4758, 4758, 4759, 4766, 4767, 4773, 4774, 4775, 4781, 4782, 4783, 4784, 4785, 4785, 4786, 4822, 4823, 4830, 4836, 4843, 4849, 4856, 4857, 4858, 4858, 4859, 4866, 4867, 4867, 4874, 4875, 4875, 4876, 4877, 4878, 4879, 4885, 4886, 4887, 4893, 4900, 4901, 4907, 4914, 4921, 4921, 4922, 4923, 4924, 4925, 4925, 4926, 4957, 4963, 4964, 4965, 4966, 4966, 4967, 4968, 4969, 4970, 4976, 4977, 4978, 4984, 4991, 4992, 4998, 5100, 5112, 5113, 5114, 5120, 5127, 5128, 5129, 5129, 5130, 5131, 5147, 5148, 5155, 5155, 5156, 5157, 5158, 5164, 5165, 5172, 5178, 5179, 5186, 5187, 5193, 5194, 5195, 5196, 5196, 5197, 5204, 5240, 5241, 5241, 5248, 5249, 5255, 5256, 5257, 5258, 5264, 5271, 5272, 5273, 5273, 5280, 5281, 5287, 5288, 5289, 5290, 5296, 5297, 5298, 5299, 5317, 5324, 5324, 5325, 5326, 5327, 5333, 5334, 5341, 5342, 5342, 5343, 5350, 5410, 5440, 5447, 5453, 5454, 5455, 5456, 5456, 5457, 5468, 5468, 5469, 5476, 5486, 5487, 5488, 5489, 5489, 5490, 5491, 5501, 5502, 5513, 5513, 5514, 5515, 5525, 5536, 5536, 5537, 5538, 5539, 5545, 5546, 5547, 5557, 5558, 5559, 5560, 5561, 5561, 5572, 5573, 5579, 5586, 5587, 5593, 5594, 5601, 5601, 5602, 5609, 5619, 5620, 5626, 5627, 5628, 5629, 5635, 5636, 5637, 5638, 5639, 5639, 5646, 5647, 5648, 5654, 5661, 5662, 5662, 5676, 5682, 5689], \"x\": [\"2016-04-09T18:50:29.000Z\", \"2016-04-09T18:50:44.000Z\", \"2016-04-09T18:50:59.000Z\", \"2016-04-09T18:51:14.000Z\", \"2016-04-09T18:51:29.000Z\", \"2016-04-09T18:51:44.000Z\", \"2016-04-09T18:51:59.000Z\", \"2016-04-09T18:52:14.000Z\", \"2016-04-09T18:52:29.000Z\", \"2016-04-09T18:52:44.000Z\", \"2016-04-09T18:52:59.000Z\", \"2016-04-09T18:53:14.000Z\", \"2016-04-09T18:53:29.000Z\", \"2016-04-09T18:53:44.000Z\", \"2016-04-09T18:53:59.000Z\", \"2016-04-09T18:54:14.000Z\", \"2016-04-09T18:54:29.000Z\", \"2016-04-09T18:54:44.000Z\", \"2016-04-09T18:54:59.000Z\", \"2016-04-09T18:55:14.000Z\", \"2016-04-09T18:55:29.000Z\", \"2016-04-09T18:55:44.000Z\", \"2016-04-09T18:55:59.000Z\", \"2016-04-09T18:56:14.000Z\", \"2016-04-09T18:56:29.000Z\", \"2016-04-09T18:56:44.000Z\", \"2016-04-09T18:56:59.000Z\", \"2016-04-09T18:57:14.000Z\", \"2016-04-09T18:57:29.000Z\", \"2016-04-09T18:57:44.000Z\", \"2016-04-09T18:57:59.000Z\", \"2016-04-09T18:58:14.000Z\", \"2016-04-09T18:58:29.000Z\", \"2016-04-09T18:58:44.000Z\", \"2016-04-09T18:58:59.000Z\", \"2016-04-09T18:59:15.000Z\", \"2016-04-09T18:59:30.000Z\", \"2016-04-09T18:59:45.000Z\", \"2016-04-09T19:00:00.000Z\", \"2016-04-09T19:00:15.000Z\", \"2016-04-09T19:00:30.000Z\", \"2016-04-09T19:00:45.000Z\", \"2016-04-09T19:01:00.000Z\", \"2016-04-09T19:01:15.000Z\", \"2016-04-09T19:01:30.000Z\", \"2016-04-09T19:01:45.000Z\", \"2016-04-09T19:02:00.000Z\", \"2016-04-09T19:02:15.000Z\", \"2016-04-09T19:02:30.000Z\", \"2016-04-09T19:02:45.000Z\", \"2016-04-09T19:03:00.000Z\", \"2016-04-09T19:03:15.000Z\", \"2016-04-09T19:03:30.000Z\", \"2016-04-09T19:03:45.000Z\", \"2016-04-09T19:04:00.000Z\", \"2016-04-09T19:04:15.000Z\", \"2016-04-09T19:04:30.000Z\", \"2016-04-09T19:04:45.000Z\", \"2016-04-09T19:05:00.000Z\", \"2016-04-09T19:05:15.000Z\", \"2016-04-09T19:05:30.000Z\", \"2016-04-09T19:05:45.000Z\", \"2016-04-09T19:06:00.000Z\", \"2016-04-09T19:06:15.000Z\", \"2016-04-09T19:06:30.000Z\", \"2016-04-09T19:06:45.000Z\", \"2016-04-09T19:07:00.000Z\", \"2016-04-09T19:07:15.000Z\", \"2016-04-09T19:07:30.000Z\", \"2016-04-09T19:07:45.000Z\", \"2016-04-09T19:08:00.000Z\", \"2016-04-09T19:08:15.000Z\", \"2016-04-09T19:08:30.000Z\", \"2016-04-09T19:08:45.000Z\", \"2016-04-09T19:09:00.000Z\", \"2016-04-09T19:09:15.000Z\", \"2016-04-09T19:09:30.000Z\", \"2016-04-09T19:09:45.000Z\", \"2016-04-09T19:10:00.000Z\", \"2016-04-09T19:10:15.000Z\", \"2016-04-09T19:10:30.000Z\", \"2016-04-09T19:10:45.000Z\", \"2016-04-09T19:11:00.000Z\", \"2016-04-09T19:11:15.000Z\", \"2016-04-09T19:11:30.000Z\", \"2016-04-09T19:11:45.000Z\", \"2016-04-09T19:12:00.000Z\", \"2016-04-09T19:12:15.000Z\", \"2016-04-09T19:12:30.000Z\", \"2016-04-09T19:12:45.000Z\", \"2016-04-09T19:13:00.000Z\", \"2016-04-09T19:13:15.000Z\", \"2016-04-09T19:13:30.000Z\", \"2016-04-09T19:13:45.000Z\", \"2016-04-09T19:14:00.000Z\", \"2016-04-09T19:14:15.000Z\", \"2016-04-09T19:14:30.000Z\", \"2016-04-09T19:14:45.000Z\", \"2016-04-09T19:15:00.000Z\", \"2016-04-09T19:15:15.000Z\", \"2016-04-09T19:15:30.000Z\", \"2016-04-09T19:15:45.000Z\", \"2016-04-09T19:16:00.000Z\", \"2016-04-09T19:16:15.000Z\", \"2016-04-09T19:16:30.000Z\", \"2016-04-09T19:16:46.000Z\", \"2016-04-09T19:17:00.000Z\", \"2016-04-09T19:17:15.000Z\", \"2016-04-09T19:17:30.000Z\", \"2016-04-09T19:17:46.000Z\", \"2016-04-09T19:18:01.000Z\", \"2016-04-09T19:18:16.000Z\", \"2016-04-09T19:18:31.000Z\", \"2016-04-09T19:18:46.000Z\", \"2016-04-09T19:19:01.000Z\", \"2016-04-09T19:19:16.000Z\", \"2016-04-09T19:19:31.000Z\", \"2016-04-09T19:19:46.000Z\", \"2016-04-09T19:20:01.000Z\", \"2016-04-09T19:20:16.000Z\", \"2016-04-09T19:20:31.000Z\", \"2016-04-09T19:20:46.000Z\", \"2016-04-09T19:21:01.000Z\", \"2016-04-09T19:21:16.000Z\", \"2016-04-09T19:21:31.000Z\", \"2016-04-09T19:21:46.000Z\", \"2016-04-09T19:22:01.000Z\", \"2016-04-09T19:22:16.000Z\", \"2016-04-09T19:22:31.000Z\", \"2016-04-09T19:22:46.000Z\", \"2016-04-09T19:23:01.000Z\", \"2016-04-09T19:23:16.000Z\", \"2016-04-09T19:23:31.000Z\", \"2016-04-09T19:23:46.000Z\", \"2016-04-09T19:24:01.000Z\", \"2016-04-09T19:24:16.000Z\", \"2016-04-09T19:24:31.000Z\", \"2016-04-09T19:24:46.000Z\", \"2016-04-09T19:25:01.000Z\", \"2016-04-09T19:25:16.000Z\", \"2016-04-09T19:25:31.000Z\", \"2016-04-09T19:25:46.000Z\", \"2016-04-09T19:26:01.000Z\", \"2016-04-09T19:26:16.000Z\", \"2016-04-09T19:26:31.000Z\", \"2016-04-09T19:26:46.000Z\", \"2016-04-09T19:27:01.000Z\", \"2016-04-09T19:27:16.000Z\", \"2016-04-09T19:27:31.000Z\", \"2016-04-09T19:27:46.000Z\", \"2016-04-09T19:28:01.000Z\", \"2016-04-09T19:28:16.000Z\", \"2016-04-09T19:28:31.000Z\", \"2016-04-09T19:28:46.000Z\", \"2016-04-09T19:29:01.000Z\", \"2016-04-09T19:29:16.000Z\", \"2016-04-09T19:29:31.000Z\", \"2016-04-09T19:29:46.000Z\", \"2016-04-09T19:30:01.000Z\", \"2016-04-09T19:30:16.000Z\", \"2016-04-09T19:30:31.000Z\", \"2016-04-09T19:30:46.000Z\", \"2016-04-09T19:31:01.000Z\", \"2016-04-09T19:31:16.000Z\", \"2016-04-09T19:31:31.000Z\", \"2016-04-09T19:31:46.000Z\", \"2016-04-09T19:32:01.000Z\", \"2016-04-09T19:32:16.000Z\", \"2016-04-09T19:32:31.000Z\", \"2016-04-09T19:32:46.000Z\", \"2016-04-09T19:33:01.000Z\", \"2016-04-09T19:33:16.000Z\", \"2016-04-09T19:33:31.000Z\", \"2016-04-09T19:33:46.000Z\", \"2016-04-09T19:34:01.000Z\", \"2016-04-09T19:34:16.000Z\", \"2016-04-09T19:34:31.000Z\", \"2016-04-09T19:34:46.000Z\", \"2016-04-09T19:35:01.000Z\", \"2016-04-09T19:35:16.000Z\", \"2016-04-09T19:35:31.000Z\", \"2016-04-09T19:35:46.000Z\", \"2016-04-09T19:36:01.000Z\", \"2016-04-09T19:36:17.000Z\", \"2016-04-09T19:36:32.000Z\", \"2016-04-09T19:36:47.000Z\", \"2016-04-09T19:37:02.000Z\", \"2016-04-09T19:37:17.000Z\", \"2016-04-09T19:37:32.000Z\", \"2016-04-09T19:37:47.000Z\", \"2016-04-09T19:38:02.000Z\", \"2016-04-09T19:38:17.000Z\", \"2016-04-09T19:38:32.000Z\", \"2016-04-09T19:38:47.000Z\", \"2016-04-09T19:39:02.000Z\", \"2016-04-09T19:39:17.000Z\", \"2016-04-09T19:39:32.000Z\", \"2016-04-09T19:39:47.000Z\", \"2016-04-09T19:40:02.000Z\", \"2016-04-09T19:40:17.000Z\", \"2016-04-09T19:40:32.000Z\", \"2016-04-09T19:40:47.000Z\", \"2016-04-09T19:41:02.000Z\", \"2016-04-09T19:41:17.000Z\", \"2016-04-09T19:41:32.000Z\", \"2016-04-09T19:41:47.000Z\", \"2016-04-09T19:42:02.000Z\", \"2016-04-09T19:42:17.000Z\", \"2016-04-09T19:42:32.000Z\", \"2016-04-09T19:42:47.000Z\", \"2016-04-09T19:43:02.000Z\", \"2016-04-09T19:43:17.000Z\", \"2016-04-09T19:43:32.000Z\", \"2016-04-09T19:43:47.000Z\", \"2016-04-09T19:44:02.000Z\", \"2016-04-09T19:44:17.000Z\", \"2016-04-09T19:44:32.000Z\", \"2016-04-09T19:44:47.000Z\", \"2016-04-09T19:45:02.000Z\", \"2016-04-09T19:45:17.000Z\", \"2016-04-09T19:45:32.000Z\", \"2016-04-09T19:45:47.000Z\", \"2016-04-09T19:46:02.000Z\", \"2016-04-09T19:46:17.000Z\", \"2016-04-09T19:46:32.000Z\", \"2016-04-09T19:46:47.000Z\", \"2016-04-09T19:47:02.000Z\", \"2016-04-09T19:47:17.000Z\", \"2016-04-09T19:47:32.000Z\", \"2016-04-09T19:47:47.000Z\", \"2016-04-09T19:48:02.000Z\", \"2016-04-09T19:48:17.000Z\", \"2016-04-09T19:48:32.000Z\", \"2016-04-09T19:48:47.000Z\", \"2016-04-09T19:49:02.000Z\", \"2016-04-09T19:49:17.000Z\", \"2016-04-09T19:49:32.000Z\", \"2016-04-09T19:49:47.000Z\", \"2016-04-09T19:50:02.000Z\"], \"line\": {\"color\": \"rgba(101, 101, 101, 1.0)\", \"width\": 1.3, \"dash\": \"solid\"}, \"type\": \"scatter\", \"fill\": \"tozeroy\"}, {\"name\": \"apache.performance.busy_worker_count\", \"yaxis\": \"y5\", \"text\": \"\", \"fillcolor\": \"rgba(251, 193, 94, 0.3)\", \"mode\": \"lines\", \"xaxis\": \"x1\", \"y\": [1, 1, 1, 1, 1, 1, 1, 1, 1, 1, 1, 1, 1, 1, 1, 1, 1, 1, 1, 1, 1, 1, 1, 1, 1, 1, 1, 1, 1, 1, 1, 1, 1, 1, 1, 1, 1, 1, 1, 1, 1, 1, 1, 1, 1, 1, 1, 1, 1, 1, 1, 1, 1, 1, 1, 1, 1, 1, 1, 1, 1, 1, 1, 1, 1, 1, 1, 1, 1, 1, 1, 1, 1, 1, 1, 1, 1, 1, 1, 1, 1, 1, 1, 1, 1, 1, 1, 1, 1, 1, 1, 1, 1, 1, 1, 1, 1, 1, 1, 1, 1, 1, 1, 1, 1, 1, 1, 1, 1, 1, 1, 1, 1, 1, 1, 1, 1, 1, 1, 1, 1, 1, 1, 1, 1, 1, 1, 1, 1, 1, 1, 1, 1, 1, 1, 1, 1, 1, 1, 1, 1, 1, 1, 1, 1, 1, 1, 1, 1, 1, 1, 1, 1, 1, 1, 1, 1, 1, 1, 1, 1, 1, 1, 1, 1, 1, 1, 1, 1, 1, 1, 1, 1, 1, 1, 1, 1, 1, 1, 1, 1, 1, 1, 1, 1, 1, 1, 1, 1, 1, 1, 1, 1, 1, 1, 1, 1, 1, 1, 1, 1, 1, 1, 1, 1, 1, 1, 1, 1, 1, 1, 1, 1, 1, 1, 1, 1, 1, 1, 1, 1, 1, 1, 1, 1, 1, 1, 1, 1, 1, 1, 1, 1, 1, 1, 1, 1, 1, 1], \"x\": [\"2016-04-09T18:50:29.000Z\", \"2016-04-09T18:50:44.000Z\", \"2016-04-09T18:50:59.000Z\", \"2016-04-09T18:51:14.000Z\", \"2016-04-09T18:51:29.000Z\", \"2016-04-09T18:51:44.000Z\", \"2016-04-09T18:51:59.000Z\", \"2016-04-09T18:52:14.000Z\", \"2016-04-09T18:52:29.000Z\", \"2016-04-09T18:52:44.000Z\", \"2016-04-09T18:52:59.000Z\", \"2016-04-09T18:53:14.000Z\", \"2016-04-09T18:53:29.000Z\", \"2016-04-09T18:53:44.000Z\", \"2016-04-09T18:53:59.000Z\", \"2016-04-09T18:54:14.000Z\", \"2016-04-09T18:54:29.000Z\", \"2016-04-09T18:54:44.000Z\", \"2016-04-09T18:54:59.000Z\", \"2016-04-09T18:55:14.000Z\", \"2016-04-09T18:55:29.000Z\", \"2016-04-09T18:55:44.000Z\", \"2016-04-09T18:55:59.000Z\", \"2016-04-09T18:56:14.000Z\", \"2016-04-09T18:56:29.000Z\", \"2016-04-09T18:56:44.000Z\", \"2016-04-09T18:56:59.000Z\", \"2016-04-09T18:57:14.000Z\", \"2016-04-09T18:57:29.000Z\", \"2016-04-09T18:57:44.000Z\", \"2016-04-09T18:57:59.000Z\", \"2016-04-09T18:58:14.000Z\", \"2016-04-09T18:58:29.000Z\", \"2016-04-09T18:58:44.000Z\", \"2016-04-09T18:58:59.000Z\", \"2016-04-09T18:59:15.000Z\", \"2016-04-09T18:59:30.000Z\", \"2016-04-09T18:59:45.000Z\", \"2016-04-09T19:00:00.000Z\", \"2016-04-09T19:00:15.000Z\", \"2016-04-09T19:00:30.000Z\", \"2016-04-09T19:00:45.000Z\", \"2016-04-09T19:01:00.000Z\", \"2016-04-09T19:01:15.000Z\", \"2016-04-09T19:01:30.000Z\", \"2016-04-09T19:01:45.000Z\", \"2016-04-09T19:02:00.000Z\", \"2016-04-09T19:02:15.000Z\", \"2016-04-09T19:02:30.000Z\", \"2016-04-09T19:02:45.000Z\", \"2016-04-09T19:03:00.000Z\", \"2016-04-09T19:03:15.000Z\", \"2016-04-09T19:03:30.000Z\", \"2016-04-09T19:03:45.000Z\", \"2016-04-09T19:04:00.000Z\", \"2016-04-09T19:04:15.000Z\", \"2016-04-09T19:04:30.000Z\", \"2016-04-09T19:04:45.000Z\", \"2016-04-09T19:05:00.000Z\", \"2016-04-09T19:05:15.000Z\", \"2016-04-09T19:05:30.000Z\", \"2016-04-09T19:05:45.000Z\", \"2016-04-09T19:06:00.000Z\", \"2016-04-09T19:06:15.000Z\", \"2016-04-09T19:06:30.000Z\", \"2016-04-09T19:06:45.000Z\", \"2016-04-09T19:07:00.000Z\", \"2016-04-09T19:07:15.000Z\", \"2016-04-09T19:07:30.000Z\", \"2016-04-09T19:07:45.000Z\", \"2016-04-09T19:08:00.000Z\", \"2016-04-09T19:08:15.000Z\", \"2016-04-09T19:08:30.000Z\", \"2016-04-09T19:08:45.000Z\", \"2016-04-09T19:09:00.000Z\", \"2016-04-09T19:09:15.000Z\", \"2016-04-09T19:09:30.000Z\", \"2016-04-09T19:09:45.000Z\", \"2016-04-09T19:10:00.000Z\", \"2016-04-09T19:10:15.000Z\", \"2016-04-09T19:10:30.000Z\", \"2016-04-09T19:10:45.000Z\", \"2016-04-09T19:11:00.000Z\", \"2016-04-09T19:11:15.000Z\", \"2016-04-09T19:11:30.000Z\", \"2016-04-09T19:11:45.000Z\", \"2016-04-09T19:12:00.000Z\", \"2016-04-09T19:12:15.000Z\", \"2016-04-09T19:12:30.000Z\", \"2016-04-09T19:12:45.000Z\", \"2016-04-09T19:13:00.000Z\", \"2016-04-09T19:13:15.000Z\", \"2016-04-09T19:13:30.000Z\", \"2016-04-09T19:13:45.000Z\", \"2016-04-09T19:14:00.000Z\", \"2016-04-09T19:14:15.000Z\", \"2016-04-09T19:14:30.000Z\", \"2016-04-09T19:14:45.000Z\", \"2016-04-09T19:15:00.000Z\", \"2016-04-09T19:15:15.000Z\", \"2016-04-09T19:15:30.000Z\", \"2016-04-09T19:15:45.000Z\", \"2016-04-09T19:16:00.000Z\", \"2016-04-09T19:16:15.000Z\", \"2016-04-09T19:16:30.000Z\", \"2016-04-09T19:16:46.000Z\", \"2016-04-09T19:17:00.000Z\", \"2016-04-09T19:17:15.000Z\", \"2016-04-09T19:17:30.000Z\", \"2016-04-09T19:17:46.000Z\", \"2016-04-09T19:18:01.000Z\", \"2016-04-09T19:18:16.000Z\", \"2016-04-09T19:18:31.000Z\", \"2016-04-09T19:18:46.000Z\", \"2016-04-09T19:19:01.000Z\", \"2016-04-09T19:19:16.000Z\", \"2016-04-09T19:19:31.000Z\", \"2016-04-09T19:19:46.000Z\", \"2016-04-09T19:20:01.000Z\", \"2016-04-09T19:20:16.000Z\", \"2016-04-09T19:20:31.000Z\", \"2016-04-09T19:20:46.000Z\", \"2016-04-09T19:21:01.000Z\", \"2016-04-09T19:21:16.000Z\", \"2016-04-09T19:21:31.000Z\", \"2016-04-09T19:21:46.000Z\", \"2016-04-09T19:22:01.000Z\", \"2016-04-09T19:22:16.000Z\", \"2016-04-09T19:22:31.000Z\", \"2016-04-09T19:22:46.000Z\", \"2016-04-09T19:23:01.000Z\", \"2016-04-09T19:23:16.000Z\", \"2016-04-09T19:23:31.000Z\", \"2016-04-09T19:23:46.000Z\", \"2016-04-09T19:24:01.000Z\", \"2016-04-09T19:24:16.000Z\", \"2016-04-09T19:24:31.000Z\", \"2016-04-09T19:24:46.000Z\", \"2016-04-09T19:25:01.000Z\", \"2016-04-09T19:25:16.000Z\", \"2016-04-09T19:25:31.000Z\", \"2016-04-09T19:25:46.000Z\", \"2016-04-09T19:26:01.000Z\", \"2016-04-09T19:26:16.000Z\", \"2016-04-09T19:26:31.000Z\", \"2016-04-09T19:26:46.000Z\", \"2016-04-09T19:27:01.000Z\", \"2016-04-09T19:27:16.000Z\", \"2016-04-09T19:27:31.000Z\", \"2016-04-09T19:27:46.000Z\", \"2016-04-09T19:28:01.000Z\", \"2016-04-09T19:28:16.000Z\", \"2016-04-09T19:28:31.000Z\", \"2016-04-09T19:28:46.000Z\", \"2016-04-09T19:29:01.000Z\", \"2016-04-09T19:29:16.000Z\", \"2016-04-09T19:29:31.000Z\", \"2016-04-09T19:29:46.000Z\", \"2016-04-09T19:30:01.000Z\", \"2016-04-09T19:30:16.000Z\", \"2016-04-09T19:30:31.000Z\", \"2016-04-09T19:30:46.000Z\", \"2016-04-09T19:31:01.000Z\", \"2016-04-09T19:31:16.000Z\", \"2016-04-09T19:31:31.000Z\", \"2016-04-09T19:31:46.000Z\", \"2016-04-09T19:32:01.000Z\", \"2016-04-09T19:32:16.000Z\", \"2016-04-09T19:32:31.000Z\", \"2016-04-09T19:32:46.000Z\", \"2016-04-09T19:33:01.000Z\", \"2016-04-09T19:33:16.000Z\", \"2016-04-09T19:33:31.000Z\", \"2016-04-09T19:33:46.000Z\", \"2016-04-09T19:34:01.000Z\", \"2016-04-09T19:34:16.000Z\", \"2016-04-09T19:34:31.000Z\", \"2016-04-09T19:34:46.000Z\", \"2016-04-09T19:35:01.000Z\", \"2016-04-09T19:35:16.000Z\", \"2016-04-09T19:35:31.000Z\", \"2016-04-09T19:35:46.000Z\", \"2016-04-09T19:36:01.000Z\", \"2016-04-09T19:36:17.000Z\", \"2016-04-09T19:36:32.000Z\", \"2016-04-09T19:36:47.000Z\", \"2016-04-09T19:37:02.000Z\", \"2016-04-09T19:37:17.000Z\", \"2016-04-09T19:37:32.000Z\", \"2016-04-09T19:37:47.000Z\", \"2016-04-09T19:38:02.000Z\", \"2016-04-09T19:38:17.000Z\", \"2016-04-09T19:38:32.000Z\", \"2016-04-09T19:38:47.000Z\", \"2016-04-09T19:39:02.000Z\", \"2016-04-09T19:39:17.000Z\", \"2016-04-09T19:39:32.000Z\", \"2016-04-09T19:39:47.000Z\", \"2016-04-09T19:40:02.000Z\", \"2016-04-09T19:40:17.000Z\", \"2016-04-09T19:40:32.000Z\", \"2016-04-09T19:40:47.000Z\", \"2016-04-09T19:41:02.000Z\", \"2016-04-09T19:41:17.000Z\", \"2016-04-09T19:41:32.000Z\", \"2016-04-09T19:41:47.000Z\", \"2016-04-09T19:42:02.000Z\", \"2016-04-09T19:42:17.000Z\", \"2016-04-09T19:42:32.000Z\", \"2016-04-09T19:42:47.000Z\", \"2016-04-09T19:43:02.000Z\", \"2016-04-09T19:43:17.000Z\", \"2016-04-09T19:43:32.000Z\", \"2016-04-09T19:43:47.000Z\", \"2016-04-09T19:44:02.000Z\", \"2016-04-09T19:44:17.000Z\", \"2016-04-09T19:44:32.000Z\", \"2016-04-09T19:44:47.000Z\", \"2016-04-09T19:45:02.000Z\", \"2016-04-09T19:45:17.000Z\", \"2016-04-09T19:45:32.000Z\", \"2016-04-09T19:45:47.000Z\", \"2016-04-09T19:46:02.000Z\", \"2016-04-09T19:46:17.000Z\", \"2016-04-09T19:46:32.000Z\", \"2016-04-09T19:46:47.000Z\", \"2016-04-09T19:47:02.000Z\", \"2016-04-09T19:47:17.000Z\", \"2016-04-09T19:47:32.000Z\", \"2016-04-09T19:47:47.000Z\", \"2016-04-09T19:48:02.000Z\", \"2016-04-09T19:48:17.000Z\", \"2016-04-09T19:48:32.000Z\", \"2016-04-09T19:48:47.000Z\", \"2016-04-09T19:49:02.000Z\", \"2016-04-09T19:49:17.000Z\", \"2016-04-09T19:49:32.000Z\", \"2016-04-09T19:49:47.000Z\", \"2016-04-09T19:50:02.000Z\"], \"line\": {\"color\": \"rgba(251, 193, 94, 1.0)\", \"width\": 1.3, \"dash\": \"solid\"}, \"type\": \"scatter\", \"fill\": \"tozeroy\"}, {\"name\": \"apache.performance.cpu_load_perc\", \"yaxis\": \"y6\", \"text\": \"\", \"fillcolor\": \"rgba(142, 186, 66, 0.3)\", \"mode\": \"lines\", \"xaxis\": \"x1\", \"y\": [0.196088, 0.196101, 0.195652, 0.195206, 0.195912, 0.195468, 0.195255, 0.19459, 0.195288, 0.194852, 0.194419, 0.194662, 0.194457, 0.194475, 0.19405, 0.193848, 0.193427, 0.193889, 0.19369, 0.193492, 0.193513, 0.193968, 0.193555, 0.193361, 0.19377, 0.193362, 0.193383, 0.192979, 0.193213, 0.193023, 0.193256, 0.193277, 0.19288, 0.193319, 0.193132, 0.193568, 0.193588, 0.193402, 0.193011, 0.192828, 0.193258, 0.193075, 0.1933, 0.192915, 0.193138, 0.192757, 0.192778, 0.1926, 0.192223, 0.192048, 0.192666, 0.19249, 0.192315, 0.192534, 0.192165, 0.191797, 0.19221, 0.191845, 0.191675, 0.191506, 0.191145, 0.191363, 0.191005, 0.191794, 0.191246, 0.191082, 0.191485, 0.191698, 0.191345, 0.191182, 0.190833, 0.190672, 0.190698, 0.190353, 0.190564, 0.190406, 0.190432, 0.190642, 0.190302, 0.190693, 0.190719, 0.190381, 0.190226, 0.190072, 0.190279, 0.190126, 0.190331, 0.190179, 0.190205, 0.190586, 0.190257, 0.190106, 0.190132, 0.190158, 0.189833, 0.190035, 0.190584, 0.190087, 0.189733, 0.18976, 0.189786, 0.18964, 0.189495, 0.18918, 0.189378, 0.189235, 0.189093, 0.18929, 0.188979, 0.188501, 0.188866, 0.188727, 0.188755, 0.188449, 0.189144, 0.188839, 0.188701, 0.188564, 0.188592, 0.188456, 0.18832, 0.18884, 0.188541, 0.188406, 0.188434, 0.188624, 0.188328, 0.188357, 0.188707, 0.188252, 0.18812, 0.188309, 0.188018, 0.188046, 0.187758, 0.187629, 0.187973, 0.187844, 0.18803, 0.187588, 0.187305, 0.187646, 0.187675, 0.187549, 0.187577, 0.187761, 0.187635, 0.18751, 0.187692, 0.187567, 0.187137, 0.186862, 0.187652, 0.187225, 0.186951, 0.186679, 0.18686, 0.186739, 0.187219, 0.186948, 0.187127, 0.186857, 0.186738, 0.186471, 0.186501, 0.186974, 0.186561, 0.186296, 0.186326, 0.18621, 0.185948, 0.185687, 0.185864, 0.185868, 0.185898, 0.185496, 0.185383, 0.185558, 0.185733, 0.185477, 0.185651, 0.185396, 0.185855, 0.185601, 0.185631, 0.185945, 0.185692, 0.185582, 0.185612, 0.185502, 0.185672, 0.185702, 0.185732, 0.185484, 0.185237, 0.185129, 0.185436, 0.185328, 0.185083, 0.185251, 0.185145, 0.184902, 0.185205, 0.185372, 0.185266, 0.184889, 0.185461, 0.18522, 0.18552, 0.18528, 0.184907, 0.184803, 0.1847, 0.185398, 0.185161, 0.184924, 0.184689, 0.184454, 0.184353, 0.185307, 0.185073, 0.185234, 0.185001, 0.184768, 0.184537, 0.184828, 0.184727, 0.184498, 0.184398, 0.18417, 0.184458, 0.184231, 0.18439, 0.18442, 0.184194, 0.183968, 0.184254, 0.184412, 0.184314], \"x\": [\"2016-04-09T18:50:29.000Z\", \"2016-04-09T18:50:44.000Z\", \"2016-04-09T18:50:59.000Z\", \"2016-04-09T18:51:14.000Z\", \"2016-04-09T18:51:29.000Z\", \"2016-04-09T18:51:44.000Z\", \"2016-04-09T18:51:59.000Z\", \"2016-04-09T18:52:14.000Z\", \"2016-04-09T18:52:29.000Z\", \"2016-04-09T18:52:44.000Z\", \"2016-04-09T18:52:59.000Z\", \"2016-04-09T18:53:14.000Z\", \"2016-04-09T18:53:29.000Z\", \"2016-04-09T18:53:44.000Z\", \"2016-04-09T18:53:59.000Z\", \"2016-04-09T18:54:14.000Z\", \"2016-04-09T18:54:29.000Z\", \"2016-04-09T18:54:44.000Z\", \"2016-04-09T18:54:59.000Z\", \"2016-04-09T18:55:14.000Z\", \"2016-04-09T18:55:29.000Z\", \"2016-04-09T18:55:44.000Z\", \"2016-04-09T18:55:59.000Z\", \"2016-04-09T18:56:14.000Z\", \"2016-04-09T18:56:29.000Z\", \"2016-04-09T18:56:44.000Z\", \"2016-04-09T18:56:59.000Z\", \"2016-04-09T18:57:14.000Z\", \"2016-04-09T18:57:29.000Z\", \"2016-04-09T18:57:44.000Z\", \"2016-04-09T18:57:59.000Z\", \"2016-04-09T18:58:14.000Z\", \"2016-04-09T18:58:29.000Z\", \"2016-04-09T18:58:44.000Z\", \"2016-04-09T18:58:59.000Z\", \"2016-04-09T18:59:15.000Z\", \"2016-04-09T18:59:30.000Z\", \"2016-04-09T18:59:45.000Z\", \"2016-04-09T19:00:00.000Z\", \"2016-04-09T19:00:15.000Z\", \"2016-04-09T19:00:30.000Z\", \"2016-04-09T19:00:45.000Z\", \"2016-04-09T19:01:00.000Z\", \"2016-04-09T19:01:15.000Z\", \"2016-04-09T19:01:30.000Z\", \"2016-04-09T19:01:45.000Z\", \"2016-04-09T19:02:00.000Z\", \"2016-04-09T19:02:15.000Z\", \"2016-04-09T19:02:30.000Z\", \"2016-04-09T19:02:45.000Z\", \"2016-04-09T19:03:00.000Z\", \"2016-04-09T19:03:15.000Z\", \"2016-04-09T19:03:30.000Z\", \"2016-04-09T19:03:45.000Z\", \"2016-04-09T19:04:00.000Z\", \"2016-04-09T19:04:15.000Z\", \"2016-04-09T19:04:30.000Z\", \"2016-04-09T19:04:45.000Z\", \"2016-04-09T19:05:00.000Z\", \"2016-04-09T19:05:15.000Z\", \"2016-04-09T19:05:30.000Z\", \"2016-04-09T19:05:45.000Z\", \"2016-04-09T19:06:00.000Z\", \"2016-04-09T19:06:15.000Z\", \"2016-04-09T19:06:30.000Z\", \"2016-04-09T19:06:45.000Z\", \"2016-04-09T19:07:00.000Z\", \"2016-04-09T19:07:15.000Z\", \"2016-04-09T19:07:30.000Z\", \"2016-04-09T19:07:45.000Z\", \"2016-04-09T19:08:00.000Z\", \"2016-04-09T19:08:15.000Z\", \"2016-04-09T19:08:30.000Z\", \"2016-04-09T19:08:45.000Z\", \"2016-04-09T19:09:00.000Z\", \"2016-04-09T19:09:15.000Z\", \"2016-04-09T19:09:30.000Z\", \"2016-04-09T19:09:45.000Z\", \"2016-04-09T19:10:00.000Z\", \"2016-04-09T19:10:15.000Z\", \"2016-04-09T19:10:30.000Z\", \"2016-04-09T19:10:45.000Z\", \"2016-04-09T19:11:00.000Z\", \"2016-04-09T19:11:15.000Z\", \"2016-04-09T19:11:30.000Z\", \"2016-04-09T19:11:45.000Z\", \"2016-04-09T19:12:00.000Z\", \"2016-04-09T19:12:15.000Z\", \"2016-04-09T19:12:30.000Z\", \"2016-04-09T19:12:45.000Z\", \"2016-04-09T19:13:00.000Z\", \"2016-04-09T19:13:15.000Z\", \"2016-04-09T19:13:30.000Z\", \"2016-04-09T19:13:45.000Z\", \"2016-04-09T19:14:00.000Z\", \"2016-04-09T19:14:15.000Z\", \"2016-04-09T19:14:30.000Z\", \"2016-04-09T19:14:45.000Z\", \"2016-04-09T19:15:00.000Z\", \"2016-04-09T19:15:15.000Z\", \"2016-04-09T19:15:30.000Z\", \"2016-04-09T19:15:45.000Z\", \"2016-04-09T19:16:00.000Z\", \"2016-04-09T19:16:15.000Z\", \"2016-04-09T19:16:30.000Z\", \"2016-04-09T19:16:46.000Z\", \"2016-04-09T19:17:00.000Z\", \"2016-04-09T19:17:15.000Z\", \"2016-04-09T19:17:30.000Z\", \"2016-04-09T19:17:46.000Z\", \"2016-04-09T19:18:01.000Z\", \"2016-04-09T19:18:16.000Z\", \"2016-04-09T19:18:31.000Z\", \"2016-04-09T19:18:46.000Z\", \"2016-04-09T19:19:01.000Z\", \"2016-04-09T19:19:16.000Z\", \"2016-04-09T19:19:31.000Z\", \"2016-04-09T19:19:46.000Z\", \"2016-04-09T19:20:01.000Z\", \"2016-04-09T19:20:16.000Z\", \"2016-04-09T19:20:31.000Z\", \"2016-04-09T19:20:46.000Z\", \"2016-04-09T19:21:01.000Z\", \"2016-04-09T19:21:16.000Z\", \"2016-04-09T19:21:31.000Z\", \"2016-04-09T19:21:46.000Z\", \"2016-04-09T19:22:01.000Z\", \"2016-04-09T19:22:16.000Z\", \"2016-04-09T19:22:31.000Z\", \"2016-04-09T19:22:46.000Z\", \"2016-04-09T19:23:01.000Z\", \"2016-04-09T19:23:16.000Z\", \"2016-04-09T19:23:31.000Z\", \"2016-04-09T19:23:46.000Z\", \"2016-04-09T19:24:01.000Z\", \"2016-04-09T19:24:16.000Z\", \"2016-04-09T19:24:31.000Z\", \"2016-04-09T19:24:46.000Z\", \"2016-04-09T19:25:01.000Z\", \"2016-04-09T19:25:16.000Z\", \"2016-04-09T19:25:31.000Z\", \"2016-04-09T19:25:46.000Z\", \"2016-04-09T19:26:01.000Z\", \"2016-04-09T19:26:16.000Z\", \"2016-04-09T19:26:31.000Z\", \"2016-04-09T19:26:46.000Z\", \"2016-04-09T19:27:01.000Z\", \"2016-04-09T19:27:16.000Z\", \"2016-04-09T19:27:31.000Z\", \"2016-04-09T19:27:46.000Z\", \"2016-04-09T19:28:01.000Z\", \"2016-04-09T19:28:16.000Z\", \"2016-04-09T19:28:31.000Z\", \"2016-04-09T19:28:46.000Z\", \"2016-04-09T19:29:01.000Z\", \"2016-04-09T19:29:16.000Z\", \"2016-04-09T19:29:31.000Z\", \"2016-04-09T19:29:46.000Z\", \"2016-04-09T19:30:01.000Z\", \"2016-04-09T19:30:16.000Z\", \"2016-04-09T19:30:31.000Z\", \"2016-04-09T19:30:46.000Z\", \"2016-04-09T19:31:01.000Z\", \"2016-04-09T19:31:16.000Z\", \"2016-04-09T19:31:31.000Z\", \"2016-04-09T19:31:46.000Z\", \"2016-04-09T19:32:01.000Z\", \"2016-04-09T19:32:16.000Z\", \"2016-04-09T19:32:31.000Z\", \"2016-04-09T19:32:46.000Z\", \"2016-04-09T19:33:01.000Z\", \"2016-04-09T19:33:16.000Z\", \"2016-04-09T19:33:31.000Z\", \"2016-04-09T19:33:46.000Z\", \"2016-04-09T19:34:01.000Z\", \"2016-04-09T19:34:16.000Z\", \"2016-04-09T19:34:31.000Z\", \"2016-04-09T19:34:46.000Z\", \"2016-04-09T19:35:01.000Z\", \"2016-04-09T19:35:16.000Z\", \"2016-04-09T19:35:31.000Z\", \"2016-04-09T19:35:46.000Z\", \"2016-04-09T19:36:01.000Z\", \"2016-04-09T19:36:17.000Z\", \"2016-04-09T19:36:32.000Z\", \"2016-04-09T19:36:47.000Z\", \"2016-04-09T19:37:02.000Z\", \"2016-04-09T19:37:17.000Z\", \"2016-04-09T19:37:32.000Z\", \"2016-04-09T19:37:47.000Z\", \"2016-04-09T19:38:02.000Z\", \"2016-04-09T19:38:17.000Z\", \"2016-04-09T19:38:32.000Z\", \"2016-04-09T19:38:47.000Z\", \"2016-04-09T19:39:02.000Z\", \"2016-04-09T19:39:17.000Z\", \"2016-04-09T19:39:32.000Z\", \"2016-04-09T19:39:47.000Z\", \"2016-04-09T19:40:02.000Z\", \"2016-04-09T19:40:17.000Z\", \"2016-04-09T19:40:32.000Z\", \"2016-04-09T19:40:47.000Z\", \"2016-04-09T19:41:02.000Z\", \"2016-04-09T19:41:17.000Z\", \"2016-04-09T19:41:32.000Z\", \"2016-04-09T19:41:47.000Z\", \"2016-04-09T19:42:02.000Z\", \"2016-04-09T19:42:17.000Z\", \"2016-04-09T19:42:32.000Z\", \"2016-04-09T19:42:47.000Z\", \"2016-04-09T19:43:02.000Z\", \"2016-04-09T19:43:17.000Z\", \"2016-04-09T19:43:32.000Z\", \"2016-04-09T19:43:47.000Z\", \"2016-04-09T19:44:02.000Z\", \"2016-04-09T19:44:17.000Z\", \"2016-04-09T19:44:32.000Z\", \"2016-04-09T19:44:47.000Z\", \"2016-04-09T19:45:02.000Z\", \"2016-04-09T19:45:17.000Z\", \"2016-04-09T19:45:32.000Z\", \"2016-04-09T19:45:47.000Z\", \"2016-04-09T19:46:02.000Z\", \"2016-04-09T19:46:17.000Z\", \"2016-04-09T19:46:32.000Z\", \"2016-04-09T19:46:47.000Z\", \"2016-04-09T19:47:02.000Z\", \"2016-04-09T19:47:17.000Z\", \"2016-04-09T19:47:32.000Z\", \"2016-04-09T19:47:47.000Z\", \"2016-04-09T19:48:02.000Z\", \"2016-04-09T19:48:17.000Z\", \"2016-04-09T19:48:32.000Z\", \"2016-04-09T19:48:47.000Z\", \"2016-04-09T19:49:02.000Z\", \"2016-04-09T19:49:17.000Z\", \"2016-04-09T19:49:32.000Z\", \"2016-04-09T19:49:47.000Z\", \"2016-04-09T19:50:02.000Z\"], \"line\": {\"color\": \"rgba(142, 186, 66, 1.0)\", \"width\": 1.3, \"dash\": \"solid\"}, \"type\": \"scatter\", \"fill\": \"tozeroy\"}, {\"name\": \"apache.performance.idle_worker_count\", \"yaxis\": \"y7\", \"text\": \"\", \"fillcolor\": \"rgba(255, 181, 184, 0.3)\", \"mode\": \"lines\", \"xaxis\": \"x1\", \"y\": [49, 49, 49, 49, 49, 49, 49, 49, 49, 49, 49, 49, 49, 49, 49, 49, 49, 49, 49, 49, 49, 49, 49, 49, 49, 49, 49, 49, 49, 49, 49, 49, 49, 49, 49, 49, 49, 49, 49, 49, 49, 49, 49, 49, 49, 49, 49, 49, 49, 49, 49, 49, 49, 49, 49, 49, 49, 49, 49, 49, 49, 49, 49, 49, 49, 49, 49, 49, 49, 49, 49, 49, 49, 49, 49, 49, 49, 49, 49, 49, 49, 49, 49, 49, 49, 49, 49, 49, 49, 49, 49, 49, 49, 49, 49, 49, 49, 49, 49, 49, 49, 49, 49, 49, 49, 49, 49, 49, 49, 49, 49, 49, 49, 49, 49, 49, 49, 49, 49, 49, 49, 49, 49, 49, 49, 49, 49, 49, 49, 49, 49, 49, 49, 49, 49, 49, 49, 49, 49, 49, 49, 49, 49, 49, 49, 49, 49, 49, 49, 49, 49, 49, 49, 49, 49, 49, 49, 49, 49, 49, 49, 49, 49, 49, 49, 49, 49, 49, 49, 49, 49, 49, 49, 49, 49, 49, 49, 49, 49, 49, 49, 49, 49, 49, 49, 49, 49, 49, 49, 49, 49, 49, 49, 49, 49, 49, 49, 49, 49, 49, 49, 49, 49, 49, 49, 49, 49, 49, 49, 49, 49, 49, 49, 49, 49, 49, 49, 49, 49, 49, 49, 49, 49, 49, 49, 49, 49, 49, 49, 49, 49, 49, 49, 49, 49, 49, 49, 49, 49], \"x\": [\"2016-04-09T18:50:29.000Z\", \"2016-04-09T18:50:44.000Z\", \"2016-04-09T18:50:59.000Z\", \"2016-04-09T18:51:14.000Z\", \"2016-04-09T18:51:29.000Z\", \"2016-04-09T18:51:44.000Z\", \"2016-04-09T18:51:59.000Z\", \"2016-04-09T18:52:14.000Z\", \"2016-04-09T18:52:29.000Z\", \"2016-04-09T18:52:44.000Z\", \"2016-04-09T18:52:59.000Z\", \"2016-04-09T18:53:14.000Z\", \"2016-04-09T18:53:29.000Z\", \"2016-04-09T18:53:44.000Z\", \"2016-04-09T18:53:59.000Z\", \"2016-04-09T18:54:14.000Z\", \"2016-04-09T18:54:29.000Z\", \"2016-04-09T18:54:44.000Z\", \"2016-04-09T18:54:59.000Z\", \"2016-04-09T18:55:14.000Z\", \"2016-04-09T18:55:29.000Z\", \"2016-04-09T18:55:44.000Z\", \"2016-04-09T18:55:59.000Z\", \"2016-04-09T18:56:14.000Z\", \"2016-04-09T18:56:29.000Z\", \"2016-04-09T18:56:44.000Z\", \"2016-04-09T18:56:59.000Z\", \"2016-04-09T18:57:14.000Z\", \"2016-04-09T18:57:29.000Z\", \"2016-04-09T18:57:44.000Z\", \"2016-04-09T18:57:59.000Z\", \"2016-04-09T18:58:14.000Z\", \"2016-04-09T18:58:29.000Z\", \"2016-04-09T18:58:44.000Z\", \"2016-04-09T18:58:59.000Z\", \"2016-04-09T18:59:15.000Z\", \"2016-04-09T18:59:30.000Z\", \"2016-04-09T18:59:45.000Z\", \"2016-04-09T19:00:00.000Z\", \"2016-04-09T19:00:15.000Z\", \"2016-04-09T19:00:30.000Z\", \"2016-04-09T19:00:45.000Z\", \"2016-04-09T19:01:00.000Z\", \"2016-04-09T19:01:15.000Z\", \"2016-04-09T19:01:30.000Z\", \"2016-04-09T19:01:45.000Z\", \"2016-04-09T19:02:00.000Z\", \"2016-04-09T19:02:15.000Z\", \"2016-04-09T19:02:30.000Z\", \"2016-04-09T19:02:45.000Z\", \"2016-04-09T19:03:00.000Z\", \"2016-04-09T19:03:15.000Z\", \"2016-04-09T19:03:30.000Z\", \"2016-04-09T19:03:45.000Z\", \"2016-04-09T19:04:00.000Z\", \"2016-04-09T19:04:15.000Z\", \"2016-04-09T19:04:30.000Z\", \"2016-04-09T19:04:45.000Z\", \"2016-04-09T19:05:00.000Z\", \"2016-04-09T19:05:15.000Z\", \"2016-04-09T19:05:30.000Z\", \"2016-04-09T19:05:45.000Z\", \"2016-04-09T19:06:00.000Z\", \"2016-04-09T19:06:15.000Z\", \"2016-04-09T19:06:30.000Z\", \"2016-04-09T19:06:45.000Z\", \"2016-04-09T19:07:00.000Z\", \"2016-04-09T19:07:15.000Z\", \"2016-04-09T19:07:30.000Z\", \"2016-04-09T19:07:45.000Z\", \"2016-04-09T19:08:00.000Z\", \"2016-04-09T19:08:15.000Z\", \"2016-04-09T19:08:30.000Z\", \"2016-04-09T19:08:45.000Z\", \"2016-04-09T19:09:00.000Z\", \"2016-04-09T19:09:15.000Z\", \"2016-04-09T19:09:30.000Z\", \"2016-04-09T19:09:45.000Z\", \"2016-04-09T19:10:00.000Z\", \"2016-04-09T19:10:15.000Z\", \"2016-04-09T19:10:30.000Z\", \"2016-04-09T19:10:45.000Z\", \"2016-04-09T19:11:00.000Z\", \"2016-04-09T19:11:15.000Z\", \"2016-04-09T19:11:30.000Z\", \"2016-04-09T19:11:45.000Z\", \"2016-04-09T19:12:00.000Z\", \"2016-04-09T19:12:15.000Z\", \"2016-04-09T19:12:30.000Z\", \"2016-04-09T19:12:45.000Z\", \"2016-04-09T19:13:00.000Z\", \"2016-04-09T19:13:15.000Z\", \"2016-04-09T19:13:30.000Z\", \"2016-04-09T19:13:45.000Z\", \"2016-04-09T19:14:00.000Z\", \"2016-04-09T19:14:15.000Z\", \"2016-04-09T19:14:30.000Z\", \"2016-04-09T19:14:45.000Z\", \"2016-04-09T19:15:00.000Z\", \"2016-04-09T19:15:15.000Z\", \"2016-04-09T19:15:30.000Z\", \"2016-04-09T19:15:45.000Z\", \"2016-04-09T19:16:00.000Z\", \"2016-04-09T19:16:15.000Z\", \"2016-04-09T19:16:30.000Z\", \"2016-04-09T19:16:46.000Z\", \"2016-04-09T19:17:00.000Z\", \"2016-04-09T19:17:15.000Z\", \"2016-04-09T19:17:30.000Z\", \"2016-04-09T19:17:46.000Z\", \"2016-04-09T19:18:01.000Z\", \"2016-04-09T19:18:16.000Z\", \"2016-04-09T19:18:31.000Z\", \"2016-04-09T19:18:46.000Z\", \"2016-04-09T19:19:01.000Z\", \"2016-04-09T19:19:16.000Z\", \"2016-04-09T19:19:31.000Z\", \"2016-04-09T19:19:46.000Z\", \"2016-04-09T19:20:01.000Z\", \"2016-04-09T19:20:16.000Z\", \"2016-04-09T19:20:31.000Z\", \"2016-04-09T19:20:46.000Z\", \"2016-04-09T19:21:01.000Z\", \"2016-04-09T19:21:16.000Z\", \"2016-04-09T19:21:31.000Z\", \"2016-04-09T19:21:46.000Z\", \"2016-04-09T19:22:01.000Z\", \"2016-04-09T19:22:16.000Z\", \"2016-04-09T19:22:31.000Z\", \"2016-04-09T19:22:46.000Z\", \"2016-04-09T19:23:01.000Z\", \"2016-04-09T19:23:16.000Z\", \"2016-04-09T19:23:31.000Z\", \"2016-04-09T19:23:46.000Z\", \"2016-04-09T19:24:01.000Z\", \"2016-04-09T19:24:16.000Z\", \"2016-04-09T19:24:31.000Z\", \"2016-04-09T19:24:46.000Z\", \"2016-04-09T19:25:01.000Z\", \"2016-04-09T19:25:16.000Z\", \"2016-04-09T19:25:31.000Z\", \"2016-04-09T19:25:46.000Z\", \"2016-04-09T19:26:01.000Z\", \"2016-04-09T19:26:16.000Z\", \"2016-04-09T19:26:31.000Z\", \"2016-04-09T19:26:46.000Z\", \"2016-04-09T19:27:01.000Z\", \"2016-04-09T19:27:16.000Z\", \"2016-04-09T19:27:31.000Z\", \"2016-04-09T19:27:46.000Z\", \"2016-04-09T19:28:01.000Z\", \"2016-04-09T19:28:16.000Z\", \"2016-04-09T19:28:31.000Z\", \"2016-04-09T19:28:46.000Z\", \"2016-04-09T19:29:01.000Z\", \"2016-04-09T19:29:16.000Z\", \"2016-04-09T19:29:31.000Z\", \"2016-04-09T19:29:46.000Z\", \"2016-04-09T19:30:01.000Z\", \"2016-04-09T19:30:16.000Z\", \"2016-04-09T19:30:31.000Z\", \"2016-04-09T19:30:46.000Z\", \"2016-04-09T19:31:01.000Z\", \"2016-04-09T19:31:16.000Z\", \"2016-04-09T19:31:31.000Z\", \"2016-04-09T19:31:46.000Z\", \"2016-04-09T19:32:01.000Z\", \"2016-04-09T19:32:16.000Z\", \"2016-04-09T19:32:31.000Z\", \"2016-04-09T19:32:46.000Z\", \"2016-04-09T19:33:01.000Z\", \"2016-04-09T19:33:16.000Z\", \"2016-04-09T19:33:31.000Z\", \"2016-04-09T19:33:46.000Z\", \"2016-04-09T19:34:01.000Z\", \"2016-04-09T19:34:16.000Z\", \"2016-04-09T19:34:31.000Z\", \"2016-04-09T19:34:46.000Z\", \"2016-04-09T19:35:01.000Z\", \"2016-04-09T19:35:16.000Z\", \"2016-04-09T19:35:31.000Z\", \"2016-04-09T19:35:46.000Z\", \"2016-04-09T19:36:01.000Z\", \"2016-04-09T19:36:17.000Z\", \"2016-04-09T19:36:32.000Z\", \"2016-04-09T19:36:47.000Z\", \"2016-04-09T19:37:02.000Z\", \"2016-04-09T19:37:17.000Z\", \"2016-04-09T19:37:32.000Z\", \"2016-04-09T19:37:47.000Z\", \"2016-04-09T19:38:02.000Z\", \"2016-04-09T19:38:17.000Z\", \"2016-04-09T19:38:32.000Z\", \"2016-04-09T19:38:47.000Z\", \"2016-04-09T19:39:02.000Z\", \"2016-04-09T19:39:17.000Z\", \"2016-04-09T19:39:32.000Z\", \"2016-04-09T19:39:47.000Z\", \"2016-04-09T19:40:02.000Z\", \"2016-04-09T19:40:17.000Z\", \"2016-04-09T19:40:32.000Z\", \"2016-04-09T19:40:47.000Z\", \"2016-04-09T19:41:02.000Z\", \"2016-04-09T19:41:17.000Z\", \"2016-04-09T19:41:32.000Z\", \"2016-04-09T19:41:47.000Z\", \"2016-04-09T19:42:02.000Z\", \"2016-04-09T19:42:17.000Z\", \"2016-04-09T19:42:32.000Z\", \"2016-04-09T19:42:47.000Z\", \"2016-04-09T19:43:02.000Z\", \"2016-04-09T19:43:17.000Z\", \"2016-04-09T19:43:32.000Z\", \"2016-04-09T19:43:47.000Z\", \"2016-04-09T19:44:02.000Z\", \"2016-04-09T19:44:17.000Z\", \"2016-04-09T19:44:32.000Z\", \"2016-04-09T19:44:47.000Z\", \"2016-04-09T19:45:02.000Z\", \"2016-04-09T19:45:17.000Z\", \"2016-04-09T19:45:32.000Z\", \"2016-04-09T19:45:47.000Z\", \"2016-04-09T19:46:02.000Z\", \"2016-04-09T19:46:17.000Z\", \"2016-04-09T19:46:32.000Z\", \"2016-04-09T19:46:47.000Z\", \"2016-04-09T19:47:02.000Z\", \"2016-04-09T19:47:17.000Z\", \"2016-04-09T19:47:32.000Z\", \"2016-04-09T19:47:47.000Z\", \"2016-04-09T19:48:02.000Z\", \"2016-04-09T19:48:17.000Z\", \"2016-04-09T19:48:32.000Z\", \"2016-04-09T19:48:47.000Z\", \"2016-04-09T19:49:02.000Z\", \"2016-04-09T19:49:17.000Z\", \"2016-04-09T19:49:32.000Z\", \"2016-04-09T19:49:47.000Z\", \"2016-04-09T19:50:02.000Z\"], \"line\": {\"color\": \"rgba(255, 181, 184, 1.0)\", \"width\": 1.3, \"dash\": \"solid\"}, \"type\": \"scatter\", \"fill\": \"tozeroy\"}, {\"name\": \"apache.status\", \"yaxis\": \"y8\", \"text\": \"\", \"fillcolor\": \"rgba(255, 181, 184, 0.3)\", \"mode\": \"lines\", \"xaxis\": \"x1\", \"y\": [0, 0, 0, 0, 0, 0, 0, 0, 0, 0, 0, 0, 0, 0, 0, 0, 0, 0, 0, 0, 0, 0, 0, 0, 0, 0, 0, 0, 0, 0, 0, 0, 0, 0, 0, 0, 0, 0, 0, 0, 0, 0, 0, 0, 0, 0, 0, 0, 0, 0, 0, 0, 0, 0, 0, 0, 0, 0, 0, 0, 0, 0, 0, 0, 0, 0, 0, 0, 0, 0, 0, 0, 0, 0, 0, 0, 0, 0, 0, 0, 0, 0, 0, 0, 0, 0, 0, 0, 0, 0, 0, 0, 0, 0, 0, 0, 0, 0, 0, 0, 0, 0, 0, 0, 0, 0, 0, 0, 0, 0, 0, 0, 0, 0, 0, 0, 0, 0, 0, 0, 0, 0, 0, 0, 0, 0, 0, 0, 0, 0, 0, 0, 0, 0, 0, 0, 0, 0, 0, 0, 0, 0, 0, 0, 0, 0, 0, 0, 0, 0, 0, 0, 0, 0, 0, 0, 0, 0, 0, 0, 0, 0, 0, 0, 0, 0, 0, 0, 0, 0, 0, 0, 0, 0, 0, 0, 0, 0, 0, 0, 0, 0, 0, 0, 0, 0, 0, 0, 0, 0, 0, 0, 0, 0, 0, 0, 0, 0, 0, 0, 0, 0, 0, 0, 0, 0, 0, 0, 0, 0, 0, 0, 0, 0, 0, 0, 0, 0, 0, 0, 0, 0, 0, 0, 0, 0, 0, 0, 0, 0, 0, 0, 0, 0, 0, 0, 0, 0, 0], \"x\": [\"2016-04-09T18:50:29.000Z\", \"2016-04-09T18:50:44.000Z\", \"2016-04-09T18:50:59.000Z\", \"2016-04-09T18:51:14.000Z\", \"2016-04-09T18:51:29.000Z\", \"2016-04-09T18:51:44.000Z\", \"2016-04-09T18:51:59.000Z\", \"2016-04-09T18:52:14.000Z\", \"2016-04-09T18:52:29.000Z\", \"2016-04-09T18:52:44.000Z\", \"2016-04-09T18:52:59.000Z\", \"2016-04-09T18:53:14.000Z\", \"2016-04-09T18:53:29.000Z\", \"2016-04-09T18:53:44.000Z\", \"2016-04-09T18:53:59.000Z\", \"2016-04-09T18:54:14.000Z\", \"2016-04-09T18:54:29.000Z\", \"2016-04-09T18:54:44.000Z\", \"2016-04-09T18:54:59.000Z\", \"2016-04-09T18:55:14.000Z\", \"2016-04-09T18:55:29.000Z\", \"2016-04-09T18:55:44.000Z\", \"2016-04-09T18:55:59.000Z\", \"2016-04-09T18:56:14.000Z\", \"2016-04-09T18:56:29.000Z\", \"2016-04-09T18:56:44.000Z\", \"2016-04-09T18:56:59.000Z\", \"2016-04-09T18:57:14.000Z\", \"2016-04-09T18:57:29.000Z\", \"2016-04-09T18:57:44.000Z\", \"2016-04-09T18:57:59.000Z\", \"2016-04-09T18:58:14.000Z\", \"2016-04-09T18:58:29.000Z\", \"2016-04-09T18:58:44.000Z\", \"2016-04-09T18:58:59.000Z\", \"2016-04-09T18:59:15.000Z\", \"2016-04-09T18:59:30.000Z\", \"2016-04-09T18:59:45.000Z\", \"2016-04-09T19:00:00.000Z\", \"2016-04-09T19:00:15.000Z\", \"2016-04-09T19:00:30.000Z\", \"2016-04-09T19:00:45.000Z\", \"2016-04-09T19:01:00.000Z\", \"2016-04-09T19:01:15.000Z\", \"2016-04-09T19:01:30.000Z\", \"2016-04-09T19:01:45.000Z\", \"2016-04-09T19:02:00.000Z\", \"2016-04-09T19:02:15.000Z\", \"2016-04-09T19:02:30.000Z\", \"2016-04-09T19:02:45.000Z\", \"2016-04-09T19:03:00.000Z\", \"2016-04-09T19:03:15.000Z\", \"2016-04-09T19:03:30.000Z\", \"2016-04-09T19:03:45.000Z\", \"2016-04-09T19:04:00.000Z\", \"2016-04-09T19:04:15.000Z\", \"2016-04-09T19:04:30.000Z\", \"2016-04-09T19:04:45.000Z\", \"2016-04-09T19:05:00.000Z\", \"2016-04-09T19:05:15.000Z\", \"2016-04-09T19:05:30.000Z\", \"2016-04-09T19:05:45.000Z\", \"2016-04-09T19:06:00.000Z\", \"2016-04-09T19:06:15.000Z\", \"2016-04-09T19:06:30.000Z\", \"2016-04-09T19:06:45.000Z\", \"2016-04-09T19:07:00.000Z\", \"2016-04-09T19:07:15.000Z\", \"2016-04-09T19:07:30.000Z\", \"2016-04-09T19:07:45.000Z\", \"2016-04-09T19:08:00.000Z\", \"2016-04-09T19:08:15.000Z\", \"2016-04-09T19:08:30.000Z\", \"2016-04-09T19:08:45.000Z\", \"2016-04-09T19:09:00.000Z\", \"2016-04-09T19:09:15.000Z\", \"2016-04-09T19:09:30.000Z\", \"2016-04-09T19:09:45.000Z\", \"2016-04-09T19:10:00.000Z\", \"2016-04-09T19:10:15.000Z\", \"2016-04-09T19:10:30.000Z\", \"2016-04-09T19:10:45.000Z\", \"2016-04-09T19:11:00.000Z\", \"2016-04-09T19:11:15.000Z\", \"2016-04-09T19:11:30.000Z\", \"2016-04-09T19:11:45.000Z\", \"2016-04-09T19:12:00.000Z\", \"2016-04-09T19:12:15.000Z\", \"2016-04-09T19:12:30.000Z\", \"2016-04-09T19:12:45.000Z\", \"2016-04-09T19:13:00.000Z\", \"2016-04-09T19:13:15.000Z\", \"2016-04-09T19:13:30.000Z\", \"2016-04-09T19:13:45.000Z\", \"2016-04-09T19:14:00.000Z\", \"2016-04-09T19:14:15.000Z\", \"2016-04-09T19:14:30.000Z\", \"2016-04-09T19:14:45.000Z\", \"2016-04-09T19:15:00.000Z\", \"2016-04-09T19:15:15.000Z\", \"2016-04-09T19:15:30.000Z\", \"2016-04-09T19:15:45.000Z\", \"2016-04-09T19:16:00.000Z\", \"2016-04-09T19:16:15.000Z\", \"2016-04-09T19:16:30.000Z\", \"2016-04-09T19:16:46.000Z\", \"2016-04-09T19:17:00.000Z\", \"2016-04-09T19:17:15.000Z\", \"2016-04-09T19:17:30.000Z\", \"2016-04-09T19:17:46.000Z\", \"2016-04-09T19:18:01.000Z\", \"2016-04-09T19:18:16.000Z\", \"2016-04-09T19:18:31.000Z\", \"2016-04-09T19:18:46.000Z\", \"2016-04-09T19:19:01.000Z\", \"2016-04-09T19:19:16.000Z\", \"2016-04-09T19:19:31.000Z\", \"2016-04-09T19:19:46.000Z\", \"2016-04-09T19:20:01.000Z\", \"2016-04-09T19:20:16.000Z\", \"2016-04-09T19:20:31.000Z\", \"2016-04-09T19:20:46.000Z\", \"2016-04-09T19:21:01.000Z\", \"2016-04-09T19:21:16.000Z\", \"2016-04-09T19:21:31.000Z\", \"2016-04-09T19:21:46.000Z\", \"2016-04-09T19:22:01.000Z\", \"2016-04-09T19:22:16.000Z\", \"2016-04-09T19:22:31.000Z\", \"2016-04-09T19:22:46.000Z\", \"2016-04-09T19:23:01.000Z\", \"2016-04-09T19:23:16.000Z\", \"2016-04-09T19:23:31.000Z\", \"2016-04-09T19:23:46.000Z\", \"2016-04-09T19:24:01.000Z\", \"2016-04-09T19:24:16.000Z\", \"2016-04-09T19:24:31.000Z\", \"2016-04-09T19:24:46.000Z\", \"2016-04-09T19:25:01.000Z\", \"2016-04-09T19:25:16.000Z\", \"2016-04-09T19:25:31.000Z\", \"2016-04-09T19:25:46.000Z\", \"2016-04-09T19:26:01.000Z\", \"2016-04-09T19:26:16.000Z\", \"2016-04-09T19:26:31.000Z\", \"2016-04-09T19:26:46.000Z\", \"2016-04-09T19:27:01.000Z\", \"2016-04-09T19:27:16.000Z\", \"2016-04-09T19:27:31.000Z\", \"2016-04-09T19:27:46.000Z\", \"2016-04-09T19:28:01.000Z\", \"2016-04-09T19:28:16.000Z\", \"2016-04-09T19:28:31.000Z\", \"2016-04-09T19:28:46.000Z\", \"2016-04-09T19:29:01.000Z\", \"2016-04-09T19:29:16.000Z\", \"2016-04-09T19:29:31.000Z\", \"2016-04-09T19:29:46.000Z\", \"2016-04-09T19:30:01.000Z\", \"2016-04-09T19:30:16.000Z\", \"2016-04-09T19:30:31.000Z\", \"2016-04-09T19:30:46.000Z\", \"2016-04-09T19:31:01.000Z\", \"2016-04-09T19:31:16.000Z\", \"2016-04-09T19:31:31.000Z\", \"2016-04-09T19:31:46.000Z\", \"2016-04-09T19:32:01.000Z\", \"2016-04-09T19:32:16.000Z\", \"2016-04-09T19:32:31.000Z\", \"2016-04-09T19:32:46.000Z\", \"2016-04-09T19:33:01.000Z\", \"2016-04-09T19:33:16.000Z\", \"2016-04-09T19:33:31.000Z\", \"2016-04-09T19:33:46.000Z\", \"2016-04-09T19:34:01.000Z\", \"2016-04-09T19:34:16.000Z\", \"2016-04-09T19:34:31.000Z\", \"2016-04-09T19:34:46.000Z\", \"2016-04-09T19:35:01.000Z\", \"2016-04-09T19:35:16.000Z\", \"2016-04-09T19:35:31.000Z\", \"2016-04-09T19:35:46.000Z\", \"2016-04-09T19:36:01.000Z\", \"2016-04-09T19:36:17.000Z\", \"2016-04-09T19:36:32.000Z\", \"2016-04-09T19:36:47.000Z\", \"2016-04-09T19:37:02.000Z\", \"2016-04-09T19:37:17.000Z\", \"2016-04-09T19:37:32.000Z\", \"2016-04-09T19:37:47.000Z\", \"2016-04-09T19:38:02.000Z\", \"2016-04-09T19:38:17.000Z\", \"2016-04-09T19:38:32.000Z\", \"2016-04-09T19:38:47.000Z\", \"2016-04-09T19:39:02.000Z\", \"2016-04-09T19:39:17.000Z\", \"2016-04-09T19:39:32.000Z\", \"2016-04-09T19:39:47.000Z\", \"2016-04-09T19:40:02.000Z\", \"2016-04-09T19:40:17.000Z\", \"2016-04-09T19:40:32.000Z\", \"2016-04-09T19:40:47.000Z\", \"2016-04-09T19:41:02.000Z\", \"2016-04-09T19:41:17.000Z\", \"2016-04-09T19:41:32.000Z\", \"2016-04-09T19:41:47.000Z\", \"2016-04-09T19:42:02.000Z\", \"2016-04-09T19:42:17.000Z\", \"2016-04-09T19:42:32.000Z\", \"2016-04-09T19:42:47.000Z\", \"2016-04-09T19:43:02.000Z\", \"2016-04-09T19:43:17.000Z\", \"2016-04-09T19:43:32.000Z\", \"2016-04-09T19:43:47.000Z\", \"2016-04-09T19:44:02.000Z\", \"2016-04-09T19:44:17.000Z\", \"2016-04-09T19:44:32.000Z\", \"2016-04-09T19:44:47.000Z\", \"2016-04-09T19:45:02.000Z\", \"2016-04-09T19:45:17.000Z\", \"2016-04-09T19:45:32.000Z\", \"2016-04-09T19:45:47.000Z\", \"2016-04-09T19:46:02.000Z\", \"2016-04-09T19:46:17.000Z\", \"2016-04-09T19:46:32.000Z\", \"2016-04-09T19:46:47.000Z\", \"2016-04-09T19:47:02.000Z\", \"2016-04-09T19:47:17.000Z\", \"2016-04-09T19:47:32.000Z\", \"2016-04-09T19:47:47.000Z\", \"2016-04-09T19:48:02.000Z\", \"2016-04-09T19:48:17.000Z\", \"2016-04-09T19:48:32.000Z\", \"2016-04-09T19:48:47.000Z\", \"2016-04-09T19:49:02.000Z\", \"2016-04-09T19:49:17.000Z\", \"2016-04-09T19:49:32.000Z\", \"2016-04-09T19:49:47.000Z\", \"2016-04-09T19:50:02.000Z\"], \"line\": {\"color\": \"rgba(255, 181, 184, 0.89999999999999991)\", \"width\": 1.3, \"dash\": \"solid\"}, \"type\": \"scatter\", \"fill\": \"tozeroy\"}, {\"name\": \"cpu.idle_perc\", \"yaxis\": \"y9\", \"text\": \"\", \"fillcolor\": \"rgba(226, 74, 51, 0.3)\", \"mode\": \"lines\", \"xaxis\": \"x1\", \"y\": [87.2, 86.9, 85.9, 87.3, 85.6, 87.1, 86.3, 87.2, 86.8, 86.3, 86.4, 86.8, 86.3, 86.6, 86.3, 86.5, 87.1, 86.7, 85.9, 87.3, 86.4, 86.7, 85.8, 86.5, 86.6, 86.9, 85.8, 86.8, 86.7, 86.8, 85.8, 86.1, 86.3, 86.7, 86.5, 86.8, 86.3, 87.0, 86.3, 86.2, 86.3, 87.5, 85.6, 86.7, 86.9, 86.9, 85.9, 86.2, 87.0, 87.1, 86.1, 86.7, 86.1, 87.0, 85.8, 86.6, 86.3, 86.7, 86.3, 87.1, 86.6, 86.6, 86.0, 87.7, 86.2, 86.9, 86.0, 85.8, 87.7, 86.4, 86.3, 86.3, 86.8, 87.5, 86.3, 86.4, 86.6, 86.5, 87.0, 86.7, 87.0, 87.0, 85.5, 86.6, 86.8, 86.9, 87.0, 86.5, 87.4, 87.9, 86.8, 87.0, 87.3, 87.5, 86.6, 86.4, 84.3, 86.6, 86.6, 87.4, 87.3, 87.1, 86.7, 86.7, 85.8, 86.4, 86.4, 85.2, 86.2, 86.1, 86.7, 86.4, 86.3, 87.0, 86.6, 86.4, 85.6, 86.5, 86.8, 86.2, 86.5, 86.9, 86.1, 86.3, 86.4, 86.3, 86.8, 86.4, 86.1, 86.6, 86.4, 86.7, 86.4, 87.3, 86.3, 87.2, 86.8, 86.4, 85.7, 86.7, 85.9, 86.9, 86.3, 87.0, 86.2, 86.6, 85.9, 86.8, 86.4, 86.5, 86.5, 86.4, 86.4, 86.3, 86.2, 86.5, 86.9, 86.6, 86.4, 87.1, 86.1, 87.0, 86.6, 87.4, 86.0, 86.5, 86.7, 87.2, 87.0, 86.2, 86.8, 87.0, 86.7, 85.7, 86.0, 87.9, 88.1, 86.5, 86.1, 87.0, 86.5, 86.2, 86.6, 86.8, 86.3, 86.6, 86.7, 86.9, 86.8, 86.7, 86.9, 86.5, 86.1, 86.8, 86.2, 86.9, 86.3, 86.7, 86.0, 85.9, 86.2, 86.6, 85.4, 86.9, 86.2, 86.0, 86.2, 86.8, 86.4, 85.9, 86.2, 87.1, 86.8, 86.6, 86.0, 86.9, 86.0, 86.5, 85.8, 86.7, 86.2, 86.0, 86.2, 86.8, 86.1, 86.6, 86.1, 87.2, 87.0, 86.7, 86.4, 86.4, 86.2, 86.6, 86.3, 86.7, 86.4, 86.7, 86.4], \"x\": [\"2016-04-09T18:50:29.000Z\", \"2016-04-09T18:50:44.000Z\", \"2016-04-09T18:50:59.000Z\", \"2016-04-09T18:51:14.000Z\", \"2016-04-09T18:51:29.000Z\", \"2016-04-09T18:51:44.000Z\", \"2016-04-09T18:51:59.000Z\", \"2016-04-09T18:52:14.000Z\", \"2016-04-09T18:52:29.000Z\", \"2016-04-09T18:52:44.000Z\", \"2016-04-09T18:52:59.000Z\", \"2016-04-09T18:53:14.000Z\", \"2016-04-09T18:53:29.000Z\", \"2016-04-09T18:53:44.000Z\", \"2016-04-09T18:53:59.000Z\", \"2016-04-09T18:54:14.000Z\", \"2016-04-09T18:54:29.000Z\", \"2016-04-09T18:54:44.000Z\", \"2016-04-09T18:54:59.000Z\", \"2016-04-09T18:55:14.000Z\", \"2016-04-09T18:55:29.000Z\", \"2016-04-09T18:55:44.000Z\", \"2016-04-09T18:55:59.000Z\", \"2016-04-09T18:56:14.000Z\", \"2016-04-09T18:56:29.000Z\", \"2016-04-09T18:56:44.000Z\", \"2016-04-09T18:56:59.000Z\", \"2016-04-09T18:57:14.000Z\", \"2016-04-09T18:57:29.000Z\", \"2016-04-09T18:57:44.000Z\", \"2016-04-09T18:57:59.000Z\", \"2016-04-09T18:58:14.000Z\", \"2016-04-09T18:58:29.000Z\", \"2016-04-09T18:58:44.000Z\", \"2016-04-09T18:58:59.000Z\", \"2016-04-09T18:59:15.000Z\", \"2016-04-09T18:59:30.000Z\", \"2016-04-09T18:59:45.000Z\", \"2016-04-09T19:00:00.000Z\", \"2016-04-09T19:00:15.000Z\", \"2016-04-09T19:00:30.000Z\", \"2016-04-09T19:00:45.000Z\", \"2016-04-09T19:01:00.000Z\", \"2016-04-09T19:01:15.000Z\", \"2016-04-09T19:01:30.000Z\", \"2016-04-09T19:01:45.000Z\", \"2016-04-09T19:02:00.000Z\", \"2016-04-09T19:02:15.000Z\", \"2016-04-09T19:02:30.000Z\", \"2016-04-09T19:02:45.000Z\", \"2016-04-09T19:03:00.000Z\", \"2016-04-09T19:03:15.000Z\", \"2016-04-09T19:03:30.000Z\", \"2016-04-09T19:03:45.000Z\", \"2016-04-09T19:04:00.000Z\", \"2016-04-09T19:04:15.000Z\", \"2016-04-09T19:04:30.000Z\", \"2016-04-09T19:04:45.000Z\", \"2016-04-09T19:05:00.000Z\", \"2016-04-09T19:05:15.000Z\", \"2016-04-09T19:05:30.000Z\", \"2016-04-09T19:05:45.000Z\", \"2016-04-09T19:06:00.000Z\", \"2016-04-09T19:06:15.000Z\", \"2016-04-09T19:06:30.000Z\", \"2016-04-09T19:06:45.000Z\", \"2016-04-09T19:07:00.000Z\", \"2016-04-09T19:07:15.000Z\", \"2016-04-09T19:07:30.000Z\", \"2016-04-09T19:07:45.000Z\", \"2016-04-09T19:08:00.000Z\", \"2016-04-09T19:08:15.000Z\", \"2016-04-09T19:08:30.000Z\", \"2016-04-09T19:08:45.000Z\", \"2016-04-09T19:09:00.000Z\", \"2016-04-09T19:09:15.000Z\", \"2016-04-09T19:09:30.000Z\", \"2016-04-09T19:09:45.000Z\", \"2016-04-09T19:10:00.000Z\", \"2016-04-09T19:10:15.000Z\", \"2016-04-09T19:10:30.000Z\", \"2016-04-09T19:10:45.000Z\", \"2016-04-09T19:11:00.000Z\", \"2016-04-09T19:11:15.000Z\", \"2016-04-09T19:11:30.000Z\", \"2016-04-09T19:11:45.000Z\", \"2016-04-09T19:12:00.000Z\", \"2016-04-09T19:12:15.000Z\", \"2016-04-09T19:12:30.000Z\", \"2016-04-09T19:12:45.000Z\", \"2016-04-09T19:13:00.000Z\", \"2016-04-09T19:13:15.000Z\", \"2016-04-09T19:13:30.000Z\", \"2016-04-09T19:13:45.000Z\", \"2016-04-09T19:14:00.000Z\", \"2016-04-09T19:14:15.000Z\", \"2016-04-09T19:14:30.000Z\", \"2016-04-09T19:14:45.000Z\", \"2016-04-09T19:15:00.000Z\", \"2016-04-09T19:15:15.000Z\", \"2016-04-09T19:15:30.000Z\", \"2016-04-09T19:15:45.000Z\", \"2016-04-09T19:16:00.000Z\", \"2016-04-09T19:16:15.000Z\", \"2016-04-09T19:16:30.000Z\", \"2016-04-09T19:16:46.000Z\", \"2016-04-09T19:17:00.000Z\", \"2016-04-09T19:17:15.000Z\", \"2016-04-09T19:17:30.000Z\", \"2016-04-09T19:17:46.000Z\", \"2016-04-09T19:18:01.000Z\", \"2016-04-09T19:18:16.000Z\", \"2016-04-09T19:18:31.000Z\", \"2016-04-09T19:18:46.000Z\", \"2016-04-09T19:19:01.000Z\", \"2016-04-09T19:19:16.000Z\", \"2016-04-09T19:19:31.000Z\", \"2016-04-09T19:19:46.000Z\", \"2016-04-09T19:20:01.000Z\", \"2016-04-09T19:20:16.000Z\", \"2016-04-09T19:20:31.000Z\", \"2016-04-09T19:20:46.000Z\", \"2016-04-09T19:21:01.000Z\", \"2016-04-09T19:21:16.000Z\", \"2016-04-09T19:21:31.000Z\", \"2016-04-09T19:21:46.000Z\", \"2016-04-09T19:22:01.000Z\", \"2016-04-09T19:22:16.000Z\", \"2016-04-09T19:22:31.000Z\", \"2016-04-09T19:22:46.000Z\", \"2016-04-09T19:23:01.000Z\", \"2016-04-09T19:23:16.000Z\", \"2016-04-09T19:23:31.000Z\", \"2016-04-09T19:23:46.000Z\", \"2016-04-09T19:24:01.000Z\", \"2016-04-09T19:24:16.000Z\", \"2016-04-09T19:24:31.000Z\", \"2016-04-09T19:24:46.000Z\", \"2016-04-09T19:25:01.000Z\", \"2016-04-09T19:25:16.000Z\", \"2016-04-09T19:25:31.000Z\", \"2016-04-09T19:25:46.000Z\", \"2016-04-09T19:26:01.000Z\", \"2016-04-09T19:26:16.000Z\", \"2016-04-09T19:26:31.000Z\", \"2016-04-09T19:26:46.000Z\", \"2016-04-09T19:27:01.000Z\", \"2016-04-09T19:27:16.000Z\", \"2016-04-09T19:27:31.000Z\", \"2016-04-09T19:27:46.000Z\", \"2016-04-09T19:28:01.000Z\", \"2016-04-09T19:28:16.000Z\", \"2016-04-09T19:28:31.000Z\", \"2016-04-09T19:28:46.000Z\", \"2016-04-09T19:29:01.000Z\", \"2016-04-09T19:29:16.000Z\", \"2016-04-09T19:29:31.000Z\", \"2016-04-09T19:29:46.000Z\", \"2016-04-09T19:30:01.000Z\", \"2016-04-09T19:30:16.000Z\", \"2016-04-09T19:30:31.000Z\", \"2016-04-09T19:30:46.000Z\", \"2016-04-09T19:31:01.000Z\", \"2016-04-09T19:31:16.000Z\", \"2016-04-09T19:31:31.000Z\", \"2016-04-09T19:31:46.000Z\", \"2016-04-09T19:32:01.000Z\", \"2016-04-09T19:32:16.000Z\", \"2016-04-09T19:32:31.000Z\", \"2016-04-09T19:32:46.000Z\", \"2016-04-09T19:33:01.000Z\", \"2016-04-09T19:33:16.000Z\", \"2016-04-09T19:33:31.000Z\", \"2016-04-09T19:33:46.000Z\", \"2016-04-09T19:34:01.000Z\", \"2016-04-09T19:34:16.000Z\", \"2016-04-09T19:34:31.000Z\", \"2016-04-09T19:34:46.000Z\", \"2016-04-09T19:35:01.000Z\", \"2016-04-09T19:35:16.000Z\", \"2016-04-09T19:35:31.000Z\", \"2016-04-09T19:35:46.000Z\", \"2016-04-09T19:36:01.000Z\", \"2016-04-09T19:36:17.000Z\", \"2016-04-09T19:36:32.000Z\", \"2016-04-09T19:36:47.000Z\", \"2016-04-09T19:37:02.000Z\", \"2016-04-09T19:37:17.000Z\", \"2016-04-09T19:37:32.000Z\", \"2016-04-09T19:37:47.000Z\", \"2016-04-09T19:38:02.000Z\", \"2016-04-09T19:38:17.000Z\", \"2016-04-09T19:38:32.000Z\", \"2016-04-09T19:38:47.000Z\", \"2016-04-09T19:39:02.000Z\", \"2016-04-09T19:39:17.000Z\", \"2016-04-09T19:39:32.000Z\", \"2016-04-09T19:39:47.000Z\", \"2016-04-09T19:40:02.000Z\", \"2016-04-09T19:40:17.000Z\", \"2016-04-09T19:40:32.000Z\", \"2016-04-09T19:40:47.000Z\", \"2016-04-09T19:41:02.000Z\", \"2016-04-09T19:41:17.000Z\", \"2016-04-09T19:41:32.000Z\", \"2016-04-09T19:41:47.000Z\", \"2016-04-09T19:42:02.000Z\", \"2016-04-09T19:42:17.000Z\", \"2016-04-09T19:42:32.000Z\", \"2016-04-09T19:42:47.000Z\", \"2016-04-09T19:43:02.000Z\", \"2016-04-09T19:43:17.000Z\", \"2016-04-09T19:43:32.000Z\", \"2016-04-09T19:43:47.000Z\", \"2016-04-09T19:44:02.000Z\", \"2016-04-09T19:44:17.000Z\", \"2016-04-09T19:44:32.000Z\", \"2016-04-09T19:44:47.000Z\", \"2016-04-09T19:45:02.000Z\", \"2016-04-09T19:45:17.000Z\", \"2016-04-09T19:45:32.000Z\", \"2016-04-09T19:45:47.000Z\", \"2016-04-09T19:46:02.000Z\", \"2016-04-09T19:46:17.000Z\", \"2016-04-09T19:46:32.000Z\", \"2016-04-09T19:46:47.000Z\", \"2016-04-09T19:47:02.000Z\", \"2016-04-09T19:47:17.000Z\", \"2016-04-09T19:47:32.000Z\", \"2016-04-09T19:47:47.000Z\", \"2016-04-09T19:48:02.000Z\", \"2016-04-09T19:48:17.000Z\", \"2016-04-09T19:48:32.000Z\", \"2016-04-09T19:48:47.000Z\", \"2016-04-09T19:49:02.000Z\", \"2016-04-09T19:49:17.000Z\", \"2016-04-09T19:49:32.000Z\", \"2016-04-09T19:49:47.000Z\", \"2016-04-09T19:50:02.000Z\"], \"line\": {\"color\": \"rgba(226, 74, 51, 0.89999999999999991)\", \"width\": 1.3, \"dash\": \"solid\"}, \"type\": \"scatter\", \"fill\": \"tozeroy\"}, {\"name\": \"cpu.stolen_perc\", \"yaxis\": \"y10\", \"text\": \"\", \"fillcolor\": \"rgba(62, 111, 176, 0.3)\", \"mode\": \"lines\", \"xaxis\": \"x1\", \"y\": [0, 0, 0, 0, 0, 0, 0, 0, 0, 0, 0, 0, 0, 0, 0, 0, 0, 0, 0, 0, 0, 0, 0, 0, 0, 0, 0, 0, 0, 0, 0, 0, 0, 0, 0, 0, 0, 0, 0, 0, 0, 0, 0, 0, 0, 0, 0, 0, 0, 0, 0, 0, 0, 0, 0, 0, 0, 0, 0, 0, 0, 0, 0, 0, 0, 0, 0, 0, 0, 0, 0, 0, 0, 0, 0, 0, 0, 0, 0, 0, 0, 0, 0, 0, 0, 0, 0, 0, 0, 0, 0, 0, 0, 0, 0, 0, 0, 0, 0, 0, 0, 0, 0, 0, 0, 0, 0, 0, 0, 0, 0, 0, 0, 0, 0, 0, 0, 0, 0, 0, 0, 0, 0, 0, 0, 0, 0, 0, 0, 0, 0, 0, 0, 0, 0, 0, 0, 0, 0, 0, 0, 0, 0, 0, 0, 0, 0, 0, 0, 0, 0, 0, 0, 0, 0, 0, 0, 0, 0, 0, 0, 0, 0, 0, 0, 0, 0, 0, 0, 0, 0, 0, 0, 0, 0, 0, 0, 0, 0, 0, 0, 0, 0, 0, 0, 0, 0, 0, 0, 0, 0, 0, 0, 0, 0, 0, 0, 0, 0, 0, 0, 0, 0, 0, 0, 0, 0, 0, 0, 0, 0, 0, 0, 0, 0, 0, 0, 0, 0, 0, 0, 0, 0, 0, 0, 0, 0, 0, 0, 0, 0, 0, 0, 0, 0, 0, 0, 0, 0], \"x\": [\"2016-04-09T18:50:29.000Z\", \"2016-04-09T18:50:44.000Z\", \"2016-04-09T18:50:59.000Z\", \"2016-04-09T18:51:14.000Z\", \"2016-04-09T18:51:29.000Z\", \"2016-04-09T18:51:44.000Z\", \"2016-04-09T18:51:59.000Z\", \"2016-04-09T18:52:14.000Z\", \"2016-04-09T18:52:29.000Z\", \"2016-04-09T18:52:44.000Z\", \"2016-04-09T18:52:59.000Z\", \"2016-04-09T18:53:14.000Z\", \"2016-04-09T18:53:29.000Z\", \"2016-04-09T18:53:44.000Z\", \"2016-04-09T18:53:59.000Z\", \"2016-04-09T18:54:14.000Z\", \"2016-04-09T18:54:29.000Z\", \"2016-04-09T18:54:44.000Z\", \"2016-04-09T18:54:59.000Z\", \"2016-04-09T18:55:14.000Z\", \"2016-04-09T18:55:29.000Z\", \"2016-04-09T18:55:44.000Z\", \"2016-04-09T18:55:59.000Z\", \"2016-04-09T18:56:14.000Z\", \"2016-04-09T18:56:29.000Z\", \"2016-04-09T18:56:44.000Z\", \"2016-04-09T18:56:59.000Z\", \"2016-04-09T18:57:14.000Z\", \"2016-04-09T18:57:29.000Z\", \"2016-04-09T18:57:44.000Z\", \"2016-04-09T18:57:59.000Z\", \"2016-04-09T18:58:14.000Z\", \"2016-04-09T18:58:29.000Z\", \"2016-04-09T18:58:44.000Z\", \"2016-04-09T18:58:59.000Z\", \"2016-04-09T18:59:15.000Z\", \"2016-04-09T18:59:30.000Z\", \"2016-04-09T18:59:45.000Z\", \"2016-04-09T19:00:00.000Z\", \"2016-04-09T19:00:15.000Z\", \"2016-04-09T19:00:30.000Z\", \"2016-04-09T19:00:45.000Z\", \"2016-04-09T19:01:00.000Z\", \"2016-04-09T19:01:15.000Z\", \"2016-04-09T19:01:30.000Z\", \"2016-04-09T19:01:45.000Z\", \"2016-04-09T19:02:00.000Z\", \"2016-04-09T19:02:15.000Z\", \"2016-04-09T19:02:30.000Z\", \"2016-04-09T19:02:45.000Z\", \"2016-04-09T19:03:00.000Z\", \"2016-04-09T19:03:15.000Z\", \"2016-04-09T19:03:30.000Z\", \"2016-04-09T19:03:45.000Z\", \"2016-04-09T19:04:00.000Z\", \"2016-04-09T19:04:15.000Z\", \"2016-04-09T19:04:30.000Z\", \"2016-04-09T19:04:45.000Z\", \"2016-04-09T19:05:00.000Z\", \"2016-04-09T19:05:15.000Z\", \"2016-04-09T19:05:30.000Z\", \"2016-04-09T19:05:45.000Z\", \"2016-04-09T19:06:00.000Z\", \"2016-04-09T19:06:15.000Z\", \"2016-04-09T19:06:30.000Z\", \"2016-04-09T19:06:45.000Z\", \"2016-04-09T19:07:00.000Z\", \"2016-04-09T19:07:15.000Z\", \"2016-04-09T19:07:30.000Z\", \"2016-04-09T19:07:45.000Z\", \"2016-04-09T19:08:00.000Z\", \"2016-04-09T19:08:15.000Z\", \"2016-04-09T19:08:30.000Z\", \"2016-04-09T19:08:45.000Z\", \"2016-04-09T19:09:00.000Z\", \"2016-04-09T19:09:15.000Z\", \"2016-04-09T19:09:30.000Z\", \"2016-04-09T19:09:45.000Z\", \"2016-04-09T19:10:00.000Z\", \"2016-04-09T19:10:15.000Z\", \"2016-04-09T19:10:30.000Z\", \"2016-04-09T19:10:45.000Z\", \"2016-04-09T19:11:00.000Z\", \"2016-04-09T19:11:15.000Z\", \"2016-04-09T19:11:30.000Z\", \"2016-04-09T19:11:45.000Z\", \"2016-04-09T19:12:00.000Z\", \"2016-04-09T19:12:15.000Z\", \"2016-04-09T19:12:30.000Z\", \"2016-04-09T19:12:45.000Z\", \"2016-04-09T19:13:00.000Z\", \"2016-04-09T19:13:15.000Z\", \"2016-04-09T19:13:30.000Z\", \"2016-04-09T19:13:45.000Z\", \"2016-04-09T19:14:00.000Z\", \"2016-04-09T19:14:15.000Z\", \"2016-04-09T19:14:30.000Z\", \"2016-04-09T19:14:45.000Z\", \"2016-04-09T19:15:00.000Z\", \"2016-04-09T19:15:15.000Z\", \"2016-04-09T19:15:30.000Z\", \"2016-04-09T19:15:45.000Z\", \"2016-04-09T19:16:00.000Z\", \"2016-04-09T19:16:15.000Z\", \"2016-04-09T19:16:30.000Z\", \"2016-04-09T19:16:46.000Z\", \"2016-04-09T19:17:00.000Z\", \"2016-04-09T19:17:15.000Z\", \"2016-04-09T19:17:30.000Z\", \"2016-04-09T19:17:46.000Z\", \"2016-04-09T19:18:01.000Z\", \"2016-04-09T19:18:16.000Z\", \"2016-04-09T19:18:31.000Z\", \"2016-04-09T19:18:46.000Z\", \"2016-04-09T19:19:01.000Z\", \"2016-04-09T19:19:16.000Z\", \"2016-04-09T19:19:31.000Z\", \"2016-04-09T19:19:46.000Z\", \"2016-04-09T19:20:01.000Z\", \"2016-04-09T19:20:16.000Z\", \"2016-04-09T19:20:31.000Z\", \"2016-04-09T19:20:46.000Z\", \"2016-04-09T19:21:01.000Z\", \"2016-04-09T19:21:16.000Z\", \"2016-04-09T19:21:31.000Z\", \"2016-04-09T19:21:46.000Z\", \"2016-04-09T19:22:01.000Z\", \"2016-04-09T19:22:16.000Z\", \"2016-04-09T19:22:31.000Z\", \"2016-04-09T19:22:46.000Z\", \"2016-04-09T19:23:01.000Z\", \"2016-04-09T19:23:16.000Z\", \"2016-04-09T19:23:31.000Z\", \"2016-04-09T19:23:46.000Z\", \"2016-04-09T19:24:01.000Z\", \"2016-04-09T19:24:16.000Z\", \"2016-04-09T19:24:31.000Z\", \"2016-04-09T19:24:46.000Z\", \"2016-04-09T19:25:01.000Z\", \"2016-04-09T19:25:16.000Z\", \"2016-04-09T19:25:31.000Z\", \"2016-04-09T19:25:46.000Z\", \"2016-04-09T19:26:01.000Z\", \"2016-04-09T19:26:16.000Z\", \"2016-04-09T19:26:31.000Z\", \"2016-04-09T19:26:46.000Z\", \"2016-04-09T19:27:01.000Z\", \"2016-04-09T19:27:16.000Z\", \"2016-04-09T19:27:31.000Z\", \"2016-04-09T19:27:46.000Z\", \"2016-04-09T19:28:01.000Z\", \"2016-04-09T19:28:16.000Z\", \"2016-04-09T19:28:31.000Z\", \"2016-04-09T19:28:46.000Z\", \"2016-04-09T19:29:01.000Z\", \"2016-04-09T19:29:16.000Z\", \"2016-04-09T19:29:31.000Z\", \"2016-04-09T19:29:46.000Z\", \"2016-04-09T19:30:01.000Z\", \"2016-04-09T19:30:16.000Z\", \"2016-04-09T19:30:31.000Z\", \"2016-04-09T19:30:46.000Z\", \"2016-04-09T19:31:01.000Z\", \"2016-04-09T19:31:16.000Z\", \"2016-04-09T19:31:31.000Z\", \"2016-04-09T19:31:46.000Z\", \"2016-04-09T19:32:01.000Z\", \"2016-04-09T19:32:16.000Z\", \"2016-04-09T19:32:31.000Z\", \"2016-04-09T19:32:46.000Z\", \"2016-04-09T19:33:01.000Z\", \"2016-04-09T19:33:16.000Z\", \"2016-04-09T19:33:31.000Z\", \"2016-04-09T19:33:46.000Z\", \"2016-04-09T19:34:01.000Z\", \"2016-04-09T19:34:16.000Z\", \"2016-04-09T19:34:31.000Z\", \"2016-04-09T19:34:46.000Z\", \"2016-04-09T19:35:01.000Z\", \"2016-04-09T19:35:16.000Z\", \"2016-04-09T19:35:31.000Z\", \"2016-04-09T19:35:46.000Z\", \"2016-04-09T19:36:01.000Z\", \"2016-04-09T19:36:17.000Z\", \"2016-04-09T19:36:32.000Z\", \"2016-04-09T19:36:47.000Z\", \"2016-04-09T19:37:02.000Z\", \"2016-04-09T19:37:17.000Z\", \"2016-04-09T19:37:32.000Z\", \"2016-04-09T19:37:47.000Z\", \"2016-04-09T19:38:02.000Z\", \"2016-04-09T19:38:17.000Z\", \"2016-04-09T19:38:32.000Z\", \"2016-04-09T19:38:47.000Z\", \"2016-04-09T19:39:02.000Z\", \"2016-04-09T19:39:17.000Z\", \"2016-04-09T19:39:32.000Z\", \"2016-04-09T19:39:47.000Z\", \"2016-04-09T19:40:02.000Z\", \"2016-04-09T19:40:17.000Z\", \"2016-04-09T19:40:32.000Z\", \"2016-04-09T19:40:47.000Z\", \"2016-04-09T19:41:02.000Z\", \"2016-04-09T19:41:17.000Z\", \"2016-04-09T19:41:32.000Z\", \"2016-04-09T19:41:47.000Z\", \"2016-04-09T19:42:02.000Z\", \"2016-04-09T19:42:17.000Z\", \"2016-04-09T19:42:32.000Z\", \"2016-04-09T19:42:47.000Z\", \"2016-04-09T19:43:02.000Z\", \"2016-04-09T19:43:17.000Z\", \"2016-04-09T19:43:32.000Z\", \"2016-04-09T19:43:47.000Z\", \"2016-04-09T19:44:02.000Z\", \"2016-04-09T19:44:17.000Z\", \"2016-04-09T19:44:32.000Z\", \"2016-04-09T19:44:47.000Z\", \"2016-04-09T19:45:02.000Z\", \"2016-04-09T19:45:17.000Z\", \"2016-04-09T19:45:32.000Z\", \"2016-04-09T19:45:47.000Z\", \"2016-04-09T19:46:02.000Z\", \"2016-04-09T19:46:17.000Z\", \"2016-04-09T19:46:32.000Z\", \"2016-04-09T19:46:47.000Z\", \"2016-04-09T19:47:02.000Z\", \"2016-04-09T19:47:17.000Z\", \"2016-04-09T19:47:32.000Z\", \"2016-04-09T19:47:47.000Z\", \"2016-04-09T19:48:02.000Z\", \"2016-04-09T19:48:17.000Z\", \"2016-04-09T19:48:32.000Z\", \"2016-04-09T19:48:47.000Z\", \"2016-04-09T19:49:02.000Z\", \"2016-04-09T19:49:17.000Z\", \"2016-04-09T19:49:32.000Z\", \"2016-04-09T19:49:47.000Z\", \"2016-04-09T19:50:02.000Z\"], \"line\": {\"color\": \"rgba(62, 111, 176, 0.89999999999999991)\", \"width\": 1.3, \"dash\": \"solid\"}, \"type\": \"scatter\", \"fill\": \"tozeroy\"}], {\"yaxis1\": {\"tickfont\": {\"color\": \"#666666\"}, \"domain\": [0.9269999999999999, 0.9999999999999999], \"title\": \"\", \"showgrid\": true, \"zerolinecolor\": \"#F6F6F6\", \"titlefont\": {\"color\": \"#666666\"}, \"position\": 0.0, \"gridcolor\": \"#F6F6F6\", \"anchor\": \"free\"}, \"paper_bgcolor\": \"#FFFFFF\", \"plot_bgcolor\": \"#E5E5E5\", \"yaxis10\": {\"domain\": [0.0, 0.073], \"anchor\": \"x1\"}, \"xaxis1\": {\"tickfont\": {\"color\": \"#666666\"}, \"domain\": [0.0, 1.0], \"title\": \"\", \"showgrid\": true, \"zerolinecolor\": \"#F6F6F6\", \"gridcolor\": \"#F6F6F6\", \"titlefont\": {\"color\": \"#666666\"}, \"anchor\": \"y10\"}, \"height\": 587, \"width\": 1116, \"yaxis2\": {\"position\": 0.0, \"domain\": [0.824, 0.8969999999999999], \"anchor\": \"free\"}, \"yaxis3\": {\"position\": 0.0, \"domain\": [0.721, 0.7939999999999999], \"anchor\": \"free\"}, \"titlefont\": {\"color\": \"#151516\"}, \"yaxis5\": {\"position\": 0.0, \"domain\": [0.515, 0.588], \"anchor\": \"free\"}, \"yaxis6\": {\"position\": 0.0, \"domain\": [0.412, 0.485], \"anchor\": \"free\"}, \"yaxis7\": {\"position\": 0.0, \"domain\": [0.309, 0.382], \"anchor\": \"free\"}, \"yaxis8\": {\"position\": 0.0, \"domain\": [0.206, 0.27899999999999997], \"anchor\": \"free\"}, \"yaxis4\": {\"position\": 0.0, \"domain\": [0.618, 0.691], \"anchor\": \"free\"}, \"yaxis9\": {\"position\": 0.0, \"domain\": [0.103, 0.176], \"anchor\": \"free\"}, \"legend\": {\"bgcolor\": \"#FFFFFF\", \"font\": {\"color\": \"#666666\"}}}, {\"linkText\": \"Export to plot.ly\", \"showLink\": true})</script>"
      ],
      "text/plain": [
       "<IPython.core.display.HTML object>"
      ]
     },
     "metadata": {},
     "output_type": "display_data"
    }
   ],
   "source": [
    "df = df_from_measurements(measurements)\n",
    "df.iplot(subplots=True, shape=(len(df.columns),1), shared_xaxes=True, fill=True)\n",
    "#df.iplot(kind='line', fill=True,\n",
    "#         xTitle='Date',\n",
    "#         yTitle='Value',\n",
    "#         title='Statistics',\n",
    "#         layout=layout)\n",
    "#df.scatter_matrix(world_readable=True)"
   ]
  },
  {
   "cell_type": "markdown",
   "metadata": {
    "slideshow": {
     "slide_type": "slide"
    }
   },
   "source": [
    "# Metrics Statistics\n",
    "---"
   ]
  },
  {
   "cell_type": "markdown",
   "metadata": {
    "slideshow": {
     "slide_type": "subslide"
    }
   },
   "source": [
    "# Get statistics\n",
    "---"
   ]
  },
  {
   "cell_type": "code",
   "execution_count": 141,
   "metadata": {
    "collapsed": false
   },
   "outputs": [
    {
     "name": "stdout",
     "output_type": "stream",
     "text": [
      "usage: monasca metric-statistics [--dimensions <KEY1=VALUE1,KEY2=VALUE2...>]\r\n",
      "                                 [--endtime <UTC_END_TIME>]\r\n",
      "                                 [--period <PERIOD>]\r\n",
      "                                 [--offset <OFFSET LOCATION>]\r\n",
      "                                 [--limit <RETURN LIMIT>] [--merge_metrics]\r\n",
      "                                 <METRIC_NAME> <STATISTICS> <UTC_START_TIME>\r\n",
      "\r\n",
      "List measurement statistics for the specified metric.\r\n",
      "\r\n",
      "Positional arguments:\r\n",
      "  <METRIC_NAME>         Name of the metric to report measurement statistics.\r\n",
      "  <STATISTICS>          Statistics is one or more (separated by commas) of\r\n",
      "                        [AVG, MIN, MAX, COUNT, SUM].\r\n",
      "  <UTC_START_TIME>      measurements >= UTC time. format:\r\n",
      "                        2014-01-01T00:00:00Z. OR Format: -120 (previous 120\r\n",
      "                        minutes).\r\n",
      "\r\n",
      "Optional arguments:\r\n",
      "  --dimensions <KEY1=VALUE1,KEY2=VALUE2...>\r\n",
      "                        key value pair used to specify a metric dimension.\r\n",
      "                        This can be specified multiple times, or once with\r\n",
      "                        parameters separated by a comma. Dimensions need\r\n",
      "                        quoting when they contain special chars\r\n",
      "                        [&,(,),{,},>,<] that confuse the CLI parser.\r\n",
      "  --endtime <UTC_END_TIME>\r\n",
      "                        measurements <= UTC time. format:\r\n",
      "                        2014-01-01T00:00:00Z.\r\n",
      "  --period <PERIOD>     number of seconds per interval (default is 300)\r\n",
      "  --offset <OFFSET LOCATION>\r\n",
      "                        The offset used to paginate the return data.\r\n",
      "  --limit <RETURN LIMIT>\r\n",
      "                        The amount of data to be returned up to the API\r\n",
      "                        maximum limit.\r\n",
      "  --merge_metrics       Merge multiple metrics into a single result.\r\n"
     ]
    }
   ],
   "source": [
    "!monasca help metric-statistics"
   ]
  },
  {
   "cell_type": "markdown",
   "metadata": {
    "slideshow": {
     "slide_type": "subslide"
    }
   },
   "source": [
    "# Create a function to get statistics using the Monasca client\n",
    "---"
   ]
  },
  {
   "cell_type": "code",
   "execution_count": 142,
   "metadata": {
    "collapsed": false
   },
   "outputs": [],
   "source": [
    "def get_statistics(metrics, statistics=['avg'], interval = 3600, start_time = None, end_time = None):\n",
    "    statistics_list = []\n",
    "    \n",
    "    period = interval / 512\n",
    "    \n",
    "    if period < 60:\n",
    "        period = 60\n",
    "        \n",
    "    period = period - period%60\n",
    "    \n",
    "    if start_time == None:\n",
    "        start_date = datetime.datetime.utcnow() - datetime.timedelta(seconds=interval)\n",
    "        start_time = start_date.strftime(\"%Y-%m-%dT%H:%M:%SZ\")\n",
    "\n",
    "    if end_time == None:\n",
    "        end_date = datetime.datetime.utcnow() - datetime.timedelta(seconds=0)\n",
    "        end_time = end_date.strftime(\"%Y-%m-%dT%H:%M:%SZ\")\n",
    "        \n",
    "    for metric in metrics:\n",
    "        kwargs = {}\n",
    "        kwargs['statistics'] = statistics\n",
    "        kwargs['period'] = period\n",
    "        kwargs['name'] = metric['name']\n",
    "        kwargs['dimensions'] = metric['dimensions']\n",
    "        kwargs['start_time'] = start_time\n",
    "        kwargs['end_time'] = end_time            \n",
    "        statistics_list.append(monasca_client.metrics.list_statistics(**kwargs))\n",
    "        \n",
    "    return statistics_list"
   ]
  },
  {
   "cell_type": "markdown",
   "metadata": {
    "slideshow": {
     "slide_type": "subslide"
    }
   },
   "source": [
    "# Create a function to translate statistics to a Pandas DataFrame\n",
    "---"
   ]
  },
  {
   "cell_type": "code",
   "execution_count": 143,
   "metadata": {
    "collapsed": false
   },
   "outputs": [],
   "source": [
    "def df_from_statistics(statistics, fn = 'avg', group_by=[]):\n",
    "    '''Returns a DataFrame given statistics'''\n",
    "    stat = statistics[0][0]\n",
    "    m = np.array(stat['statistics'])  \n",
    "    timestamps = m[:, stat['columns'].index('timestamp')]\n",
    "    df = pd.DataFrame(index = timestamps)\n",
    "    \n",
    "    for statistic in statistics:\n",
    "        stat = statistic[0]\n",
    "        m = np.array(stat['statistics'])\n",
    "        name = stat['name']\n",
    "        dimensions = stat['dimensions']\n",
    "        \n",
    "        for group in group_by:\n",
    "            name = name + dimensions[group]\n",
    "            \n",
    "        df[name] = m[:, stat['columns'].index(fn)]\n",
    "    return df"
   ]
  },
  {
   "cell_type": "markdown",
   "metadata": {
    "slideshow": {
     "slide_type": "subslide"
    }
   },
   "source": [
    "# Query statistics using the Monasca client\n",
    "---"
   ]
  },
  {
   "cell_type": "code",
   "execution_count": 144,
   "metadata": {
    "collapsed": false
   },
   "outputs": [],
   "source": [
    "#metrics = get_metrics(names=['cpu.user_perc', 'cpu.system_perc'])\n",
    "metrics = get_metrics()\n",
    "statistics = get_statistics(metrics, ['avg'], 3600)\n"
   ]
  },
  {
   "cell_type": "markdown",
   "metadata": {
    "slideshow": {
     "slide_type": "subslide"
    }
   },
   "source": [
    "# Display statistics using Plotly\n",
    "---"
   ]
  },
  {
   "cell_type": "code",
   "execution_count": 145,
   "metadata": {
    "collapsed": false
   },
   "outputs": [
    {
     "data": {
      "text/html": [
       "<div id=\"0b99a92f-12c9-46a9-b46d-21a9e9f28214\" style=\"height: 768; width: 640px;\" class=\"plotly-graph-div\"></div><script type=\"text/javascript\">window.PLOTLYENV=window.PLOTLYENV || {};window.PLOTLYENV.BASE_URL=\"https://plot.ly\";Plotly.newPlot(\"0b99a92f-12c9-46a9-b46d-21a9e9f28214\", [{\"name\": \"apache.net.hits\", \"text\": \"\", \"mode\": \"lines\", \"fillcolor\": \"rgba(226, 74, 51, 0.3)\", \"y\": [\"710.5\", \"718\", \"724.5\", \"730.25\", \"734.5\", \"739.25\", \"746.75\", \"751.75\", \"757.25\", \"762\", \"765.5\", \"776.25\", \"783.75\", \"788.75\", \"794\", \"798.5\", \"803.25\", \"809.5\", \"816.25\", \"820.5\", \"828.75\", \"834.5\", \"838.75\", \"844.25\", \"859.25\", \"874.25\", \"879.5\", \"886\", \"891.5\", \"897.25\", \"903.5\", \"908.5\", \"916.25\", \"924.5\", \"929.75\", \"935.5\", \"941\", \"946\", \"952.25\", \"958.5\", \"964\", \"971.5\", \"989.75\", \"994.5\", \"1000.75\", \"1007.5\", \"1012\", \"1019\", \"1026\", \"1031.75\", \"1037.5\", \"1042.5\", \"1049.25\", \"1055.5\", \"1061.5\", \"1068.25\", \"1073.25\", \"1077.75\", \"1083.25\", \"1090.25\", \"1096\"], \"x\": [\"2016-04-09T18:50:00Z\", \"2016-04-09T18:51:00Z\", \"2016-04-09T18:52:00Z\", \"2016-04-09T18:53:00Z\", \"2016-04-09T18:54:00Z\", \"2016-04-09T18:55:00Z\", \"2016-04-09T18:56:00Z\", \"2016-04-09T18:57:00Z\", \"2016-04-09T18:58:00Z\", \"2016-04-09T18:59:00Z\", \"2016-04-09T19:00:00Z\", \"2016-04-09T19:01:00Z\", \"2016-04-09T19:02:00Z\", \"2016-04-09T19:03:00Z\", \"2016-04-09T19:04:00Z\", \"2016-04-09T19:05:00Z\", \"2016-04-09T19:06:00Z\", \"2016-04-09T19:07:00Z\", \"2016-04-09T19:08:00Z\", \"2016-04-09T19:09:00Z\", \"2016-04-09T19:10:00Z\", \"2016-04-09T19:11:00Z\", \"2016-04-09T19:12:00Z\", \"2016-04-09T19:13:00Z\", \"2016-04-09T19:14:00Z\", \"2016-04-09T19:15:00Z\", \"2016-04-09T19:16:00Z\", \"2016-04-09T19:17:00Z\", \"2016-04-09T19:18:00Z\", \"2016-04-09T19:19:00Z\", \"2016-04-09T19:20:00Z\", \"2016-04-09T19:21:00Z\", \"2016-04-09T19:22:00Z\", \"2016-04-09T19:23:00Z\", \"2016-04-09T19:24:00Z\", \"2016-04-09T19:25:00Z\", \"2016-04-09T19:26:00Z\", \"2016-04-09T19:27:00Z\", \"2016-04-09T19:28:00Z\", \"2016-04-09T19:29:00Z\", \"2016-04-09T19:30:00Z\", \"2016-04-09T19:31:00Z\", \"2016-04-09T19:32:00Z\", \"2016-04-09T19:33:00Z\", \"2016-04-09T19:34:00Z\", \"2016-04-09T19:35:00Z\", \"2016-04-09T19:36:00Z\", \"2016-04-09T19:37:00Z\", \"2016-04-09T19:38:00Z\", \"2016-04-09T19:39:00Z\", \"2016-04-09T19:40:00Z\", \"2016-04-09T19:41:00Z\", \"2016-04-09T19:42:00Z\", \"2016-04-09T19:43:00Z\", \"2016-04-09T19:44:00Z\", \"2016-04-09T19:45:00Z\", \"2016-04-09T19:46:00Z\", \"2016-04-09T19:47:00Z\", \"2016-04-09T19:48:00Z\", \"2016-04-09T19:49:00Z\", \"2016-04-09T19:50:00Z\"], \"line\": {\"color\": \"rgba(226, 74, 51, 1.0)\", \"width\": 1.3, \"dash\": \"solid\"}, \"type\": \"scatter\", \"fill\": \"tozeroy\"}, {\"name\": \"apache.net.kbytes_sec\", \"text\": \"\", \"mode\": \"lines\", \"fillcolor\": \"rgba(62, 111, 176, 0.3)\", \"y\": [\"0.0333333333334\", \"0.65\", \"0.233333333333\", \"0.15\", \"0.05\", \"0.25\", \"0.35\", \"0.15\", \"0.15\", \"0.169444444444\", \"0.05\", \"0.833333333333\", \"0.35\", \"0.15\", \"0.15\", \"0.05\", \"0.15\", \"0.333333333333\", \"0.25\", \"0.05\", \"0.650000000001\", \"0.05\", \"0.15\", \"0.25\", \"2.01666666667\", \"0.25\", \"0.0489583333334\", \"0.410565476191\", \"0.05\", \"0.333333333333\", \"0.25\", \"0.05\", \"0.75\", \"0.233333333333\", \"0.15\", \"0.15\", \"0.25\", \"0.15\", \"0.45\", \"0.05\", \"0.25\", \"1.13333333333\", \"0.733333333333\", \"0.05\", \"0.316666666667\", \"0.216666666667\", \"0.198958333333\", \"0.216666666667\", \"0.366666666667\", \"0.15\", \"0.216666666667\", \"0.05\", \"0.416666666667\", \"0.25\", \"0.3\", \"0.15\", \"0.15\", \"0.15\", \"0.25\", \"0.35\", \"0.466666666667\"], \"x\": [\"2016-04-09T18:50:00Z\", \"2016-04-09T18:51:00Z\", \"2016-04-09T18:52:00Z\", \"2016-04-09T18:53:00Z\", \"2016-04-09T18:54:00Z\", \"2016-04-09T18:55:00Z\", \"2016-04-09T18:56:00Z\", \"2016-04-09T18:57:00Z\", \"2016-04-09T18:58:00Z\", \"2016-04-09T18:59:00Z\", \"2016-04-09T19:00:00Z\", \"2016-04-09T19:01:00Z\", \"2016-04-09T19:02:00Z\", \"2016-04-09T19:03:00Z\", \"2016-04-09T19:04:00Z\", \"2016-04-09T19:05:00Z\", \"2016-04-09T19:06:00Z\", \"2016-04-09T19:07:00Z\", \"2016-04-09T19:08:00Z\", \"2016-04-09T19:09:00Z\", \"2016-04-09T19:10:00Z\", \"2016-04-09T19:11:00Z\", \"2016-04-09T19:12:00Z\", \"2016-04-09T19:13:00Z\", \"2016-04-09T19:14:00Z\", \"2016-04-09T19:15:00Z\", \"2016-04-09T19:16:00Z\", \"2016-04-09T19:17:00Z\", \"2016-04-09T19:18:00Z\", \"2016-04-09T19:19:00Z\", \"2016-04-09T19:20:00Z\", \"2016-04-09T19:21:00Z\", \"2016-04-09T19:22:00Z\", \"2016-04-09T19:23:00Z\", \"2016-04-09T19:24:00Z\", \"2016-04-09T19:25:00Z\", \"2016-04-09T19:26:00Z\", \"2016-04-09T19:27:00Z\", \"2016-04-09T19:28:00Z\", \"2016-04-09T19:29:00Z\", \"2016-04-09T19:30:00Z\", \"2016-04-09T19:31:00Z\", \"2016-04-09T19:32:00Z\", \"2016-04-09T19:33:00Z\", \"2016-04-09T19:34:00Z\", \"2016-04-09T19:35:00Z\", \"2016-04-09T19:36:00Z\", \"2016-04-09T19:37:00Z\", \"2016-04-09T19:38:00Z\", \"2016-04-09T19:39:00Z\", \"2016-04-09T19:40:00Z\", \"2016-04-09T19:41:00Z\", \"2016-04-09T19:42:00Z\", \"2016-04-09T19:43:00Z\", \"2016-04-09T19:44:00Z\", \"2016-04-09T19:45:00Z\", \"2016-04-09T19:46:00Z\", \"2016-04-09T19:47:00Z\", \"2016-04-09T19:48:00Z\", \"2016-04-09T19:49:00Z\", \"2016-04-09T19:50:00Z\"], \"line\": {\"color\": \"rgba(62, 111, 176, 1.0)\", \"width\": 1.3, \"dash\": \"solid\"}, \"type\": \"scatter\", \"fill\": \"tozeroy\"}, {\"name\": \"apache.net.requests_sec\", \"text\": \"\", \"mode\": \"lines\", \"fillcolor\": \"rgba(132, 118, 202, 0.3)\", \"y\": [\"0.0666666666667\", \"0.166666666667\", \"0.0999999999998\", \"0.0833333333333\", \"0.0666666666667\", \"0.0999999999998\", \"0.116666666666\", \"0.0833333333333\", \"0.0833333333333\", \"0.0861111111111\", \"0.0666666666667\", \"0.2\", \"0.116666666666\", \"0.0833333333333\", \"0.0833333333333\", \"0.0666666666667\", \"0.0833333333333\", \"0.116666666666\", \"0.0999999999999\", \"0.0666666666667\", \"0.166666666667\", \"0.0666666666667\", \"0.0833333333333\", \"0.0999999999998\", \"0.4\", \"0.0999999999998\", \"0.065625\", \"0.132440476191\", \"0.0666666666667\", \"0.116666666666\", \"0.0999999999998\", \"0.0666666666667\", \"0.183333333333\", \"0.0999999999998\", \"0.0833333333333\", \"0.0833333333333\", \"0.0999999999999\", \"0.0833333333333\", \"0.133333333333\", \"0.0666666666667\", \"0.0999999999999\", \"0.25\", \"0.183333333333\", \"0.0666666666667\", \"0.116666666667\", \"0.1\", \"0.0989583333334\", \"0.1\", \"0.133333333333\", \"0.0833333333333\", \"0.1\", \"0.0666666666667\", \"0.133333333333\", \"0.0999999999998\", \"0.116666666667\", \"0.0833333333333\", \"0.0833333333333\", \"0.0833333333333\", \"0.0999999999998\", \"0.133333333333\", \"0.133333333333\"], \"x\": [\"2016-04-09T18:50:00Z\", \"2016-04-09T18:51:00Z\", \"2016-04-09T18:52:00Z\", \"2016-04-09T18:53:00Z\", \"2016-04-09T18:54:00Z\", \"2016-04-09T18:55:00Z\", \"2016-04-09T18:56:00Z\", \"2016-04-09T18:57:00Z\", \"2016-04-09T18:58:00Z\", \"2016-04-09T18:59:00Z\", \"2016-04-09T19:00:00Z\", \"2016-04-09T19:01:00Z\", \"2016-04-09T19:02:00Z\", \"2016-04-09T19:03:00Z\", \"2016-04-09T19:04:00Z\", \"2016-04-09T19:05:00Z\", \"2016-04-09T19:06:00Z\", \"2016-04-09T19:07:00Z\", \"2016-04-09T19:08:00Z\", \"2016-04-09T19:09:00Z\", \"2016-04-09T19:10:00Z\", \"2016-04-09T19:11:00Z\", \"2016-04-09T19:12:00Z\", \"2016-04-09T19:13:00Z\", \"2016-04-09T19:14:00Z\", \"2016-04-09T19:15:00Z\", \"2016-04-09T19:16:00Z\", \"2016-04-09T19:17:00Z\", \"2016-04-09T19:18:00Z\", \"2016-04-09T19:19:00Z\", \"2016-04-09T19:20:00Z\", \"2016-04-09T19:21:00Z\", \"2016-04-09T19:22:00Z\", \"2016-04-09T19:23:00Z\", \"2016-04-09T19:24:00Z\", \"2016-04-09T19:25:00Z\", \"2016-04-09T19:26:00Z\", \"2016-04-09T19:27:00Z\", \"2016-04-09T19:28:00Z\", \"2016-04-09T19:29:00Z\", \"2016-04-09T19:30:00Z\", \"2016-04-09T19:31:00Z\", \"2016-04-09T19:32:00Z\", \"2016-04-09T19:33:00Z\", \"2016-04-09T19:34:00Z\", \"2016-04-09T19:35:00Z\", \"2016-04-09T19:36:00Z\", \"2016-04-09T19:37:00Z\", \"2016-04-09T19:38:00Z\", \"2016-04-09T19:39:00Z\", \"2016-04-09T19:40:00Z\", \"2016-04-09T19:41:00Z\", \"2016-04-09T19:42:00Z\", \"2016-04-09T19:43:00Z\", \"2016-04-09T19:44:00Z\", \"2016-04-09T19:45:00Z\", \"2016-04-09T19:46:00Z\", \"2016-04-09T19:47:00Z\", \"2016-04-09T19:48:00Z\", \"2016-04-09T19:49:00Z\", \"2016-04-09T19:50:00Z\"], \"line\": {\"color\": \"rgba(132, 118, 202, 1.0)\", \"width\": 1.3, \"dash\": \"solid\"}, \"type\": \"scatter\", \"fill\": \"tozeroy\"}, {\"name\": \"apache.net.total_kbytes\", \"text\": \"\", \"mode\": \"lines\", \"fillcolor\": \"rgba(101, 101, 101, 0.3)\", \"y\": [\"4655.5\", \"4684.75\", \"4702.25\", \"4715.75\", \"4720.25\", \"4727.75\", \"4751.25\", \"4760.25\", \"4772.25\", \"4782\", \"4785\", \"4827.75\", \"4851.25\", \"4860.25\", \"4870.75\", \"4876.5\", \"4884.25\", \"4900.25\", \"4919.5\", \"4924.25\", \"4952.5\", \"4966\", \"4970.75\", \"4982.5\", \"5050.5\", \"5118.5\", \"5129\", \"5145.25\", \"5156.5\", \"5169.75\", \"5186.25\", \"5195.25\", \"5220.5\", \"5248.25\", \"5258.75\", \"5272.25\", \"5284\", \"5293\", \"5309.5\", \"5325.5\", \"5337.5\", \"5361.25\", \"5448.5\", \"5456\", \"5470.25\", \"5487.5\", \"5492.75\", \"5510.5\", \"5528\", \"5539.75\", \"5552\", \"5560.25\", \"5577.5\", \"5593.75\", \"5607.75\", \"5625.25\", \"5634.25\", \"5640.5\", \"5652.5\", \"5670.5\", \"5689\"], \"x\": [\"2016-04-09T18:50:00Z\", \"2016-04-09T18:51:00Z\", \"2016-04-09T18:52:00Z\", \"2016-04-09T18:53:00Z\", \"2016-04-09T18:54:00Z\", \"2016-04-09T18:55:00Z\", \"2016-04-09T18:56:00Z\", \"2016-04-09T18:57:00Z\", \"2016-04-09T18:58:00Z\", \"2016-04-09T18:59:00Z\", \"2016-04-09T19:00:00Z\", \"2016-04-09T19:01:00Z\", \"2016-04-09T19:02:00Z\", \"2016-04-09T19:03:00Z\", \"2016-04-09T19:04:00Z\", \"2016-04-09T19:05:00Z\", \"2016-04-09T19:06:00Z\", \"2016-04-09T19:07:00Z\", \"2016-04-09T19:08:00Z\", \"2016-04-09T19:09:00Z\", \"2016-04-09T19:10:00Z\", \"2016-04-09T19:11:00Z\", \"2016-04-09T19:12:00Z\", \"2016-04-09T19:13:00Z\", \"2016-04-09T19:14:00Z\", \"2016-04-09T19:15:00Z\", \"2016-04-09T19:16:00Z\", \"2016-04-09T19:17:00Z\", \"2016-04-09T19:18:00Z\", \"2016-04-09T19:19:00Z\", \"2016-04-09T19:20:00Z\", \"2016-04-09T19:21:00Z\", \"2016-04-09T19:22:00Z\", \"2016-04-09T19:23:00Z\", \"2016-04-09T19:24:00Z\", \"2016-04-09T19:25:00Z\", \"2016-04-09T19:26:00Z\", \"2016-04-09T19:27:00Z\", \"2016-04-09T19:28:00Z\", \"2016-04-09T19:29:00Z\", \"2016-04-09T19:30:00Z\", \"2016-04-09T19:31:00Z\", \"2016-04-09T19:32:00Z\", \"2016-04-09T19:33:00Z\", \"2016-04-09T19:34:00Z\", \"2016-04-09T19:35:00Z\", \"2016-04-09T19:36:00Z\", \"2016-04-09T19:37:00Z\", \"2016-04-09T19:38:00Z\", \"2016-04-09T19:39:00Z\", \"2016-04-09T19:40:00Z\", \"2016-04-09T19:41:00Z\", \"2016-04-09T19:42:00Z\", \"2016-04-09T19:43:00Z\", \"2016-04-09T19:44:00Z\", \"2016-04-09T19:45:00Z\", \"2016-04-09T19:46:00Z\", \"2016-04-09T19:47:00Z\", \"2016-04-09T19:48:00Z\", \"2016-04-09T19:49:00Z\", \"2016-04-09T19:50:00Z\"], \"line\": {\"color\": \"rgba(101, 101, 101, 1.0)\", \"width\": 1.3, \"dash\": \"solid\"}, \"type\": \"scatter\", \"fill\": \"tozeroy\"}, {\"name\": \"apache.performance.busy_worker_count\", \"text\": \"\", \"mode\": \"lines\", \"fillcolor\": \"rgba(251, 193, 94, 0.3)\", \"y\": [\"1\", \"1\", \"1\", \"1\", \"1\", \"1\", \"1\", \"1\", \"1\", \"1\", \"1\", \"1\", \"1\", \"1\", \"1\", \"1\", \"1\", \"1\", \"1\", \"1\", \"1\", \"1\", \"1\", \"1\", \"1\", \"1\", \"1\", \"1\", \"1\", \"1\", \"1\", \"1\", \"1\", \"1\", \"1\", \"1\", \"1\", \"1\", \"1\", \"1\", \"1\", \"1\", \"1\", \"1\", \"1\", \"1\", \"1\", \"1\", \"1\", \"1\", \"1\", \"1\", \"1\", \"1\", \"1\", \"1\", \"1\", \"1\", \"1\", \"1\", \"1\"], \"x\": [\"2016-04-09T18:50:00Z\", \"2016-04-09T18:51:00Z\", \"2016-04-09T18:52:00Z\", \"2016-04-09T18:53:00Z\", \"2016-04-09T18:54:00Z\", \"2016-04-09T18:55:00Z\", \"2016-04-09T18:56:00Z\", \"2016-04-09T18:57:00Z\", \"2016-04-09T18:58:00Z\", \"2016-04-09T18:59:00Z\", \"2016-04-09T19:00:00Z\", \"2016-04-09T19:01:00Z\", \"2016-04-09T19:02:00Z\", \"2016-04-09T19:03:00Z\", \"2016-04-09T19:04:00Z\", \"2016-04-09T19:05:00Z\", \"2016-04-09T19:06:00Z\", \"2016-04-09T19:07:00Z\", \"2016-04-09T19:08:00Z\", \"2016-04-09T19:09:00Z\", \"2016-04-09T19:10:00Z\", \"2016-04-09T19:11:00Z\", \"2016-04-09T19:12:00Z\", \"2016-04-09T19:13:00Z\", \"2016-04-09T19:14:00Z\", \"2016-04-09T19:15:00Z\", \"2016-04-09T19:16:00Z\", \"2016-04-09T19:17:00Z\", \"2016-04-09T19:18:00Z\", \"2016-04-09T19:19:00Z\", \"2016-04-09T19:20:00Z\", \"2016-04-09T19:21:00Z\", \"2016-04-09T19:22:00Z\", \"2016-04-09T19:23:00Z\", \"2016-04-09T19:24:00Z\", \"2016-04-09T19:25:00Z\", \"2016-04-09T19:26:00Z\", \"2016-04-09T19:27:00Z\", \"2016-04-09T19:28:00Z\", \"2016-04-09T19:29:00Z\", \"2016-04-09T19:30:00Z\", \"2016-04-09T19:31:00Z\", \"2016-04-09T19:32:00Z\", \"2016-04-09T19:33:00Z\", \"2016-04-09T19:34:00Z\", \"2016-04-09T19:35:00Z\", \"2016-04-09T19:36:00Z\", \"2016-04-09T19:37:00Z\", \"2016-04-09T19:38:00Z\", \"2016-04-09T19:39:00Z\", \"2016-04-09T19:40:00Z\", \"2016-04-09T19:41:00Z\", \"2016-04-09T19:42:00Z\", \"2016-04-09T19:43:00Z\", \"2016-04-09T19:44:00Z\", \"2016-04-09T19:45:00Z\", \"2016-04-09T19:46:00Z\", \"2016-04-09T19:47:00Z\", \"2016-04-09T19:48:00Z\", \"2016-04-09T19:49:00Z\", \"2016-04-09T19:50:00Z\"], \"line\": {\"color\": \"rgba(251, 193, 94, 1.0)\", \"width\": 1.3, \"dash\": \"solid\"}, \"type\": \"scatter\", \"fill\": \"tozeroy\"}, {\"name\": \"apache.performance.cpu_load_perc\", \"text\": \"\", \"mode\": \"lines\", \"fillcolor\": \"rgba(142, 186, 66, 0.3)\", \"y\": [\"0.1958765\", \"0.19546025\", \"0.19478725\", \"0.194411\", \"0.1937135\", \"0.193632\", \"0.193469\", \"0.19311775\", \"0.193152\", \"0.193519333333\", \"0.193043\", \"0.1930275\", \"0.19241225\", \"0.19250125\", \"0.19200425\", \"0.19142225\", \"0.19128175\", \"0.1914275\", \"0.190639\", \"0.190511\", \"0.19052375\", \"0.19017575\", \"0.19032525\", \"0.19016325\", \"0.19013475\", \"0.18972975\", \"0.189322\", \"0.18896575\", \"0.18869925\", \"0.188812\", \"0.188552\", \"0.18850125\", \"0.188411\", \"0.18812325\", \"0.187801\", \"0.18764225\", \"0.1876405\", \"0.187601\", \"0.187219\", \"0.18680725\", \"0.18703775\", \"0.186671\", \"0.18634825\", \"0.18584175\", \"0.18558375\", \"0.18556425\", \"0.185758\", \"0.185597\", \"0.1856475\", \"0.1852825\", \"0.18509525\", \"0.185183\", \"0.18537025\", \"0.184952\", \"0.184807\", \"0.18499175\", \"0.1847835\", \"0.18444825\", \"0.18437475\", \"0.184207\", \"0.184314\"], \"x\": [\"2016-04-09T18:50:00Z\", \"2016-04-09T18:51:00Z\", \"2016-04-09T18:52:00Z\", \"2016-04-09T18:53:00Z\", \"2016-04-09T18:54:00Z\", \"2016-04-09T18:55:00Z\", \"2016-04-09T18:56:00Z\", \"2016-04-09T18:57:00Z\", \"2016-04-09T18:58:00Z\", \"2016-04-09T18:59:00Z\", \"2016-04-09T19:00:00Z\", \"2016-04-09T19:01:00Z\", \"2016-04-09T19:02:00Z\", \"2016-04-09T19:03:00Z\", \"2016-04-09T19:04:00Z\", \"2016-04-09T19:05:00Z\", \"2016-04-09T19:06:00Z\", \"2016-04-09T19:07:00Z\", \"2016-04-09T19:08:00Z\", \"2016-04-09T19:09:00Z\", \"2016-04-09T19:10:00Z\", \"2016-04-09T19:11:00Z\", \"2016-04-09T19:12:00Z\", \"2016-04-09T19:13:00Z\", \"2016-04-09T19:14:00Z\", \"2016-04-09T19:15:00Z\", \"2016-04-09T19:16:00Z\", \"2016-04-09T19:17:00Z\", \"2016-04-09T19:18:00Z\", \"2016-04-09T19:19:00Z\", \"2016-04-09T19:20:00Z\", \"2016-04-09T19:21:00Z\", \"2016-04-09T19:22:00Z\", \"2016-04-09T19:23:00Z\", \"2016-04-09T19:24:00Z\", \"2016-04-09T19:25:00Z\", \"2016-04-09T19:26:00Z\", \"2016-04-09T19:27:00Z\", \"2016-04-09T19:28:00Z\", \"2016-04-09T19:29:00Z\", \"2016-04-09T19:30:00Z\", \"2016-04-09T19:31:00Z\", \"2016-04-09T19:32:00Z\", \"2016-04-09T19:33:00Z\", \"2016-04-09T19:34:00Z\", \"2016-04-09T19:35:00Z\", \"2016-04-09T19:36:00Z\", \"2016-04-09T19:37:00Z\", \"2016-04-09T19:38:00Z\", \"2016-04-09T19:39:00Z\", \"2016-04-09T19:40:00Z\", \"2016-04-09T19:41:00Z\", \"2016-04-09T19:42:00Z\", \"2016-04-09T19:43:00Z\", \"2016-04-09T19:44:00Z\", \"2016-04-09T19:45:00Z\", \"2016-04-09T19:46:00Z\", \"2016-04-09T19:47:00Z\", \"2016-04-09T19:48:00Z\", \"2016-04-09T19:49:00Z\", \"2016-04-09T19:50:00Z\"], \"line\": {\"color\": \"rgba(142, 186, 66, 1.0)\", \"width\": 1.3, \"dash\": \"solid\"}, \"type\": \"scatter\", \"fill\": \"tozeroy\"}, {\"name\": \"apache.performance.idle_worker_count\", \"text\": \"\", \"mode\": \"lines\", \"fillcolor\": \"rgba(255, 181, 184, 0.3)\", \"y\": [\"49\", \"49\", \"49\", \"49\", \"49\", \"49\", \"49\", \"49\", \"49\", \"49\", \"49\", \"49\", \"49\", \"49\", \"49\", \"49\", \"49\", \"49\", \"49\", \"49\", \"49\", \"49\", \"49\", \"49\", \"49\", \"49\", \"49\", \"49\", \"49\", \"49\", \"49\", \"49\", \"49\", \"49\", \"49\", \"49\", \"49\", \"49\", \"49\", \"49\", \"49\", \"49\", \"49\", \"49\", \"49\", \"49\", \"49\", \"49\", \"49\", \"49\", \"49\", \"49\", \"49\", \"49\", \"49\", \"49\", \"49\", \"49\", \"49\", \"49\", \"49\"], \"x\": [\"2016-04-09T18:50:00Z\", \"2016-04-09T18:51:00Z\", \"2016-04-09T18:52:00Z\", \"2016-04-09T18:53:00Z\", \"2016-04-09T18:54:00Z\", \"2016-04-09T18:55:00Z\", \"2016-04-09T18:56:00Z\", \"2016-04-09T18:57:00Z\", \"2016-04-09T18:58:00Z\", \"2016-04-09T18:59:00Z\", \"2016-04-09T19:00:00Z\", \"2016-04-09T19:01:00Z\", \"2016-04-09T19:02:00Z\", \"2016-04-09T19:03:00Z\", \"2016-04-09T19:04:00Z\", \"2016-04-09T19:05:00Z\", \"2016-04-09T19:06:00Z\", \"2016-04-09T19:07:00Z\", \"2016-04-09T19:08:00Z\", \"2016-04-09T19:09:00Z\", \"2016-04-09T19:10:00Z\", \"2016-04-09T19:11:00Z\", \"2016-04-09T19:12:00Z\", \"2016-04-09T19:13:00Z\", \"2016-04-09T19:14:00Z\", \"2016-04-09T19:15:00Z\", \"2016-04-09T19:16:00Z\", \"2016-04-09T19:17:00Z\", \"2016-04-09T19:18:00Z\", \"2016-04-09T19:19:00Z\", \"2016-04-09T19:20:00Z\", \"2016-04-09T19:21:00Z\", \"2016-04-09T19:22:00Z\", \"2016-04-09T19:23:00Z\", \"2016-04-09T19:24:00Z\", \"2016-04-09T19:25:00Z\", \"2016-04-09T19:26:00Z\", \"2016-04-09T19:27:00Z\", \"2016-04-09T19:28:00Z\", \"2016-04-09T19:29:00Z\", \"2016-04-09T19:30:00Z\", \"2016-04-09T19:31:00Z\", \"2016-04-09T19:32:00Z\", \"2016-04-09T19:33:00Z\", \"2016-04-09T19:34:00Z\", \"2016-04-09T19:35:00Z\", \"2016-04-09T19:36:00Z\", \"2016-04-09T19:37:00Z\", \"2016-04-09T19:38:00Z\", \"2016-04-09T19:39:00Z\", \"2016-04-09T19:40:00Z\", \"2016-04-09T19:41:00Z\", \"2016-04-09T19:42:00Z\", \"2016-04-09T19:43:00Z\", \"2016-04-09T19:44:00Z\", \"2016-04-09T19:45:00Z\", \"2016-04-09T19:46:00Z\", \"2016-04-09T19:47:00Z\", \"2016-04-09T19:48:00Z\", \"2016-04-09T19:49:00Z\", \"2016-04-09T19:50:00Z\"], \"line\": {\"color\": \"rgba(255, 181, 184, 1.0)\", \"width\": 1.3, \"dash\": \"solid\"}, \"type\": \"scatter\", \"fill\": \"tozeroy\"}, {\"name\": \"apache.status\", \"text\": \"\", \"mode\": \"lines\", \"fillcolor\": \"rgba(255, 181, 184, 0.3)\", \"y\": [\"0\", \"0\", \"0\", \"0\", \"0\", \"0\", \"0\", \"0\", \"0\", \"0\", \"0\", \"0\", \"0\", \"0\", \"0\", \"0\", \"0\", \"0\", \"0\", \"0\", \"0\", \"0\", \"0\", \"0\", \"0\", \"0\", \"0\", \"0\", \"0\", \"0\", \"0\", \"0\", \"0\", \"0\", \"0\", \"0\", \"0\", \"0\", \"0\", \"0\", \"0\", \"0\", \"0\", \"0\", \"0\", \"0\", \"0\", \"0\", \"0\", \"0\", \"0\", \"0\", \"0\", \"0\", \"0\", \"0\", \"0\", \"0\", \"0\", \"0\", \"0\"], \"x\": [\"2016-04-09T18:50:00Z\", \"2016-04-09T18:51:00Z\", \"2016-04-09T18:52:00Z\", \"2016-04-09T18:53:00Z\", \"2016-04-09T18:54:00Z\", \"2016-04-09T18:55:00Z\", \"2016-04-09T18:56:00Z\", \"2016-04-09T18:57:00Z\", \"2016-04-09T18:58:00Z\", \"2016-04-09T18:59:00Z\", \"2016-04-09T19:00:00Z\", \"2016-04-09T19:01:00Z\", \"2016-04-09T19:02:00Z\", \"2016-04-09T19:03:00Z\", \"2016-04-09T19:04:00Z\", \"2016-04-09T19:05:00Z\", \"2016-04-09T19:06:00Z\", \"2016-04-09T19:07:00Z\", \"2016-04-09T19:08:00Z\", \"2016-04-09T19:09:00Z\", \"2016-04-09T19:10:00Z\", \"2016-04-09T19:11:00Z\", \"2016-04-09T19:12:00Z\", \"2016-04-09T19:13:00Z\", \"2016-04-09T19:14:00Z\", \"2016-04-09T19:15:00Z\", \"2016-04-09T19:16:00Z\", \"2016-04-09T19:17:00Z\", \"2016-04-09T19:18:00Z\", \"2016-04-09T19:19:00Z\", \"2016-04-09T19:20:00Z\", \"2016-04-09T19:21:00Z\", \"2016-04-09T19:22:00Z\", \"2016-04-09T19:23:00Z\", \"2016-04-09T19:24:00Z\", \"2016-04-09T19:25:00Z\", \"2016-04-09T19:26:00Z\", \"2016-04-09T19:27:00Z\", \"2016-04-09T19:28:00Z\", \"2016-04-09T19:29:00Z\", \"2016-04-09T19:30:00Z\", \"2016-04-09T19:31:00Z\", \"2016-04-09T19:32:00Z\", \"2016-04-09T19:33:00Z\", \"2016-04-09T19:34:00Z\", \"2016-04-09T19:35:00Z\", \"2016-04-09T19:36:00Z\", \"2016-04-09T19:37:00Z\", \"2016-04-09T19:38:00Z\", \"2016-04-09T19:39:00Z\", \"2016-04-09T19:40:00Z\", \"2016-04-09T19:41:00Z\", \"2016-04-09T19:42:00Z\", \"2016-04-09T19:43:00Z\", \"2016-04-09T19:44:00Z\", \"2016-04-09T19:45:00Z\", \"2016-04-09T19:46:00Z\", \"2016-04-09T19:47:00Z\", \"2016-04-09T19:48:00Z\", \"2016-04-09T19:49:00Z\", \"2016-04-09T19:50:00Z\"], \"line\": {\"color\": \"rgba(255, 181, 184, 0.89999999999999991)\", \"width\": 1.3, \"dash\": \"solid\"}, \"type\": \"scatter\", \"fill\": \"tozeroy\"}, {\"name\": \"cpu.idle_perc\", \"text\": \"\", \"mode\": \"lines\", \"fillcolor\": \"rgba(226, 74, 51, 0.3)\", \"y\": [\"86.4\", \"86.575\", \"86.675\", \"86.5\", \"86.55\", \"86.55\", \"86.45\", \"86.525\", \"86.3666666667\", \"86.65\", \"86.575\", \"86.525\", \"86.55\", \"86.475\", \"86.35\", \"86.65\", \"86.7\", \"86.475\", \"86.725\", \"86.45\", \"86.925\", \"86.45\", \"87.2\", \"87.15\", \"85.975\", \"87.1\", \"86.4\", \"85.975\", \"86.6\", \"86.275\", \"86.6\", \"86.275\", \"86.475\", \"86.7\", \"86.675\", \"86.3\", \"86.525\", \"86.4\", \"86.4\", \"86.55\", \"86.65\", \"86.625\", \"86.775\", \"86.55\", \"87.125\", \"86.45\", \"86.575\", \"86.775\", \"86.575\", \"86.525\", \"86.175\", \"86.125\", \"86.325\", \"86.675\", \"86.35\", \"86.175\", \"86.425\", \"86.75\", \"86.4\", \"86.525\", \"86.4\"], \"x\": [\"2016-04-09T18:50:00Z\", \"2016-04-09T18:51:00Z\", \"2016-04-09T18:52:00Z\", \"2016-04-09T18:53:00Z\", \"2016-04-09T18:54:00Z\", \"2016-04-09T18:55:00Z\", \"2016-04-09T18:56:00Z\", \"2016-04-09T18:57:00Z\", \"2016-04-09T18:58:00Z\", \"2016-04-09T18:59:00Z\", \"2016-04-09T19:00:00Z\", \"2016-04-09T19:01:00Z\", \"2016-04-09T19:02:00Z\", \"2016-04-09T19:03:00Z\", \"2016-04-09T19:04:00Z\", \"2016-04-09T19:05:00Z\", \"2016-04-09T19:06:00Z\", \"2016-04-09T19:07:00Z\", \"2016-04-09T19:08:00Z\", \"2016-04-09T19:09:00Z\", \"2016-04-09T19:10:00Z\", \"2016-04-09T19:11:00Z\", \"2016-04-09T19:12:00Z\", \"2016-04-09T19:13:00Z\", \"2016-04-09T19:14:00Z\", \"2016-04-09T19:15:00Z\", \"2016-04-09T19:16:00Z\", \"2016-04-09T19:17:00Z\", \"2016-04-09T19:18:00Z\", \"2016-04-09T19:19:00Z\", \"2016-04-09T19:20:00Z\", \"2016-04-09T19:21:00Z\", \"2016-04-09T19:22:00Z\", \"2016-04-09T19:23:00Z\", \"2016-04-09T19:24:00Z\", \"2016-04-09T19:25:00Z\", \"2016-04-09T19:26:00Z\", \"2016-04-09T19:27:00Z\", \"2016-04-09T19:28:00Z\", \"2016-04-09T19:29:00Z\", \"2016-04-09T19:30:00Z\", \"2016-04-09T19:31:00Z\", \"2016-04-09T19:32:00Z\", \"2016-04-09T19:33:00Z\", \"2016-04-09T19:34:00Z\", \"2016-04-09T19:35:00Z\", \"2016-04-09T19:36:00Z\", \"2016-04-09T19:37:00Z\", \"2016-04-09T19:38:00Z\", \"2016-04-09T19:39:00Z\", \"2016-04-09T19:40:00Z\", \"2016-04-09T19:41:00Z\", \"2016-04-09T19:42:00Z\", \"2016-04-09T19:43:00Z\", \"2016-04-09T19:44:00Z\", \"2016-04-09T19:45:00Z\", \"2016-04-09T19:46:00Z\", \"2016-04-09T19:47:00Z\", \"2016-04-09T19:48:00Z\", \"2016-04-09T19:49:00Z\", \"2016-04-09T19:50:00Z\"], \"line\": {\"color\": \"rgba(226, 74, 51, 0.89999999999999991)\", \"width\": 1.3, \"dash\": \"solid\"}, \"type\": \"scatter\", \"fill\": \"tozeroy\"}, {\"name\": \"cpu.stolen_perc\", \"text\": \"\", \"mode\": \"lines\", \"fillcolor\": \"rgba(62, 111, 176, 0.3)\", \"y\": [\"0\", \"0\", \"0\", \"0\", \"0\", \"0\", \"0\", \"0\", \"0\", \"0\", \"0\", \"0\", \"0\", \"0\", \"0\", \"0\", \"0\", \"0\", \"0\", \"0\", \"0\", \"0\", \"0\", \"0\", \"0\", \"0\", \"0\", \"0\", \"0\", \"0\", \"0\", \"0\", \"0\", \"0\", \"0\", \"0\", \"0\", \"0\", \"0\", \"0\", \"0\", \"0\", \"0\", \"0\", \"0\", \"0\", \"0\", \"0\", \"0\", \"0\", \"0\", \"0\", \"0\", \"0\", \"0\", \"0\", \"0\", \"0\", \"0\", \"0\", \"0\"], \"x\": [\"2016-04-09T18:50:00Z\", \"2016-04-09T18:51:00Z\", \"2016-04-09T18:52:00Z\", \"2016-04-09T18:53:00Z\", \"2016-04-09T18:54:00Z\", \"2016-04-09T18:55:00Z\", \"2016-04-09T18:56:00Z\", \"2016-04-09T18:57:00Z\", \"2016-04-09T18:58:00Z\", \"2016-04-09T18:59:00Z\", \"2016-04-09T19:00:00Z\", \"2016-04-09T19:01:00Z\", \"2016-04-09T19:02:00Z\", \"2016-04-09T19:03:00Z\", \"2016-04-09T19:04:00Z\", \"2016-04-09T19:05:00Z\", \"2016-04-09T19:06:00Z\", \"2016-04-09T19:07:00Z\", \"2016-04-09T19:08:00Z\", \"2016-04-09T19:09:00Z\", \"2016-04-09T19:10:00Z\", \"2016-04-09T19:11:00Z\", \"2016-04-09T19:12:00Z\", \"2016-04-09T19:13:00Z\", \"2016-04-09T19:14:00Z\", \"2016-04-09T19:15:00Z\", \"2016-04-09T19:16:00Z\", \"2016-04-09T19:17:00Z\", \"2016-04-09T19:18:00Z\", \"2016-04-09T19:19:00Z\", \"2016-04-09T19:20:00Z\", \"2016-04-09T19:21:00Z\", \"2016-04-09T19:22:00Z\", \"2016-04-09T19:23:00Z\", \"2016-04-09T19:24:00Z\", \"2016-04-09T19:25:00Z\", \"2016-04-09T19:26:00Z\", \"2016-04-09T19:27:00Z\", \"2016-04-09T19:28:00Z\", \"2016-04-09T19:29:00Z\", \"2016-04-09T19:30:00Z\", \"2016-04-09T19:31:00Z\", \"2016-04-09T19:32:00Z\", \"2016-04-09T19:33:00Z\", \"2016-04-09T19:34:00Z\", \"2016-04-09T19:35:00Z\", \"2016-04-09T19:36:00Z\", \"2016-04-09T19:37:00Z\", \"2016-04-09T19:38:00Z\", \"2016-04-09T19:39:00Z\", \"2016-04-09T19:40:00Z\", \"2016-04-09T19:41:00Z\", \"2016-04-09T19:42:00Z\", \"2016-04-09T19:43:00Z\", \"2016-04-09T19:44:00Z\", \"2016-04-09T19:45:00Z\", \"2016-04-09T19:46:00Z\", \"2016-04-09T19:47:00Z\", \"2016-04-09T19:48:00Z\", \"2016-04-09T19:49:00Z\", \"2016-04-09T19:50:00Z\"], \"line\": {\"color\": \"rgba(62, 111, 176, 0.89999999999999991)\", \"width\": 1.3, \"dash\": \"solid\"}, \"type\": \"scatter\", \"fill\": \"tozeroy\"}], {\"width\": 640, \"autosize\": false, \"margin\": {\"b\": 100, \"r\": 50, \"pad\": 4, \"t\": 100, \"l\": 50}, \"height\": 768}, {\"linkText\": \"Export to plot.ly\", \"showLink\": true})</script>"
      ],
      "text/plain": [
       "<IPython.core.display.HTML object>"
      ]
     },
     "metadata": {},
     "output_type": "display_data"
    }
   ],
   "source": [
    "metrics = get_metrics(names=['cpu.user_perc', 'cpu.system_perc'])\n",
    "metrics = get_metrics()\n",
    "statistics = get_statistics(metrics, ['avg'], 3600)\n",
    "df = df_from_statistics(statistics)\n",
    "#df.iplot(subplots=True, shape=(len(df.columns),1), shared_xaxes=True, fill=True,\n",
    "df.iplot(kind='line', fill=True,\n",
    "         xTitle='Date',\n",
    "         yTitle='Value',\n",
    "         title='Statistics',\n",
    "         layout=layout)\n",
    "# df.scatter_matrix(world_readable=True)"
   ]
  },
  {
   "cell_type": "code",
   "execution_count": 146,
   "metadata": {
    "collapsed": false
   },
   "outputs": [
    {
     "data": {
      "text/html": [
       "<div id=\"0633d4c3-0953-4bf5-a5e6-6dea84efb40a\" style=\"height: 768; width: 640px;\" class=\"plotly-graph-div\"></div><script type=\"text/javascript\">window.PLOTLYENV=window.PLOTLYENV || {};window.PLOTLYENV.BASE_URL=\"https://plot.ly\";Plotly.newPlot(\"0633d4c3-0953-4bf5-a5e6-6dea84efb40a\", [{\"name\": \"apache.net.hits\", \"marker\": {\"color\": \"rgba(226, 74, 51, 1.0)\"}, \"y\": [\"710.5\", \"718\", \"724.5\", \"730.25\", \"734.5\", \"739.25\", \"746.75\", \"751.75\", \"757.25\", \"762\", \"765.5\", \"776.25\", \"783.75\", \"788.75\", \"794\", \"798.5\", \"803.25\", \"809.5\", \"816.25\", \"820.5\", \"828.75\", \"834.5\", \"838.75\", \"844.25\", \"859.25\", \"874.25\", \"879.5\", \"886\", \"891.5\", \"897.25\", \"903.5\", \"908.5\", \"916.25\", \"924.5\", \"929.75\", \"935.5\", \"941\", \"946\", \"952.25\", \"958.5\", \"964\", \"971.5\", \"989.75\", \"994.5\", \"1000.75\", \"1007.5\", \"1012\", \"1019\", \"1026\", \"1031.75\", \"1037.5\", \"1042.5\", \"1049.25\", \"1055.5\", \"1061.5\", \"1068.25\", \"1073.25\", \"1077.75\", \"1083.25\", \"1090.25\", \"1096\"], \"line\": {\"width\": 1.3}, \"type\": \"box\", \"boxpoints\": false}, {\"name\": \"apache.net.kbytes_sec\", \"marker\": {\"color\": \"rgba(62, 111, 176, 1.0)\"}, \"y\": [\"0.0333333333334\", \"0.65\", \"0.233333333333\", \"0.15\", \"0.05\", \"0.25\", \"0.35\", \"0.15\", \"0.15\", \"0.169444444444\", \"0.05\", \"0.833333333333\", \"0.35\", \"0.15\", \"0.15\", \"0.05\", \"0.15\", \"0.333333333333\", \"0.25\", \"0.05\", \"0.650000000001\", \"0.05\", \"0.15\", \"0.25\", \"2.01666666667\", \"0.25\", \"0.0489583333334\", \"0.410565476191\", \"0.05\", \"0.333333333333\", \"0.25\", \"0.05\", \"0.75\", \"0.233333333333\", \"0.15\", \"0.15\", \"0.25\", \"0.15\", \"0.45\", \"0.05\", \"0.25\", \"1.13333333333\", \"0.733333333333\", \"0.05\", \"0.316666666667\", \"0.216666666667\", \"0.198958333333\", \"0.216666666667\", \"0.366666666667\", \"0.15\", \"0.216666666667\", \"0.05\", \"0.416666666667\", \"0.25\", \"0.3\", \"0.15\", \"0.15\", \"0.15\", \"0.25\", \"0.35\", \"0.466666666667\"], \"line\": {\"width\": 1.3}, \"type\": \"box\", \"boxpoints\": false}, {\"name\": \"apache.net.requests_sec\", \"marker\": {\"color\": \"rgba(132, 118, 202, 1.0)\"}, \"y\": [\"0.0666666666667\", \"0.166666666667\", \"0.0999999999998\", \"0.0833333333333\", \"0.0666666666667\", \"0.0999999999998\", \"0.116666666666\", \"0.0833333333333\", \"0.0833333333333\", \"0.0861111111111\", \"0.0666666666667\", \"0.2\", \"0.116666666666\", \"0.0833333333333\", \"0.0833333333333\", \"0.0666666666667\", \"0.0833333333333\", \"0.116666666666\", \"0.0999999999999\", \"0.0666666666667\", \"0.166666666667\", \"0.0666666666667\", \"0.0833333333333\", \"0.0999999999998\", \"0.4\", \"0.0999999999998\", \"0.065625\", \"0.132440476191\", \"0.0666666666667\", \"0.116666666666\", \"0.0999999999998\", \"0.0666666666667\", \"0.183333333333\", \"0.0999999999998\", \"0.0833333333333\", \"0.0833333333333\", \"0.0999999999999\", \"0.0833333333333\", \"0.133333333333\", \"0.0666666666667\", \"0.0999999999999\", \"0.25\", \"0.183333333333\", \"0.0666666666667\", \"0.116666666667\", \"0.1\", \"0.0989583333334\", \"0.1\", \"0.133333333333\", \"0.0833333333333\", \"0.1\", \"0.0666666666667\", \"0.133333333333\", \"0.0999999999998\", \"0.116666666667\", \"0.0833333333333\", \"0.0833333333333\", \"0.0833333333333\", \"0.0999999999998\", \"0.133333333333\", \"0.133333333333\"], \"line\": {\"width\": 1.3}, \"type\": \"box\", \"boxpoints\": false}, {\"name\": \"apache.net.total_kbytes\", \"marker\": {\"color\": \"rgba(101, 101, 101, 1.0)\"}, \"y\": [\"4655.5\", \"4684.75\", \"4702.25\", \"4715.75\", \"4720.25\", \"4727.75\", \"4751.25\", \"4760.25\", \"4772.25\", \"4782\", \"4785\", \"4827.75\", \"4851.25\", \"4860.25\", \"4870.75\", \"4876.5\", \"4884.25\", \"4900.25\", \"4919.5\", \"4924.25\", \"4952.5\", \"4966\", \"4970.75\", \"4982.5\", \"5050.5\", \"5118.5\", \"5129\", \"5145.25\", \"5156.5\", \"5169.75\", \"5186.25\", \"5195.25\", \"5220.5\", \"5248.25\", \"5258.75\", \"5272.25\", \"5284\", \"5293\", \"5309.5\", \"5325.5\", \"5337.5\", \"5361.25\", \"5448.5\", \"5456\", \"5470.25\", \"5487.5\", \"5492.75\", \"5510.5\", \"5528\", \"5539.75\", \"5552\", \"5560.25\", \"5577.5\", \"5593.75\", \"5607.75\", \"5625.25\", \"5634.25\", \"5640.5\", \"5652.5\", \"5670.5\", \"5689\"], \"line\": {\"width\": 1.3}, \"type\": \"box\", \"boxpoints\": false}, {\"name\": \"apache.performance.busy_worker_count\", \"marker\": {\"color\": \"rgba(251, 193, 94, 1.0)\"}, \"y\": [\"1\", \"1\", \"1\", \"1\", \"1\", \"1\", \"1\", \"1\", \"1\", \"1\", \"1\", \"1\", \"1\", \"1\", \"1\", \"1\", \"1\", \"1\", \"1\", \"1\", \"1\", \"1\", \"1\", \"1\", \"1\", \"1\", \"1\", \"1\", \"1\", \"1\", \"1\", \"1\", \"1\", \"1\", \"1\", \"1\", \"1\", \"1\", \"1\", \"1\", \"1\", \"1\", \"1\", \"1\", \"1\", \"1\", \"1\", \"1\", \"1\", \"1\", \"1\", \"1\", \"1\", \"1\", \"1\", \"1\", \"1\", \"1\", \"1\", \"1\", \"1\"], \"line\": {\"width\": 1.3}, \"type\": \"box\", \"boxpoints\": false}, {\"name\": \"apache.performance.cpu_load_perc\", \"marker\": {\"color\": \"rgba(142, 186, 66, 1.0)\"}, \"y\": [\"0.1958765\", \"0.19546025\", \"0.19478725\", \"0.194411\", \"0.1937135\", \"0.193632\", \"0.193469\", \"0.19311775\", \"0.193152\", \"0.193519333333\", \"0.193043\", \"0.1930275\", \"0.19241225\", \"0.19250125\", \"0.19200425\", \"0.19142225\", \"0.19128175\", \"0.1914275\", \"0.190639\", \"0.190511\", \"0.19052375\", \"0.19017575\", \"0.19032525\", \"0.19016325\", \"0.19013475\", \"0.18972975\", \"0.189322\", \"0.18896575\", \"0.18869925\", \"0.188812\", \"0.188552\", \"0.18850125\", \"0.188411\", \"0.18812325\", \"0.187801\", \"0.18764225\", \"0.1876405\", \"0.187601\", \"0.187219\", \"0.18680725\", \"0.18703775\", \"0.186671\", \"0.18634825\", \"0.18584175\", \"0.18558375\", \"0.18556425\", \"0.185758\", \"0.185597\", \"0.1856475\", \"0.1852825\", \"0.18509525\", \"0.185183\", \"0.18537025\", \"0.184952\", \"0.184807\", \"0.18499175\", \"0.1847835\", \"0.18444825\", \"0.18437475\", \"0.184207\", \"0.184314\"], \"line\": {\"width\": 1.3}, \"type\": \"box\", \"boxpoints\": false}, {\"name\": \"apache.performance.idle_worker_count\", \"marker\": {\"color\": \"rgba(255, 181, 184, 1.0)\"}, \"y\": [\"49\", \"49\", \"49\", \"49\", \"49\", \"49\", \"49\", \"49\", \"49\", \"49\", \"49\", \"49\", \"49\", \"49\", \"49\", \"49\", \"49\", \"49\", \"49\", \"49\", \"49\", \"49\", \"49\", \"49\", \"49\", \"49\", \"49\", \"49\", \"49\", \"49\", \"49\", \"49\", \"49\", \"49\", \"49\", \"49\", \"49\", \"49\", \"49\", \"49\", \"49\", \"49\", \"49\", \"49\", \"49\", \"49\", \"49\", \"49\", \"49\", \"49\", \"49\", \"49\", \"49\", \"49\", \"49\", \"49\", \"49\", \"49\", \"49\", \"49\", \"49\"], \"line\": {\"width\": 1.3}, \"type\": \"box\", \"boxpoints\": false}, {\"name\": \"apache.status\", \"marker\": {\"color\": \"rgba(255, 181, 184, 0.89999999999999991)\"}, \"y\": [\"0\", \"0\", \"0\", \"0\", \"0\", \"0\", \"0\", \"0\", \"0\", \"0\", \"0\", \"0\", \"0\", \"0\", \"0\", \"0\", \"0\", \"0\", \"0\", \"0\", \"0\", \"0\", \"0\", \"0\", \"0\", \"0\", \"0\", \"0\", \"0\", \"0\", \"0\", \"0\", \"0\", \"0\", \"0\", \"0\", \"0\", \"0\", \"0\", \"0\", \"0\", \"0\", \"0\", \"0\", \"0\", \"0\", \"0\", \"0\", \"0\", \"0\", \"0\", \"0\", \"0\", \"0\", \"0\", \"0\", \"0\", \"0\", \"0\", \"0\", \"0\"], \"line\": {\"width\": 1.3}, \"type\": \"box\", \"boxpoints\": false}, {\"name\": \"cpu.idle_perc\", \"marker\": {\"color\": \"rgba(226, 74, 51, 0.89999999999999991)\"}, \"y\": [\"86.4\", \"86.575\", \"86.675\", \"86.5\", \"86.55\", \"86.55\", \"86.45\", \"86.525\", \"86.3666666667\", \"86.65\", \"86.575\", \"86.525\", \"86.55\", \"86.475\", \"86.35\", \"86.65\", \"86.7\", \"86.475\", \"86.725\", \"86.45\", \"86.925\", \"86.45\", \"87.2\", \"87.15\", \"85.975\", \"87.1\", \"86.4\", \"85.975\", \"86.6\", \"86.275\", \"86.6\", \"86.275\", \"86.475\", \"86.7\", \"86.675\", \"86.3\", \"86.525\", \"86.4\", \"86.4\", \"86.55\", \"86.65\", \"86.625\", \"86.775\", \"86.55\", \"87.125\", \"86.45\", \"86.575\", \"86.775\", \"86.575\", \"86.525\", \"86.175\", \"86.125\", \"86.325\", \"86.675\", \"86.35\", \"86.175\", \"86.425\", \"86.75\", \"86.4\", \"86.525\", \"86.4\"], \"line\": {\"width\": 1.3}, \"type\": \"box\", \"boxpoints\": false}, {\"name\": \"cpu.stolen_perc\", \"marker\": {\"color\": \"rgba(62, 111, 176, 0.89999999999999991)\"}, \"y\": [\"0\", \"0\", \"0\", \"0\", \"0\", \"0\", \"0\", \"0\", \"0\", \"0\", \"0\", \"0\", \"0\", \"0\", \"0\", \"0\", \"0\", \"0\", \"0\", \"0\", \"0\", \"0\", \"0\", \"0\", \"0\", \"0\", \"0\", \"0\", \"0\", \"0\", \"0\", \"0\", \"0\", \"0\", \"0\", \"0\", \"0\", \"0\", \"0\", \"0\", \"0\", \"0\", \"0\", \"0\", \"0\", \"0\", \"0\", \"0\", \"0\", \"0\", \"0\", \"0\", \"0\", \"0\", \"0\", \"0\", \"0\", \"0\", \"0\", \"0\", \"0\"], \"line\": {\"width\": 1.3}, \"type\": \"box\", \"boxpoints\": false}], {\"width\": 640, \"autosize\": false, \"margin\": {\"b\": 100, \"r\": 50, \"pad\": 4, \"t\": 100, \"l\": 50}, \"height\": 768}, {\"linkText\": \"Export to plot.ly\", \"showLink\": true})</script>"
      ],
      "text/plain": [
       "<IPython.core.display.HTML object>"
      ]
     },
     "metadata": {},
     "output_type": "display_data"
    }
   ],
   "source": [
    "df.iplot(kind='box', layout=layout)"
   ]
  },
  {
   "cell_type": "markdown",
   "metadata": {
    "slideshow": {
     "slide_type": "slide"
    }
   },
   "source": [
    "# Notification Methods\n",
    "---"
   ]
  },
  {
   "cell_type": "markdown",
   "metadata": {
    "slideshow": {
     "slide_type": "slide"
    }
   },
   "source": [
    "# Alarm Defintions\n",
    "---"
   ]
  },
  {
   "cell_type": "markdown",
   "metadata": {
    "slideshow": {
     "slide_type": "slide"
    }
   },
   "source": [
    "# Alarms\n",
    "---"
   ]
  },
  {
   "cell_type": "markdown",
   "metadata": {
    "slideshow": {
     "slide_type": "slide"
    }
   },
   "source": [
    "# Alarm History\n",
    "---"
   ]
  },
  {
   "cell_type": "markdown",
   "metadata": {
    "slideshow": {
     "slide_type": "subslide"
    }
   },
   "source": [
    "# Query the Alarm History\n",
    "---"
   ]
  },
  {
   "cell_type": "code",
   "execution_count": 147,
   "metadata": {
    "collapsed": false,
    "slideshow": {
     "slide_type": "subslide"
    }
   },
   "outputs": [
    {
     "name": "stdout",
     "output_type": "stream",
     "text": [
      "usage: monasca alarm-history-list [--dimensions <KEY1=VALUE1,KEY2=VALUE2...>]\r\n",
      "                                  [--starttime <UTC_START_TIME>]\r\n",
      "                                  [--endtime <UTC_END_TIME>]\r\n",
      "                                  [--offset <OFFSET LOCATION>]\r\n",
      "                                  [--limit <RETURN LIMIT>]\r\n",
      "\r\n",
      "List alarms state history.\r\n",
      "\r\n",
      "Optional arguments:\r\n",
      "  --dimensions <KEY1=VALUE1,KEY2=VALUE2...>\r\n",
      "                        key value pair used to specify a metric dimension.\r\n",
      "                        This can be specified multiple times, or once with\r\n",
      "                        parameters separated by a comma. Dimensions need\r\n",
      "                        quoting when they contain special chars\r\n",
      "                        [&,(,),{,},>,<] that confuse the CLI parser.\r\n",
      "  --starttime <UTC_START_TIME>\r\n",
      "                        measurements >= UTC time. format:\r\n",
      "                        2014-01-01T00:00:00Z. OR format: -120 (previous 120\r\n",
      "                        minutes).\r\n",
      "  --endtime <UTC_END_TIME>\r\n",
      "                        measurements <= UTC time. format:\r\n",
      "                        2014-01-01T00:00:00Z.\r\n",
      "  --offset <OFFSET LOCATION>\r\n",
      "                        The offset used to paginate the return data.\r\n",
      "  --limit <RETURN LIMIT>\r\n",
      "                        The amount of data to be returned up to the API\r\n",
      "                        maximum limit.\r\n"
     ]
    }
   ],
   "source": [
    "!monasca help alarm-history-list"
   ]
  },
  {
   "cell_type": "markdown",
   "metadata": {
    "slideshow": {
     "slide_type": "subslide"
    }
   },
   "source": [
    "# Query the alarm history using the Monasca client\n",
    "---"
   ]
  },
  {
   "cell_type": "code",
   "execution_count": 148,
   "metadata": {
    "collapsed": false,
    "slideshow": {
     "slide_type": "subslide"
    }
   },
   "outputs": [
    {
     "data": {
      "text/plain": [
       "[]"
      ]
     },
     "execution_count": 148,
     "metadata": {},
     "output_type": "execute_result"
    }
   ],
   "source": [
    "monasca_client.alarms.history_list(**{})"
   ]
  },
  {
   "cell_type": "markdown",
   "metadata": {
    "slideshow": {
     "slide_type": "slide"
    }
   },
   "source": [
    "# Agent\n",
    "---"
   ]
  },
  {
   "cell_type": "markdown",
   "metadata": {
    "slideshow": {
     "slide_type": "subslide"
    }
   },
   "source": [
    "# Agent Setup\n",
    "---"
   ]
  },
  {
   "cell_type": "markdown",
   "metadata": {
    "slideshow": {
     "slide_type": "slide"
    }
   },
   "source": [
    "# Developing and Testing\n",
    "---"
   ]
  },
  {
   "cell_type": "markdown",
   "metadata": {
    "slideshow": {
     "slide_type": "fragment"
    }
   },
   "source": [
    "* Python and Java codebase"
   ]
  },
  {
   "cell_type": "markdown",
   "metadata": {
    "slideshow": {
     "slide_type": "fragment"
    }
   },
   "source": [
    "* Monasca DevStack Plugin"
   ]
  },
  {
   "cell_type": "markdown",
   "metadata": {
    "slideshow": {
     "slide_type": "fragment"
    }
   },
   "source": [
    "* Unit Tests"
   ]
  },
  {
   "cell_type": "markdown",
   "metadata": {
    "slideshow": {
     "slide_type": "fragment"
    }
   },
   "source": [
    "* Monasca Tempest Tests"
   ]
  },
  {
   "cell_type": "markdown",
   "metadata": {
    "slideshow": {
     "slide_type": "fragment"
    }
   },
   "source": [
    "* Monasca and OpenStack CI"
   ]
  },
  {
   "cell_type": "markdown",
   "metadata": {
    "slideshow": {
     "slide_type": "subslide"
    }
   },
   "source": [
    "# Monasca Repos\n",
    "---\n",
    "* Monasca is a micro-services message bus based architecture.\n",
    "* Several repos:\n",
    "    * monasca-api: both Python and Java  \n",
    "    * monasca-persister: both Python and Java\n",
    "    * monasca-thresh: Java\n",
    "    * monasca-notification: Python\n",
    "    * monasca-common: both Python and Java\n",
    "    * monasca-agent: Python\n",
    "    * monasca-statsd: Python\n",
    "    * monasca-ui: Python\n",
    "    * python-monascaclient: Python\n",
    "    * puppet-monasca: Puppet\n",
    "    * monasca-log-api"
   ]
  },
  {
   "cell_type": "markdown",
   "metadata": {
    "slideshow": {
     "slide_type": "subslide"
    }
   },
   "source": [
    "# Monasca DevStack Plugin\n",
    "---"
   ]
  },
  {
   "cell_type": "markdown",
   "metadata": {
    "slideshow": {
     "slide_type": "fragment"
    }
   },
   "source": [
    "* DevStack is the primary developmement environment for OpenStack.\n",
    "\n",
    "    * See http://docs.openstack.org/developer/devstack/\n",
    "\n",
    "* The Monasca DevStack plugin installs the Monasca Service, Agent, Horizon Panel, and Grafana\n",
    "\n",
    "* README at, https://github.com/openstack/monasca-api/tree/master/devstack\n",
    "\n",
    "* Best way to get started is to install Vagrant using the Vagrantfile at, https://github.com/openstack/monasca-api/blob/master/devstack/Vagrantfile."
   ]
  },
  {
   "cell_type": "markdown",
   "metadata": {
    "slideshow": {
     "slide_type": "subslide"
    }
   },
   "source": [
    "# Monasca Tempest Tests\n",
    "---"
   ]
  },
  {
   "cell_type": "markdown",
   "metadata": {
    "slideshow": {
     "slide_type": "fragment"
    }
   },
   "source": [
    "* [Tempest](http://docs.openstack.org/developer/tempest) is the integration test suite for OpenStack.\n",
    "\n",
    "* Tempest has an external [Test Plugin Interface](http://docs.openstack.org/developer/tempest/plugin.html) interface that enables anyone to integrate an external test suite.\n",
    "\n",
    "* There is a [Monasca Tempest Plugin](https://github.com/openstack/monasca-api/tree/master/monasca_tempest_tests)\n",
    "\n",
    "* Currently, there are around 150 Tempest Tests written for Monasca that run in around 5 minutes."
   ]
  },
  {
   "cell_type": "markdown",
   "metadata": {
    "slideshow": {
     "slide_type": "subslide"
    }
   },
   "source": [
    "# Monasca CI\n",
    "---"
   ]
  },
  {
   "cell_type": "markdown",
   "metadata": {
    "slideshow": {
     "slide_type": "fragment"
    }
   },
   "source": [
    "* Monasca is fully integrated in the OpenStack CI system.\n",
    "\n",
    "* Gated jobs are run with each commit on both the Python and Java components through the normal gates and all the Monasca Tempest tests using the Monasca DevStack Plugin.\n",
    "\n",
    "* Currently, Java is non-voting"
   ]
  },
  {
   "cell_type": "markdown",
   "metadata": {
    "slideshow": {
     "slide_type": "subslide"
    }
   },
   "source": [
    "# Monasca Weekly Meetings\n",
    "---"
   ]
  },
  {
   "cell_type": "markdown",
   "metadata": {
    "slideshow": {
     "slide_type": "slide"
    }
   },
   "source": [
    "# What's new?\n",
    "---\n",
    "\n",
    "* Multiple metrics\n",
    "\n",
    "* Many enhancements for filtering and sorting resources that return arrays."
   ]
  },
  {
   "cell_type": "markdown",
   "metadata": {
    "slideshow": {
     "slide_type": "slide"
    }
   },
   "source": [
    "# Next Steps\n",
    "---\n",
    "\n",
    "* monasca-transform\n",
    "\n",
    "* monasca-analytics\n",
    "\n",
    "* monasca-events\n",
    "\n",
    "* Multiple metrics"
   ]
  },
  {
   "cell_type": "markdown",
   "metadata": {
    "slideshow": {
     "slide_type": "slide"
    }
   },
   "source": [
    "# Acknowledgments\n",
    "---"
   ]
  },
  {
   "cell_type": "markdown",
   "metadata": {
    "slideshow": {
     "slide_type": "fragment"
    }
   },
   "source": [
    "* Hewlett Packard Enterprise"
   ]
  },
  {
   "cell_type": "markdown",
   "metadata": {
    "slideshow": {
     "slide_type": "fragment"
    }
   },
   "source": [
    "* Time Warner Cable"
   ]
  },
  {
   "cell_type": "markdown",
   "metadata": {
    "slideshow": {
     "slide_type": "fragment"
    }
   },
   "source": [
    "* Fujitsu"
   ]
  },
  {
   "cell_type": "markdown",
   "metadata": {
    "slideshow": {
     "slide_type": "fragment"
    }
   },
   "source": [
    "* Cisco"
   ]
  },
  {
   "cell_type": "markdown",
   "metadata": {
    "slideshow": {
     "slide_type": "fragment"
    }
   },
   "source": [
    "* NEC"
   ]
  },
  {
   "cell_type": "markdown",
   "metadata": {
    "slideshow": {
     "slide_type": "fragment"
    }
   },
   "source": [
    "* Cray"
   ]
  },
  {
   "cell_type": "markdown",
   "metadata": {
    "slideshow": {
     "slide_type": "fragment"
    }
   },
   "source": [
    "* SAP"
   ]
  },
  {
   "cell_type": "markdown",
   "metadata": {
    "slideshow": {
     "slide_type": "fragment"
    }
   },
   "source": [
    "* The OpenStack Technical Committee: Doug Hellman, Flavio Percoco, Thierry Carrez"
   ]
  },
  {
   "cell_type": "markdown",
   "metadata": {
    "slideshow": {
     "slide_type": "slide"
    }
   },
   "source": [
    "# Resources\n",
    "---\n",
    "\n",
    "## Cufflinks\n",
    "* https://plot.ly/ipython-notebooks/cufflinks/\n",
    "* http://web.quant-platform.com/trial/yves/Plotly_Cufflinks.html\n",
    "\n",
    "## ipython Slideshow/RISE\n",
    "* https://github.com/damianavila/RISE\n",
    "* http://www.slideviper.oquanta.info/tutorial/slideshow_tutorial_slides.html#/3\n",
    "* http://www.damian.oquanta.info/posts/make-your-slides-with-ipython.html\n",
    "* https://github.com/damianavila/slideviper_test/blob/gh-pages/tutorial/slideshow_tutorial.ipynb\n",
    "* http://lab.hakim.se/reveal-js/#/themes"
   ]
  },
  {
   "cell_type": "markdown",
   "metadata": {
    "slideshow": {
     "slide_type": "slide"
    }
   },
   "source": [
    "# Thank you"
   ]
  },
  {
   "cell_type": "code",
   "execution_count": 151,
   "metadata": {
    "collapsed": false,
    "slideshow": {
     "slide_type": "slide"
    }
   },
   "outputs": [
    {
     "name": "stdout",
     "output_type": "stream",
     "text": [
      "+--------------------------------------+-----------------------+\r\n",
      "| name                                 | dimensions            |\r\n",
      "+--------------------------------------+-----------------------+\r\n",
      "| apache.net.hits                      | apache_host: devstack |\r\n",
      "|                                      | apache_port: 80       |\r\n",
      "|                                      | component: apache     |\r\n",
      "|                                      | hostname: devstack    |\r\n",
      "|                                      | service: apache       |\r\n",
      "| apache.net.kbytes_sec                | apache_host: devstack |\r\n",
      "|                                      | apache_port: 80       |\r\n",
      "|                                      | component: apache     |\r\n",
      "|                                      | hostname: devstack    |\r\n",
      "|                                      | service: apache       |\r\n",
      "| apache.net.requests_sec              | apache_host: devstack |\r\n",
      "|                                      | apache_port: 80       |\r\n",
      "|                                      | component: apache     |\r\n",
      "|                                      | hostname: devstack    |\r\n",
      "|                                      | service: apache       |\r\n",
      "| apache.net.total_kbytes              | apache_host: devstack |\r\n",
      "|                                      | apache_port: 80       |\r\n",
      "|                                      | component: apache     |\r\n",
      "|                                      | hostname: devstack    |\r\n",
      "|                                      | service: apache       |\r\n",
      "| apache.performance.busy_worker_count | apache_host: devstack |\r\n",
      "|                                      | apache_port: 80       |\r\n",
      "|                                      | component: apache     |\r\n",
      "|                                      | hostname: devstack    |\r\n",
      "|                                      | service: apache       |\r\n",
      "+--------------------------------------+-----------------------+\r\n"
     ]
    }
   ],
   "source": [
    "!monasca metric-list --limit 5"
   ]
  },
  {
   "cell_type": "code",
   "execution_count": 150,
   "metadata": {
    "collapsed": false,
    "slideshow": {
     "slide_type": "slide"
    }
   },
   "outputs": [
    {
     "data": {
      "text/html": [
       "<div id=\"fac5745c-f771-4af7-9571-fa4815c5175c\" style=\"height: 768; width: 640px;\" class=\"plotly-graph-div\"></div><script type=\"text/javascript\">window.PLOTLYENV=window.PLOTLYENV || {};window.PLOTLYENV.BASE_URL=\"https://plot.ly\";Plotly.newPlot(\"fac5745c-f771-4af7-9571-fa4815c5175c\", [{\"name\": \"cpu.user_perc\", \"marker\": {\"color\": \"rgba(226, 74, 51, 1.0)\"}, \"y\": [\"10.3\", \"10.2\", \"10.05\", \"10.2\", \"10.35\", \"10.325\", \"10.275\", \"10.35\", \"10.4666666667\", \"10.125\", \"10.225\", \"10.375\", \"10.35\", \"10.45\", \"10.475\", \"10.15\", \"10.125\", \"10.35\", \"10.175\", \"10.325\", \"9.725\", \"10.225\", \"9.875\", \"9.8\", \"10.65\", \"9.925\", \"10.45\", \"10.75\", \"10.15\", \"10.55\", \"10.25\", \"10.4\", \"10.45\", \"10.05\", \"10.325\", \"10.325\", \"10.275\", \"10.45\", \"10.55\", \"10.2\", \"10.125\", \"10.15\", \"10.075\", \"10.2\", \"9.75\", \"10.4\", \"10.3\", \"10.225\", \"10.35\", \"10.225\", \"10.425\", \"10.45\", \"10.3\", \"10.125\", \"10.475\", \"10.425\", \"10.35\", \"10.175\", \"10.525\", \"10.35\", \"10.3\"], \"line\": {\"width\": 1.3}, \"type\": \"box\", \"boxpoints\": false}, {\"name\": \"cpu.idle_perc\", \"marker\": {\"color\": \"rgba(62, 111, 176, 1.0)\"}, \"y\": [\"86.4\", \"86.575\", \"86.675\", \"86.5\", \"86.55\", \"86.55\", \"86.45\", \"86.525\", \"86.3666666667\", \"86.65\", \"86.575\", \"86.525\", \"86.55\", \"86.475\", \"86.35\", \"86.65\", \"86.7\", \"86.475\", \"86.725\", \"86.45\", \"86.925\", \"86.45\", \"87.2\", \"87.15\", \"85.975\", \"87.1\", \"86.4\", \"85.975\", \"86.6\", \"86.275\", \"86.6\", \"86.275\", \"86.475\", \"86.7\", \"86.675\", \"86.3\", \"86.525\", \"86.4\", \"86.4\", \"86.55\", \"86.65\", \"86.625\", \"86.775\", \"86.55\", \"87.125\", \"86.45\", \"86.575\", \"86.775\", \"86.575\", \"86.525\", \"86.175\", \"86.125\", \"86.325\", \"86.675\", \"86.35\", \"86.175\", \"86.425\", \"86.75\", \"86.4\", \"86.525\", \"86.4\"], \"line\": {\"width\": 1.3}, \"type\": \"box\", \"boxpoints\": false}, {\"name\": \"cpu.stolen_perc\", \"marker\": {\"color\": \"rgba(132, 118, 202, 1.0)\"}, \"y\": [\"0\", \"0\", \"0\", \"0\", \"0\", \"0\", \"0\", \"0\", \"0\", \"0\", \"0\", \"0\", \"0\", \"0\", \"0\", \"0\", \"0\", \"0\", \"0\", \"0\", \"0\", \"0\", \"0\", \"0\", \"0\", \"0\", \"0\", \"0\", \"0\", \"0\", \"0\", \"0\", \"0\", \"0\", \"0\", \"0\", \"0\", \"0\", \"0\", \"0\", \"0\", \"0\", \"0\", \"0\", \"0\", \"0\", \"0\", \"0\", \"0\", \"0\", \"0\", \"0\", \"0\", \"0\", \"0\", \"0\", \"0\", \"0\", \"0\", \"0\", \"0\"], \"line\": {\"width\": 1.3}, \"type\": \"box\", \"boxpoints\": false}, {\"name\": \"cpu.system_perc\", \"marker\": {\"color\": \"rgba(101, 101, 101, 1.0)\"}, \"y\": [\"3.35\", \"3.175\", \"3.25\", \"3.3\", \"3.075\", \"3.075\", \"3.2\", \"3.125\", \"3.13333333333\", \"3.175\", \"3.1\", \"3.1\", \"3.05\", \"3.025\", \"3.125\", \"3.125\", \"3.15\", \"3.2\", \"3.05\", \"3.2\", \"3.275\", \"3.275\", \"2.875\", \"3\", \"3.3\", \"2.95\", \"3.1\", \"3.25\", \"3.225\", \"3.125\", \"3.1\", \"3.25\", \"3.025\", \"3.25\", \"3\", \"3.35\", \"3.175\", \"3.125\", \"3.025\", \"3.175\", \"3.175\", \"3.2\", \"3.1\", \"3.15\", \"3.1\", \"3.075\", \"3.05\", \"2.925\", \"3.075\", \"3.2\", \"3.35\", \"3.4\", \"3.325\", \"3.125\", \"3.175\", \"3.3\", \"3.15\", \"3.025\", \"2.975\", \"3.05\", \"3.3\"], \"line\": {\"width\": 1.3}, \"type\": \"box\", \"boxpoints\": false}, {\"name\": \"cpu.wait_perc\", \"marker\": {\"color\": \"rgba(251, 193, 94, 1.0)\"}, \"y\": [\"0.05\", \"0.025\", \"0.025\", \"0.025\", \"0.05\", \"0.025\", \"0.05\", \"0.05\", \"0.0333333333333\", \"0.025\", \"0.075\", \"0.075\", \"0.05\", \"0.025\", \"0.05\", \"0.075\", \"0.05\", \"0.075\", \"0.1\", \"0.05\", \"0.075\", \"0.1\", \"0.05\", \"0.075\", \"0.025\", \"0.05\", \"0.05\", \"0.05\", \"0.05\", \"0.05\", \"0.025\", \"0.025\", \"0.025\", \"0.025\", \"0.05\", \"0.05\", \"0.05\", \"0.075\", \"0.075\", \"0.075\", \"0.1\", \"0.05\", \"0.075\", \"0.075\", \"0.1\", \"0.05\", \"0.1\", \"0.025\", \"0\", \"0.05\", \"0.025\", \"0.05\", \"0.075\", \"0.075\", \"0.075\", \"0.075\", \"0.075\", \"0.075\", \"0.05\", \"0.025\", \"0\"], \"line\": {\"width\": 1.3}, \"type\": \"box\", \"boxpoints\": false}], {\"width\": 640, \"paper_bgcolor\": \"#FFFFFF\", \"plot_bgcolor\": \"#E5E5E5\", \"xaxis1\": {\"tickfont\": {\"color\": \"#666666\"}, \"title\": \"\", \"showgrid\": true, \"zerolinecolor\": \"#F6F6F6\", \"gridcolor\": \"#F6F6F6\", \"titlefont\": {\"color\": \"#666666\"}}, \"height\": 768, \"yaxis1\": {\"tickfont\": {\"color\": \"#666666\"}, \"title\": \"\", \"showgrid\": true, \"zerolinecolor\": \"#F6F6F6\", \"gridcolor\": \"#F6F6F6\", \"titlefont\": {\"color\": \"#666666\"}}, \"titlefont\": {\"color\": \"#151516\"}, \"legend\": {\"bgcolor\": \"#FFFFFF\", \"font\": {\"color\": \"#666666\"}}}, {\"linkText\": \"Export to plot.ly\", \"showLink\": true})</script>"
      ],
      "text/plain": [
       "<IPython.core.display.HTML object>"
      ]
     },
     "metadata": {},
     "output_type": "display_data"
    }
   ],
   "source": [
    "metrics = get_metrics(names=['cpu.user_perc', 'cpu.idle_perc', 'cpu.stolen_perc', 'cpu.system_perc', 'cpu.wait_perc'])\n",
    "statistics = get_statistics(metrics, ['avg'], 3600)\n",
    "df = df_from_statistics(statistics)\n",
    "#df.iplot(subplots=False, shape=(len(df.columns),1), shared_xaxes=True, fill=True)\n",
    "#df.iplot(kind='line', fill=True,\n",
    "#         xTitle='Date',\n",
    "#         yTitle='Value',\n",
    "#         title='Statistics',\n",
    "#         layout=layout)\n",
    "# df.scatter_matrix(world_readable=True)\n",
    "df.iplot(kind='box', shape=(len(df.columns),1), shared_xaxes=True, fill=True, dimensions=(WIDTH, HEIGHT))"
   ]
  },
  {
   "cell_type": "markdown",
   "metadata": {},
   "source": [
    "# stress-ng -c 2 -i 1 -m 1 --vm-bytes 128M -t 60s"
   ]
  }
 ],
 "metadata": {
  "celltoolbar": "Slideshow",
  "kernelspec": {
   "display_name": "Python 2",
   "language": "python",
   "name": "python2"
  },
  "language_info": {
   "codemirror_mode": {
    "name": "ipython",
    "version": 2
   },
   "file_extension": ".py",
   "mimetype": "text/x-python",
   "name": "python",
   "nbconvert_exporter": "python",
   "pygments_lexer": "ipython2",
   "version": "2.7.11"
  }
 },
 "nbformat": 4,
 "nbformat_minor": 0
}
