{
 "cells": [
  {
   "cell_type": "markdown",
   "metadata": {
    "collapsed": false,
    "slideshow": {
     "slide_type": "skip"
    }
   },
   "source": [
    "http://www.slideviper.oquanta.info/tutorial/slideshow_tutorial_slides.html#/3\n",
    "\n",
    "http://www.damian.oquanta.info/posts/make-your-slides-with-ipython.html\n",
    "\n",
    "https://github.com/damianavila/slideviper_test/blob/gh-pages/tutorial/slideshow_tutorial.ipynb\n",
    "\n",
    "http://lab.hakim.se/reveal-js/#/themes"
   ]
  },
  {
   "cell_type": "markdown",
   "metadata": {
    "slideshow": {
     "slide_type": "slide"
    }
   },
   "source": [
    "# Monasca Bootcamp\n",
    "\n",
    "[Roland Hochmuth](https://www.linkedin.com/in/rolandhochmuth)\n",
    "\n",
    "[Michael Hoppal](https://www.linkedin.com/in/hoppalmichael)"
   ]
  },
  {
   "cell_type": "markdown",
   "metadata": {
    "slideshow": {
     "slide_type": "slide"
    }
   },
   "source": [
    "# Agenda\n",
    "\n",
    "* Overview\n",
    "* Architecture\n",
    "* Deployment\n",
    "* API, CLI (python-monascaclient) and client\n",
    "* Agent\n",
    "* Developing\n",
    "* Current status\n",
    "* What next?\n"
   ]
  },
  {
   "cell_type": "markdown",
   "metadata": {
    "slideshow": {
     "slide_type": "slide"
    }
   },
   "source": [
    "# Organizations involved in the project"
   ]
  },
  {
   "cell_type": "markdown",
   "metadata": {
    "slideshow": {
     "slide_type": "fragment"
    }
   },
   "source": [
    "* Hewlett Packard Enterprise"
   ]
  },
  {
   "cell_type": "markdown",
   "metadata": {
    "slideshow": {
     "slide_type": "fragment"
    }
   },
   "source": [
    "* Time Warner Cable"
   ]
  },
  {
   "cell_type": "markdown",
   "metadata": {
    "slideshow": {
     "slide_type": "fragment"
    }
   },
   "source": [
    "* Fujitsu"
   ]
  },
  {
   "cell_type": "markdown",
   "metadata": {
    "slideshow": {
     "slide_type": "fragment"
    }
   },
   "source": [
    "* Cisco"
   ]
  },
  {
   "cell_type": "markdown",
   "metadata": {
    "slideshow": {
     "slide_type": "fragment"
    }
   },
   "source": [
    "* NEC"
   ]
  },
  {
   "cell_type": "markdown",
   "metadata": {
    "slideshow": {
     "slide_type": "fragment"
    }
   },
   "source": [
    "* Cray"
   ]
  },
  {
   "cell_type": "markdown",
   "metadata": {
    "slideshow": {
     "slide_type": "fragment"
    }
   },
   "source": [
    "* SAP"
   ]
  },
  {
   "cell_type": "markdown",
   "metadata": {
    "slideshow": {
     "slide_type": "fragment"
    }
   },
   "source": [
    "* Others"
   ]
  },
  {
   "cell_type": "markdown",
   "metadata": {
    "slideshow": {
     "slide_type": "slide"
    }
   },
   "source": [
    "# Architecture"
   ]
  },
  {
   "cell_type": "markdown",
   "metadata": {
    "slideshow": {
     "slide_type": "subslide"
    }
   },
   "source": [
    "# Horizon"
   ]
  },
  {
   "cell_type": "markdown",
   "metadata": {
    "slideshow": {
     "slide_type": "subslide"
    }
   },
   "source": [
    "# Grafana 2"
   ]
  },
  {
   "cell_type": "markdown",
   "metadata": {
    "slideshow": {
     "slide_type": "slide"
    }
   },
   "source": [
    "# Deployment"
   ]
  },
  {
   "cell_type": "markdown",
   "metadata": {
    "slideshow": {
     "slide_type": "slide"
    }
   },
   "source": [
    "# Import libraries"
   ]
  },
  {
   "cell_type": "code",
   "execution_count": 87,
   "metadata": {
    "collapsed": false,
    "slideshow": {
     "slide_type": "-"
    }
   },
   "outputs": [],
   "source": [
    "import datetime\n",
    "import time\n",
    "\n",
    "# Import libraries use for visualization and analysis\n",
    "import pandas as pd\n",
    "import plotly.plotly as py\n",
    "import plotly.graph_objs as go\n",
    "import cufflinks as cf\n",
    "import numpy as np\n",
    "\n",
    "# Import the Monasca and Keystone client\n",
    "from monascaclient import client\n",
    "from monascaclient import ksclient"
   ]
  },
  {
   "cell_type": "markdown",
   "metadata": {
    "slideshow": {
     "slide_type": "slide"
    }
   },
   "source": [
    "# Initialize the Keystone and Monasca Client"
   ]
  },
  {
   "cell_type": "code",
   "execution_count": 88,
   "metadata": {
    "collapsed": true,
    "slideshow": {
     "slide_type": "-"
    }
   },
   "outputs": [],
   "source": [
    "KEYSTONE_URL = 'http://192.168.10.6:5000/v3'\n",
    "PROJECT_NAME = 'mini-mon'\n",
    "USERNAME = 'mini-mon'\n",
    "PASSWORD = 'password'"
   ]
  },
  {
   "cell_type": "code",
   "execution_count": 89,
   "metadata": {
    "collapsed": false,
    "slideshow": {
     "slide_type": "-"
    }
   },
   "outputs": [
    {
     "name": "stdout",
     "output_type": "stream",
     "text": [
      "env: OS_PROJECT_NAME=mini-mon\n",
      "env: OS_PASSWORD=password\n",
      "env: OS_AUTH_URL=http://192.168.10.6:5000/v3\n",
      "env: OS_USERNAME=mini-mon\n"
     ]
    }
   ],
   "source": [
    "# Authenticate to Keystone\n",
    "keystone_client = ksclient.KSClient(auth_url=KEYSTONE_URL, username=USERNAME, password=PASSWORD)\n",
    "\n",
    "# Create the Monasca client\n",
    "monasca_client = client.Client('2_0', keystone_client.monasca_url, token=keystone_client.token)\n",
    "\n",
    "# Initialize environment variables to use the Monasca CLI\n",
    "%env OS_PROJECT_NAME=$PROJECT_NAME\n",
    "%env OS_PASSWORD=$PASSWORD\n",
    "%env OS_AUTH_URL=$KEYSTONE_URL\n",
    "%env OS_USERNAME=$USERNAME\n",
    "\n",
    "# If you are doing development on your local system and running from there then set the URL to the Monasca API\n",
    "# to override the one returned from Keystone\n",
    "# %env MONASCA_API_URL=http://127.0.0.1:8070/v2.0"
   ]
  },
  {
   "cell_type": "markdown",
   "metadata": {
    "slideshow": {
     "slide_type": "slide"
    }
   },
   "source": [
    "# Initialize Plotly\n",
    "\n",
    "We'll be using Plotly for displaying some graphs later on in this notebook."
   ]
  },
  {
   "cell_type": "code",
   "execution_count": 90,
   "metadata": {
    "collapsed": false,
    "slideshow": {
     "slide_type": "-"
    }
   },
   "outputs": [],
   "source": [
    "WIDTH = 640\n",
    "HEIGHT = 768\n",
    "\n",
    "layout = go.Layout(\n",
    "    autosize=False,\n",
    "    width=WIDTH,\n",
    "    height=HEIGHT,\n",
    "    margin=go.Margin(\n",
    "        l=50,\n",
    "        r=50,\n",
    "        b=100,\n",
    "        t=100,\n",
    "        pad=4\n",
    "    ))"
   ]
  },
  {
   "cell_type": "markdown",
   "metadata": {},
   "source": [
    "# Using the API\n",
    "\n",
    "The Monasca API Specification has the following resources:\n",
    "\n",
    "* Versions\n",
    "\n",
    "* Metrics\n",
    "\n",
    "* Metrics Measurements\n",
    "\n",
    "* Metrics Statistics\n",
    "\n",
    "* Metrics Names\n",
    "\n",
    "* Notification Methods\n",
    "\n",
    "* Alarm Definitions\n",
    "\n",
    "* Alarms\n",
    "\n",
    "* Alarms State History"
   ]
  },
  {
   "cell_type": "markdown",
   "metadata": {
    "slideshow": {
     "slide_type": "slide"
    }
   },
   "source": [
    "# Common concepts"
   ]
  },
  {
   "cell_type": "markdown",
   "metadata": {
    "slideshow": {
     "slide_type": "subslide"
    }
   },
   "source": [
    "# Dimensions\n",
    "\n",
    "* A dictionary of (key, value) pairs that are used to uniquely identify a metric.\n",
    "\n",
    "* Used to slice and dice metrics when querying.\n",
    "\n",
    "* Examples: hostname, service, component, region zone, resource_id, ..."
   ]
  },
  {
   "cell_type": "markdown",
   "metadata": {
    "slideshow": {
     "slide_type": "subslide"
    }
   },
   "source": [
    "# Roles\n",
    "\n",
    "There are three roles in Monasca:\n",
    "\n",
    "1. user: Allows the client access to all CRUD operations on the API.\n",
    "\n",
    "2. agent: Can only POST metrics to the API.\n",
    "\n",
    "3. delegate: Allows the user to POST or query metrics."
   ]
  },
  {
   "cell_type": "markdown",
   "metadata": {
    "slideshow": {
     "slide_type": "subslide"
    }
   },
   "source": [
    "# Pagination"
   ]
  },
  {
   "cell_type": "markdown",
   "metadata": {
    "slideshow": {
     "slide_type": "slide"
    }
   },
   "source": [
    "# Metrics\n",
    "\n",
    "* name (string(255), required) - The name of the metric.\n",
    "\n",
    "* dimensions ({string(255): string(255)}, optional) - A dictionary consisting of (key, value) pairs used to uniquely identify a metric and slice and dice on.\n",
    "\n",
    "    * Examples: hostname, region, zone, service, component, process, ...\n",
    "\n",
    "* timestamp (string, required) - The timestamp in milliseconds from the Epoch.\n",
    "\n",
    "* value (float, required) - Value of the metric.\n",
    "\n",
    "* value_meta ({string(255): string(2048)}, optional) - A dictionary consisting of (key, value) pairs used to add information about the value.\n",
    "\n",
    "    * Examples: status_code, msg\n",
    "\n",
    "* tenant_id: Tenant ID to create metrics on behalf of.\n",
    "\n",
    "    * This parameter can be used to submit metrics from one tenant, to another.\n",
    "    * Requires the delegate role."
   ]
  },
  {
   "cell_type": "markdown",
   "metadata": {
    "slideshow": {
     "slide_type": "subslide"
    }
   },
   "source": [
    "# Create metrics"
   ]
  },
  {
   "cell_type": "code",
   "execution_count": 91,
   "metadata": {
    "collapsed": false,
    "slideshow": {
     "slide_type": "subslide"
    }
   },
   "outputs": [
    {
     "name": "stdout",
     "output_type": "stream",
     "text": [
      "usage: monasca metric-create [--dimensions <KEY1=VALUE1,KEY2=VALUE2...>]\r\n",
      "                             [--value-meta <KEY1=VALUE1,KEY2=VALUE2...>]\r\n",
      "                             [--time <UNIX_TIMESTAMP>]\r\n",
      "                             [--project-id <CROSS_PROJECT_ID>]\r\n",
      "                             <METRIC_NAME> <METRIC_VALUE>\r\n",
      "\r\n",
      "Create metric.\r\n",
      "\r\n",
      "Positional arguments:\r\n",
      "  <METRIC_NAME>         Name of the metric to create.\r\n",
      "  <METRIC_VALUE>        Metric value.\r\n",
      "\r\n",
      "Optional arguments:\r\n",
      "  --dimensions <KEY1=VALUE1,KEY2=VALUE2...>\r\n",
      "                        key value pair used to create a metric dimension. This\r\n",
      "                        can be specified multiple times, or once with\r\n",
      "                        parameters separated by a comma. Dimensions need\r\n",
      "                        quoting when they contain special chars\r\n",
      "                        [&,(,),{,},>,<] that confuse the CLI parser.\r\n",
      "  --value-meta <KEY1=VALUE1,KEY2=VALUE2...>\r\n",
      "                        key value pair for extra information about a value.\r\n",
      "                        This can be specified multiple times, or once with\r\n",
      "                        parameters separated by a comma. value_meta need\r\n",
      "                        quoting when they contain special chars\r\n",
      "                        [&,(,),{,},>,<] that confuse the CLI parser.\r\n",
      "  --time <UNIX_TIMESTAMP>\r\n",
      "                        Metric timestamp in milliseconds. Default: current\r\n",
      "                        timestamp.\r\n",
      "  --project-id <CROSS_PROJECT_ID>\r\n",
      "                        The Project ID to create metric on behalf of. Requires\r\n",
      "                        monitoring-delegate role in keystone.\r\n"
     ]
    }
   ],
   "source": [
    "!monasca help metric-create"
   ]
  },
  {
   "cell_type": "markdown",
   "metadata": {
    "slideshow": {
     "slide_type": "subslide"
    }
   },
   "source": [
    "# POST /v2.0/metrics request body\n",
    "\n",
    "```\n",
    "{\n",
    "\tname: http_status,\n",
    "\tdimensions: {\n",
    "\t\thostname: hostname.domain.com,\n",
    "\t\tregion: uswest,\n",
    "\t\tzone: 1,\n",
    "\t\tservice: compute\n",
    "\t}\n",
    "\ttimestamp: 0, /* milliseconds */\n",
    "\tvalue: 0.0,\n",
    "\tvalue_meta: {\n",
    "\t\tstatus_code: 500,\n",
    "\t\tmsg: Internal server error\n",
    "\t}\n",
    "}\n",
    "```"
   ]
  },
  {
   "cell_type": "markdown",
   "metadata": {
    "slideshow": {
     "slide_type": "subslide"
    }
   },
   "source": [
    "# List Metrics"
   ]
  },
  {
   "cell_type": "code",
   "execution_count": 92,
   "metadata": {
    "collapsed": false
   },
   "outputs": [
    {
     "name": "stdout",
     "output_type": "stream",
     "text": [
      "usage: monasca metric-list [--name <METRIC_NAME>]\n",
      "                           [--dimensions <KEY1=VALUE1,KEY2=VALUE2...>]\n",
      "                           [--starttime <UTC_START_TIME>]\n",
      "                           [--endtime <UTC_END_TIME>]\n",
      "                           [--offset <OFFSET LOCATION>]\n",
      "                           [--limit <RETURN LIMIT>]\n",
      "\n",
      "List metrics for this tenant.\n",
      "\n",
      "Optional arguments:\n",
      "  --name <METRIC_NAME>  Name of the metric to list.\n",
      "  --dimensions <KEY1=VALUE1,KEY2=VALUE2...>\n",
      "                        key value pair used to specify a metric dimension.\n",
      "                        This can be specified multiple times, or once with\n",
      "                        parameters separated by a comma. Dimensions need\n",
      "                        quoting when they contain special chars\n",
      "                        [&,(,),{,},>,<] that confuse the CLI parser.\n",
      "  --starttime <UTC_START_TIME>\n",
      "                        measurements >= UTC time. format:\n",
      "                        2014-01-01T00:00:00Z. OR Format: -120 (previous 120\n",
      "                        minutes).\n",
      "  --endtime <UTC_END_TIME>\n",
      "                        measurements <= UTC time. format:\n",
      "                        2014-01-01T00:00:00Z.\n",
      "  --offset <OFFSET LOCATION>\n",
      "                        The offset used to paginate the return data.\n",
      "  --limit <RETURN LIMIT>\n",
      "                        The amount of data to be returned up to the API\n",
      "                        maximum limit.\n"
     ]
    }
   ],
   "source": [
    "!monasca help metric-list"
   ]
  },
  {
   "cell_type": "markdown",
   "metadata": {
    "slideshow": {
     "slide_type": "subslide"
    }
   },
   "source": [
    "# List metrics"
   ]
  },
  {
   "cell_type": "code",
   "execution_count": 93,
   "metadata": {
    "collapsed": false
   },
   "outputs": [
    {
     "name": "stdout",
     "output_type": "stream",
     "text": [
      "+-----------------+---------------------+\r\n",
      "| name            | dimensions          |\r\n",
      "+-----------------+---------------------+\r\n",
      "| cpu.idle_perc   | hostname: devstack  |\r\n",
      "|                 | service: monitoring |\r\n",
      "| cpu.stolen_perc | hostname: devstack  |\r\n",
      "|                 | service: monitoring |\r\n",
      "| cpu.system_perc | hostname: devstack  |\r\n",
      "|                 | service: monitoring |\r\n",
      "| cpu.user_perc   | hostname: devstack  |\r\n",
      "|                 | service: monitoring |\r\n",
      "| cpu.wait_perc   | hostname: devstack  |\r\n",
      "|                 | service: monitoring |\r\n",
      "+-----------------+---------------------+\r\n"
     ]
    }
   ],
   "source": [
    "!monasca metric-list --limit 5"
   ]
  },
  {
   "cell_type": "markdown",
   "metadata": {
    "slideshow": {
     "slide_type": "subslide"
    }
   },
   "source": [
    "# List metrics and filter on name, dimensions and starttime"
   ]
  },
  {
   "cell_type": "code",
   "execution_count": 94,
   "metadata": {
    "collapsed": false
   },
   "outputs": [
    {
     "name": "stdout",
     "output_type": "stream",
     "text": [
      "+---------------+---------------------+\r\n",
      "| name          | dimensions          |\r\n",
      "+---------------+---------------------+\r\n",
      "| cpu.user_perc | hostname: devstack  |\r\n",
      "|               | service: monitoring |\r\n",
      "+---------------+---------------------+\r\n"
     ]
    }
   ],
   "source": [
    "!monasca metric-list --name cpu.user_perc --dimensions hostname=devstack --starttime -60 --limit 10\n"
   ]
  },
  {
   "cell_type": "markdown",
   "metadata": {
    "slideshow": {
     "slide_type": "subslide"
    }
   },
   "source": [
    "# Create a function to get metrics using the Monasca client"
   ]
  },
  {
   "cell_type": "code",
   "execution_count": 95,
   "metadata": {
    "collapsed": true
   },
   "outputs": [],
   "source": [
    "def get_metrics(names = [None], dimensions = None, limit=10):\n",
    "    metrics = []\n",
    "    for name in names:\n",
    "        kwargs = {}\n",
    "        if name is not None:\n",
    "            kwargs['name'] = name\n",
    "        if dimensions is not None:\n",
    "            kwargs['dimensions'] = dimensions\n",
    "        kwargs['limit'] = limit\n",
    "        metrics = metrics + monasca_client.metrics.list(**kwargs)\n",
    "    return metrics"
   ]
  },
  {
   "cell_type": "markdown",
   "metadata": {
    "slideshow": {
     "slide_type": "slide"
    }
   },
   "source": [
    "# Metrics Measurements"
   ]
  },
  {
   "cell_type": "markdown",
   "metadata": {
    "slideshow": {
     "slide_type": "subslide"
    }
   },
   "source": [
    "# Query measurements"
   ]
  },
  {
   "cell_type": "code",
   "execution_count": 96,
   "metadata": {
    "collapsed": false
   },
   "outputs": [
    {
     "name": "stdout",
     "output_type": "stream",
     "text": [
      "usage: monasca measurement-list [--dimensions <KEY1=VALUE1,KEY2=VALUE2...>]\r\n",
      "                                [--endtime <UTC_END_TIME>]\r\n",
      "                                [--offset <OFFSET LOCATION>]\r\n",
      "                                [--limit <RETURN LIMIT>] [--merge_metrics]\r\n",
      "                                <METRIC_NAME> <UTC_START_TIME>\r\n",
      "\r\n",
      "List measurements for the specified metric.\r\n",
      "\r\n",
      "Positional arguments:\r\n",
      "  <METRIC_NAME>         Name of the metric to list measurements.\r\n",
      "  <UTC_START_TIME>      measurements >= UTC time. format:\r\n",
      "                        2014-01-01T00:00:00Z. OR Format: -120 (previous 120\r\n",
      "                        minutes).\r\n",
      "\r\n",
      "Optional arguments:\r\n",
      "  --dimensions <KEY1=VALUE1,KEY2=VALUE2...>\r\n",
      "                        key value pair used to specify a metric dimension.\r\n",
      "                        This can be specified multiple times, or once with\r\n",
      "                        parameters separated by a comma. Dimensions need\r\n",
      "                        quoting when they contain special chars\r\n",
      "                        [&,(,),{,},>,<] that confuse the CLI parser.\r\n",
      "  --endtime <UTC_END_TIME>\r\n",
      "                        measurements <= UTC time. format:\r\n",
      "                        2014-01-01T00:00:00Z.\r\n",
      "  --offset <OFFSET LOCATION>\r\n",
      "                        The offset used to paginate the return data.\r\n",
      "  --limit <RETURN LIMIT>\r\n",
      "                        The amount of data to be returned up to the API\r\n",
      "                        maximum limit.\r\n",
      "  --merge_metrics       Merge multiple metrics into a single result.\r\n"
     ]
    }
   ],
   "source": [
    "!monasca help measurement-list"
   ]
  },
  {
   "cell_type": "markdown",
   "metadata": {
    "slideshow": {
     "slide_type": "subslide"
    }
   },
   "source": [
    "# Query measurement list"
   ]
  },
  {
   "cell_type": "code",
   "execution_count": 97,
   "metadata": {
    "collapsed": false,
    "slideshow": {
     "slide_type": "-"
    }
   },
   "outputs": [
    {
     "name": "stdout",
     "output_type": "stream",
     "text": [
      "+---------------+---------------------+--------------------------+--------------+------------+\r\n",
      "| name          | dimensions          | timestamp                | value        | value_meta |\r\n",
      "+---------------+---------------------+--------------------------+--------------+------------+\r\n",
      "| cpu.user_perc | hostname: devstack  | 2016-04-09T11:19:18.000Z |       12.800 |            |\r\n",
      "|               | service: monitoring | 2016-04-09T11:19:32.000Z |        6.900 |            |\r\n",
      "|               |                     | 2016-04-09T11:19:47.000Z |        3.800 |            |\r\n",
      "|               |                     | 2016-04-09T11:20:02.000Z |        3.800 |            |\r\n",
      "|               |                     | 2016-04-09T11:20:17.000Z |        3.500 |            |\r\n",
      "+---------------+---------------------+--------------------------+--------------+------------+\r\n"
     ]
    }
   ],
   "source": [
    "!monasca measurement-list --dimensions hostname=devstack --limit 5 cpu.user_perc -120"
   ]
  },
  {
   "cell_type": "markdown",
   "metadata": {
    "slideshow": {
     "slide_type": "subslide"
    }
   },
   "source": [
    "# Create a function to get measurements using the Monasca Client"
   ]
  },
  {
   "cell_type": "code",
   "execution_count": 98,
   "metadata": {
    "collapsed": true
   },
   "outputs": [],
   "source": [
    "def get_measurements(metrics, start_time = None, end_time = None, limit=None):\n",
    "    measurements = []\n",
    "    \n",
    "    if start_time == None:\n",
    "        start_date = datetime.datetime.utcnow() - datetime.timedelta(seconds=3600)\n",
    "        start_time = start_date.strftime(\"%Y-%m-%dT%H:%M:%SZ\")\n",
    "\n",
    "    if end_time == None:\n",
    "        end_date = datetime.datetime.utcnow() - datetime.timedelta(seconds=0)\n",
    "        end_time = end_date.strftime(\"%Y-%m-%dT%H:%M:%SZ\")\n",
    "        \n",
    "    for metric in metrics:\n",
    "        kwargs = {}\n",
    "        kwargs['name'] = metric['name']\n",
    "        kwargs['dimensions'] = metric['dimensions']\n",
    "        kwargs['start_time'] = start_time\n",
    "        kwargs['end_time'] = end_time\n",
    "        \n",
    "        # Invoke the monasca client\n",
    "        measurements.append(monasca_client.metrics.list_measurements(**kwargs))\n",
    "        \n",
    "    return measurements"
   ]
  },
  {
   "cell_type": "code",
   "execution_count": 99,
   "metadata": {
    "collapsed": false,
    "slideshow": {
     "slide_type": "subslide"
    }
   },
   "outputs": [
    {
     "data": {
      "text/plain": [
       "[[{u'columns': [u'timestamp', u'value', u'value_meta'],\n",
       "   u'dimensions': {u'hostname': u'devstack', u'service': u'monitoring'},\n",
       "   u'id': u'2016-04-09T12:12:50.000Z',\n",
       "   u'measurements': [[u'2016-04-09T11:19:18.000Z', 12.8, {}],\n",
       "    [u'2016-04-09T11:19:32.000Z', 6.9, {}],\n",
       "    [u'2016-04-09T11:19:47.000Z', 3.8, {}],\n",
       "    [u'2016-04-09T11:20:02.000Z', 3.8, {}],\n",
       "    [u'2016-04-09T11:20:17.000Z', 3.5, {}],\n",
       "    [u'2016-04-09T11:20:32.000Z', 4, {}],\n",
       "    [u'2016-04-09T11:20:47.000Z', 4.1, {}],\n",
       "    [u'2016-04-09T11:21:02.000Z', 4.2, {}],\n",
       "    [u'2016-04-09T11:21:17.000Z', 3.8, {}],\n",
       "    [u'2016-04-09T11:21:32.000Z', 3.9, {}],\n",
       "    [u'2016-04-09T11:21:47.000Z', 4.2, {}],\n",
       "    [u'2016-04-09T11:22:02.000Z', 3.9, {}],\n",
       "    [u'2016-04-09T11:22:17.000Z', 3.8, {}],\n",
       "    [u'2016-04-09T11:22:32.000Z', 4.1, {}],\n",
       "    [u'2016-04-09T11:22:47.000Z', 4, {}],\n",
       "    [u'2016-04-09T11:23:02.000Z', 4, {}],\n",
       "    [u'2016-04-09T11:23:17.000Z', 4, {}],\n",
       "    [u'2016-04-09T11:23:32.000Z', 3.6, {}],\n",
       "    [u'2016-04-09T11:23:47.000Z', 3.9, {}],\n",
       "    [u'2016-04-09T11:24:02.000Z', 4.1, {}],\n",
       "    [u'2016-04-09T11:24:17.000Z', 5.5, {}],\n",
       "    [u'2016-04-09T11:24:32.000Z', 4.2, {}],\n",
       "    [u'2016-04-09T11:24:47.000Z', 3.7, {}],\n",
       "    [u'2016-04-09T11:25:02.000Z', 4, {}],\n",
       "    [u'2016-04-09T11:25:17.000Z', 4.8, {}],\n",
       "    [u'2016-04-09T11:25:32.000Z', 4, {}],\n",
       "    [u'2016-04-09T11:25:47.000Z', 3.7, {}],\n",
       "    [u'2016-04-09T11:26:02.000Z', 4, {}],\n",
       "    [u'2016-04-09T11:26:17.000Z', 3.9, {}],\n",
       "    [u'2016-04-09T11:26:32.000Z', 3.8, {}],\n",
       "    [u'2016-04-09T11:26:47.000Z', 3.9, {}],\n",
       "    [u'2016-04-09T11:27:03.000Z', 3.8, {}],\n",
       "    [u'2016-04-09T11:27:18.000Z', 3.7, {}],\n",
       "    [u'2016-04-09T11:27:33.000Z', 3.6, {}],\n",
       "    [u'2016-04-09T11:27:48.000Z', 3.5, {}],\n",
       "    [u'2016-04-09T11:28:03.000Z', 3.8, {}],\n",
       "    [u'2016-04-09T11:28:18.000Z', 4, {}],\n",
       "    [u'2016-04-09T11:28:33.000Z', 4.4, {}],\n",
       "    [u'2016-04-09T11:28:48.000Z', 4, {}],\n",
       "    [u'2016-04-09T11:29:03.000Z', 3.9, {}],\n",
       "    [u'2016-04-09T11:29:18.000Z', 3.7, {}],\n",
       "    [u'2016-04-09T11:29:33.000Z', 4, {}],\n",
       "    [u'2016-04-09T11:29:48.000Z', 4.5, {}],\n",
       "    [u'2016-04-09T11:30:03.000Z', 4.3, {}],\n",
       "    [u'2016-04-09T11:30:18.000Z', 4.5, {}],\n",
       "    [u'2016-04-09T11:30:33.000Z', 4, {}],\n",
       "    [u'2016-04-09T11:30:48.000Z', 3.9, {}],\n",
       "    [u'2016-04-09T11:31:03.000Z', 4.1, {}],\n",
       "    [u'2016-04-09T11:31:18.000Z', 4, {}],\n",
       "    [u'2016-04-09T11:31:33.000Z', 4, {}],\n",
       "    [u'2016-04-09T11:31:48.000Z', 4.1, {}],\n",
       "    [u'2016-04-09T11:32:03.000Z', 4.1, {}],\n",
       "    [u'2016-04-09T11:32:18.000Z', 4.1, {}],\n",
       "    [u'2016-04-09T11:32:33.000Z', 3.9, {}],\n",
       "    [u'2016-04-09T11:32:48.000Z', 4, {}],\n",
       "    [u'2016-04-09T11:33:03.000Z', 3.8, {}],\n",
       "    [u'2016-04-09T11:33:18.000Z', 3.9, {}],\n",
       "    [u'2016-04-09T11:33:33.000Z', 3.9, {}],\n",
       "    [u'2016-04-09T11:33:48.000Z', 3.9, {}],\n",
       "    [u'2016-04-09T11:34:03.000Z', 3.6, {}],\n",
       "    [u'2016-04-09T11:34:18.000Z', 3.6, {}],\n",
       "    [u'2016-04-09T11:34:33.000Z', 4.1, {}],\n",
       "    [u'2016-04-09T11:34:48.000Z', 4.1, {}],\n",
       "    [u'2016-04-09T11:35:03.000Z', 3.8, {}],\n",
       "    [u'2016-04-09T11:35:18.000Z', 4.2, {}],\n",
       "    [u'2016-04-09T11:35:33.000Z', 4, {}],\n",
       "    [u'2016-04-09T11:35:48.000Z', 3.6, {}],\n",
       "    [u'2016-04-09T11:36:03.000Z', 4, {}],\n",
       "    [u'2016-04-09T11:36:18.000Z', 3.9, {}],\n",
       "    [u'2016-04-09T11:36:33.000Z', 3.9, {}],\n",
       "    [u'2016-04-09T11:36:48.000Z', 3.6, {}],\n",
       "    [u'2016-04-09T11:37:03.000Z', 3.9, {}],\n",
       "    [u'2016-04-09T11:37:18.000Z', 4.3, {}],\n",
       "    [u'2016-04-09T11:37:33.000Z', 4, {}],\n",
       "    [u'2016-04-09T11:37:48.000Z', 3.7, {}],\n",
       "    [u'2016-04-09T11:38:03.000Z', 3.9, {}],\n",
       "    [u'2016-04-09T11:38:18.000Z', 4.2, {}],\n",
       "    [u'2016-04-09T11:38:33.000Z', 4, {}],\n",
       "    [u'2016-04-09T11:38:48.000Z', 4.1, {}],\n",
       "    [u'2016-04-09T11:39:03.000Z', 3.8, {}],\n",
       "    [u'2016-04-09T11:39:18.000Z', 4, {}],\n",
       "    [u'2016-04-09T11:39:33.000Z', 4, {}],\n",
       "    [u'2016-04-09T11:39:48.000Z', 3.8, {}],\n",
       "    [u'2016-04-09T11:40:03.000Z', 4.1, {}],\n",
       "    [u'2016-04-09T11:40:18.000Z', 3.8, {}],\n",
       "    [u'2016-04-09T11:40:33.000Z', 4.1, {}],\n",
       "    [u'2016-04-09T11:40:48.000Z', 4.1, {}],\n",
       "    [u'2016-04-09T11:41:03.000Z', 3.8, {}],\n",
       "    [u'2016-04-09T11:41:18.000Z', 4.1, {}],\n",
       "    [u'2016-04-09T11:41:33.000Z', 3.9, {}],\n",
       "    [u'2016-04-09T11:41:48.000Z', 4, {}],\n",
       "    [u'2016-04-09T11:42:03.000Z', 4.1, {}],\n",
       "    [u'2016-04-09T11:42:18.000Z', 3.8, {}],\n",
       "    [u'2016-04-09T11:42:33.000Z', 3.8, {}],\n",
       "    [u'2016-04-09T11:42:48.000Z', 4, {}],\n",
       "    [u'2016-04-09T11:43:03.000Z', 3.8, {}],\n",
       "    [u'2016-04-09T11:43:18.000Z', 4.1, {}],\n",
       "    [u'2016-04-09T11:43:33.000Z', 3.7, {}],\n",
       "    [u'2016-04-09T11:43:48.000Z', 3.8, {}],\n",
       "    [u'2016-04-09T11:44:03.000Z', 3.4, {}],\n",
       "    [u'2016-04-09T11:44:18.000Z', 3.9, {}],\n",
       "    [u'2016-04-09T11:44:33.000Z', 3.6, {}],\n",
       "    [u'2016-04-09T11:44:48.000Z', 3.9, {}],\n",
       "    [u'2016-04-09T11:45:03.000Z', 4.1, {}],\n",
       "    [u'2016-04-09T11:45:18.000Z', 4, {}],\n",
       "    [u'2016-04-09T11:45:33.000Z', 3.7, {}],\n",
       "    [u'2016-04-09T11:45:48.000Z', 3.9, {}],\n",
       "    [u'2016-04-09T11:46:04.000Z', 3.8, {}],\n",
       "    [u'2016-04-09T11:46:19.000Z', 4, {}],\n",
       "    [u'2016-04-09T11:46:34.000Z', 3.9, {}],\n",
       "    [u'2016-04-09T11:46:49.000Z', 3.9, {}],\n",
       "    [u'2016-04-09T11:47:04.000Z', 3.7, {}],\n",
       "    [u'2016-04-09T11:47:19.000Z', 4, {}],\n",
       "    [u'2016-04-09T11:47:34.000Z', 3.8, {}],\n",
       "    [u'2016-04-09T11:47:49.000Z', 4, {}],\n",
       "    [u'2016-04-09T11:48:04.000Z', 4, {}],\n",
       "    [u'2016-04-09T11:48:19.000Z', 3.7, {}],\n",
       "    [u'2016-04-09T11:48:34.000Z', 3.5, {}],\n",
       "    [u'2016-04-09T11:48:49.000Z', 3.8, {}],\n",
       "    [u'2016-04-09T11:49:04.000Z', 4, {}],\n",
       "    [u'2016-04-09T11:49:19.000Z', 3.9, {}],\n",
       "    [u'2016-04-09T11:49:34.000Z', 4, {}],\n",
       "    [u'2016-04-09T11:49:49.000Z', 4, {}],\n",
       "    [u'2016-04-09T11:50:04.000Z', 4.1, {}],\n",
       "    [u'2016-04-09T11:50:19.000Z', 3.9, {}],\n",
       "    [u'2016-04-09T11:50:34.000Z', 4, {}],\n",
       "    [u'2016-04-09T11:50:49.000Z', 4.2, {}],\n",
       "    [u'2016-04-09T11:51:04.000Z', 3.6, {}],\n",
       "    [u'2016-04-09T11:51:19.000Z', 3.8, {}],\n",
       "    [u'2016-04-09T11:51:34.000Z', 3.8, {}],\n",
       "    [u'2016-04-09T11:51:49.000Z', 4, {}],\n",
       "    [u'2016-04-09T11:52:04.000Z', 4, {}],\n",
       "    [u'2016-04-09T11:52:19.000Z', 4.7, {}],\n",
       "    [u'2016-04-09T11:52:34.000Z', 4.4, {}],\n",
       "    [u'2016-04-09T11:52:49.000Z', 3.7, {}],\n",
       "    [u'2016-04-09T11:53:04.000Z', 3.9, {}],\n",
       "    [u'2016-04-09T11:53:19.000Z', 3.8, {}],\n",
       "    [u'2016-04-09T11:53:34.000Z', 3.6, {}],\n",
       "    [u'2016-04-09T11:53:49.000Z', 3.9, {}],\n",
       "    [u'2016-04-09T11:54:04.000Z', 3.9, {}],\n",
       "    [u'2016-04-09T11:54:19.000Z', 4, {}],\n",
       "    [u'2016-04-09T11:54:34.000Z', 3.9, {}],\n",
       "    [u'2016-04-09T11:54:49.000Z', 4.1, {}],\n",
       "    [u'2016-04-09T11:55:04.000Z', 4.1, {}],\n",
       "    [u'2016-04-09T11:55:19.000Z', 3.9, {}],\n",
       "    [u'2016-04-09T11:55:34.000Z', 4.5, {}],\n",
       "    [u'2016-04-09T11:55:49.000Z', 3.6, {}],\n",
       "    [u'2016-04-09T11:56:04.000Z', 4.1, {}],\n",
       "    [u'2016-04-09T11:56:19.000Z', 3, {}],\n",
       "    [u'2016-04-09T11:56:34.000Z', 3.9, {}],\n",
       "    [u'2016-04-09T11:56:49.000Z', 3.8, {}],\n",
       "    [u'2016-04-09T11:57:04.000Z', 3.9, {}],\n",
       "    [u'2016-04-09T11:57:19.000Z', 3.9, {}],\n",
       "    [u'2016-04-09T11:57:34.000Z', 4.1, {}],\n",
       "    [u'2016-04-09T11:57:49.000Z', 4.3, {}],\n",
       "    [u'2016-04-09T11:58:04.000Z', 3.7, {}],\n",
       "    [u'2016-04-09T11:58:19.000Z', 3.9, {}],\n",
       "    [u'2016-04-09T11:58:34.000Z', 3.9, {}],\n",
       "    [u'2016-04-09T11:58:49.000Z', 3.7, {}],\n",
       "    [u'2016-04-09T11:59:04.000Z', 4, {}],\n",
       "    [u'2016-04-09T11:59:19.000Z', 4, {}],\n",
       "    [u'2016-04-09T11:59:34.000Z', 4.4, {}],\n",
       "    [u'2016-04-09T11:59:49.000Z', 3.9, {}],\n",
       "    [u'2016-04-09T12:00:04.000Z', 4.2, {}],\n",
       "    [u'2016-04-09T12:00:19.000Z', 3.9, {}],\n",
       "    [u'2016-04-09T12:00:34.000Z', 4.1, {}],\n",
       "    [u'2016-04-09T12:00:49.000Z', 3.8, {}],\n",
       "    [u'2016-04-09T12:01:04.000Z', 3.9, {}],\n",
       "    [u'2016-04-09T12:01:19.000Z', 4.1, {}],\n",
       "    [u'2016-04-09T12:01:34.000Z', 3.9, {}],\n",
       "    [u'2016-04-09T12:01:49.000Z', 3.8, {}],\n",
       "    [u'2016-04-09T12:02:04.000Z', 4.3, {}],\n",
       "    [u'2016-04-09T12:02:19.000Z', 3.8, {}],\n",
       "    [u'2016-04-09T12:02:34.000Z', 3.8, {}],\n",
       "    [u'2016-04-09T12:02:49.000Z', 4, {}],\n",
       "    [u'2016-04-09T12:03:04.000Z', 3.8, {}],\n",
       "    [u'2016-04-09T12:03:19.000Z', 4, {}],\n",
       "    [u'2016-04-09T12:03:34.000Z', 4, {}],\n",
       "    [u'2016-04-09T12:03:49.000Z', 4, {}],\n",
       "    [u'2016-04-09T12:04:04.000Z', 3.8, {}],\n",
       "    [u'2016-04-09T12:04:19.000Z', 3.9, {}],\n",
       "    [u'2016-04-09T12:04:34.000Z', 3.7, {}],\n",
       "    [u'2016-04-09T12:04:49.000Z', 4.2, {}],\n",
       "    [u'2016-04-09T12:05:04.000Z', 4.5, {}],\n",
       "    [u'2016-04-09T12:05:19.000Z', 3.9, {}],\n",
       "    [u'2016-04-09T12:05:34.000Z', 3.8, {}],\n",
       "    [u'2016-04-09T12:05:49.000Z', 4.2, {}],\n",
       "    [u'2016-04-09T12:06:04.000Z', 4, {}],\n",
       "    [u'2016-04-09T12:06:19.000Z', 3.9, {}],\n",
       "    [u'2016-04-09T12:06:34.000Z', 4.2, {}],\n",
       "    [u'2016-04-09T12:06:50.000Z', 3.8, {}],\n",
       "    [u'2016-04-09T12:07:05.000Z', 3.9, {}],\n",
       "    [u'2016-04-09T12:07:20.000Z', 4.1, {}],\n",
       "    [u'2016-04-09T12:07:35.000Z', 4, {}],\n",
       "    [u'2016-04-09T12:07:50.000Z', 4.1, {}],\n",
       "    [u'2016-04-09T12:08:05.000Z', 4.1, {}],\n",
       "    [u'2016-04-09T12:08:20.000Z', 3.8, {}],\n",
       "    [u'2016-04-09T12:08:35.000Z', 4.1, {}],\n",
       "    [u'2016-04-09T12:08:50.000Z', 4.1, {}],\n",
       "    [u'2016-04-09T12:09:05.000Z', 4, {}],\n",
       "    [u'2016-04-09T12:09:20.000Z', 3.9, {}],\n",
       "    [u'2016-04-09T12:09:35.000Z', 3.8, {}],\n",
       "    [u'2016-04-09T12:09:50.000Z', 3.9, {}],\n",
       "    [u'2016-04-09T12:10:05.000Z', 4.1, {}],\n",
       "    [u'2016-04-09T12:10:20.000Z', 4, {}],\n",
       "    [u'2016-04-09T12:10:35.000Z', 4, {}],\n",
       "    [u'2016-04-09T12:10:50.000Z', 3.9, {}],\n",
       "    [u'2016-04-09T12:11:05.000Z', 3.8, {}],\n",
       "    [u'2016-04-09T12:11:20.000Z', 3.9, {}],\n",
       "    [u'2016-04-09T12:11:35.000Z', 4.1, {}],\n",
       "    [u'2016-04-09T12:11:50.000Z', 3.8, {}],\n",
       "    [u'2016-04-09T12:12:05.000Z', 4, {}],\n",
       "    [u'2016-04-09T12:12:20.000Z', 4.2, {}],\n",
       "    [u'2016-04-09T12:12:35.000Z', 3.9, {}],\n",
       "    [u'2016-04-09T12:12:50.000Z', 4, {}]],\n",
       "   u'name': u'cpu.user_perc'}]]"
      ]
     },
     "execution_count": 99,
     "metadata": {},
     "output_type": "execute_result"
    }
   ],
   "source": [
    "metrics = get_metrics(['cpu.user_perc'])\n",
    "get_measurements(metrics)"
   ]
  },
  {
   "cell_type": "markdown",
   "metadata": {
    "slideshow": {
     "slide_type": "subslide"
    }
   },
   "source": [
    "# Create a function to translate measurements to a Pandas DataFrame¶"
   ]
  },
  {
   "cell_type": "code",
   "execution_count": 100,
   "metadata": {
    "collapsed": true,
    "slideshow": {
     "slide_type": "-"
    }
   },
   "outputs": [],
   "source": [
    "def df_from_measurements(measurements):\n",
    "    '''Returns a DataFrame given measurements'''\n",
    "    measurement = measurements[0][0]\n",
    "    m = np.array(measurement['measurements'])  \n",
    "    timestamps = m[:, measurement['columns'].index('timestamp')]\n",
    "    df = pd.DataFrame(index = timestamps)  \n",
    "    \n",
    "    for measurement in measurements:\n",
    "        measure = measurement[0]\n",
    "        m = np.array(measure['measurements'])\n",
    "        name = measure['name']\n",
    "        df[name] = m[:, measure['columns'].index('value')]     \n",
    "    return df"
   ]
  },
  {
   "cell_type": "markdown",
   "metadata": {
    "slideshow": {
     "slide_type": "subslide"
    }
   },
   "source": [
    "# Query measurements using the Monasca client\n"
   ]
  },
  {
   "cell_type": "code",
   "execution_count": 101,
   "metadata": {
    "collapsed": false
   },
   "outputs": [],
   "source": [
    "#metrics = get_metrics(names=['cpu.user_perc', 'cpu.system_perc'])\n",
    "metrics = get_metrics()\n",
    "measurements = get_measurements(metrics)"
   ]
  },
  {
   "cell_type": "markdown",
   "metadata": {
    "slideshow": {
     "slide_type": "subslide"
    }
   },
   "source": [
    "# Display measurements using Plotly"
   ]
  },
  {
   "cell_type": "code",
   "execution_count": 102,
   "metadata": {
    "collapsed": false,
    "scrolled": true
   },
   "outputs": [
    {
     "data": {
      "text/html": [
       "<iframe id=\"igraph\" scrolling=\"no\" style=\"border:none;\" seamless=\"seamless\" src=\"https://plot.ly/~rhochmuth/129.embed\" height=\"587px\" width=\"1116px\"></iframe>"
      ],
      "text/plain": [
       "<plotly.tools.PlotlyDisplay object>"
      ]
     },
     "execution_count": 102,
     "metadata": {},
     "output_type": "execute_result"
    }
   ],
   "source": [
    "df = df_from_measurements(measurements)\n",
    "df.iplot(subplots=True, shape=(len(df.columns),1), shared_xaxes=True, fill=True)\n",
    "#df.iplot(kind='line', fill=True,\n",
    "#         xTitle='Date',\n",
    "#         yTitle='Value',\n",
    "#         title='Statistics',\n",
    "#         layout=layout)\n",
    "#df.scatter_matrix(world_readable=True)"
   ]
  },
  {
   "cell_type": "markdown",
   "metadata": {
    "slideshow": {
     "slide_type": "slide"
    }
   },
   "source": [
    "# Metrics Statistics"
   ]
  },
  {
   "cell_type": "markdown",
   "metadata": {
    "slideshow": {
     "slide_type": "subslide"
    }
   },
   "source": [
    "# Get statistics"
   ]
  },
  {
   "cell_type": "code",
   "execution_count": 103,
   "metadata": {
    "collapsed": false
   },
   "outputs": [
    {
     "name": "stdout",
     "output_type": "stream",
     "text": [
      "usage: monasca metric-statistics [--dimensions <KEY1=VALUE1,KEY2=VALUE2...>]\n",
      "                                 [--endtime <UTC_END_TIME>]\n",
      "                                 [--period <PERIOD>]\n",
      "                                 [--offset <OFFSET LOCATION>]\n",
      "                                 [--limit <RETURN LIMIT>] [--merge_metrics]\n",
      "                                 <METRIC_NAME> <STATISTICS> <UTC_START_TIME>\n",
      "\n",
      "List measurement statistics for the specified metric.\n",
      "\n",
      "Positional arguments:\n",
      "  <METRIC_NAME>         Name of the metric to report measurement statistics.\n",
      "  <STATISTICS>          Statistics is one or more (separated by commas) of\n",
      "                        [AVG, MIN, MAX, COUNT, SUM].\n",
      "  <UTC_START_TIME>      measurements >= UTC time. format:\n",
      "                        2014-01-01T00:00:00Z. OR Format: -120 (previous 120\n",
      "                        minutes).\n",
      "\n",
      "Optional arguments:\n",
      "  --dimensions <KEY1=VALUE1,KEY2=VALUE2...>\n",
      "                        key value pair used to specify a metric dimension.\n",
      "                        This can be specified multiple times, or once with\n",
      "                        parameters separated by a comma. Dimensions need\n",
      "                        quoting when they contain special chars\n",
      "                        [&,(,),{,},>,<] that confuse the CLI parser.\n",
      "  --endtime <UTC_END_TIME>\n",
      "                        measurements <= UTC time. format:\n",
      "                        2014-01-01T00:00:00Z.\n",
      "  --period <PERIOD>     number of seconds per interval (default is 300)\n",
      "  --offset <OFFSET LOCATION>\n",
      "                        The offset used to paginate the return data.\n",
      "  --limit <RETURN LIMIT>\n",
      "                        The amount of data to be returned up to the API\n",
      "                        maximum limit.\n",
      "  --merge_metrics       Merge multiple metrics into a single result.\n"
     ]
    }
   ],
   "source": [
    "!monasca help metric-statistics"
   ]
  },
  {
   "cell_type": "markdown",
   "metadata": {
    "slideshow": {
     "slide_type": "subslide"
    }
   },
   "source": [
    "# Create a function to get statistics using the Monasca client"
   ]
  },
  {
   "cell_type": "code",
   "execution_count": 104,
   "metadata": {
    "collapsed": false
   },
   "outputs": [],
   "source": [
    "def get_statistics(metrics, statistics=['avg'], interval = 3600, start_time = None, end_time = None):\n",
    "    statistics_list = []\n",
    "    \n",
    "    period = interval / 512\n",
    "    \n",
    "    if period < 60:\n",
    "        period = 60\n",
    "        \n",
    "    period = period - period%60\n",
    "    \n",
    "    if start_time == None:\n",
    "        start_date = datetime.datetime.utcnow() - datetime.timedelta(seconds=interval)\n",
    "        start_time = start_date.strftime(\"%Y-%m-%dT%H:%M:%SZ\")\n",
    "\n",
    "    if end_time == None:\n",
    "        end_date = datetime.datetime.utcnow() - datetime.timedelta(seconds=0)\n",
    "        end_time = end_date.strftime(\"%Y-%m-%dT%H:%M:%SZ\")\n",
    "        \n",
    "    for metric in metrics:\n",
    "        kwargs = {}\n",
    "        kwargs['statistics'] = statistics\n",
    "        kwargs['period'] = period\n",
    "        kwargs['name'] = metric['name']\n",
    "        kwargs['dimensions'] = metric['dimensions']\n",
    "        kwargs['start_time'] = start_time\n",
    "        kwargs['end_time'] = end_time            \n",
    "        statistics_list.append(monasca_client.metrics.list_statistics(**kwargs))\n",
    "        \n",
    "    return statistics_list"
   ]
  },
  {
   "cell_type": "markdown",
   "metadata": {
    "slideshow": {
     "slide_type": "subslide"
    }
   },
   "source": [
    "# Create a function to translate statistics to a Pandas DataFrame"
   ]
  },
  {
   "cell_type": "code",
   "execution_count": 105,
   "metadata": {
    "collapsed": false
   },
   "outputs": [],
   "source": [
    "def df_from_statistics(statistics, fn = 'avg'):\n",
    "    '''Returns a DataFrame given statistics'''\n",
    "    stat = statistics[0][0]\n",
    "    m = np.array(stat['statistics'])  \n",
    "    timestamps = m[:, stat['columns'].index('timestamp')]\n",
    "    df = pd.DataFrame(index = timestamps)\n",
    "    \n",
    "    for statistic in statistics:\n",
    "        stat = statistic[0]\n",
    "        m = np.array(stat['statistics'])\n",
    "        name = stat['name']\n",
    "        df[name] = m[:, stat['columns'].index('avg')]\n",
    "    return df"
   ]
  },
  {
   "cell_type": "markdown",
   "metadata": {
    "slideshow": {
     "slide_type": "subslide"
    }
   },
   "source": [
    "# Query statistics using the Monasca client"
   ]
  },
  {
   "cell_type": "code",
   "execution_count": 106,
   "metadata": {
    "collapsed": false
   },
   "outputs": [],
   "source": [
    "#metrics = get_metrics(names=['cpu.user_perc', 'cpu.system_perc'])\n",
    "metrics = get_metrics()\n",
    "statistics = get_statistics(metrics, ['avg'], 3600)\n"
   ]
  },
  {
   "cell_type": "markdown",
   "metadata": {
    "slideshow": {
     "slide_type": "subslide"
    }
   },
   "source": [
    "# Display statistics using Plotly"
   ]
  },
  {
   "cell_type": "code",
   "execution_count": 113,
   "metadata": {
    "collapsed": false
   },
   "outputs": [
    {
     "data": {
      "text/html": [
       "<iframe id=\"igraph\" scrolling=\"no\" style=\"border:none;\" seamless=\"seamless\" src=\"https://plot.ly/~rhochmuth/53.embed\" height=\"768px\" width=\"640px\"></iframe>"
      ],
      "text/plain": [
       "<plotly.tools.PlotlyDisplay object>"
      ]
     },
     "execution_count": 113,
     "metadata": {},
     "output_type": "execute_result"
    }
   ],
   "source": [
    "metrics = get_metrics(names=['cpu.user_perc', 'cpu.system_perc'])\n",
    "metrics = get_metrics()\n",
    "statistics = get_statistics(metrics, ['avg'], 3600)\n",
    "df = df_from_statistics(statistics)\n",
    "#df.iplot(subplots=True, shape=(len(df.columns),1), shared_xaxes=True, fill=True,\n",
    "df.iplot(kind='line', fill=True,\n",
    "         xTitle='Date',\n",
    "         yTitle='Value',\n",
    "         title='Statistics',\n",
    "         layout=layout)\n",
    "# df.scatter_matrix(world_readable=True)"
   ]
  },
  {
   "cell_type": "code",
   "execution_count": 108,
   "metadata": {
    "collapsed": false
   },
   "outputs": [
    {
     "data": {
      "text/html": [
       "<iframe id=\"igraph\" scrolling=\"no\" style=\"border:none;\" seamless=\"seamless\" src=\"https://plot.ly/~rhochmuth/133.embed\" height=\"768px\" width=\"640px\"></iframe>"
      ],
      "text/plain": [
       "<plotly.tools.PlotlyDisplay object>"
      ]
     },
     "execution_count": 108,
     "metadata": {},
     "output_type": "execute_result"
    }
   ],
   "source": [
    "df.iplot(kind='box', layout=layout)"
   ]
  },
  {
   "cell_type": "markdown",
   "metadata": {},
   "source": [
    "# Notification Methods"
   ]
  },
  {
   "cell_type": "markdown",
   "metadata": {
    "slideshow": {
     "slide_type": "slide"
    }
   },
   "source": [
    "# Alarm Defintions"
   ]
  },
  {
   "cell_type": "markdown",
   "metadata": {},
   "source": [
    "# Alarms"
   ]
  },
  {
   "cell_type": "markdown",
   "metadata": {
    "slideshow": {
     "slide_type": "slide"
    }
   },
   "source": [
    "# Alarm History"
   ]
  },
  {
   "cell_type": "markdown",
   "metadata": {
    "slideshow": {
     "slide_type": "subslide"
    }
   },
   "source": [
    "# Query the Alarm History"
   ]
  },
  {
   "cell_type": "code",
   "execution_count": 109,
   "metadata": {
    "collapsed": false
   },
   "outputs": [
    {
     "name": "stdout",
     "output_type": "stream",
     "text": [
      "usage: monasca alarm-history-list [--dimensions <KEY1=VALUE1,KEY2=VALUE2...>]\r\n",
      "                                  [--starttime <UTC_START_TIME>]\r\n",
      "                                  [--endtime <UTC_END_TIME>]\r\n",
      "                                  [--offset <OFFSET LOCATION>]\r\n",
      "                                  [--limit <RETURN LIMIT>]\r\n",
      "\r\n",
      "List alarms state history.\r\n",
      "\r\n",
      "Optional arguments:\r\n",
      "  --dimensions <KEY1=VALUE1,KEY2=VALUE2...>\r\n",
      "                        key value pair used to specify a metric dimension.\r\n",
      "                        This can be specified multiple times, or once with\r\n",
      "                        parameters separated by a comma. Dimensions need\r\n",
      "                        quoting when they contain special chars\r\n",
      "                        [&,(,),{,},>,<] that confuse the CLI parser.\r\n",
      "  --starttime <UTC_START_TIME>\r\n",
      "                        measurements >= UTC time. format:\r\n",
      "                        2014-01-01T00:00:00Z. OR format: -120 (previous 120\r\n",
      "                        minutes).\r\n",
      "  --endtime <UTC_END_TIME>\r\n",
      "                        measurements <= UTC time. format:\r\n",
      "                        2014-01-01T00:00:00Z.\r\n",
      "  --offset <OFFSET LOCATION>\r\n",
      "                        The offset used to paginate the return data.\r\n",
      "  --limit <RETURN LIMIT>\r\n",
      "                        The amount of data to be returned up to the API\r\n",
      "                        maximum limit.\r\n"
     ]
    }
   ],
   "source": [
    "!monasca help alarm-history-list"
   ]
  },
  {
   "cell_type": "markdown",
   "metadata": {
    "slideshow": {
     "slide_type": "subslide"
    }
   },
   "source": [
    "# Query the alarm history using the Monasca client"
   ]
  },
  {
   "cell_type": "code",
   "execution_count": 110,
   "metadata": {
    "collapsed": false
   },
   "outputs": [
    {
     "data": {
      "text/plain": [
       "[]"
      ]
     },
     "execution_count": 110,
     "metadata": {},
     "output_type": "execute_result"
    }
   ],
   "source": [
    "monasca_client.alarms.history_list(**{})"
   ]
  },
  {
   "cell_type": "markdown",
   "metadata": {
    "slideshow": {
     "slide_type": "slide"
    }
   },
   "source": [
    "# Agent"
   ]
  },
  {
   "cell_type": "markdown",
   "metadata": {
    "slideshow": {
     "slide_type": "subslide"
    }
   },
   "source": [
    "# Agent Setup"
   ]
  },
  {
   "cell_type": "markdown",
   "metadata": {
    "slideshow": {
     "slide_type": "slide"
    }
   },
   "source": [
    "# Developing and Testing"
   ]
  },
  {
   "cell_type": "markdown",
   "metadata": {},
   "source": [
    "* Python and Java codebase"
   ]
  },
  {
   "cell_type": "markdown",
   "metadata": {
    "slideshow": {
     "slide_type": "fragment"
    }
   },
   "source": [
    "* Monasca DevStack Plugin"
   ]
  },
  {
   "cell_type": "markdown",
   "metadata": {
    "slideshow": {
     "slide_type": "fragment"
    }
   },
   "source": [
    "* Unit Tests"
   ]
  },
  {
   "cell_type": "markdown",
   "metadata": {
    "slideshow": {
     "slide_type": "fragment"
    }
   },
   "source": [
    "* Monasca Tempest Tests"
   ]
  },
  {
   "cell_type": "markdown",
   "metadata": {
    "slideshow": {
     "slide_type": "fragment"
    }
   },
   "source": [
    "* Monasca and OpenStack CI"
   ]
  },
  {
   "cell_type": "markdown",
   "metadata": {
    "slideshow": {
     "slide_type": "subslide"
    }
   },
   "source": [
    "# Monasca Repos\n",
    "\n",
    "* Monasca is a micro-services message bus based architecture.\n",
    "\n",
    "* Several repos:\n",
    "\n",
    "    * monasca-api: both Python and Java\n",
    "    \n",
    "    * monasca-persister: both Python and Java\n",
    "    \n",
    "    * monasca-thresh: Java\n",
    "    \n",
    "    * monasca-notification: Python\n",
    "    \n",
    "    * monasca-common: both Python and Java\n",
    "    \n",
    "    * monasca-agent: Python\n",
    "    \n",
    "    * monasca-statsd: Python\n",
    "    \n",
    "    * monasca-ui: Python\n",
    "    \n",
    "    * python-monascaclient: Python"
   ]
  },
  {
   "cell_type": "markdown",
   "metadata": {
    "slideshow": {
     "slide_type": "subslide"
    }
   },
   "source": [
    "# Monasca DevStack Plugin"
   ]
  },
  {
   "cell_type": "markdown",
   "metadata": {
    "slideshow": {
     "slide_type": "fragment"
    }
   },
   "source": [
    "* DevStack is the primary developmement environment for OpenStack.\n",
    "\n",
    "    * See http://docs.openstack.org/developer/devstack/\n",
    "\n",
    "* The Monasca DevStack plugin installs the Monasca Service, Agent, Horizon Panel, and Grafana\n",
    "\n",
    "* README at, https://github.com/openstack/monasca-api/tree/master/devstack\n",
    "\n",
    "* Best way to get started is to install Vagrant and the Vagrantfile at, https://github.com/openstack/monasca-api/blob/master/devstack/Vagrantfile."
   ]
  },
  {
   "cell_type": "markdown",
   "metadata": {
    "slideshow": {
     "slide_type": "subslide"
    }
   },
   "source": [
    "# Monasca Tempest Tests"
   ]
  },
  {
   "cell_type": "markdown",
   "metadata": {
    "slideshow": {
     "slide_type": "fragment"
    }
   },
   "source": [
    "* [Tempest](http://docs.openstack.org/developer/tempest) is the integration test suite for OpenStack.\n",
    "\n",
    "* Tempest has an external [Test Plugin Interface](http://docs.openstack.org/developer/tempest/plugin.html) interface that enables anyone to integrate an external test suite.\n",
    "\n",
    "* There is a [Monasca Tempest Plugin](https://github.com/openstack/monasca-api/tree/master/monasca_tempest_tests)\n",
    "\n",
    "* Currently, there are around 150 Tempest Tests written for Monasca that run in around 5 minutes."
   ]
  },
  {
   "cell_type": "markdown",
   "metadata": {
    "slideshow": {
     "slide_type": "subslide"
    }
   },
   "source": [
    "# Monasca CI"
   ]
  },
  {
   "cell_type": "markdown",
   "metadata": {
    "slideshow": {
     "slide_type": "fragment"
    }
   },
   "source": [
    "* Monasca is fully integrated in the OpenStack CI system.\n",
    "\n",
    "* Gated jobs are run with each commit on both the Python and Java components through the normal gates and all the Monasca Tempest tests using the Monasca DevStack Plugin.\n",
    "\n",
    "* Currently, Java is non-voting"
   ]
  },
  {
   "cell_type": "markdown",
   "metadata": {
    "slideshow": {
     "slide_type": "subslide"
    }
   },
   "source": [
    "# Monasca Weekly Meetings"
   ]
  },
  {
   "cell_type": "markdown",
   "metadata": {
    "slideshow": {
     "slide_type": "slide"
    }
   },
   "source": [
    "# Resources"
   ]
  },
  {
   "cell_type": "markdown",
   "metadata": {
    "slideshow": {
     "slide_type": "slide"
    }
   },
   "source": [
    "# Thank you"
   ]
  },
  {
   "cell_type": "code",
   "execution_count": null,
   "metadata": {
    "collapsed": true
   },
   "outputs": [],
   "source": []
  }
 ],
 "metadata": {
  "celltoolbar": "Slideshow",
  "kernelspec": {
   "display_name": "Python 2",
   "language": "python",
   "name": "python2"
  },
  "language_info": {
   "codemirror_mode": {
    "name": "ipython",
    "version": 2
   },
   "file_extension": ".py",
   "mimetype": "text/x-python",
   "name": "python",
   "nbconvert_exporter": "python",
   "pygments_lexer": "ipython2",
   "version": "2.7.11"
  }
 },
 "nbformat": 4,
 "nbformat_minor": 0
}
