{
 "cells": [
  {
   "cell_type": "markdown",
   "metadata": {
    "slideshow": {
     "slide_type": "slide"
    }
   },
   "source": [
    "\n",
    "# Monasca Bootcamp\n",
    "## Hands on Lab\n",
    "---\n",
    "### [Roland Hochmuth](https://www.linkedin.com/in/rolandhochmuth)\n",
    "\n",
    "company: Hewlett Packard Enterprise\n",
    "\n",
    "email: <roland.hochmuth@hpe.com>\n",
    "\n",
    "### [Michael Hoppal](https://www.linkedin.com/in/hoppalmichael)\n",
    "\n",
    "company: Hewlett Packard Enterprise\n",
    "\n",
    "email: <michael.jam.hoppal@hpe.com>"
   ]
  },
  {
   "cell_type": "markdown",
   "metadata": {
    "slideshow": {
     "slide_type": "slide"
    }
   },
   "source": [
    "# The rest of the Monasca team in Austin\n",
    "\n",
    "* Deklan Dieterly (Hewlett Packard Enterprise)\n",
    "\n",
    "* Brad Klein (TWC)\n",
    "\n",
    "* Ryan Bak (TWC)\n",
    "\n",
    "* Syd Logan (Broadcom)\n",
    "\n",
    "* Witek Bedyk (FUJITSU Enabling Software Technology GmbH)\n",
    "\n",
    "* Kojo Nakazono (Fujitsu)\n",
    "\n",
    "* Shinya Kawabata (NEC)\n",
    "\n",
    "* Fabio Giannetti (Cisco)"
   ]
  },
  {
   "cell_type": "markdown",
   "metadata": {
    "slideshow": {
     "slide_type": "slide"
    }
   },
   "source": [
    "# Running the iPython notebook\n",
    "---\n",
    "This is an iPython/Jupyter notebook that you can run on your own. You will require the following installed on your system:\n",
    "\n",
    "* iPython\n",
    "\n",
    "    * See, https://ipython.org/install.html\n",
    "\n",
    "* An OpenStack DevStack install with the Monasca DevStack plugin installed.\n",
    "\n",
    "    * See, https://github.com/openstack/monasca-api/tree/master/devstack\n",
    "\n",
    "* The following Python libraries:\n",
    "\n",
    "    * pandas\n",
    "    \n",
    "    * numpy \n",
    "\n",
    "    * plotly\n",
    "    \n",
    "    * cufflinks\n",
    "\n",
    "    * python-monascaclient\n",
    "    \n",
    "    * spur "
   ]
  },
  {
   "cell_type": "markdown",
   "metadata": {
    "slideshow": {
     "slide_type": "slide"
    }
   },
   "source": [
    "# Agenda\n",
    "---\n",
    "* What is Monasca?\n",
    "* Architecture\n",
    "* API, CLI (python-monascaclient) and client hands-on\n",
    "* Agent hands-on\n",
    "* Developing\n",
    "* Current status\n",
    "* What next?\n",
    "* Horizon, Grafana 2 Demo"
   ]
  },
  {
   "cell_type": "markdown",
   "metadata": {
    "collapsed": false,
    "slideshow": {
     "slide_type": "slide"
    }
   },
   "source": [
    "# What is Monasca?\n",
    "---\n",
    "\n",
    "* Monitoring-as-a-Service (at-scale) for OpenStack based on a first-class RESTful API\n",
    "    * Highly performant, scalable and fault-tolerant\n",
    "    * Authentication and multi-tenancy using Keystone\n",
    "* Store and query metrics measurements and statistics\n",
    "* Multiple ways to slice and dice the metrics and alarms based on filters and sorting options\n",
    "* Create alarms and receive notifications based on state transitions\n",
    "* Store and query alarm state history\n",
    "* An extensible platform for monitoring components\n",
    "* Used for operations and MaaS use cases."
   ]
  },
  {
   "cell_type": "markdown",
   "metadata": {
    "slideshow": {
     "slide_type": "slide"
    }
   },
   "source": [
    "# Architecture\n",
    "---\n",
    "![Monasca Architecture](metrics-architecture.png)"
   ]
  },
  {
   "cell_type": "markdown",
   "metadata": {
    "slideshow": {
     "slide_type": "subslide"
    }
   },
   "source": [
    "# Horizon\n",
    "---\n",
    "* A monitoring panel has been added to Horizon that supports various CRUD operations in the Monasca API.\n",
    "\n",
    "![Horizon](horizon.png)"
   ]
  },
  {
   "cell_type": "markdown",
   "metadata": {
    "slideshow": {
     "slide_type": "subslide"
    }
   },
   "source": [
    "# Grafana 2.0\n",
    "---\n",
    "* TWC has added support for Monasca as a data source in Grafana 2.\n",
    "\n",
    "* See the pull requests at:\n",
    "\n",
    "    * https://github.com/grafana/grafana/pull/3963: Adds Keystone authentication. Note, this pull request will be merged in Grafana 3.0.\n",
    "    \n",
    "    * https://github.com/twc-openstack/grafana-plugins\n",
    "    \n",
    "![Grafana 2.0](grafana.png)"
   ]
  },
  {
   "cell_type": "markdown",
   "metadata": {
    "slideshow": {
     "slide_type": "subslide"
    }
   },
   "source": [
    "# Logging-as-a-Service\n",
    "---\n",
    "* Support for Logging-as-a-Service\n",
    "\n",
    "* Repo: https://github.com/openstack/monasca-log-api\n",
    "\n",
    "* Spec: https://github.com/openstack/monasca-log-api/blob/master/docs/monasca-log-api-spec.md\n",
    "\n",
    "* Log Management with Monasca: At the Austin summit. See, https://www.openstack.org/summit/austin-2016/summit-schedule/events/7252"
   ]
  },
  {
   "cell_type": "markdown",
   "metadata": {
    "slideshow": {
     "slide_type": "slide"
    }
   },
   "source": [
    "# Integration with other OpenStack projects\n",
    "---\n",
    "* Ceilometer\n",
    "    * Collection and storage. Adds monitoring of OpenStack resources to Monasca and Monasca as a storage driver backen to Ceilometer.\n",
    "    * See https://github.com/openstack/monasca-ceilometer\n",
    "    * Ceilometer + Monasca = Ceilosca: https://www.openstack.org/summit/tokyo-2015/videos/presentation/ceilometer-monascaceilosca\n",
    "* Heat Auto-scaling\n",
    "    * https://www.openstack.org/summit/tokyo-2015/videos/presentation/auto-scaling-cloud-infrastructure-and-applications\n",
    "* Broadview\n",
    "    * Physical network switch monitoring\n",
    "    * https://github.com/openstack?utf8=%E2%9C%93&query=broadview\n",
    "* Congress\n",
    "    * Policy management\n",
    "* Vitrage: Starting to look at integration.\n",
    "* Neutron: Starting to investigate how to do network monitoring in OpenStack.\n",
    "* Rally"
   ]
  },
  {
   "cell_type": "markdown",
   "metadata": {
    "slideshow": {
     "slide_type": "slide"
    }
   },
   "source": [
    "# Import libraries\n",
    "---\n",
    "Let's first import some libraries used in the rest of the notebook."
   ]
  },
  {
   "cell_type": "code",
   "execution_count": null,
   "metadata": {
    "collapsed": false,
    "slideshow": {
     "slide_type": "-"
    }
   },
   "outputs": [],
   "source": [
    "import datetime\n",
    "import time\n",
    "\n",
    "# Import libraries use for visualization and analysis\n",
    "import pandas as pd\n",
    "import numpy as np\n",
    "from plotly.offline import download_plotlyjs, init_notebook_mode, iplot\n",
    "from plotly.graph_objs import *\n",
    "import cufflinks as cf\n",
    "\n",
    "# Import the Monasca and Keystone clients\n",
    "from monascaclient import client\n",
    "from monascaclient import ksclient\n",
    "\n",
    "# Import library to execute remote commands for monasca-agent demo\n",
    "import spur"
   ]
  },
  {
   "cell_type": "markdown",
   "metadata": {
    "slideshow": {
     "slide_type": "slide"
    }
   },
   "source": [
    "# Initialize the Keystone and Monasca Client\n",
    "---\n",
    "We'll be connecting to the DevStack VM running on your local system and using the `mini-mon` project and username."
   ]
  },
  {
   "cell_type": "code",
   "execution_count": null,
   "metadata": {
    "collapsed": true,
    "slideshow": {
     "slide_type": "-"
    }
   },
   "outputs": [],
   "source": [
    "KEYSTONE_URL = 'http://192.168.10.6:5000/v3'\n",
    "PROJECT_NAME = 'mini-mon'\n",
    "USERNAME = 'mini-mon'\n",
    "PASSWORD = 'password'"
   ]
  },
  {
   "cell_type": "code",
   "execution_count": null,
   "metadata": {
    "collapsed": false,
    "slideshow": {
     "slide_type": "-"
    }
   },
   "outputs": [],
   "source": [
    "# Authenticate to Keystone\n",
    "keystone_client = ksclient.KSClient(auth_url=KEYSTONE_URL, username=USERNAME, password=PASSWORD)\n",
    "\n",
    "# Create the Monasca client\n",
    "monasca_client = client.Client('2_0', keystone_client.monasca_url, token=keystone_client.token)\n",
    "\n",
    "# Initialize environment variables to use the Monasca CLI\n",
    "%env OS_PROJECT_NAME=$PROJECT_NAME\n",
    "%env OS_PASSWORD=$PASSWORD\n",
    "%env OS_AUTH_URL=$KEYSTONE_URL\n",
    "%env OS_USERNAME=$USERNAME"
   ]
  },
  {
   "cell_type": "markdown",
   "metadata": {
    "slideshow": {
     "slide_type": "slide"
    }
   },
   "source": [
    "# Initialize Plotly\n",
    "---\n",
    "\n",
    "We'll be using Plotly for displaying some graphs later on in this notebook for measurements and statistics returned by Monasca. Let's set Plotly to off-line mode."
   ]
  },
  {
   "cell_type": "code",
   "execution_count": null,
   "metadata": {
    "collapsed": false,
    "slideshow": {
     "slide_type": "-"
    }
   },
   "outputs": [],
   "source": [
    "WIDTH = 800\n",
    "HEIGHT = 600\n",
    "\n",
    "cf.offline.go_offline()"
   ]
  },
  {
   "cell_type": "markdown",
   "metadata": {
    "slideshow": {
     "slide_type": "subslide"
    }
   },
   "source": [
    "# Initialize spur so we can run commands from Jupyter"
   ]
  },
  {
   "cell_type": "code",
   "execution_count": null,
   "metadata": {
    "collapsed": false,
    "slideshow": {
     "slide_type": "-"
    }
   },
   "outputs": [],
   "source": [
    "# Get Vagrant private key path by running \"vagrant ssh-config\" and copying IdentityFile here\n",
    "vagrant_private_key_path = \"/Users/rolandhochmuth/Documents/repos/openstack/monasca-api.java/devstack/.vagrant/machines/default/virtualbox/private_key\"\n",
    "shell = spur.SshShell(hostname=\"192.168.10.6\",\n",
    "                      username=\"vagrant\",\n",
    "                      missing_host_key=spur.ssh.MissingHostKey.accept,\n",
    "                      private_key_file=vagrant_private_key_path)\n",
    "monasca_agent_help = shell.run([\"/opt/monasca-agent/bin/monasca-setup\", \"-h\"])\n",
    "\n",
    "# Sync up the clock. Note the VM clock might be out of sync after wake from suspend\n",
    "shell.run(['sudo', 'ntpdate', 'pool.ntp.org'])"
   ]
  },
  {
   "cell_type": "markdown",
   "metadata": {
    "slideshow": {
     "slide_type": "slide"
    }
   },
   "source": [
    "# Using the API\n",
    "---\n",
    "\n",
    "The [Monasca API](https://github.com/openstack/monasca-api/blob/master/docs/monasca-api-spec.md) has the following resources:\n",
    "\n",
    "* Versions\n",
    "\n",
    "* Metrics\n",
    "\n",
    "* Metrics Measurements\n",
    "\n",
    "* Metrics Statistics\n",
    "\n",
    "* Metrics Names\n",
    "\n",
    "* Notification Methods\n",
    "\n",
    "* Alarm Definitions\n",
    "\n",
    "* Alarms\n",
    "\n",
    "* Alarms Count\n",
    "\n",
    "* Alarms State History"
   ]
  },
  {
   "cell_type": "markdown",
   "metadata": {
    "slideshow": {
     "slide_type": "slide"
    }
   },
   "source": [
    "# Common concepts\n",
    "---\n",
    "Let's review some common concepts in the API before we get into the various resources and how to use them."
   ]
  },
  {
   "cell_type": "markdown",
   "metadata": {
    "slideshow": {
     "slide_type": "subslide"
    }
   },
   "source": [
    "# Roles\n",
    "---\n",
    "\n",
    "Roles are used to control access to the API.\n",
    "\n",
    "Currently, there are three roles in Monasca:\n",
    "\n",
    "1. user: Allows the client access to all CRUD operations on the API.\n",
    "\n",
    "2. agent: Can only POST metrics to the API.\n",
    "\n",
    "3. delegate: Allows the client to POST or query metrics to/from other tenants/projects.\n",
    "\n",
    "    * Used by the Monasca Agent to POST metrics to the owner tenant/project for an OpenStack resource.\n",
    "    \n",
    "Roles are created in Keystone and assigned to the `roles` in the monasca-api config file when deployed."
   ]
  },
  {
   "cell_type": "markdown",
   "metadata": {
    "slideshow": {
     "slide_type": "subslide"
    }
   },
   "source": [
    "# Pagination\n",
    "---\n",
    "\n",
    "* The Monasca API implements a paging mechanism to allow users to `page` through result sets returned by the API.\n",
    "\n",
    "* The paging mechanism is accomplished by specifying the query parameters in the URL:\n",
    "\n",
    "    * offset: The ID of the last element in the previous result set.\n",
    "\n",
    "    * limit: The number of elements to return.\n",
    "    \n",
    "        * Note, the max `limit` of the Monasca API is 10,000 elements.\n",
    "    \n",
    "        * If the number of elements returned in the result set equals the max limit as a query parameter or of the API then there are additional elements to page in.\n",
    "    \n",
    "* The response object also includes a `links` field which will have a `next` field if paging. "
   ]
  },
  {
   "cell_type": "markdown",
   "metadata": {
    "slideshow": {
     "slide_type": "subslide"
    }
   },
   "source": [
    "# Pagination example"
   ]
  },
  {
   "cell_type": "markdown",
   "metadata": {
    "slideshow": {
     "slide_type": "fragment"
    }
   },
   "source": [
    "First, let's just list some measurements using a limit of 8"
   ]
  },
  {
   "cell_type": "code",
   "execution_count": 77,
   "metadata": {
    "collapsed": false,
    "slideshow": {
     "slide_type": "fragment"
    }
   },
   "outputs": [
    {
     "name": "stdout",
     "output_type": "stream",
     "text": [
      "+---------------+---------------------+--------------------------+--------------+------------+\r\n",
      "| name          | dimensions          | timestamp                | value        | value_meta |\r\n",
      "+---------------+---------------------+--------------------------+--------------+------------+\r\n",
      "| cpu.user_perc | hostname: devstack  | 2016-04-23T15:52:26.000Z |       18.500 |            |\r\n",
      "|               | service: monitoring | 2016-04-23T15:52:40.000Z |        4.600 |            |\r\n",
      "|               |                     | 2016-04-23T15:52:55.000Z |        1.900 |            |\r\n",
      "|               |                     | 2016-04-23T15:53:10.000Z |        1.900 |            |\r\n",
      "|               |                     | 2016-04-23T15:53:25.000Z |        1.600 |            |\r\n",
      "|               |                     | 2016-04-23T15:53:40.000Z |        2.100 |            |\r\n",
      "|               |                     | 2016-04-23T15:53:55.000Z |        1.700 |            |\r\n",
      "|               |                     | 2016-04-23T15:54:10.000Z |        1.700 |            |\r\n",
      "+---------------+---------------------+--------------------------+--------------+------------+\r\n"
     ]
    }
   ],
   "source": [
    "!monasca measurement-list --limit 8 cpu.user_perc 2016-04-23T15:52:26.000Z"
   ]
  },
  {
   "cell_type": "markdown",
   "metadata": {
    "slideshow": {
     "slide_type": "fragment"
    }
   },
   "source": [
    "Now, let's list the measurements from the start of the list (no offset) using a limit of 2"
   ]
  },
  {
   "cell_type": "code",
   "execution_count": 78,
   "metadata": {
    "collapsed": false,
    "slideshow": {
     "slide_type": "fragment"
    }
   },
   "outputs": [
    {
     "name": "stdout",
     "output_type": "stream",
     "text": [
      "+---------------+---------------------+--------------------------+--------------+------------+\r\n",
      "| name          | dimensions          | timestamp                | value        | value_meta |\r\n",
      "+---------------+---------------------+--------------------------+--------------+------------+\r\n",
      "| cpu.user_perc | hostname: devstack  | 2016-04-23T15:52:26.000Z |       18.500 |            |\r\n",
      "|               | service: monitoring | 2016-04-23T15:52:40.000Z |        4.600 |            |\r\n",
      "+---------------+---------------------+--------------------------+--------------+------------+\r\n"
     ]
    }
   ],
   "source": [
    "!monasca measurement-list cpu.user_perc --limit 2 2016-04-23T15:52:26.000Z"
   ]
  },
  {
   "cell_type": "markdown",
   "metadata": {
    "slideshow": {
     "slide_type": "fragment"
    }
   },
   "source": [
    "Now, let's page in the next 2 measurements starting from the offset of the last element in the previous list"
   ]
  },
  {
   "cell_type": "code",
   "execution_count": 79,
   "metadata": {
    "collapsed": false,
    "slideshow": {
     "slide_type": "fragment"
    }
   },
   "outputs": [
    {
     "name": "stdout",
     "output_type": "stream",
     "text": [
      "+---------------+---------------------+--------------------------+--------------+------------+\r\n",
      "| name          | dimensions          | timestamp                | value        | value_meta |\r\n",
      "+---------------+---------------------+--------------------------+--------------+------------+\r\n",
      "| cpu.user_perc | hostname: devstack  | 2016-04-23T15:52:55.000Z |        1.900 |            |\r\n",
      "|               | service: monitoring | 2016-04-23T15:53:10.000Z |        1.900 |            |\r\n",
      "+---------------+---------------------+--------------------------+--------------+------------+\r\n"
     ]
    }
   ],
   "source": [
    "!monasca measurement-list cpu.user_perc --offset 2016-04-23T15:52:40.000Z --limit 2 2016-04-23T15:52:26.000Z"
   ]
  },
  {
   "cell_type": "markdown",
   "metadata": {
    "slideshow": {
     "slide_type": "slide"
    }
   },
   "source": [
    "# Metrics\n",
    "---\n",
    "\n",
    "* name (string(255), required) - The name of the metric. Naming conventions for metric names:\n",
    "\n",
    "    * lowercase\n",
    "    \n",
    "    * `.` to delimit groups\n",
    "    \n",
    "    * `_` (snake case) to delimit words, with a uit of measurement as the suffix.\n",
    "\n",
    "* dimensions ({string(255): string(255)}, optional) - A dictionary consisting of (key, value) pairs used to uniquely identify a metric and slice and dice on.\n",
    "\n",
    "    * Examples of dimension keys are the following: hostname, region, zone, service, component, process, ...\n",
    "\n",
    "* timestamp (string, required) - The timestamp in milliseconds from the Epoch.\n",
    "\n",
    "* value (float, required) - Value of the metric.\n",
    "\n",
    "* value_meta ({string(255): string(2048)}, optional) - A dictionary consisting of (key, value) pairs used to describe the metric.\n",
    "\n",
    "    * Examples: status_code, msg\n",
    "\n",
    "* tenant_id: Tenant ID to create metrics on behalf of.\n",
    "\n",
    "    * This parameter can be used to submit metrics from one tenant, to another.\n",
    "    * Requires the delegate role."
   ]
  },
  {
   "cell_type": "markdown",
   "metadata": {
    "slideshow": {
     "slide_type": "subslide"
    }
   },
   "source": [
    "# Dimensions\n",
    "---\n",
    "\n",
    "* A dictionary of (key, value) pairs that are used to uniquely identify a metric.\n",
    "\n",
    "* Used to slice and dice metrics when querying.\n",
    "\n",
    "* Examples: hostname, service, component, region zone, resource_id, ...\n",
    "\n",
    "* Dimensions can be anything you want, but naming conventions should be adopted for consistency."
   ]
  },
  {
   "cell_type": "markdown",
   "metadata": {
    "slideshow": {
     "slide_type": "subslide"
    }
   },
   "source": [
    "# Example metrics request body\n",
    "---\n",
    "In this example, we are reporting the status of a HTTP check as a binary value, 0 or 1, for a specific host. The API is down, and the status code and msg returned are returned as meta data.\n",
    "```\n",
    "{\n",
    "\tname: http_status,\n",
    "\tdimensions: {\n",
    "\t\turl: http://service.domain.com:80,\n",
    "\t\tregion: uswest,\n",
    "\t\tzone: 1,\n",
    "\t\tservice: compute\n",
    "\t}\n",
    "\ttimestamp: 1461600900000, /* milliseconds */\n",
    "\tvalue: 1.0,\n",
    "\tvalue_meta: {\n",
    "\t\tstatus_code: 500,\n",
    "\t\tmsg: Internal server error\n",
    "\t}\n",
    "}\n",
    "```"
   ]
  },
  {
   "cell_type": "markdown",
   "metadata": {
    "slideshow": {
     "slide_type": "subslide"
    }
   },
   "source": [
    "# Create metrics help\n",
    "---"
   ]
  },
  {
   "cell_type": "code",
   "execution_count": 80,
   "metadata": {
    "collapsed": false,
    "slideshow": {
     "slide_type": "-"
    }
   },
   "outputs": [
    {
     "name": "stdout",
     "output_type": "stream",
     "text": [
      "usage: monasca metric-create [--dimensions <KEY1=VALUE1,KEY2=VALUE2...>]\r\n",
      "                             [--value-meta <KEY1=VALUE1,KEY2=VALUE2...>]\r\n",
      "                             [--time <UNIX_TIMESTAMP>]\r\n",
      "                             [--project-id <CROSS_PROJECT_ID>]\r\n",
      "                             <METRIC_NAME> <METRIC_VALUE>\r\n",
      "\r\n",
      "Create metric.\r\n",
      "\r\n",
      "Positional arguments:\r\n",
      "  <METRIC_NAME>         Name of the metric to create.\r\n",
      "  <METRIC_VALUE>        Metric value.\r\n",
      "\r\n",
      "Optional arguments:\r\n",
      "  --dimensions <KEY1=VALUE1,KEY2=VALUE2...>\r\n",
      "                        key value pair used to create a metric dimension. This\r\n",
      "                        can be specified multiple times, or once with\r\n",
      "                        parameters separated by a comma. Dimensions need\r\n",
      "                        quoting when they contain special chars\r\n",
      "                        [&,(,),{,},>,<] that confuse the CLI parser.\r\n",
      "  --value-meta <KEY1=VALUE1,KEY2=VALUE2...>\r\n",
      "                        key value pair for extra information about a value.\r\n",
      "                        This can be specified multiple times, or once with\r\n",
      "                        parameters separated by a comma. value_meta need\r\n",
      "                        quoting when they contain special chars\r\n",
      "                        [&,(,),{,},>,<] that confuse the CLI parser.\r\n",
      "  --time <UNIX_TIMESTAMP>\r\n",
      "                        Metric timestamp in milliseconds. Default: current\r\n",
      "                        timestamp.\r\n",
      "  --project-id <CROSS_PROJECT_ID>\r\n",
      "                        The Project ID to create metric on behalf of. Requires\r\n",
      "                        monitoring-delegate role in keystone.\r\n"
     ]
    }
   ],
   "source": [
    "!monasca help metric-create"
   ]
  },
  {
   "cell_type": "markdown",
   "metadata": {
    "slideshow": {
     "slide_type": "subslide"
    }
   },
   "source": [
    "# Create a metric"
   ]
  },
  {
   "cell_type": "code",
   "execution_count": 81,
   "metadata": {
    "collapsed": false
   },
   "outputs": [
    {
     "name": "stdout",
     "output_type": "stream",
     "text": [
      "Successfully created metric\r\n"
     ]
    }
   ],
   "source": [
    "!monasca metric-create --dimensions hostname=foo test_metric 1.0"
   ]
  },
  {
   "cell_type": "markdown",
   "metadata": {
    "slideshow": {
     "slide_type": "subslide"
    }
   },
   "source": [
    "# List metrics\n",
    "* Lists all the unique metrics in the system\n",
    "\n",
    "* A unique metric is identitifed by it's name and dimensions.\n",
    "\n",
    "* Starttime, endtime, offset and limit paramaters are available.\n",
    "\n",
    "* Note, if you are monitoring OpenStack resources, such as VMs, based on the amount of churn (VMs being created/destroyed) in the system and your retention policy, it is recommended to specify the starttime, to limit the amount of metrics returned, such that queries return in a reasonable amount of time."
   ]
  },
  {
   "cell_type": "markdown",
   "metadata": {
    "slideshow": {
     "slide_type": "subslide"
    }
   },
   "source": [
    "# List Metrics Help\n",
    "---\n"
   ]
  },
  {
   "cell_type": "code",
   "execution_count": 82,
   "metadata": {
    "collapsed": false
   },
   "outputs": [
    {
     "name": "stdout",
     "output_type": "stream",
     "text": [
      "usage: monasca metric-list [--name <METRIC_NAME>]\r\n",
      "                           [--dimensions <KEY1=VALUE1,KEY2=VALUE2...>]\r\n",
      "                           [--starttime <UTC_START_TIME>]\r\n",
      "                           [--endtime <UTC_END_TIME>]\r\n",
      "                           [--offset <OFFSET LOCATION>]\r\n",
      "                           [--limit <RETURN LIMIT>]\r\n",
      "\r\n",
      "List metrics for this tenant.\r\n",
      "\r\n",
      "Optional arguments:\r\n",
      "  --name <METRIC_NAME>  Name of the metric to list.\r\n",
      "  --dimensions <KEY1=VALUE1,KEY2=VALUE2...>\r\n",
      "                        key value pair used to specify a metric dimension.\r\n",
      "                        This can be specified multiple times, or once with\r\n",
      "                        parameters separated by a comma. Dimensions need\r\n",
      "                        quoting when they contain special chars\r\n",
      "                        [&,(,),{,},>,<] that confuse the CLI parser.\r\n",
      "  --starttime <UTC_START_TIME>\r\n",
      "                        measurements >= UTC time. format:\r\n",
      "                        2014-01-01T00:00:00Z. OR Format: -120 (previous 120\r\n",
      "                        minutes).\r\n",
      "  --endtime <UTC_END_TIME>\r\n",
      "                        measurements <= UTC time. format:\r\n",
      "                        2014-01-01T00:00:00Z.\r\n",
      "  --offset <OFFSET LOCATION>\r\n",
      "                        The offset used to paginate the return data.\r\n",
      "  --limit <RETURN LIMIT>\r\n",
      "                        The amount of data to be returned up to the API\r\n",
      "                        maximum limit.\r\n"
     ]
    }
   ],
   "source": [
    "!monasca help metric-list"
   ]
  },
  {
   "cell_type": "code",
   "execution_count": 83,
   "metadata": {
    "collapsed": false,
    "slideshow": {
     "slide_type": "subslide"
    }
   },
   "outputs": [
    {
     "name": "stdout",
     "output_type": "stream",
     "text": [
      "+--------------------------------------+---------------------------------+\r\n",
      "| name                                 | dimensions                      |\r\n",
      "+--------------------------------------+---------------------------------+\r\n",
      "| monasca.thread_count                 | hostname: devstack              |\r\n",
      "|                                      | component: monasca-agent        |\r\n",
      "|                                      | service: monitoring             |\r\n",
      "| test_metric                          |                                 |\r\n",
      "| io.read_req_sec                      | device: sda1                    |\r\n",
      "|                                      | hostname: devstack              |\r\n",
      "|                                      | mount_point: /                  |\r\n",
      "|                                      | service: monitoring             |\r\n",
      "| net.out_bytes_sec                    | device: eth0                    |\r\n",
      "|                                      | hostname: devstack              |\r\n",
      "|                                      | service: monitoring             |\r\n",
      "| net.in_bytes_sec                     | device: eth0                    |\r\n",
      "|                                      | hostname: devstack              |\r\n",
      "|                                      | service: monitoring             |\r\n",
      "| load.avg_1_min                       | hostname: devstack              |\r\n",
      "|                                      | service: monitoring             |\r\n",
      "| process.cpu_perc                     | process_name: kafka.Kafka       |\r\n",
      "|                                      | hostname: devstack              |\r\n",
      "|                                      | service: kafka                  |\r\n",
      "| monasca.alarms_no_notification_count | hostname: devstack              |\r\n",
      "|                                      | component: monasca-notification |\r\n",
      "|                                      | service: monitoring             |\r\n",
      "| monasca.alarms_finished_count        | hostname: devstack              |\r\n",
      "|                                      | component: monasca-notification |\r\n",
      "|                                      | service: monitoring             |\r\n",
      "| process.mem.rss_mbytes               | process_name: kafka.Kafka       |\r\n",
      "|                                      | hostname: devstack              |\r\n",
      "|                                      | service: kafka                  |\r\n",
      "+--------------------------------------+---------------------------------+\r\n"
     ]
    }
   ],
   "source": [
    "!monasca metric-list --limit 10"
   ]
  },
  {
   "cell_type": "markdown",
   "metadata": {
    "slideshow": {
     "slide_type": "subslide"
    }
   },
   "source": [
    "# List metrics and filter on name, dimensions and starttime\n",
    "---"
   ]
  },
  {
   "cell_type": "code",
   "execution_count": 84,
   "metadata": {
    "collapsed": false
   },
   "outputs": [
    {
     "name": "stdout",
     "output_type": "stream",
     "text": [
      "+---------------+---------------------+\r\n",
      "| name          | dimensions          |\r\n",
      "+---------------+---------------------+\r\n",
      "| cpu.user_perc | hostname: devstack  |\r\n",
      "|               | service: monitoring |\r\n",
      "+---------------+---------------------+\r\n"
     ]
    }
   ],
   "source": [
    "!monasca metric-list --name cpu.user_perc --dimensions hostname=devstack,service=monitoring --starttime 100 --limit 10"
   ]
  },
  {
   "cell_type": "markdown",
   "metadata": {
    "slideshow": {
     "slide_type": "subslide"
    }
   },
   "source": [
    "# Create a function to get metrics using the Monasca client\n",
    "---"
   ]
  },
  {
   "cell_type": "code",
   "execution_count": 85,
   "metadata": {
    "collapsed": true
   },
   "outputs": [],
   "source": [
    "def get_metrics(names = [None], dimensions = None, limit=10):\n",
    "    metrics = []\n",
    "    for name in names:\n",
    "        kwargs = {}\n",
    "        if name is not None:\n",
    "            kwargs['name'] = name\n",
    "        if dimensions is not None:\n",
    "            kwargs['dimensions'] = dimensions\n",
    "        kwargs['limit'] = limit\n",
    "        \n",
    "        # Invoke the Monasca client\n",
    "        metrics = metrics + monasca_client.metrics.list(**kwargs)\n",
    "    return metrics"
   ]
  },
  {
   "cell_type": "markdown",
   "metadata": {
    "slideshow": {
     "slide_type": "slide"
    }
   },
   "source": [
    "# Metrics Measurements\n",
    "---\n",
    "* Operations for returning measurements.\n",
    "\n",
    "* Name and dimensions supplied as query parameters\n",
    "\n",
    "* Startime, endtime, offset and limit supplied.\n",
    "\n",
    "* Note:\n",
    "\n",
    "    * Currently, only one set of measurements can be returned.\n",
    "    \n",
    "    * If multiple metrics are requested, the `merge_metrics` flag must be specified.\n",
    "    \n",
    "    * There are a few reviews in progress to support multiple metrics in a single request."
   ]
  },
  {
   "cell_type": "markdown",
   "metadata": {
    "slideshow": {
     "slide_type": "subslide"
    }
   },
   "source": [
    "# Measurement list help\n",
    "---"
   ]
  },
  {
   "cell_type": "code",
   "execution_count": 86,
   "metadata": {
    "collapsed": false
   },
   "outputs": [
    {
     "name": "stdout",
     "output_type": "stream",
     "text": [
      "usage: monasca measurement-list [--dimensions <KEY1=VALUE1,KEY2=VALUE2...>]\r\n",
      "                                [--endtime <UTC_END_TIME>]\r\n",
      "                                [--offset <OFFSET LOCATION>]\r\n",
      "                                [--limit <RETURN LIMIT>] [--merge_metrics]\r\n",
      "                                <METRIC_NAME> <UTC_START_TIME>\r\n",
      "\r\n",
      "List measurements for the specified metric.\r\n",
      "\r\n",
      "Positional arguments:\r\n",
      "  <METRIC_NAME>         Name of the metric to list measurements.\r\n",
      "  <UTC_START_TIME>      measurements >= UTC time. format:\r\n",
      "                        2014-01-01T00:00:00Z. OR Format: -120 (previous 120\r\n",
      "                        minutes).\r\n",
      "\r\n",
      "Optional arguments:\r\n",
      "  --dimensions <KEY1=VALUE1,KEY2=VALUE2...>\r\n",
      "                        key value pair used to specify a metric dimension.\r\n",
      "                        This can be specified multiple times, or once with\r\n",
      "                        parameters separated by a comma. Dimensions need\r\n",
      "                        quoting when they contain special chars\r\n",
      "                        [&,(,),{,},>,<] that confuse the CLI parser.\r\n",
      "  --endtime <UTC_END_TIME>\r\n",
      "                        measurements <= UTC time. format:\r\n",
      "                        2014-01-01T00:00:00Z.\r\n",
      "  --offset <OFFSET LOCATION>\r\n",
      "                        The offset used to paginate the return data.\r\n",
      "  --limit <RETURN LIMIT>\r\n",
      "                        The amount of data to be returned up to the API\r\n",
      "                        maximum limit.\r\n",
      "  --merge_metrics       Merge multiple metrics into a single result.\r\n"
     ]
    }
   ],
   "source": [
    "!monasca help measurement-list"
   ]
  },
  {
   "cell_type": "markdown",
   "metadata": {
    "slideshow": {
     "slide_type": "subslide"
    }
   },
   "source": [
    "# Measurement list\n",
    "---"
   ]
  },
  {
   "cell_type": "code",
   "execution_count": 87,
   "metadata": {
    "collapsed": false,
    "slideshow": {
     "slide_type": "-"
    }
   },
   "outputs": [
    {
     "name": "stdout",
     "output_type": "stream",
     "text": [
      "+---------------+---------------------+--------------------------+--------------+------------+\r\n",
      "| name          | dimensions          | timestamp                | value        | value_meta |\r\n",
      "+---------------+---------------------+--------------------------+--------------+------------+\r\n",
      "| cpu.user_perc | hostname: devstack  | 2016-04-23T20:41:08.000Z |        1.500 |            |\r\n",
      "|               | service: monitoring | 2016-04-23T20:41:23.000Z |        1.900 |            |\r\n",
      "|               |                     | 2016-04-23T20:41:38.000Z |        1.700 |            |\r\n",
      "|               |                     | 2016-04-23T20:41:53.000Z |        2.300 |            |\r\n",
      "|               |                     | 2016-04-23T20:42:08.000Z |        1.900 |            |\r\n",
      "+---------------+---------------------+--------------------------+--------------+------------+\r\n"
     ]
    }
   ],
   "source": [
    "!monasca measurement-list --dimensions hostname=devstack --limit 5 cpu.user_perc -120"
   ]
  },
  {
   "cell_type": "markdown",
   "metadata": {
    "slideshow": {
     "slide_type": "subslide"
    }
   },
   "source": [
    "# Create a function to get measurements using the Monasca Client\n",
    "---"
   ]
  },
  {
   "cell_type": "code",
   "execution_count": 88,
   "metadata": {
    "collapsed": true
   },
   "outputs": [],
   "source": [
    "def get_measurements(metrics, start_time = None, end_time = None, limit=None):\n",
    "    measurements = []\n",
    "    \n",
    "    if start_time == None:\n",
    "        start_date = datetime.datetime.utcnow() - datetime.timedelta(seconds=3600)\n",
    "        start_time = start_date.strftime(\"%Y-%m-%dT%H:%M:%SZ\")\n",
    "\n",
    "    if end_time == None:\n",
    "        end_date = datetime.datetime.utcnow() - datetime.timedelta(seconds=0)\n",
    "        end_time = end_date.strftime(\"%Y-%m-%dT%H:%M:%SZ\")\n",
    "        \n",
    "    for metric in metrics:\n",
    "        kwargs = {}\n",
    "        kwargs['name'] = metric['name']\n",
    "        kwargs['dimensions'] = metric['dimensions']\n",
    "        kwargs['start_time'] = start_time\n",
    "        kwargs['end_time'] = end_time\n",
    "        \n",
    "        # Invoke the Monasca client\n",
    "        measurements.append(monasca_client.metrics.list_measurements(**kwargs))\n",
    "        \n",
    "    return measurements"
   ]
  },
  {
   "cell_type": "markdown",
   "metadata": {
    "slideshow": {
     "slide_type": "subslide"
    }
   },
   "source": [
    "# Create a function to translate measurements to a Pandas DataFrame\n",
    "---"
   ]
  },
  {
   "cell_type": "code",
   "execution_count": 89,
   "metadata": {
    "collapsed": true,
    "slideshow": {
     "slide_type": "-"
    }
   },
   "outputs": [],
   "source": [
    "def df_from_measurements(measurements):\n",
    "    '''Returns a DataFrame given measurements'''\n",
    "    measurement = measurements[0][0]\n",
    "    m = np.array(measurement['measurements'])  \n",
    "    timestamps = m[:, measurement['columns'].index('timestamp')]\n",
    "    df = pd.DataFrame(index = timestamps)  \n",
    "    \n",
    "    for measurement in measurements:\n",
    "        measure = measurement[0]\n",
    "        m = np.array(measure['measurements'])\n",
    "        name = measure['name']\n",
    "        df[name] = m[:, measure['columns'].index('value')]     \n",
    "    return df"
   ]
  },
  {
   "cell_type": "markdown",
   "metadata": {
    "slideshow": {
     "slide_type": "subslide"
    }
   },
   "source": [
    "# Query measurements using the Monasca client\n",
    "---\n"
   ]
  },
  {
   "cell_type": "code",
   "execution_count": 92,
   "metadata": {
    "collapsed": false
   },
   "outputs": [],
   "source": [
    "metrics = get_metrics(names=['cpu.user_perc', 'cpu.system_perc'])\n",
    "measurements = get_measurements(metrics)"
   ]
  },
  {
   "cell_type": "markdown",
   "metadata": {
    "slideshow": {
     "slide_type": "subslide"
    }
   },
   "source": [
    "# Display measurements using Plotly\n",
    "---"
   ]
  },
  {
   "cell_type": "code",
   "execution_count": 93,
   "metadata": {
    "collapsed": false,
    "scrolled": true
   },
   "outputs": [
    {
     "data": {
      "text/html": [
       "<div id=\"5d6c02f5-760d-44c0-976c-618b8e6d8c35\" style=\"height: 587; width: 1116px;\" class=\"plotly-graph-div\"></div><script type=\"text/javascript\">window.PLOTLYENV=window.PLOTLYENV || {};window.PLOTLYENV.BASE_URL=\"https://plot.ly\";Plotly.newPlot(\"5d6c02f5-760d-44c0-976c-618b8e6d8c35\", [{\"name\": \"cpu.user_perc\", \"text\": \"\", \"mode\": \"lines\", \"fillcolor\": \"rgba(226, 74, 51, 0.3)\", \"y\": [2.0, 2.0, 1.9, 1.7, 1.7, 1.7, 1.7, 2.2, 1.5, 1.8, 2.0, 2.0, 2.0, 1.8, 1.5, 2.3, 1.8, 1.7, 1.9, 1.7, 1.7, 1.5, 1.8, 1.9, 1.6, 1.8, 1.7, 1.9, 1.6, 6.7, 1.7, 2.0, 1.9, 1.8, 1.7, 1.9, 2.2, 1.7, 2.0, 7.1, 3.6, 3.3, 3.4, 2.0, 1.9, 3.2, 1.9, 1.8, 2.0, 1.6, 2.2, 1.8, 1.8, 1.9, 1.9, 1.8, 1.7, 1.9, 10.4, 2.0, 2.0, 1.8, 1.8, 1.5, 1.7, 1.7, 2.2, 1.5, 1.5, 1.7, 1.7, 4.6, 2.0, 1.9, 1.8, 1.6, 1.9, 2.1, 2.0, 1.8, 1.7, 1.8, 1.9, 1.7, 1.6, 1.9, 1.8, 1.6, 1.6, 1.7, 1.5, 1.9, 1.6, 1.6, 1.8, 1.8, 1.8, 1.8, 1.6, 1.6, 1.7, 1.5, 1.8, 1.9, 1.8, 1.8, 1.5, 1.8, 1.8, 1.6, 1.7, 1.9, 1.7, 1.7, 1.6, 1.7, 2.7, 5.6, 1.8, 1.8, 1.6, 1.7, 1.6, 1.9, 1.6, 2.2, 1.6, 1.9, 2.1, 1.6, 1.6, 1.9, 1.6, 1.6, 1.7, 1.5, 1.8, 1.8, 1.5, 1.8, 1.6, 1.7, 1.7, 1.7, 1.8, 1.6, 1.6, 1.7, 1.6, 1.7, 1.5, 1.7, 1.6, 5.0, 2.1, 1.7, 1.9, 1.6, 1.9, 1.7, 1.8, 1.5, 1.8, 1.6, 2.0, 1.7, 1.7, 1.4, 1.7, 1.6, 1.7, 1.6, 1.7, 1.6, 2.0, 1.6, 1.9, 1.5, 1.7, 1.6, 1.8, 1.6, 1.6, 5.0, 1.7, 1.7, 2.1, 1.7, 1.9, 2.1, 1.5, 1.6, 1.7, 8.9, 1.4, 1.7, 1.9, 1.5, 1.6, 1.8, 1.6, 1.6, 1.7, 1.8, 1.6, 1.7, 1.9, 1.6, 1.7, 1.5, 1.7, 1.6, 1.7, 1.8, 1.5, 1.7, 1.8, 1.7, 1.6, 1.6, 1.8, 2.3, 5.0, 6.5, 3.0, 2.4, 6.6, 6.2, 8.2, 3.5, 2.5, 1.8, 2.0, 1.8, 2.4, 3.7, 3.0, 5.6, 4.7, 2.4], \"x\": [\"2016-04-23T21:41:19.000Z\", \"2016-04-23T21:41:34.000Z\", \"2016-04-23T21:41:49.000Z\", \"2016-04-23T21:42:04.000Z\", \"2016-04-23T21:42:19.000Z\", \"2016-04-23T21:42:34.000Z\", \"2016-04-23T21:42:49.000Z\", \"2016-04-23T21:43:04.000Z\", \"2016-04-23T21:43:19.000Z\", \"2016-04-23T21:43:34.000Z\", \"2016-04-23T21:43:49.000Z\", \"2016-04-23T21:44:04.000Z\", \"2016-04-23T21:44:19.000Z\", \"2016-04-23T21:44:34.000Z\", \"2016-04-23T21:44:49.000Z\", \"2016-04-23T21:45:04.000Z\", \"2016-04-23T21:45:19.000Z\", \"2016-04-23T21:45:34.000Z\", \"2016-04-23T21:45:49.000Z\", \"2016-04-23T21:46:04.000Z\", \"2016-04-23T21:46:19.000Z\", \"2016-04-23T21:46:34.000Z\", \"2016-04-23T21:46:49.000Z\", \"2016-04-23T21:47:04.000Z\", \"2016-04-23T21:47:19.000Z\", \"2016-04-23T21:47:34.000Z\", \"2016-04-23T21:47:49.000Z\", \"2016-04-23T21:48:04.000Z\", \"2016-04-23T21:48:19.000Z\", \"2016-04-23T21:48:34.000Z\", \"2016-04-23T21:48:49.000Z\", \"2016-04-23T21:49:04.000Z\", \"2016-04-23T21:49:20.000Z\", \"2016-04-23T21:49:35.000Z\", \"2016-04-23T21:49:49.000Z\", \"2016-04-23T21:50:05.000Z\", \"2016-04-23T21:50:20.000Z\", \"2016-04-23T21:50:35.000Z\", \"2016-04-23T21:50:50.000Z\", \"2016-04-23T21:51:05.000Z\", \"2016-04-23T21:51:20.000Z\", \"2016-04-23T21:51:35.000Z\", \"2016-04-23T21:51:50.000Z\", \"2016-04-23T21:52:05.000Z\", \"2016-04-23T21:52:20.000Z\", \"2016-04-23T21:52:35.000Z\", \"2016-04-23T21:52:50.000Z\", \"2016-04-23T21:53:05.000Z\", \"2016-04-23T21:53:20.000Z\", \"2016-04-23T21:53:35.000Z\", \"2016-04-23T21:53:50.000Z\", \"2016-04-23T21:54:05.000Z\", \"2016-04-23T21:54:20.000Z\", \"2016-04-23T21:54:35.000Z\", \"2016-04-23T21:54:50.000Z\", \"2016-04-23T21:55:05.000Z\", \"2016-04-23T21:55:20.000Z\", \"2016-04-23T21:55:35.000Z\", \"2016-04-23T21:55:50.000Z\", \"2016-04-23T21:56:05.000Z\", \"2016-04-23T21:56:20.000Z\", \"2016-04-23T21:56:35.000Z\", \"2016-04-23T21:56:50.000Z\", \"2016-04-23T21:57:05.000Z\", \"2016-04-23T21:57:20.000Z\", \"2016-04-23T21:57:35.000Z\", \"2016-04-23T21:57:50.000Z\", \"2016-04-23T21:58:05.000Z\", \"2016-04-23T21:58:20.000Z\", \"2016-04-23T21:58:35.000Z\", \"2016-04-23T21:58:35.000Z\", \"2016-04-23T21:58:50.000Z\", \"2016-04-23T21:59:05.000Z\", \"2016-04-23T21:59:20.000Z\", \"2016-04-23T21:59:35.000Z\", \"2016-04-23T21:59:50.000Z\", \"2016-04-23T22:00:05.000Z\", \"2016-04-23T22:00:20.000Z\", \"2016-04-23T22:00:35.000Z\", \"2016-04-23T22:00:50.000Z\", \"2016-04-23T22:01:05.000Z\", \"2016-04-23T22:01:20.000Z\", \"2016-04-23T22:01:35.000Z\", \"2016-04-23T22:01:50.000Z\", \"2016-04-23T22:02:05.000Z\", \"2016-04-23T22:02:20.000Z\", \"2016-04-23T22:02:35.000Z\", \"2016-04-23T22:02:50.000Z\", \"2016-04-23T22:03:05.000Z\", \"2016-04-23T22:03:20.000Z\", \"2016-04-23T22:03:35.000Z\", \"2016-04-23T22:03:50.000Z\", \"2016-04-23T22:04:05.000Z\", \"2016-04-23T22:04:20.000Z\", \"2016-04-23T22:04:35.000Z\", \"2016-04-23T22:04:50.000Z\", \"2016-04-23T22:05:05.000Z\", \"2016-04-23T22:05:20.000Z\", \"2016-04-23T22:05:35.000Z\", \"2016-04-23T22:05:50.000Z\", \"2016-04-23T22:06:05.000Z\", \"2016-04-23T22:06:20.000Z\", \"2016-04-23T22:06:35.000Z\", \"2016-04-23T22:06:50.000Z\", \"2016-04-23T22:07:05.000Z\", \"2016-04-23T22:07:20.000Z\", \"2016-04-23T22:07:35.000Z\", \"2016-04-23T22:07:50.000Z\", \"2016-04-23T22:08:05.000Z\", \"2016-04-23T22:08:20.000Z\", \"2016-04-23T22:08:35.000Z\", \"2016-04-23T22:08:50.000Z\", \"2016-04-23T22:09:05.000Z\", \"2016-04-23T22:09:20.000Z\", \"2016-04-23T22:09:36.000Z\", \"2016-04-23T22:09:50.000Z\", \"2016-04-23T22:10:06.000Z\", \"2016-04-23T22:10:20.000Z\", \"2016-04-23T22:10:35.000Z\", \"2016-04-23T22:10:51.000Z\", \"2016-04-23T22:11:06.000Z\", \"2016-04-23T22:11:20.000Z\", \"2016-04-23T22:11:36.000Z\", \"2016-04-23T22:11:51.000Z\", \"2016-04-23T22:12:06.000Z\", \"2016-04-23T22:12:21.000Z\", \"2016-04-23T22:12:36.000Z\", \"2016-04-23T22:12:51.000Z\", \"2016-04-23T22:13:06.000Z\", \"2016-04-23T22:13:21.000Z\", \"2016-04-23T22:13:36.000Z\", \"2016-04-23T22:13:51.000Z\", \"2016-04-23T22:14:06.000Z\", \"2016-04-23T22:14:21.000Z\", \"2016-04-23T22:14:36.000Z\", \"2016-04-23T22:14:51.000Z\", \"2016-04-23T22:15:06.000Z\", \"2016-04-23T22:15:21.000Z\", \"2016-04-23T22:15:36.000Z\", \"2016-04-23T22:15:51.000Z\", \"2016-04-23T22:16:06.000Z\", \"2016-04-23T22:16:21.000Z\", \"2016-04-23T22:16:36.000Z\", \"2016-04-23T22:16:51.000Z\", \"2016-04-23T22:17:06.000Z\", \"2016-04-23T22:17:21.000Z\", \"2016-04-23T22:17:36.000Z\", \"2016-04-23T22:17:51.000Z\", \"2016-04-23T22:18:06.000Z\", \"2016-04-23T22:18:21.000Z\", \"2016-04-23T22:18:36.000Z\", \"2016-04-23T22:18:51.000Z\", \"2016-04-23T22:19:06.000Z\", \"2016-04-23T22:19:21.000Z\", \"2016-04-23T22:19:36.000Z\", \"2016-04-23T22:19:51.000Z\", \"2016-04-23T22:20:06.000Z\", \"2016-04-23T22:20:21.000Z\", \"2016-04-23T22:20:36.000Z\", \"2016-04-23T22:20:51.000Z\", \"2016-04-23T22:21:06.000Z\", \"2016-04-23T22:21:21.000Z\", \"2016-04-23T22:21:36.000Z\", \"2016-04-23T22:21:51.000Z\", \"2016-04-23T22:22:06.000Z\", \"2016-04-23T22:22:21.000Z\", \"2016-04-23T22:22:36.000Z\", \"2016-04-23T22:22:51.000Z\", \"2016-04-23T22:23:06.000Z\", \"2016-04-23T22:23:21.000Z\", \"2016-04-23T22:23:36.000Z\", \"2016-04-23T22:23:51.000Z\", \"2016-04-23T22:24:06.000Z\", \"2016-04-23T22:24:21.000Z\", \"2016-04-23T22:24:36.000Z\", \"2016-04-23T22:24:51.000Z\", \"2016-04-23T22:25:06.000Z\", \"2016-04-23T22:25:21.000Z\", \"2016-04-23T22:25:36.000Z\", \"2016-04-23T22:25:51.000Z\", \"2016-04-23T22:26:06.000Z\", \"2016-04-23T22:26:21.000Z\", \"2016-04-23T22:26:36.000Z\", \"2016-04-23T22:26:51.000Z\", \"2016-04-23T22:27:06.000Z\", \"2016-04-23T22:27:21.000Z\", \"2016-04-23T22:27:36.000Z\", \"2016-04-23T22:27:51.000Z\", \"2016-04-23T22:28:06.000Z\", \"2016-04-23T22:28:21.000Z\", \"2016-04-23T22:28:36.000Z\", \"2016-04-23T22:28:51.000Z\", \"2016-04-23T22:29:06.000Z\", \"2016-04-23T22:29:21.000Z\", \"2016-04-23T22:29:36.000Z\", \"2016-04-23T22:29:51.000Z\", \"2016-04-23T22:30:06.000Z\", \"2016-04-23T22:30:21.000Z\", \"2016-04-23T22:30:36.000Z\", \"2016-04-23T22:30:51.000Z\", \"2016-04-23T22:31:06.000Z\", \"2016-04-23T22:31:21.000Z\", \"2016-04-23T22:31:36.000Z\", \"2016-04-23T22:31:51.000Z\", \"2016-04-23T22:32:06.000Z\", \"2016-04-23T22:32:21.000Z\", \"2016-04-23T22:32:36.000Z\", \"2016-04-23T22:32:52.000Z\", \"2016-04-23T22:33:06.000Z\", \"2016-04-23T22:33:21.000Z\", \"2016-04-23T22:33:37.000Z\", \"2016-04-23T22:33:52.000Z\", \"2016-04-23T22:34:06.000Z\", \"2016-04-23T22:34:21.000Z\", \"2016-04-23T22:34:37.000Z\", \"2016-04-23T22:34:52.000Z\", \"2016-04-23T22:35:07.000Z\", \"2016-04-23T22:35:22.000Z\", \"2016-04-23T22:35:37.000Z\", \"2016-04-23T22:35:52.000Z\", \"2016-04-23T22:36:07.000Z\", \"2016-04-23T22:36:22.000Z\", \"2016-04-23T22:36:37.000Z\", \"2016-04-23T22:36:52.000Z\", \"2016-04-23T22:37:07.000Z\", \"2016-04-23T22:37:22.000Z\", \"2016-04-23T22:37:37.000Z\", \"2016-04-23T22:37:52.000Z\", \"2016-04-23T22:38:07.000Z\", \"2016-04-23T22:38:22.000Z\", \"2016-04-23T22:38:37.000Z\", \"2016-04-23T22:38:52.000Z\", \"2016-04-23T22:39:07.000Z\", \"2016-04-23T22:39:22.000Z\", \"2016-04-23T22:39:37.000Z\", \"2016-04-23T22:39:52.000Z\", \"2016-04-23T22:40:07.000Z\", \"2016-04-23T22:40:22.000Z\", \"2016-04-23T22:40:37.000Z\", \"2016-04-23T22:40:52.000Z\"], \"line\": {\"color\": \"rgba(226, 74, 51, 1.0)\", \"width\": 1.3, \"dash\": \"solid\"}, \"type\": \"scatter\", \"fill\": \"tozeroy\"}, {\"name\": \"cpu.system_perc\", \"text\": \"\", \"mode\": \"lines\", \"fillcolor\": \"rgba(62, 111, 176, 0.3)\", \"y\": [4.9, 4.4, 4.6, 4.5, 4.9, 4.8, 5.0, 5.2, 4.6, 4.6, 4.5, 4.6, 4.7, 4.7, 4.8, 4.8, 4.8, 4.8, 5.0, 4.8, 4.8, 5.3, 4.5, 4.9, 5.1, 4.8, 4.6, 4.9, 4.7, 8.3, 5.2, 4.9, 4.9, 4.7, 5.0, 4.8, 5.1, 4.9, 5.2, 4.8, 5.4, 5.2, 5.2, 4.8, 4.8, 4.8, 4.9, 5.0, 4.9, 4.8, 5.0, 5.1, 4.5, 5.0, 4.9, 4.8, 4.4, 5.0, 5.9, 5.0, 5.0, 4.7, 4.8, 4.9, 5.0, 5.1, 4.7, 5.0, 5.0, 5.2, 5.2, 5.0, 4.7, 4.8, 4.8, 4.9, 4.9, 4.8, 4.6, 4.7, 4.9, 4.8, 4.6, 4.6, 4.9, 4.7, 4.7, 5.0, 4.5, 4.8, 4.7, 4.8, 5.0, 4.7, 4.8, 4.8, 4.6, 4.6, 4.7, 4.7, 4.7, 4.6, 4.4, 4.4, 4.9, 4.5, 4.6, 4.4, 4.9, 4.7, 4.6, 4.7, 4.8, 4.9, 4.7, 4.6, 4.5, 4.8, 5.0, 4.6, 4.6, 4.9, 4.8, 5.2, 5.0, 5.2, 4.9, 4.6, 5.1, 4.7, 4.8, 5.0, 5.0, 4.9, 4.8, 4.9, 4.7, 4.6, 4.8, 4.5, 5.1, 4.7, 4.7, 4.8, 4.7, 4.8, 4.6, 4.9, 5.0, 4.7, 4.9, 4.8, 4.8, 4.7, 4.6, 4.8, 4.6, 4.8, 4.6, 4.5, 4.5, 4.5, 4.6, 4.8, 4.9, 4.6, 4.7, 4.8, 4.5, 4.8, 4.5, 4.9, 4.4, 4.7, 4.9, 5.0, 4.6, 4.7, 4.7, 4.6, 4.9, 4.9, 5.0, 5.1, 4.8, 4.7, 4.9, 4.5, 4.8, 4.9, 4.8, 4.6, 4.7, 4.6, 4.8, 4.7, 4.7, 4.9, 5.0, 4.8, 5.0, 4.8, 4.7, 4.9, 4.9, 4.7, 4.9, 4.8, 4.8, 4.9, 5.1, 5.0, 4.9, 4.8, 4.9, 4.7, 4.6, 4.6, 4.6, 4.6, 4.7, 5.0, 6.0, 7.9, 5.5, 5.0, 6.8, 9.4, 4.5, 5.3, 5.5, 4.7, 5.1, 4.2, 5.1, 5.4, 5.2, 6.1, 8.9, 4.7], \"x\": [\"2016-04-23T21:41:19.000Z\", \"2016-04-23T21:41:34.000Z\", \"2016-04-23T21:41:49.000Z\", \"2016-04-23T21:42:04.000Z\", \"2016-04-23T21:42:19.000Z\", \"2016-04-23T21:42:34.000Z\", \"2016-04-23T21:42:49.000Z\", \"2016-04-23T21:43:04.000Z\", \"2016-04-23T21:43:19.000Z\", \"2016-04-23T21:43:34.000Z\", \"2016-04-23T21:43:49.000Z\", \"2016-04-23T21:44:04.000Z\", \"2016-04-23T21:44:19.000Z\", \"2016-04-23T21:44:34.000Z\", \"2016-04-23T21:44:49.000Z\", \"2016-04-23T21:45:04.000Z\", \"2016-04-23T21:45:19.000Z\", \"2016-04-23T21:45:34.000Z\", \"2016-04-23T21:45:49.000Z\", \"2016-04-23T21:46:04.000Z\", \"2016-04-23T21:46:19.000Z\", \"2016-04-23T21:46:34.000Z\", \"2016-04-23T21:46:49.000Z\", \"2016-04-23T21:47:04.000Z\", \"2016-04-23T21:47:19.000Z\", \"2016-04-23T21:47:34.000Z\", \"2016-04-23T21:47:49.000Z\", \"2016-04-23T21:48:04.000Z\", \"2016-04-23T21:48:19.000Z\", \"2016-04-23T21:48:34.000Z\", \"2016-04-23T21:48:49.000Z\", \"2016-04-23T21:49:04.000Z\", \"2016-04-23T21:49:20.000Z\", \"2016-04-23T21:49:35.000Z\", \"2016-04-23T21:49:49.000Z\", \"2016-04-23T21:50:05.000Z\", \"2016-04-23T21:50:20.000Z\", \"2016-04-23T21:50:35.000Z\", \"2016-04-23T21:50:50.000Z\", \"2016-04-23T21:51:05.000Z\", \"2016-04-23T21:51:20.000Z\", \"2016-04-23T21:51:35.000Z\", \"2016-04-23T21:51:50.000Z\", \"2016-04-23T21:52:05.000Z\", \"2016-04-23T21:52:20.000Z\", \"2016-04-23T21:52:35.000Z\", \"2016-04-23T21:52:50.000Z\", \"2016-04-23T21:53:05.000Z\", \"2016-04-23T21:53:20.000Z\", \"2016-04-23T21:53:35.000Z\", \"2016-04-23T21:53:50.000Z\", \"2016-04-23T21:54:05.000Z\", \"2016-04-23T21:54:20.000Z\", \"2016-04-23T21:54:35.000Z\", \"2016-04-23T21:54:50.000Z\", \"2016-04-23T21:55:05.000Z\", \"2016-04-23T21:55:20.000Z\", \"2016-04-23T21:55:35.000Z\", \"2016-04-23T21:55:50.000Z\", \"2016-04-23T21:56:05.000Z\", \"2016-04-23T21:56:20.000Z\", \"2016-04-23T21:56:35.000Z\", \"2016-04-23T21:56:50.000Z\", \"2016-04-23T21:57:05.000Z\", \"2016-04-23T21:57:20.000Z\", \"2016-04-23T21:57:35.000Z\", \"2016-04-23T21:57:50.000Z\", \"2016-04-23T21:58:05.000Z\", \"2016-04-23T21:58:20.000Z\", \"2016-04-23T21:58:35.000Z\", \"2016-04-23T21:58:35.000Z\", \"2016-04-23T21:58:50.000Z\", \"2016-04-23T21:59:05.000Z\", \"2016-04-23T21:59:20.000Z\", \"2016-04-23T21:59:35.000Z\", \"2016-04-23T21:59:50.000Z\", \"2016-04-23T22:00:05.000Z\", \"2016-04-23T22:00:20.000Z\", \"2016-04-23T22:00:35.000Z\", \"2016-04-23T22:00:50.000Z\", \"2016-04-23T22:01:05.000Z\", \"2016-04-23T22:01:20.000Z\", \"2016-04-23T22:01:35.000Z\", \"2016-04-23T22:01:50.000Z\", \"2016-04-23T22:02:05.000Z\", \"2016-04-23T22:02:20.000Z\", \"2016-04-23T22:02:35.000Z\", \"2016-04-23T22:02:50.000Z\", \"2016-04-23T22:03:05.000Z\", \"2016-04-23T22:03:20.000Z\", \"2016-04-23T22:03:35.000Z\", \"2016-04-23T22:03:50.000Z\", \"2016-04-23T22:04:05.000Z\", \"2016-04-23T22:04:20.000Z\", \"2016-04-23T22:04:35.000Z\", \"2016-04-23T22:04:50.000Z\", \"2016-04-23T22:05:05.000Z\", \"2016-04-23T22:05:20.000Z\", \"2016-04-23T22:05:35.000Z\", \"2016-04-23T22:05:50.000Z\", \"2016-04-23T22:06:05.000Z\", \"2016-04-23T22:06:20.000Z\", \"2016-04-23T22:06:35.000Z\", \"2016-04-23T22:06:50.000Z\", \"2016-04-23T22:07:05.000Z\", \"2016-04-23T22:07:20.000Z\", \"2016-04-23T22:07:35.000Z\", \"2016-04-23T22:07:50.000Z\", \"2016-04-23T22:08:05.000Z\", \"2016-04-23T22:08:20.000Z\", \"2016-04-23T22:08:35.000Z\", \"2016-04-23T22:08:50.000Z\", \"2016-04-23T22:09:05.000Z\", \"2016-04-23T22:09:20.000Z\", \"2016-04-23T22:09:36.000Z\", \"2016-04-23T22:09:50.000Z\", \"2016-04-23T22:10:06.000Z\", \"2016-04-23T22:10:20.000Z\", \"2016-04-23T22:10:35.000Z\", \"2016-04-23T22:10:51.000Z\", \"2016-04-23T22:11:06.000Z\", \"2016-04-23T22:11:20.000Z\", \"2016-04-23T22:11:36.000Z\", \"2016-04-23T22:11:51.000Z\", \"2016-04-23T22:12:06.000Z\", \"2016-04-23T22:12:21.000Z\", \"2016-04-23T22:12:36.000Z\", \"2016-04-23T22:12:51.000Z\", \"2016-04-23T22:13:06.000Z\", \"2016-04-23T22:13:21.000Z\", \"2016-04-23T22:13:36.000Z\", \"2016-04-23T22:13:51.000Z\", \"2016-04-23T22:14:06.000Z\", \"2016-04-23T22:14:21.000Z\", \"2016-04-23T22:14:36.000Z\", \"2016-04-23T22:14:51.000Z\", \"2016-04-23T22:15:06.000Z\", \"2016-04-23T22:15:21.000Z\", \"2016-04-23T22:15:36.000Z\", \"2016-04-23T22:15:51.000Z\", \"2016-04-23T22:16:06.000Z\", \"2016-04-23T22:16:21.000Z\", \"2016-04-23T22:16:36.000Z\", \"2016-04-23T22:16:51.000Z\", \"2016-04-23T22:17:06.000Z\", \"2016-04-23T22:17:21.000Z\", \"2016-04-23T22:17:36.000Z\", \"2016-04-23T22:17:51.000Z\", \"2016-04-23T22:18:06.000Z\", \"2016-04-23T22:18:21.000Z\", \"2016-04-23T22:18:36.000Z\", \"2016-04-23T22:18:51.000Z\", \"2016-04-23T22:19:06.000Z\", \"2016-04-23T22:19:21.000Z\", \"2016-04-23T22:19:36.000Z\", \"2016-04-23T22:19:51.000Z\", \"2016-04-23T22:20:06.000Z\", \"2016-04-23T22:20:21.000Z\", \"2016-04-23T22:20:36.000Z\", \"2016-04-23T22:20:51.000Z\", \"2016-04-23T22:21:06.000Z\", \"2016-04-23T22:21:21.000Z\", \"2016-04-23T22:21:36.000Z\", \"2016-04-23T22:21:51.000Z\", \"2016-04-23T22:22:06.000Z\", \"2016-04-23T22:22:21.000Z\", \"2016-04-23T22:22:36.000Z\", \"2016-04-23T22:22:51.000Z\", \"2016-04-23T22:23:06.000Z\", \"2016-04-23T22:23:21.000Z\", \"2016-04-23T22:23:36.000Z\", \"2016-04-23T22:23:51.000Z\", \"2016-04-23T22:24:06.000Z\", \"2016-04-23T22:24:21.000Z\", \"2016-04-23T22:24:36.000Z\", \"2016-04-23T22:24:51.000Z\", \"2016-04-23T22:25:06.000Z\", \"2016-04-23T22:25:21.000Z\", \"2016-04-23T22:25:36.000Z\", \"2016-04-23T22:25:51.000Z\", \"2016-04-23T22:26:06.000Z\", \"2016-04-23T22:26:21.000Z\", \"2016-04-23T22:26:36.000Z\", \"2016-04-23T22:26:51.000Z\", \"2016-04-23T22:27:06.000Z\", \"2016-04-23T22:27:21.000Z\", \"2016-04-23T22:27:36.000Z\", \"2016-04-23T22:27:51.000Z\", \"2016-04-23T22:28:06.000Z\", \"2016-04-23T22:28:21.000Z\", \"2016-04-23T22:28:36.000Z\", \"2016-04-23T22:28:51.000Z\", \"2016-04-23T22:29:06.000Z\", \"2016-04-23T22:29:21.000Z\", \"2016-04-23T22:29:36.000Z\", \"2016-04-23T22:29:51.000Z\", \"2016-04-23T22:30:06.000Z\", \"2016-04-23T22:30:21.000Z\", \"2016-04-23T22:30:36.000Z\", \"2016-04-23T22:30:51.000Z\", \"2016-04-23T22:31:06.000Z\", \"2016-04-23T22:31:21.000Z\", \"2016-04-23T22:31:36.000Z\", \"2016-04-23T22:31:51.000Z\", \"2016-04-23T22:32:06.000Z\", \"2016-04-23T22:32:21.000Z\", \"2016-04-23T22:32:36.000Z\", \"2016-04-23T22:32:52.000Z\", \"2016-04-23T22:33:06.000Z\", \"2016-04-23T22:33:21.000Z\", \"2016-04-23T22:33:37.000Z\", \"2016-04-23T22:33:52.000Z\", \"2016-04-23T22:34:06.000Z\", \"2016-04-23T22:34:21.000Z\", \"2016-04-23T22:34:37.000Z\", \"2016-04-23T22:34:52.000Z\", \"2016-04-23T22:35:07.000Z\", \"2016-04-23T22:35:22.000Z\", \"2016-04-23T22:35:37.000Z\", \"2016-04-23T22:35:52.000Z\", \"2016-04-23T22:36:07.000Z\", \"2016-04-23T22:36:22.000Z\", \"2016-04-23T22:36:37.000Z\", \"2016-04-23T22:36:52.000Z\", \"2016-04-23T22:37:07.000Z\", \"2016-04-23T22:37:22.000Z\", \"2016-04-23T22:37:37.000Z\", \"2016-04-23T22:37:52.000Z\", \"2016-04-23T22:38:07.000Z\", \"2016-04-23T22:38:22.000Z\", \"2016-04-23T22:38:37.000Z\", \"2016-04-23T22:38:52.000Z\", \"2016-04-23T22:39:07.000Z\", \"2016-04-23T22:39:22.000Z\", \"2016-04-23T22:39:37.000Z\", \"2016-04-23T22:39:52.000Z\", \"2016-04-23T22:40:07.000Z\", \"2016-04-23T22:40:22.000Z\", \"2016-04-23T22:40:37.000Z\", \"2016-04-23T22:40:52.000Z\"], \"line\": {\"color\": \"rgba(62, 111, 176, 1.0)\", \"width\": 1.3, \"dash\": \"solid\"}, \"type\": \"scatter\", \"fill\": \"tozeroy\"}], {\"title\": \"Statistics\", \"paper_bgcolor\": \"#FFFFFF\", \"plot_bgcolor\": \"#E5E5E5\", \"xaxis1\": {\"tickfont\": {\"color\": \"#666666\"}, \"title\": \"Date\", \"showgrid\": true, \"zerolinecolor\": \"#F6F6F6\", \"gridcolor\": \"#F6F6F6\", \"titlefont\": {\"color\": \"#666666\"}}, \"height\": 587, \"yaxis1\": {\"tickfont\": {\"color\": \"#666666\"}, \"title\": \"Value\", \"showgrid\": true, \"zerolinecolor\": \"#F6F6F6\", \"gridcolor\": \"#F6F6F6\", \"titlefont\": {\"color\": \"#666666\"}}, \"width\": 1116, \"titlefont\": {\"color\": \"#151516\"}, \"legend\": {\"bgcolor\": \"#FFFFFF\", \"font\": {\"color\": \"#666666\"}}}, {\"linkText\": \"Export to plot.ly\", \"showLink\": true})</script>"
      ],
      "text/plain": [
       "<IPython.core.display.HTML object>"
      ]
     },
     "metadata": {},
     "output_type": "display_data"
    }
   ],
   "source": [
    "df = df_from_measurements(measurements)\n",
    "df.iplot(fill=True, shared_xaxes=True, xTitle='Date', yTitle='Value', title='Statistics')"
   ]
  },
  {
   "cell_type": "markdown",
   "metadata": {
    "slideshow": {
     "slide_type": "slide"
    }
   },
   "source": [
    "# Metrics Statistics\n",
    "---\n",
    "Operations for returning statistics."
   ]
  },
  {
   "cell_type": "markdown",
   "metadata": {
    "slideshow": {
     "slide_type": "subslide"
    }
   },
   "source": [
    "# Get statistics help\n",
    "---"
   ]
  },
  {
   "cell_type": "code",
   "execution_count": 94,
   "metadata": {
    "collapsed": false
   },
   "outputs": [
    {
     "name": "stdout",
     "output_type": "stream",
     "text": [
      "usage: monasca metric-statistics [--dimensions <KEY1=VALUE1,KEY2=VALUE2...>]\r\n",
      "                                 [--endtime <UTC_END_TIME>]\r\n",
      "                                 [--period <PERIOD>]\r\n",
      "                                 [--offset <OFFSET LOCATION>]\r\n",
      "                                 [--limit <RETURN LIMIT>] [--merge_metrics]\r\n",
      "                                 <METRIC_NAME> <STATISTICS> <UTC_START_TIME>\r\n",
      "\r\n",
      "List measurement statistics for the specified metric.\r\n",
      "\r\n",
      "Positional arguments:\r\n",
      "  <METRIC_NAME>         Name of the metric to report measurement statistics.\r\n",
      "  <STATISTICS>          Statistics is one or more (separated by commas) of\r\n",
      "                        [AVG, MIN, MAX, COUNT, SUM].\r\n",
      "  <UTC_START_TIME>      measurements >= UTC time. format:\r\n",
      "                        2014-01-01T00:00:00Z. OR Format: -120 (previous 120\r\n",
      "                        minutes).\r\n",
      "\r\n",
      "Optional arguments:\r\n",
      "  --dimensions <KEY1=VALUE1,KEY2=VALUE2...>\r\n",
      "                        key value pair used to specify a metric dimension.\r\n",
      "                        This can be specified multiple times, or once with\r\n",
      "                        parameters separated by a comma. Dimensions need\r\n",
      "                        quoting when they contain special chars\r\n",
      "                        [&,(,),{,},>,<] that confuse the CLI parser.\r\n",
      "  --endtime <UTC_END_TIME>\r\n",
      "                        measurements <= UTC time. format:\r\n",
      "                        2014-01-01T00:00:00Z.\r\n",
      "  --period <PERIOD>     number of seconds per interval (default is 300)\r\n",
      "  --offset <OFFSET LOCATION>\r\n",
      "                        The offset used to paginate the return data.\r\n",
      "  --limit <RETURN LIMIT>\r\n",
      "                        The amount of data to be returned up to the API\r\n",
      "                        maximum limit.\r\n",
      "  --merge_metrics       Merge multiple metrics into a single result.\r\n"
     ]
    }
   ],
   "source": [
    "!monasca help metric-statistics"
   ]
  },
  {
   "cell_type": "markdown",
   "metadata": {
    "slideshow": {
     "slide_type": "subslide"
    }
   },
   "source": [
    "# Create a function to get statistics using the Monasca client\n",
    "---"
   ]
  },
  {
   "cell_type": "code",
   "execution_count": 95,
   "metadata": {
    "collapsed": false
   },
   "outputs": [],
   "source": [
    "def get_statistics(metrics, statistics=['avg'], interval = 3600, start_time = None, end_time = None):\n",
    "    statistics_list = []\n",
    "    \n",
    "    period = interval / 512\n",
    "    \n",
    "    if period < 60:\n",
    "        period = 60\n",
    "        \n",
    "    period = period - period%60\n",
    "    \n",
    "    if start_time == None:\n",
    "        start_date = datetime.datetime.utcnow() - datetime.timedelta(seconds=interval)\n",
    "        start_time = start_date.strftime(\"%Y-%m-%dT%H:%M:%SZ\")\n",
    "\n",
    "    if end_time == None:\n",
    "        end_date = datetime.datetime.utcnow() - datetime.timedelta(seconds=0)\n",
    "        end_time = end_date.strftime(\"%Y-%m-%dT%H:%M:%SZ\")\n",
    "        \n",
    "    for metric in metrics:\n",
    "        kwargs = {}\n",
    "        kwargs['statistics'] = statistics\n",
    "        kwargs['period'] = period\n",
    "        kwargs['name'] = metric['name']\n",
    "        kwargs['dimensions'] = metric['dimensions']\n",
    "        kwargs['start_time'] = start_time\n",
    "        kwargs['end_time'] = end_time\n",
    "        \n",
    "        # Query using the Monasca client\n",
    "        response = monasca_client.metrics.list_statistics(**kwargs)\n",
    "        \n",
    "        statistics_list.append(response)\n",
    "        \n",
    "    return statistics_list"
   ]
  },
  {
   "cell_type": "markdown",
   "metadata": {
    "slideshow": {
     "slide_type": "subslide"
    }
   },
   "source": [
    "# Create a function to translate statistics to a Pandas DataFrame\n",
    "---"
   ]
  },
  {
   "cell_type": "code",
   "execution_count": 96,
   "metadata": {
    "collapsed": false
   },
   "outputs": [],
   "source": [
    "def df_from_statistics(statistics, fn = 'avg', group_by=[]):\n",
    "    '''Returns a DataFrame given statistics'''\n",
    "    stat = statistics[0][0]\n",
    "    m = np.array(stat['statistics'])  \n",
    "    timestamps = m[:, stat['columns'].index('timestamp')]\n",
    "    df = pd.DataFrame(index = timestamps)\n",
    "    \n",
    "    for statistic in statistics:\n",
    "        stat = statistic[0]\n",
    "        m = np.array(stat['statistics'])\n",
    "        name = stat['name']\n",
    "        dimensions = stat['dimensions']\n",
    "        \n",
    "        for group in group_by:\n",
    "            if group in dimensions:\n",
    "                name += '.' + dimensions[group]\n",
    "            \n",
    "        df[name] = m[:, stat['columns'].index(fn)]\n",
    "    return df"
   ]
  },
  {
   "cell_type": "markdown",
   "metadata": {
    "slideshow": {
     "slide_type": "subslide"
    }
   },
   "source": [
    "# Query statistics using the Monasca client\n",
    "---"
   ]
  },
  {
   "cell_type": "code",
   "execution_count": 97,
   "metadata": {
    "collapsed": false
   },
   "outputs": [],
   "source": [
    "metrics = get_metrics(names=['cpu.user_perc', 'cpu.idle_perc', 'cpu.stolen_perc', 'cpu.system_perc', 'cpu.wait_perc'])\n",
    "statistics = get_statistics(metrics, ['avg'], 3600)\n"
   ]
  },
  {
   "cell_type": "markdown",
   "metadata": {
    "slideshow": {
     "slide_type": "subslide"
    }
   },
   "source": [
    "# Display statistics using Plotly\n",
    "---"
   ]
  },
  {
   "cell_type": "code",
   "execution_count": 98,
   "metadata": {
    "collapsed": false
   },
   "outputs": [
    {
     "data": {
      "text/html": [
       "<div id=\"b85b6e19-af3e-4816-a690-2ab1870f2ddd\" style=\"height: 525; width: 100%;\" class=\"plotly-graph-div\"></div><script type=\"text/javascript\">window.PLOTLYENV=window.PLOTLYENV || {};window.PLOTLYENV.BASE_URL=\"https://plot.ly\";Plotly.newPlot(\"b85b6e19-af3e-4816-a690-2ab1870f2ddd\", [{\"name\": \"cpu.user_perc\", \"text\": \"\", \"mode\": \"lines\", \"fillcolor\": \"rgba(226, 74, 51, 0.3)\", \"y\": [\"1.95\", \"1.7\", \"1.875\", \"1.825\", \"1.925\", \"1.675\", \"1.75\", \"2.975\", \"1.85\", \"1.95\", \"4.35\", \"2.25\", \"1.9\", \"1.85\", \"3.95\", \"1.9\", \"1.775\", \"2.2\", \"1.825\", \"1.95\", \"1.775\", \"1.725\", \"1.675\", \"1.7\", \"1.7\", \"1.725\", \"1.725\", \"1.75\", \"1.675\", \"2.975\", \"1.7\", \"1.825\", \"1.8\", \"1.6\", \"1.725\", \"1.675\", \"1.675\", \"1.625\", \"2.6\", \"1.775\", \"1.675\", \"1.7\", \"1.65\", \"1.725\", \"1.675\", \"2.5\", \"1.8\", \"1.775\", \"3.425\", \"1.7\", \"1.675\", \"1.7\", \"1.625\", \"1.675\", \"1.675\", \"3.9\", \"4.55\", \"4.0\", \"2.475\", \"3.925\", \"2.3\"], \"x\": [\"2016-04-23T21:42:00.000Z\", \"2016-04-23T21:43:00.000Z\", \"2016-04-23T21:44:00.000Z\", \"2016-04-23T21:45:00.000Z\", \"2016-04-23T21:46:00.000Z\", \"2016-04-23T21:47:00.000Z\", \"2016-04-23T21:48:00.000Z\", \"2016-04-23T21:49:00.000Z\", \"2016-04-23T21:50:00.000Z\", \"2016-04-23T21:51:00.000Z\", \"2016-04-23T21:52:00.000Z\", \"2016-04-23T21:53:00.000Z\", \"2016-04-23T21:54:00.000Z\", \"2016-04-23T21:55:00.000Z\", \"2016-04-23T21:56:00.000Z\", \"2016-04-23T21:57:00.000Z\", \"2016-04-23T21:58:00.000Z\", \"2016-04-23T21:59:00.000Z\", \"2016-04-23T22:00:00.000Z\", \"2016-04-23T22:01:00.000Z\", \"2016-04-23T22:02:00.000Z\", \"2016-04-23T22:03:00.000Z\", \"2016-04-23T22:04:00.000Z\", \"2016-04-23T22:05:00.000Z\", \"2016-04-23T22:06:00.000Z\", \"2016-04-23T22:07:00.000Z\", \"2016-04-23T22:08:00.000Z\", \"2016-04-23T22:09:00.000Z\", \"2016-04-23T22:10:00.000Z\", \"2016-04-23T22:11:00.000Z\", \"2016-04-23T22:12:00.000Z\", \"2016-04-23T22:13:00.000Z\", \"2016-04-23T22:14:00.000Z\", \"2016-04-23T22:15:00.000Z\", \"2016-04-23T22:16:00.000Z\", \"2016-04-23T22:17:00.000Z\", \"2016-04-23T22:18:00.000Z\", \"2016-04-23T22:19:00.000Z\", \"2016-04-23T22:20:00.000Z\", \"2016-04-23T22:21:00.000Z\", \"2016-04-23T22:22:00.000Z\", \"2016-04-23T22:23:00.000Z\", \"2016-04-23T22:24:00.000Z\", \"2016-04-23T22:25:00.000Z\", \"2016-04-23T22:26:00.000Z\", \"2016-04-23T22:27:00.000Z\", \"2016-04-23T22:28:00.000Z\", \"2016-04-23T22:29:00.000Z\", \"2016-04-23T22:30:00.000Z\", \"2016-04-23T22:31:00.000Z\", \"2016-04-23T22:32:00.000Z\", \"2016-04-23T22:33:00.000Z\", \"2016-04-23T22:34:00.000Z\", \"2016-04-23T22:35:00.000Z\", \"2016-04-23T22:36:00.000Z\", \"2016-04-23T22:37:00.000Z\", \"2016-04-23T22:38:00.000Z\", \"2016-04-23T22:39:00.000Z\", \"2016-04-23T22:40:00.000Z\", \"2016-04-23T22:41:00.000Z\", \"2016-04-23T22:42:00.000Z\"], \"line\": {\"color\": \"rgba(226, 74, 51, 1.0)\", \"width\": 1.3, \"dash\": \"solid\"}, \"type\": \"scatter\", \"fill\": \"tozeroy\"}, {\"name\": \"cpu.idle_perc\", \"text\": \"\", \"mode\": \"lines\", \"fillcolor\": \"rgba(62, 111, 176, 0.3)\", \"y\": [\"93.55\", \"93.5\", \"93.4\", \"93.475\", \"93.175\", \"93.45\", \"93.375\", \"91.2\", \"93.25\", \"93.025\", \"90.425\", \"92.875\", \"93.225\", \"93.325\", \"90.925\", \"93.225\", \"93.275\", \"92.66\", \"93.275\", \"93.325\", \"93.5\", \"93.425\", \"93.55\", \"93.5\", \"93.6\", \"93.675\", \"93.65\", \"93.5\", \"93.575\", \"92.3\", \"93.425\", \"93.25\", \"93.3\", \"93.45\", \"93.6\", \"93.475\", \"93.55\", \"93.525\", \"92.65\", \"93.6\", \"93.7\", \"93.5\", \"93.675\", \"93.5\", \"93.6\", \"92.525\", \"93.5\", \"93.425\", \"91.825\", \"93.425\", \"93.475\", \"93.425\", \"93.425\", \"93.5\", \"93.675\", \"90.0\", \"88.725\", \"90.925\", \"92.575\", \"89.825\", \"92.3\"], \"x\": [\"2016-04-23T21:42:00.000Z\", \"2016-04-23T21:43:00.000Z\", \"2016-04-23T21:44:00.000Z\", \"2016-04-23T21:45:00.000Z\", \"2016-04-23T21:46:00.000Z\", \"2016-04-23T21:47:00.000Z\", \"2016-04-23T21:48:00.000Z\", \"2016-04-23T21:49:00.000Z\", \"2016-04-23T21:50:00.000Z\", \"2016-04-23T21:51:00.000Z\", \"2016-04-23T21:52:00.000Z\", \"2016-04-23T21:53:00.000Z\", \"2016-04-23T21:54:00.000Z\", \"2016-04-23T21:55:00.000Z\", \"2016-04-23T21:56:00.000Z\", \"2016-04-23T21:57:00.000Z\", \"2016-04-23T21:58:00.000Z\", \"2016-04-23T21:59:00.000Z\", \"2016-04-23T22:00:00.000Z\", \"2016-04-23T22:01:00.000Z\", \"2016-04-23T22:02:00.000Z\", \"2016-04-23T22:03:00.000Z\", \"2016-04-23T22:04:00.000Z\", \"2016-04-23T22:05:00.000Z\", \"2016-04-23T22:06:00.000Z\", \"2016-04-23T22:07:00.000Z\", \"2016-04-23T22:08:00.000Z\", \"2016-04-23T22:09:00.000Z\", \"2016-04-23T22:10:00.000Z\", \"2016-04-23T22:11:00.000Z\", \"2016-04-23T22:12:00.000Z\", \"2016-04-23T22:13:00.000Z\", \"2016-04-23T22:14:00.000Z\", \"2016-04-23T22:15:00.000Z\", \"2016-04-23T22:16:00.000Z\", \"2016-04-23T22:17:00.000Z\", \"2016-04-23T22:18:00.000Z\", \"2016-04-23T22:19:00.000Z\", \"2016-04-23T22:20:00.000Z\", \"2016-04-23T22:21:00.000Z\", \"2016-04-23T22:22:00.000Z\", \"2016-04-23T22:23:00.000Z\", \"2016-04-23T22:24:00.000Z\", \"2016-04-23T22:25:00.000Z\", \"2016-04-23T22:26:00.000Z\", \"2016-04-23T22:27:00.000Z\", \"2016-04-23T22:28:00.000Z\", \"2016-04-23T22:29:00.000Z\", \"2016-04-23T22:30:00.000Z\", \"2016-04-23T22:31:00.000Z\", \"2016-04-23T22:32:00.000Z\", \"2016-04-23T22:33:00.000Z\", \"2016-04-23T22:34:00.000Z\", \"2016-04-23T22:35:00.000Z\", \"2016-04-23T22:36:00.000Z\", \"2016-04-23T22:37:00.000Z\", \"2016-04-23T22:38:00.000Z\", \"2016-04-23T22:39:00.000Z\", \"2016-04-23T22:40:00.000Z\", \"2016-04-23T22:41:00.000Z\", \"2016-04-23T22:42:00.000Z\"], \"line\": {\"color\": \"rgba(62, 111, 176, 1.0)\", \"width\": 1.3, \"dash\": \"solid\"}, \"type\": \"scatter\", \"fill\": \"tozeroy\"}, {\"name\": \"cpu.stolen_perc\", \"text\": \"\", \"mode\": \"lines\", \"fillcolor\": \"rgba(132, 118, 202, 0.3)\", \"y\": [\"0.0\", \"0.0\", \"0.0\", \"0.0\", \"0.0\", \"0.0\", \"0.0\", \"0.0\", \"0.0\", \"0.0\", \"0.0\", \"0.0\", \"0.0\", \"0.0\", \"0.0\", \"0.0\", \"0.0\", \"0.0\", \"0.0\", \"0.0\", \"0.0\", \"0.0\", \"0.0\", \"0.0\", \"0.0\", \"0.0\", \"0.0\", \"0.0\", \"0.0\", \"0.0\", \"0.0\", \"0.0\", \"0.0\", \"0.0\", \"0.0\", \"0.0\", \"0.0\", \"0.0\", \"0.0\", \"0.0\", \"0.0\", \"0.0\", \"0.0\", \"0.0\", \"0.0\", \"0.0\", \"0.0\", \"0.0\", \"0.0\", \"0.0\", \"0.0\", \"0.0\", \"0.0\", \"0.0\", \"0.0\", \"0.0\", \"0.0\", \"0.0\", \"0.0\", \"0.0\", \"0.0\"], \"x\": [\"2016-04-23T21:42:00.000Z\", \"2016-04-23T21:43:00.000Z\", \"2016-04-23T21:44:00.000Z\", \"2016-04-23T21:45:00.000Z\", \"2016-04-23T21:46:00.000Z\", \"2016-04-23T21:47:00.000Z\", \"2016-04-23T21:48:00.000Z\", \"2016-04-23T21:49:00.000Z\", \"2016-04-23T21:50:00.000Z\", \"2016-04-23T21:51:00.000Z\", \"2016-04-23T21:52:00.000Z\", \"2016-04-23T21:53:00.000Z\", \"2016-04-23T21:54:00.000Z\", \"2016-04-23T21:55:00.000Z\", \"2016-04-23T21:56:00.000Z\", \"2016-04-23T21:57:00.000Z\", \"2016-04-23T21:58:00.000Z\", \"2016-04-23T21:59:00.000Z\", \"2016-04-23T22:00:00.000Z\", \"2016-04-23T22:01:00.000Z\", \"2016-04-23T22:02:00.000Z\", \"2016-04-23T22:03:00.000Z\", \"2016-04-23T22:04:00.000Z\", \"2016-04-23T22:05:00.000Z\", \"2016-04-23T22:06:00.000Z\", \"2016-04-23T22:07:00.000Z\", \"2016-04-23T22:08:00.000Z\", \"2016-04-23T22:09:00.000Z\", \"2016-04-23T22:10:00.000Z\", \"2016-04-23T22:11:00.000Z\", \"2016-04-23T22:12:00.000Z\", \"2016-04-23T22:13:00.000Z\", \"2016-04-23T22:14:00.000Z\", \"2016-04-23T22:15:00.000Z\", \"2016-04-23T22:16:00.000Z\", \"2016-04-23T22:17:00.000Z\", \"2016-04-23T22:18:00.000Z\", \"2016-04-23T22:19:00.000Z\", \"2016-04-23T22:20:00.000Z\", \"2016-04-23T22:21:00.000Z\", \"2016-04-23T22:22:00.000Z\", \"2016-04-23T22:23:00.000Z\", \"2016-04-23T22:24:00.000Z\", \"2016-04-23T22:25:00.000Z\", \"2016-04-23T22:26:00.000Z\", \"2016-04-23T22:27:00.000Z\", \"2016-04-23T22:28:00.000Z\", \"2016-04-23T22:29:00.000Z\", \"2016-04-23T22:30:00.000Z\", \"2016-04-23T22:31:00.000Z\", \"2016-04-23T22:32:00.000Z\", \"2016-04-23T22:33:00.000Z\", \"2016-04-23T22:34:00.000Z\", \"2016-04-23T22:35:00.000Z\", \"2016-04-23T22:36:00.000Z\", \"2016-04-23T22:37:00.000Z\", \"2016-04-23T22:38:00.000Z\", \"2016-04-23T22:39:00.000Z\", \"2016-04-23T22:40:00.000Z\", \"2016-04-23T22:41:00.000Z\", \"2016-04-23T22:42:00.000Z\"], \"line\": {\"color\": \"rgba(132, 118, 202, 1.0)\", \"width\": 1.3, \"dash\": \"solid\"}, \"type\": \"scatter\", \"fill\": \"tozeroy\"}, {\"name\": \"cpu.system_perc\", \"text\": \"\", \"mode\": \"lines\", \"fillcolor\": \"rgba(101, 101, 101, 0.3)\", \"y\": [\"4.5\", \"4.8\", \"4.725\", \"4.7\", \"4.85\", \"4.85\", \"4.85\", \"5.775\", \"4.875\", \"5.0\", \"5.15\", \"4.825\", \"4.925\", \"4.875\", \"5.025\", \"4.875\", \"4.925\", \"5.08\", \"4.8\", \"4.75\", \"4.725\", \"4.825\", \"4.7\", \"4.825\", \"4.65\", \"4.525\", \"4.6\", \"4.725\", \"4.75\", \"4.725\", \"4.875\", \"4.925\", \"4.9\", \"4.9\", \"4.65\", \"4.825\", \"4.75\", \"4.85\", \"4.725\", \"4.625\", \"4.6\", \"4.75\", \"4.675\", \"4.75\", \"4.65\", \"4.975\", \"4.725\", \"4.775\", \"4.7\", \"4.85\", \"4.85\", \"4.825\", \"4.95\", \"4.825\", \"4.6\", \"5.9\", \"6.675\", \"5.0\", \"4.95\", \"6.225\", \"5.4\"], \"x\": [\"2016-04-23T21:42:00.000Z\", \"2016-04-23T21:43:00.000Z\", \"2016-04-23T21:44:00.000Z\", \"2016-04-23T21:45:00.000Z\", \"2016-04-23T21:46:00.000Z\", \"2016-04-23T21:47:00.000Z\", \"2016-04-23T21:48:00.000Z\", \"2016-04-23T21:49:00.000Z\", \"2016-04-23T21:50:00.000Z\", \"2016-04-23T21:51:00.000Z\", \"2016-04-23T21:52:00.000Z\", \"2016-04-23T21:53:00.000Z\", \"2016-04-23T21:54:00.000Z\", \"2016-04-23T21:55:00.000Z\", \"2016-04-23T21:56:00.000Z\", \"2016-04-23T21:57:00.000Z\", \"2016-04-23T21:58:00.000Z\", \"2016-04-23T21:59:00.000Z\", \"2016-04-23T22:00:00.000Z\", \"2016-04-23T22:01:00.000Z\", \"2016-04-23T22:02:00.000Z\", \"2016-04-23T22:03:00.000Z\", \"2016-04-23T22:04:00.000Z\", \"2016-04-23T22:05:00.000Z\", \"2016-04-23T22:06:00.000Z\", \"2016-04-23T22:07:00.000Z\", \"2016-04-23T22:08:00.000Z\", \"2016-04-23T22:09:00.000Z\", \"2016-04-23T22:10:00.000Z\", \"2016-04-23T22:11:00.000Z\", \"2016-04-23T22:12:00.000Z\", \"2016-04-23T22:13:00.000Z\", \"2016-04-23T22:14:00.000Z\", \"2016-04-23T22:15:00.000Z\", \"2016-04-23T22:16:00.000Z\", \"2016-04-23T22:17:00.000Z\", \"2016-04-23T22:18:00.000Z\", \"2016-04-23T22:19:00.000Z\", \"2016-04-23T22:20:00.000Z\", \"2016-04-23T22:21:00.000Z\", \"2016-04-23T22:22:00.000Z\", \"2016-04-23T22:23:00.000Z\", \"2016-04-23T22:24:00.000Z\", \"2016-04-23T22:25:00.000Z\", \"2016-04-23T22:26:00.000Z\", \"2016-04-23T22:27:00.000Z\", \"2016-04-23T22:28:00.000Z\", \"2016-04-23T22:29:00.000Z\", \"2016-04-23T22:30:00.000Z\", \"2016-04-23T22:31:00.000Z\", \"2016-04-23T22:32:00.000Z\", \"2016-04-23T22:33:00.000Z\", \"2016-04-23T22:34:00.000Z\", \"2016-04-23T22:35:00.000Z\", \"2016-04-23T22:36:00.000Z\", \"2016-04-23T22:37:00.000Z\", \"2016-04-23T22:38:00.000Z\", \"2016-04-23T22:39:00.000Z\", \"2016-04-23T22:40:00.000Z\", \"2016-04-23T22:41:00.000Z\", \"2016-04-23T22:42:00.000Z\"], \"line\": {\"color\": \"rgba(101, 101, 101, 1.0)\", \"width\": 1.3, \"dash\": \"solid\"}, \"type\": \"scatter\", \"fill\": \"tozeroy\"}, {\"name\": \"cpu.wait_perc\", \"text\": \"\", \"mode\": \"lines\", \"fillcolor\": \"rgba(251, 193, 94, 0.3)\", \"y\": [\"0.0\", \"0.0\", \"0.0\", \"0.0\", \"0.025\", \"0.0\", \"0.0\", \"0.025\", \"0.0\", \"0.0\", \"0.075\", \"0.025\", \"0.0\", \"0.0\", \"0.075\", \"0.0\", \"0.0\", \"0.0\", \"0.0\", \"0.0\", \"0.0\", \"0.0\", \"0.0\", \"0.0\", \"0.025\", \"0.05\", \"0.0\", \"0.0\", \"0.0\", \"0.0\", \"0.0\", \"0.0\", \"0.0\", \"0.0\", \"0.0\", \"0.0\", \"0.0\", \"0.0\", \"0.0\", \"0.0\", \"0.0\", \"0.0\", \"0.0\", \"0.0\", \"0.0\", \"0.0\", \"0.0\", \"0.0\", \"0.0\", \"0.0\", \"0.0\", \"0.0\", \"0.0\", \"0.0\", \"0.0\", \"0.15\", \"0.05\", \"0.025\", \"0.0\", \"0.05\", \"0.0\"], \"x\": [\"2016-04-23T21:42:00.000Z\", \"2016-04-23T21:43:00.000Z\", \"2016-04-23T21:44:00.000Z\", \"2016-04-23T21:45:00.000Z\", \"2016-04-23T21:46:00.000Z\", \"2016-04-23T21:47:00.000Z\", \"2016-04-23T21:48:00.000Z\", \"2016-04-23T21:49:00.000Z\", \"2016-04-23T21:50:00.000Z\", \"2016-04-23T21:51:00.000Z\", \"2016-04-23T21:52:00.000Z\", \"2016-04-23T21:53:00.000Z\", \"2016-04-23T21:54:00.000Z\", \"2016-04-23T21:55:00.000Z\", \"2016-04-23T21:56:00.000Z\", \"2016-04-23T21:57:00.000Z\", \"2016-04-23T21:58:00.000Z\", \"2016-04-23T21:59:00.000Z\", \"2016-04-23T22:00:00.000Z\", \"2016-04-23T22:01:00.000Z\", \"2016-04-23T22:02:00.000Z\", \"2016-04-23T22:03:00.000Z\", \"2016-04-23T22:04:00.000Z\", \"2016-04-23T22:05:00.000Z\", \"2016-04-23T22:06:00.000Z\", \"2016-04-23T22:07:00.000Z\", \"2016-04-23T22:08:00.000Z\", \"2016-04-23T22:09:00.000Z\", \"2016-04-23T22:10:00.000Z\", \"2016-04-23T22:11:00.000Z\", \"2016-04-23T22:12:00.000Z\", \"2016-04-23T22:13:00.000Z\", \"2016-04-23T22:14:00.000Z\", \"2016-04-23T22:15:00.000Z\", \"2016-04-23T22:16:00.000Z\", \"2016-04-23T22:17:00.000Z\", \"2016-04-23T22:18:00.000Z\", \"2016-04-23T22:19:00.000Z\", \"2016-04-23T22:20:00.000Z\", \"2016-04-23T22:21:00.000Z\", \"2016-04-23T22:22:00.000Z\", \"2016-04-23T22:23:00.000Z\", \"2016-04-23T22:24:00.000Z\", \"2016-04-23T22:25:00.000Z\", \"2016-04-23T22:26:00.000Z\", \"2016-04-23T22:27:00.000Z\", \"2016-04-23T22:28:00.000Z\", \"2016-04-23T22:29:00.000Z\", \"2016-04-23T22:30:00.000Z\", \"2016-04-23T22:31:00.000Z\", \"2016-04-23T22:32:00.000Z\", \"2016-04-23T22:33:00.000Z\", \"2016-04-23T22:34:00.000Z\", \"2016-04-23T22:35:00.000Z\", \"2016-04-23T22:36:00.000Z\", \"2016-04-23T22:37:00.000Z\", \"2016-04-23T22:38:00.000Z\", \"2016-04-23T22:39:00.000Z\", \"2016-04-23T22:40:00.000Z\", \"2016-04-23T22:41:00.000Z\", \"2016-04-23T22:42:00.000Z\"], \"line\": {\"color\": \"rgba(251, 193, 94, 1.0)\", \"width\": 1.3, \"dash\": \"solid\"}, \"type\": \"scatter\", \"fill\": \"tozeroy\"}], {\"xaxis\": {\"ticktext\": \"%s\", \"tickmode\": \"array\"}}, {\"linkText\": \"Export to plot.ly\", \"showLink\": true})</script>"
      ],
      "text/plain": [
       "<IPython.core.display.HTML object>"
      ]
     },
     "metadata": {},
     "output_type": "display_data"
    }
   ],
   "source": [
    "import plotly.graph_objs as go\n",
    "df = df_from_statistics(statistics)\n",
    "df.iplot(kind='line',\n",
    "         fill=True,\n",
    "         xTitle='Date',\n",
    "         yTitle='Value',\n",
    "         title='Statistics',\n",
    "         layout=go.Layout(xaxis=dict(ticktext=\"%s\", tickmode=\"array\"))\n",
    ")"
   ]
  },
  {
   "cell_type": "code",
   "execution_count": 99,
   "metadata": {
    "collapsed": false
   },
   "outputs": [],
   "source": [
    "#shell.run([\"stress-ng\", \"-c 2 -i 1 -m 1 --vm-bytes 128M -t 60s\"])"
   ]
  },
  {
   "cell_type": "markdown",
   "metadata": {
    "slideshow": {
     "slide_type": "slide"
    }
   },
   "source": [
    "# Display boxplot of cpu utilization using Plotly"
   ]
  },
  {
   "cell_type": "code",
   "execution_count": 100,
   "metadata": {
    "collapsed": false,
    "slideshow": {
     "slide_type": "-"
    }
   },
   "outputs": [
    {
     "data": {
      "text/html": [
       "<div id=\"dfc2d002-9228-48e2-aa61-7bd94be70c64\" style=\"height: 587; width: 1116px;\" class=\"plotly-graph-div\"></div><script type=\"text/javascript\">window.PLOTLYENV=window.PLOTLYENV || {};window.PLOTLYENV.BASE_URL=\"https://plot.ly\";Plotly.newPlot(\"dfc2d002-9228-48e2-aa61-7bd94be70c64\", [{\"name\": \"cpu.user_perc\", \"marker\": {\"color\": \"rgba(226, 74, 51, 1.0)\"}, \"y\": [\"1.95\", \"1.7\", \"1.875\", \"1.825\", \"1.925\", \"1.675\", \"1.75\", \"2.975\", \"1.85\", \"1.95\", \"4.35\", \"2.25\", \"1.9\", \"1.85\", \"3.95\", \"1.9\", \"1.775\", \"2.2\", \"1.825\", \"1.95\", \"1.775\", \"1.725\", \"1.675\", \"1.7\", \"1.7\", \"1.725\", \"1.725\", \"1.75\", \"1.675\", \"2.975\", \"1.7\", \"1.825\", \"1.8\", \"1.6\", \"1.725\", \"1.675\", \"1.675\", \"1.625\", \"2.6\", \"1.775\", \"1.675\", \"1.7\", \"1.65\", \"1.725\", \"1.675\", \"2.5\", \"1.8\", \"1.775\", \"3.425\", \"1.7\", \"1.675\", \"1.7\", \"1.625\", \"1.675\", \"1.675\", \"3.9\", \"4.55\", \"4.0\", \"2.475\", \"3.925\", \"2.3\"], \"line\": {\"width\": 1.3}, \"type\": \"box\", \"boxpoints\": false}, {\"name\": \"cpu.idle_perc\", \"marker\": {\"color\": \"rgba(62, 111, 176, 1.0)\"}, \"y\": [\"93.55\", \"93.5\", \"93.4\", \"93.475\", \"93.175\", \"93.45\", \"93.375\", \"91.2\", \"93.25\", \"93.025\", \"90.425\", \"92.875\", \"93.225\", \"93.325\", \"90.925\", \"93.225\", \"93.275\", \"92.66\", \"93.275\", \"93.325\", \"93.5\", \"93.425\", \"93.55\", \"93.5\", \"93.6\", \"93.675\", \"93.65\", \"93.5\", \"93.575\", \"92.3\", \"93.425\", \"93.25\", \"93.3\", \"93.45\", \"93.6\", \"93.475\", \"93.55\", \"93.525\", \"92.65\", \"93.6\", \"93.7\", \"93.5\", \"93.675\", \"93.5\", \"93.6\", \"92.525\", \"93.5\", \"93.425\", \"91.825\", \"93.425\", \"93.475\", \"93.425\", \"93.425\", \"93.5\", \"93.675\", \"90.0\", \"88.725\", \"90.925\", \"92.575\", \"89.825\", \"92.3\"], \"line\": {\"width\": 1.3}, \"type\": \"box\", \"boxpoints\": false}, {\"name\": \"cpu.stolen_perc\", \"marker\": {\"color\": \"rgba(132, 118, 202, 1.0)\"}, \"y\": [\"0.0\", \"0.0\", \"0.0\", \"0.0\", \"0.0\", \"0.0\", \"0.0\", \"0.0\", \"0.0\", \"0.0\", \"0.0\", \"0.0\", \"0.0\", \"0.0\", \"0.0\", \"0.0\", \"0.0\", \"0.0\", \"0.0\", \"0.0\", \"0.0\", \"0.0\", \"0.0\", \"0.0\", \"0.0\", \"0.0\", \"0.0\", \"0.0\", \"0.0\", \"0.0\", \"0.0\", \"0.0\", \"0.0\", \"0.0\", \"0.0\", \"0.0\", \"0.0\", \"0.0\", \"0.0\", \"0.0\", \"0.0\", \"0.0\", \"0.0\", \"0.0\", \"0.0\", \"0.0\", \"0.0\", \"0.0\", \"0.0\", \"0.0\", \"0.0\", \"0.0\", \"0.0\", \"0.0\", \"0.0\", \"0.0\", \"0.0\", \"0.0\", \"0.0\", \"0.0\", \"0.0\"], \"line\": {\"width\": 1.3}, \"type\": \"box\", \"boxpoints\": false}, {\"name\": \"cpu.system_perc\", \"marker\": {\"color\": \"rgba(101, 101, 101, 1.0)\"}, \"y\": [\"4.5\", \"4.8\", \"4.725\", \"4.7\", \"4.85\", \"4.85\", \"4.85\", \"5.775\", \"4.875\", \"5.0\", \"5.15\", \"4.825\", \"4.925\", \"4.875\", \"5.025\", \"4.875\", \"4.925\", \"5.08\", \"4.8\", \"4.75\", \"4.725\", \"4.825\", \"4.7\", \"4.825\", \"4.65\", \"4.525\", \"4.6\", \"4.725\", \"4.75\", \"4.725\", \"4.875\", \"4.925\", \"4.9\", \"4.9\", \"4.65\", \"4.825\", \"4.75\", \"4.85\", \"4.725\", \"4.625\", \"4.6\", \"4.75\", \"4.675\", \"4.75\", \"4.65\", \"4.975\", \"4.725\", \"4.775\", \"4.7\", \"4.85\", \"4.85\", \"4.825\", \"4.95\", \"4.825\", \"4.6\", \"5.9\", \"6.675\", \"5.0\", \"4.95\", \"6.225\", \"5.4\"], \"line\": {\"width\": 1.3}, \"type\": \"box\", \"boxpoints\": false}, {\"name\": \"cpu.wait_perc\", \"marker\": {\"color\": \"rgba(251, 193, 94, 1.0)\"}, \"y\": [\"0.0\", \"0.0\", \"0.0\", \"0.0\", \"0.025\", \"0.0\", \"0.0\", \"0.025\", \"0.0\", \"0.0\", \"0.075\", \"0.025\", \"0.0\", \"0.0\", \"0.075\", \"0.0\", \"0.0\", \"0.0\", \"0.0\", \"0.0\", \"0.0\", \"0.0\", \"0.0\", \"0.0\", \"0.025\", \"0.05\", \"0.0\", \"0.0\", \"0.0\", \"0.0\", \"0.0\", \"0.0\", \"0.0\", \"0.0\", \"0.0\", \"0.0\", \"0.0\", \"0.0\", \"0.0\", \"0.0\", \"0.0\", \"0.0\", \"0.0\", \"0.0\", \"0.0\", \"0.0\", \"0.0\", \"0.0\", \"0.0\", \"0.0\", \"0.0\", \"0.0\", \"0.0\", \"0.0\", \"0.0\", \"0.15\", \"0.05\", \"0.025\", \"0.0\", \"0.05\", \"0.0\"], \"line\": {\"width\": 1.3}, \"type\": \"box\", \"boxpoints\": false}], {\"width\": 1116, \"paper_bgcolor\": \"#FFFFFF\", \"plot_bgcolor\": \"#E5E5E5\", \"xaxis1\": {\"tickfont\": {\"color\": \"#666666\"}, \"title\": \"\", \"showgrid\": true, \"zerolinecolor\": \"#F6F6F6\", \"gridcolor\": \"#F6F6F6\", \"titlefont\": {\"color\": \"#666666\"}}, \"height\": 587, \"yaxis1\": {\"tickfont\": {\"color\": \"#666666\"}, \"title\": \"\", \"showgrid\": true, \"zerolinecolor\": \"#F6F6F6\", \"gridcolor\": \"#F6F6F6\", \"titlefont\": {\"color\": \"#666666\"}}, \"titlefont\": {\"color\": \"#151516\"}, \"legend\": {\"bgcolor\": \"#FFFFFF\", \"font\": {\"color\": \"#666666\"}}}, {\"linkText\": \"Export to plot.ly\", \"showLink\": true})</script>"
      ],
      "text/plain": [
       "<IPython.core.display.HTML object>"
      ]
     },
     "metadata": {},
     "output_type": "display_data"
    }
   ],
   "source": [
    "df.iplot(kind='box')"
   ]
  },
  {
   "cell_type": "markdown",
   "metadata": {
    "slideshow": {
     "slide_type": "slide"
    }
   },
   "source": [
    "# Notification Methods\n",
    "---\n",
    "* Specify the name, type and address to send a notification to.\n",
    "\n",
    "* Notification methods are associated with actions in alarms and are invoked when staate transitions occur.\n",
    "\n",
    "* Supported notification methods are:\n",
    "\n",
    "  * Email\n",
    "  \n",
    "  * PagerDuty\n",
    "  \n",
    "  * Webhooks"
   ]
  },
  {
   "cell_type": "markdown",
   "metadata": {
    "slideshow": {
     "slide_type": "subslide"
    }
   },
   "source": [
    "# Delete all existing notifications\n",
    "Let's first delete all existing notifications to prepare the service for creating new ones."
   ]
  },
  {
   "cell_type": "code",
   "execution_count": 101,
   "metadata": {
    "collapsed": false,
    "slideshow": {
     "slide_type": "-"
    }
   },
   "outputs": [],
   "source": [
    "notifications = monasca_client.notifications.list()\n",
    "\n",
    "for notification in notifications:\n",
    "    kwargs = {}\n",
    "    kwargs['notification_id'] = notification['id']\n",
    "    monasca_client.notifications.delete(**kwargs)    "
   ]
  },
  {
   "cell_type": "markdown",
   "metadata": {
    "slideshow": {
     "slide_type": "subslide"
    }
   },
   "source": [
    "# Create Notification Method Help\n",
    "---"
   ]
  },
  {
   "cell_type": "code",
   "execution_count": 102,
   "metadata": {
    "collapsed": false,
    "slideshow": {
     "slide_type": "-"
    }
   },
   "outputs": [
    {
     "name": "stdout",
     "output_type": "stream",
     "text": [
      "usage: monasca notification-create <NOTIFICATION_NAME> <TYPE> <ADDRESS>\r\n",
      "\r\n",
      "Create notification.\r\n",
      "\r\n",
      "Positional arguments:\r\n",
      "  <NOTIFICATION_NAME>  Name of the notification to create.\r\n",
      "  <TYPE>               The notification type. Type must be EMAIL, WEBHOOK, or\r\n",
      "                       PAGERDUTY.\r\n",
      "  <ADDRESS>            A valid EMAIL Address, URL, or SERVICE KEY.\r\n"
     ]
    }
   ],
   "source": [
    "!monasca help notification-create"
   ]
  },
  {
   "cell_type": "markdown",
   "metadata": {
    "slideshow": {
     "slide_type": "subslide"
    }
   },
   "source": [
    "# Create an email notification method"
   ]
  },
  {
   "cell_type": "code",
   "execution_count": 103,
   "metadata": {
    "collapsed": false,
    "slideshow": {
     "slide_type": "-"
    }
   },
   "outputs": [
    {
     "name": "stdout",
     "output_type": "stream",
     "text": [
      "{\r\n",
      "  \"address\": \"john.doe@domain.com\", \r\n",
      "  \"type\": \"EMAIL\", \r\n",
      "  \"id\": \"f51e78ef-891a-4434-b8d6-4afe3f266580\", \r\n",
      "  \"links\": [\r\n",
      "    {\r\n",
      "      \"href\": \"http://192.168.10.6:8070/v2.0/notification-methods/f51e78ef-891a-4434-b8d6-4afe3f266580\", \r\n",
      "      \"rel\": \"self\"\r\n",
      "    }\r\n",
      "  ], \r\n",
      "  \"name\": \"Email Notification\"\r\n",
      "}\r\n"
     ]
    }
   ],
   "source": [
    "!monasca notification-create \"Email Notification\" EMAIL john.doe@domain.com"
   ]
  },
  {
   "cell_type": "markdown",
   "metadata": {
    "slideshow": {
     "slide_type": "subslide"
    }
   },
   "source": [
    "# Create a PagerDuty notification method\n",
    "Copy the `Integration Key` from PagerDuty and use it as the address when creating the PagerDuty notification method.\n",
    "\n",
    "![PagerDuty](pagerduty.png)"
   ]
  },
  {
   "cell_type": "markdown",
   "metadata": {
    "slideshow": {
     "slide_type": "subslide"
    }
   },
   "source": [
    "# Create a PagerDuty notification method"
   ]
  },
  {
   "cell_type": "code",
   "execution_count": 104,
   "metadata": {
    "collapsed": false,
    "slideshow": {
     "slide_type": "-"
    }
   },
   "outputs": [
    {
     "name": "stdout",
     "output_type": "stream",
     "text": [
      "{\r\n",
      "  \"address\": \"b9b0db2b6d114e6aa4ddb6fc933f43be\", \r\n",
      "  \"type\": \"PAGERDUTY\", \r\n",
      "  \"id\": \"36f81a8a-4687-45f8-8e21-b0832b74f33f\", \r\n",
      "  \"links\": [\r\n",
      "    {\r\n",
      "      \"href\": \"http://192.168.10.6:8070/v2.0/notification-methods/36f81a8a-4687-45f8-8e21-b0832b74f33f\", \r\n",
      "      \"rel\": \"self\"\r\n",
      "    }\r\n",
      "  ], \r\n",
      "  \"name\": \"Monasca Bootcamp PagerDuty Notification\"\r\n",
      "}\r\n"
     ]
    }
   ],
   "source": [
    "!monasca notification-create \"Monasca Bootcamp PagerDuty Notification\" PAGERDUTY b9b0db2b6d114e6aa4ddb6fc933f43be"
   ]
  },
  {
   "cell_type": "markdown",
   "metadata": {
    "slideshow": {
     "slide_type": "subslide"
    }
   },
   "source": [
    "# List Notification Methods Help\n",
    "---"
   ]
  },
  {
   "cell_type": "code",
   "execution_count": 105,
   "metadata": {
    "collapsed": false,
    "slideshow": {
     "slide_type": "-"
    }
   },
   "outputs": [
    {
     "name": "stdout",
     "output_type": "stream",
     "text": [
      "usage: monasca notification-list [--sort-by <SORT BY FIELDS>]\r\n",
      "                                 [--offset <OFFSET LOCATION>]\r\n",
      "                                 [--limit <RETURN LIMIT>]\r\n",
      "\r\n",
      "List notifications for this tenant.\r\n",
      "\r\n",
      "Optional arguments:\r\n",
      "  --sort-by <SORT BY FIELDS>\r\n",
      "                        Fields to sort by as a comma separated list. Valid\r\n",
      "                        values are id, name, type, address, created_at,\r\n",
      "                        updated_at. Fields may be followed by \"asc\" or \"desc\",\r\n",
      "                        ex \"address desc\", to set the direction of sorting.\r\n",
      "  --offset <OFFSET LOCATION>\r\n",
      "                        The offset used to paginate the return data.\r\n",
      "  --limit <RETURN LIMIT>\r\n",
      "                        The amount of data to be returned up to the API\r\n",
      "                        maximum limit.\r\n"
     ]
    }
   ],
   "source": [
    "!monasca help notification-list"
   ]
  },
  {
   "cell_type": "markdown",
   "metadata": {
    "slideshow": {
     "slide_type": "subslide"
    }
   },
   "source": [
    "# List Notification Methods"
   ]
  },
  {
   "cell_type": "code",
   "execution_count": 106,
   "metadata": {
    "collapsed": false,
    "slideshow": {
     "slide_type": "-"
    }
   },
   "outputs": [
    {
     "name": "stdout",
     "output_type": "stream",
     "text": [
      "+-----------------------------------------+--------------------------------------+-----------+----------------------------------+\r\n",
      "| name                                    | id                                   | type      | address                          |\r\n",
      "+-----------------------------------------+--------------------------------------+-----------+----------------------------------+\r\n",
      "| Monasca Bootcamp PagerDuty Notification | 36f81a8a-4687-45f8-8e21-b0832b74f33f | PAGERDUTY | b9b0db2b6d114e6aa4ddb6fc933f43be |\r\n",
      "| Email Notification                      | f51e78ef-891a-4434-b8d6-4afe3f266580 | EMAIL     | john.doe@domain.com              |\r\n",
      "+-----------------------------------------+--------------------------------------+-----------+----------------------------------+\r\n"
     ]
    }
   ],
   "source": [
    "!monasca notification-list"
   ]
  },
  {
   "cell_type": "markdown",
   "metadata": {
    "slideshow": {
     "slide_type": "slide"
    }
   },
   "source": [
    "# Alarm Definitions\n",
    "---\n",
    "* Operations for creating, reading updating and deleting alarm definitions.\n",
    "\n",
    "    * GET, POST /v2.0/alarm-definitions\n",
    "\n",
    "    * GET, PUT, PATCH, DELETE /v2.0/alarm-definitions{alarm-definition-id}\n",
    "\n",
    "* Alarm definitions are templates that are used to automatically create alarms based on matching metric names and dimensions\n",
    "\n",
    "    * The `match-by` paramater is used to match/group metrics together by dimension\n",
    "    \n",
    "    * e.g. `--match-by hostname` will create an alarm per unique hostname.\n",
    "\n",
    "* One alarm definition can result in many alarms\n",
    "\n",
    "* Simple grammar for creating compound alarm expressions:\n",
    "\n",
    "   avg(cpu.user_perc{}) > 85 or avg(disk.read_ops{device=vda}, 120) > 1000\n",
    "\n",
    "\n",
    "* Alarm state (ALARM, OK and UNDETERMINED)\n",
    "\n",
    "* Actions (notification methods) associated with alarms for state transitions\n",
    "\n",
    "* User assigned severity (LOW, MEDIUM, HIGH, CRITICAL)\n",
    "\n"
   ]
  },
  {
   "cell_type": "markdown",
   "metadata": {},
   "source": [
    "# Delete existing alarm definitions\n",
    "Let's first delete all existing alarm definitions to prepare the service for creating new ones."
   ]
  },
  {
   "cell_type": "code",
   "execution_count": 107,
   "metadata": {
    "collapsed": false
   },
   "outputs": [],
   "source": [
    "alarm_definitions = monasca_client.alarm_definitions.list()\n",
    "\n",
    "for definition in alarm_definitions:\n",
    "    kwargs = {}\n",
    "    kwargs['alarm_id'] = definition['id']\n",
    "    monasca_client.alarm_definitions.delete(**kwargs)    "
   ]
  },
  {
   "cell_type": "markdown",
   "metadata": {
    "slideshow": {
     "slide_type": "subslide"
    }
   },
   "source": [
    "# Create Alarm defintion help"
   ]
  },
  {
   "cell_type": "code",
   "execution_count": 108,
   "metadata": {
    "collapsed": false
   },
   "outputs": [
    {
     "name": "stdout",
     "output_type": "stream",
     "text": [
      "usage: monasca alarm-definition-create [--description <DESCRIPTION>]\r\n",
      "                                       [--severity <SEVERITY>]\r\n",
      "                                       [--match-by <DIMENSION_KEY1,DIMENSION_KEY2,...>]\r\n",
      "                                       [--alarm-actions <NOTIFICATION-ID>]\r\n",
      "                                       [--ok-actions <NOTIFICATION-ID>]\r\n",
      "                                       [--undetermined-actions <NOTIFICATION-ID>]\r\n",
      "                                       <ALARM_DEFINITION_NAME> <EXPRESSION>\r\n",
      "\r\n",
      "Create an alarm definition.\r\n",
      "\r\n",
      "Positional arguments:\r\n",
      "  <ALARM_DEFINITION_NAME>\r\n",
      "                        Name of the alarm definition to create.\r\n",
      "  <EXPRESSION>          The alarm expression to evaluate. Quoted.\r\n",
      "\r\n",
      "Optional arguments:\r\n",
      "  --description <DESCRIPTION>\r\n",
      "                        Description of the alarm.\r\n",
      "  --severity <SEVERITY>\r\n",
      "                        Severity is one of [LOW, MEDIUM, HIGH, CRITICAL].\r\n",
      "  --match-by <DIMENSION_KEY1,DIMENSION_KEY2,...>\r\n",
      "                        The metric dimensions to match to the alarm\r\n",
      "                        dimensions. One or more dimension key names separated\r\n",
      "                        by a comma. Key names need quoting when they contain\r\n",
      "                        special chars [&,(,),{,},>,<] that confuse the CLI\r\n",
      "                        parser.\r\n",
      "  --alarm-actions <NOTIFICATION-ID>\r\n",
      "                        The notification method to use when an alarm state is\r\n",
      "                        ALARM. This param may be specified multiple times.\r\n",
      "  --ok-actions <NOTIFICATION-ID>\r\n",
      "                        The notification method to use when an alarm state is\r\n",
      "                        OK. This param may be specified multiple times.\r\n",
      "  --undetermined-actions <NOTIFICATION-ID>\r\n",
      "                        The notification method to use when an alarm state is\r\n",
      "                        UNDETERMINED. This param may be specified multiple\r\n",
      "                        times.\r\n"
     ]
    }
   ],
   "source": [
    "!monasca help alarm-definition-create"
   ]
  },
  {
   "cell_type": "markdown",
   "metadata": {
    "slideshow": {
     "slide_type": "subslide"
    }
   },
   "source": [
    "# Create alarm definition\n",
    "Create an alarm definition that triggers if the avg of CPU user percent is greater than 80% over 3 60 periods."
   ]
  },
  {
   "cell_type": "code",
   "execution_count": 109,
   "metadata": {
    "collapsed": false
   },
   "outputs": [
    {
     "name": "stdout",
     "output_type": "stream",
     "text": [
      "{\r\n",
      "  \"alarm_actions\": null, \r\n",
      "  \"ok_actions\": [], \r\n",
      "  \"description\": \"\", \r\n",
      "  \"links\": [\r\n",
      "    {\r\n",
      "      \"href\": \"http://192.168.10.6:8070/v2.0/alarm-definitions/f20290da-76e5-4cfa-94e0-a23e6d8ca2d7\", \r\n",
      "      \"rel\": \"self\"\r\n",
      "    }\r\n",
      "  ], \r\n",
      "  \"match_by\": [], \r\n",
      "  \"severity\": \"LOW\", \r\n",
      "  \"actions_enabled\": true, \r\n",
      "  \"undetermined_actions\": [], \r\n",
      "  \"expression\": \"max(cpu.user_perc{}, 60) > 80 times 3\", \r\n",
      "  \"id\": \"f20290da-76e5-4cfa-94e0-a23e6d8ca2d7\", \r\n",
      "  \"name\": \"simple-alarm\"\r\n",
      "}\r\n"
     ]
    }
   ],
   "source": [
    "!monasca alarm-definition-create simple-alarm \"max(cpu.user_perc{}, 60) > 80 times 3\""
   ]
  },
  {
   "cell_type": "markdown",
   "metadata": {
    "slideshow": {
     "slide_type": "subslide"
    }
   },
   "source": [
    "# Create a compound alarm definition\n",
    "An alarm definition that triggers if either the CPU user or system percent is greater than 80% over 3 60 second periods."
   ]
  },
  {
   "cell_type": "code",
   "execution_count": 110,
   "metadata": {
    "collapsed": false
   },
   "outputs": [
    {
     "name": "stdout",
     "output_type": "stream",
     "text": [
      "{\r\n",
      "  \"alarm_actions\": null, \r\n",
      "  \"ok_actions\": [], \r\n",
      "  \"description\": \"\", \r\n",
      "  \"links\": [\r\n",
      "    {\r\n",
      "      \"href\": \"http://192.168.10.6:8070/v2.0/alarm-definitions/a3b97d3a-5dab-45c8-886a-1fb511b309e5\", \r\n",
      "      \"rel\": \"self\"\r\n",
      "    }\r\n",
      "  ], \r\n",
      "  \"match_by\": [], \r\n",
      "  \"severity\": \"LOW\", \r\n",
      "  \"actions_enabled\": true, \r\n",
      "  \"undetermined_actions\": [], \r\n",
      "  \"expression\": \"avg(cpu.user_perc{}, 60) > 80 times 3 or avg(cpu.system_perc{}, 60) > 80 times 3\", \r\n",
      "  \"id\": \"a3b97d3a-5dab-45c8-886a-1fb511b309e5\", \r\n",
      "  \"name\": \"compound-alarm\"\r\n",
      "}\r\n"
     ]
    }
   ],
   "source": [
    "!monasca alarm-definition-create compound-alarm \"avg(cpu.user_perc{}, 60) > 80 times 3 or avg(cpu.system_perc{}, 60) > 80 times 3\""
   ]
  },
  {
   "cell_type": "markdown",
   "metadata": {
    "slideshow": {
     "slide_type": "subslide"
    }
   },
   "source": [
    "# Alarm definition match_by\n",
    "\n",
    "* As metrics are consumed by the Threshold Engine they are filtered and checked if they match the definitions that have been specified, based on the metric name and dimensions.\n",
    "\n",
    "* If a match is found and it is the first one, a new alarm is created.\n",
    "\n",
    "* If the match_by parameter is specified, metrics are grouped into alarms that match the specified dimensions."
   ]
  },
  {
   "cell_type": "markdown",
   "metadata": {
    "slideshow": {
     "slide_type": "subslide"
    }
   },
   "source": [
    "# Let's create two alarm definitions\n",
    "1. One with no match_by parameter\n",
    "2. One with match_by set on hostname"
   ]
  },
  {
   "cell_type": "code",
   "execution_count": 111,
   "metadata": {
    "collapsed": false
   },
   "outputs": [
    {
     "name": "stdout",
     "output_type": "stream",
     "text": [
      "{\n",
      "  \"alarm_actions\": null, \n",
      "  \"ok_actions\": [], \n",
      "  \"description\": \"\", \n",
      "  \"links\": [\n",
      "    {\n",
      "      \"href\": \"http://192.168.10.6:8070/v2.0/alarm-definitions/9ff3db98-9bb8-4eff-953a-3a52f40262dd\", \n",
      "      \"rel\": \"self\"\n",
      "    }\n",
      "  ], \n",
      "  \"match_by\": [], \n",
      "  \"severity\": \"LOW\", \n",
      "  \"actions_enabled\": true, \n",
      "  \"undetermined_actions\": [], \n",
      "  \"expression\": \"max(test-metric{}) > 80\", \n",
      "  \"id\": \"9ff3db98-9bb8-4eff-953a-3a52f40262dd\", \n",
      "  \"name\": \"match name only\"\n",
      "}\n",
      "{\n",
      "  \"alarm_actions\": null, \n",
      "  \"ok_actions\": [], \n",
      "  \"description\": \"\", \n",
      "  \"links\": [\n",
      "    {\n",
      "      \"href\": \"http://192.168.10.6:8070/v2.0/alarm-definitions/3923c12d-5882-4c0c-924b-d045e9c3b08b\", \n",
      "      \"rel\": \"self\"\n",
      "    }\n",
      "  ], \n",
      "  \"match_by\": [\n",
      "    \"hostname\"\n",
      "  ], \n",
      "  \"severity\": \"LOW\", \n",
      "  \"actions_enabled\": true, \n",
      "  \"undetermined_actions\": [], \n",
      "  \"expression\": \"max(test-metric{}) > 80\", \n",
      "  \"id\": \"3923c12d-5882-4c0c-924b-d045e9c3b08b\", \n",
      "  \"name\": \"match by hostname\"\n",
      "}\n"
     ]
    }
   ],
   "source": [
    "!monasca alarm-definition-create \"match name only\" \"max(test-metric{}) > 80\"\n",
    "!monasca alarm-definition-create --match-by hostname \"match by hostname\" \"max(test-metric{}) > 80\""
   ]
  },
  {
   "cell_type": "markdown",
   "metadata": {
    "slideshow": {
     "slide_type": "subslide"
    }
   },
   "source": [
    "# Let's now send two metrics\n",
    "1. One with a name of test-metric and a hostname set to foo\n",
    "2. One with a name of test-metric and a hostname set to bar"
   ]
  },
  {
   "cell_type": "code",
   "execution_count": 112,
   "metadata": {
    "collapsed": false
   },
   "outputs": [
    {
     "name": "stdout",
     "output_type": "stream",
     "text": [
      "Successfully created metric\n",
      "Successfully created metric\n"
     ]
    }
   ],
   "source": [
    "!monasca metric-create --dimensions hostname=foo test-metric 0.0\n",
    "!monasca metric-create --dimensions hostname=bar test-metric 0.0"
   ]
  },
  {
   "cell_type": "markdown",
   "metadata": {
    "slideshow": {
     "slide_type": "subslide"
    }
   },
   "source": [
    "# How many alarms are created?"
   ]
  },
  {
   "cell_type": "code",
   "execution_count": 113,
   "metadata": {
    "collapsed": false,
    "slideshow": {
     "slide_type": "fragment"
    }
   },
   "outputs": [
    {
     "name": "stdout",
     "output_type": "stream",
     "text": [
      "+--------------------------------------+--------------------------------------+-----------------------+-------------+-------------------+----------+--------------+-----------------+------+--------------------------+--------------------------+--------------------------+\r\n",
      "| id                                   | alarm_definition_id                  | alarm_definition_name | metric_name | metric_dimensions | severity | state        | lifecycle_state | link | state_updated_timestamp  | updated_timestamp        | created_timestamp        |\r\n",
      "+--------------------------------------+--------------------------------------+-----------------------+-------------+-------------------+----------+--------------+-----------------+------+--------------------------+--------------------------+--------------------------+\r\n",
      "| 1103533c-e493-4b80-b18a-6b610757759d | 3923c12d-5882-4c0c-924b-d045e9c3b08b | match by hostname     | test-metric | hostname: foo     | LOW      | UNDETERMINED | None            | None | 2016-04-23T22:41:58.000Z | 2016-04-23T22:41:58.000Z | 2016-04-23T22:41:58.000Z |\r\n",
      "| 1d8f3bd1-b8b1-468d-a8de-745ab3296162 | 3923c12d-5882-4c0c-924b-d045e9c3b08b | match by hostname     | test-metric | hostname: bar     | LOW      | UNDETERMINED | None            | None | 2016-04-23T22:41:59.000Z | 2016-04-23T22:41:59.000Z | 2016-04-23T22:41:59.000Z |\r\n",
      "| 6ca1c639-07c3-45c2-b9bf-1bcf6d0f713d | 9ff3db98-9bb8-4eff-953a-3a52f40262dd | match name only       | test-metric | hostname: foo     | LOW      | UNDETERMINED | None            | None | 2016-04-23T22:41:58.000Z | 2016-04-23T22:41:58.000Z | 2016-04-23T22:41:58.000Z |\r\n",
      "|                                      |                                      |                       | test-metric | hostname: bar     |          |              |                 |      |                          |                          |                          |\r\n",
      "+--------------------------------------+--------------------------------------+-----------------------+-------------+-------------------+----------+--------------+-----------------+------+--------------------------+--------------------------+--------------------------+\r\n"
     ]
    }
   ],
   "source": [
    "!monasca alarm-list --metric-name \"test-metric\""
   ]
  },
  {
   "cell_type": "markdown",
   "metadata": {
    "slideshow": {
     "slide_type": "fragment"
    }
   },
   "source": [
    "Three alarms were created:\n",
    "\n",
    "1. There is one alarm with name \"match name only\". It has two metrics that are associate with it.\n",
    "\n",
    "2. There are two alarms with name \"match by hostname\". Each alarm has one metric that is associated with it, based on the hostnames of `foo` and `bar`."
   ]
  },
  {
   "cell_type": "markdown",
   "metadata": {
    "slideshow": {
     "slide_type": "slide"
    }
   },
   "source": [
    "# Alarms\n",
    "---\n",
    "\n",
    "* Alarms are created when incoming metrics match alarm definitions\n",
    "\n",
    "* Requests\n",
    "\n",
    "    * GET /v2.0/alarms\n",
    "\n",
    "    * GET, PUT, PATH, DELETE /v2.0/alarms/{alarm-id}\n",
    "\n",
    "* Query Parameters\n",
    "\n",
    "    * alarm_definition_id (string, optional) - Alarm definition ID to filter by.\n",
    "\n",
    "    * metric_name (string(255), optional) - Name of metric to filter by.\n",
    "\n",
    "    * metric_dimensions ({string(255): string(255)}, optional) - Dimensions of metrics to filter by specified as a comma separated array of (key, value) pairs as `key1:value1,key1:value1, ...`\n",
    "\n",
    "    * state (string, optional) - State of alarm to filter by, either `OK`, `ALARM` or `UNDETERMINED`.\n",
    "\n",
    "    * state_updated_start_time (string, optional) - The start time in ISO 8601 combined date and time format in UTC.\n",
    "    \n",
    "    * sort-by: Fields to sort by\n",
    "    \n",
    "    * offset, limit\n"
   ]
  },
  {
   "cell_type": "markdown",
   "metadata": {
    "slideshow": {
     "slide_type": "subslide"
    }
   },
   "source": [
    "# Alarms list help"
   ]
  },
  {
   "cell_type": "code",
   "execution_count": 114,
   "metadata": {
    "collapsed": false,
    "slideshow": {
     "slide_type": "-"
    }
   },
   "outputs": [
    {
     "name": "stdout",
     "output_type": "stream",
     "text": [
      "usage: monasca alarm-list [--alarm-definition-id <ALARM_DEFINITION_ID>]\r\n",
      "                          [--metric-name <METRIC_NAME>]\r\n",
      "                          [--metric-dimensions <KEY1=VALUE1,KEY2=VALUE2...>]\r\n",
      "                          [--state <ALARM_STATE>] [--severity <SEVERITY>]\r\n",
      "                          [--state-updated-start-time <UTC_STATE_UPDATED_START>]\r\n",
      "                          [--lifecycle-state <LIFECYCLE_STATE>]\r\n",
      "                          [--link <LINK>] [--sort-by <SORT BY FIELDS>]\r\n",
      "                          [--offset <OFFSET LOCATION>]\r\n",
      "                          [--limit <RETURN LIMIT>]\r\n",
      "\r\n",
      "List alarms for this tenant.\r\n",
      "\r\n",
      "Optional arguments:\r\n",
      "  --alarm-definition-id <ALARM_DEFINITION_ID>\r\n",
      "                        The ID of the alarm definition.\r\n",
      "  --metric-name <METRIC_NAME>\r\n",
      "                        Name of the metric.\r\n",
      "  --metric-dimensions <KEY1=VALUE1,KEY2=VALUE2...>\r\n",
      "                        key value pair used to specify a metric dimension.\r\n",
      "                        This can be specified multiple times, or once with\r\n",
      "                        parameters separated by a comma. Dimensions need\r\n",
      "                        quoting when they contain special chars\r\n",
      "                        [&,(,),{,},>,<] that confuse the CLI parser.\r\n",
      "  --state <ALARM_STATE>\r\n",
      "                        ALARM_STATE is one of [UNDETERMINED, OK, ALARM].\r\n",
      "  --severity <SEVERITY>\r\n",
      "                        Severity is one of [\"LOW\", \"MEDIUM\", \"HIGH\",\r\n",
      "                        \"CRITICAL\"].\r\n",
      "  --state-updated-start-time <UTC_STATE_UPDATED_START>\r\n",
      "                        Return all alarms whose state was updated on or after\r\n",
      "                        the time specified.\r\n",
      "  --lifecycle-state <LIFECYCLE_STATE>\r\n",
      "                        The lifecycle state of the alarm.\r\n",
      "  --link <LINK>         The link to external data associated with the alarm.\r\n",
      "  --sort-by <SORT BY FIELDS>\r\n",
      "                        Fields to sort by as a comma separated list. Valid\r\n",
      "                        values are alarm_id, alarm_definition_id, state,\r\n",
      "                        severity, lifecycle_state, link,\r\n",
      "                        state_updated_timestamp, updated_timestamp,\r\n",
      "                        created_timestamp. Fields may be followed by \"asc\" or\r\n",
      "                        \"desc\", ex \"severity desc\", to set the direction of\r\n",
      "                        sorting.\r\n",
      "  --offset <OFFSET LOCATION>\r\n",
      "                        The offset used to paginate the return data.\r\n",
      "  --limit <RETURN LIMIT>\r\n",
      "                        The amount of data to be returned up to the API\r\n",
      "                        maximum limit.\r\n"
     ]
    }
   ],
   "source": [
    "!monasca help alarm-list"
   ]
  },
  {
   "cell_type": "markdown",
   "metadata": {
    "slideshow": {
     "slide_type": "subslide"
    }
   },
   "source": [
    "# Alarm list"
   ]
  },
  {
   "cell_type": "code",
   "execution_count": 115,
   "metadata": {
    "collapsed": false
   },
   "outputs": [
    {
     "name": "stdout",
     "output_type": "stream",
     "text": [
      "+--------------------------------------+--------------------------------------+-----------------------+-------------+-------------------+----------+--------------+-----------------+------+--------------------------+--------------------------+--------------------------+\r\n",
      "| id                                   | alarm_definition_id                  | alarm_definition_name | metric_name | metric_dimensions | severity | state        | lifecycle_state | link | state_updated_timestamp  | updated_timestamp        | created_timestamp        |\r\n",
      "+--------------------------------------+--------------------------------------+-----------------------+-------------+-------------------+----------+--------------+-----------------+------+--------------------------+--------------------------+--------------------------+\r\n",
      "| 1103533c-e493-4b80-b18a-6b610757759d | 3923c12d-5882-4c0c-924b-d045e9c3b08b | match by hostname     | test-metric | hostname: foo     | LOW      | UNDETERMINED | None            | None | 2016-04-23T22:41:58.000Z | 2016-04-23T22:41:58.000Z | 2016-04-23T22:41:58.000Z |\r\n",
      "| 1d8f3bd1-b8b1-468d-a8de-745ab3296162 | 3923c12d-5882-4c0c-924b-d045e9c3b08b | match by hostname     | test-metric | hostname: bar     | LOW      | UNDETERMINED | None            | None | 2016-04-23T22:41:59.000Z | 2016-04-23T22:41:59.000Z | 2016-04-23T22:41:59.000Z |\r\n",
      "| 6ca1c639-07c3-45c2-b9bf-1bcf6d0f713d | 9ff3db98-9bb8-4eff-953a-3a52f40262dd | match name only       | test-metric | hostname: foo     | LOW      | UNDETERMINED | None            | None | 2016-04-23T22:41:58.000Z | 2016-04-23T22:41:58.000Z | 2016-04-23T22:41:58.000Z |\r\n",
      "|                                      |                                      |                       | test-metric | hostname: bar     |          |              |                 |      |                          |                          |                          |\r\n",
      "+--------------------------------------+--------------------------------------+-----------------------+-------------+-------------------+----------+--------------+-----------------+------+--------------------------+--------------------------+--------------------------+\r\n"
     ]
    }
   ],
   "source": [
    "!monasca alarm-list"
   ]
  },
  {
   "cell_type": "markdown",
   "metadata": {
    "slideshow": {
     "slide_type": "slide"
    }
   },
   "source": [
    "# Alarm Counts\n",
    "---\n",
    "* Provides the ability to query counts of alarms using a number of filter and group-by query parameters.\n",
    "\n",
    "* Primarily used in summary/overview dashboards to show the number of alarms in the OK, ALARM and UNDETERMINED state.\n",
    "\n",
    "* Queries are processed in-database, not client-side."
   ]
  },
  {
   "cell_type": "markdown",
   "metadata": {
    "slideshow": {
     "slide_type": "subslide"
    }
   },
   "source": [
    "# OpsConsole Summary Dashboard\n",
    "Counts of alarms are queried using the alarms count resource.\n",
    "\n",
    "![OpsConsole](ops-console-dashboard.png)"
   ]
  },
  {
   "cell_type": "code",
   "execution_count": 116,
   "metadata": {
    "collapsed": false,
    "slideshow": {
     "slide_type": "subslide"
    }
   },
   "outputs": [
    {
     "name": "stdout",
     "output_type": "stream",
     "text": [
      "usage: monasca alarm-count [--alarm-definition-id <ALARM_DEFINITION_ID>]\r\n",
      "                           [--metric-name <METRIC_NAME>]\r\n",
      "                           [--metric-dimensions <KEY1=VALUE1,KEY2=VALUE2...>]\r\n",
      "                           [--state <ALARM_STATE>] [--severity <SEVERITY>]\r\n",
      "                           [--lifecycle-state <LIFECYCLE_STATE>]\r\n",
      "                           [--link <LINK>] [--group-by <GROUP_BY>]\r\n",
      "                           [--offset <OFFSET LOCATION>]\r\n",
      "                           [--limit <RETURN LIMIT>]\r\n",
      "\r\n",
      "Count alarms.\r\n",
      "\r\n",
      "Optional arguments:\r\n",
      "  --alarm-definition-id <ALARM_DEFINITION_ID>\r\n",
      "                        The ID of the alarm definition.\r\n",
      "  --metric-name <METRIC_NAME>\r\n",
      "                        Name of the metric.\r\n",
      "  --metric-dimensions <KEY1=VALUE1,KEY2=VALUE2...>\r\n",
      "                        key value pair used to specify a metric dimension.\r\n",
      "                        This can be specified multiple times, or once with\r\n",
      "                        parameters separated by a comma. Dimensions need\r\n",
      "                        quoting when they contain special chars\r\n",
      "                        [&,(,),{,},>,<] that confuse the CLI parser.\r\n",
      "  --state <ALARM_STATE>\r\n",
      "                        ALARM_STATE is one of [UNDETERMINED, OK, ALARM].\r\n",
      "  --severity <SEVERITY>\r\n",
      "                        Severity is one of [\"LOW\", \"MEDIUM\", \"HIGH\",\r\n",
      "                        \"CRITICAL\"].\r\n",
      "  --lifecycle-state <LIFECYCLE_STATE>\r\n",
      "                        The lifecycle state of the alarm.\r\n",
      "  --link <LINK>         The link to external data associated with the alarm.\r\n",
      "  --group-by <GROUP_BY>\r\n",
      "                        Comma separated list of one or more fields to group\r\n",
      "                        the results by. Group by is one or more of\r\n",
      "                        [alarm_definition_id, name, state, link,\r\n",
      "                        lifecycle_state, metric_name, dimension_name,\r\n",
      "                        dimension_value].\r\n",
      "  --offset <OFFSET LOCATION>\r\n",
      "                        The offset used to paginate the return data.\r\n",
      "  --limit <RETURN LIMIT>\r\n",
      "                        The amount of data to be returned up to the API\r\n",
      "                        maximum limit.\r\n"
     ]
    }
   ],
   "source": [
    "!monasca help alarm-count"
   ]
  },
  {
   "cell_type": "code",
   "execution_count": 117,
   "metadata": {
    "collapsed": false,
    "slideshow": {
     "slide_type": "subslide"
    }
   },
   "outputs": [
    {
     "name": "stdout",
     "output_type": "stream",
     "text": [
      "+-------+--------------+----------------+\r\n",
      "| count | state        | dimension_name |\r\n",
      "+-------+--------------+----------------+\r\n",
      "| 5     | UNDETERMINED | hostname       |\r\n",
      "| 2     | UNDETERMINED | service        |\r\n",
      "+-------+--------------+----------------+\r\n"
     ]
    }
   ],
   "source": [
    "!monasca alarm-count --group-by state,dimension_name"
   ]
  },
  {
   "cell_type": "markdown",
   "metadata": {
    "slideshow": {
     "slide_type": "slide"
    }
   },
   "source": [
    "# Alarm History\n",
    "---\n",
    "* Provides the ability to query the history of alarms and all state transitions.\n",
    "\n",
    "* Used to understand if alarms are flapping as well as do root cause analysis (RCA) on alarms."
   ]
  },
  {
   "cell_type": "code",
   "execution_count": 118,
   "metadata": {
    "collapsed": false,
    "slideshow": {
     "slide_type": "subslide"
    }
   },
   "outputs": [
    {
     "name": "stdout",
     "output_type": "stream",
     "text": [
      "usage: monasca alarm-history [--offset <OFFSET LOCATION>]\r\n",
      "                             [--limit <RETURN LIMIT>]\r\n",
      "                             <ALARM_ID>\r\n",
      "\r\n",
      "Alarm state transition history.\r\n",
      "\r\n",
      "Positional arguments:\r\n",
      "  <ALARM_ID>            The ID of the alarm.\r\n",
      "\r\n",
      "Optional arguments:\r\n",
      "  --offset <OFFSET LOCATION>\r\n",
      "                        The offset used to paginate the return data.\r\n",
      "  --limit <RETURN LIMIT>\r\n",
      "                        The amount of data to be returned up to the API\r\n",
      "                        maximum limit.\r\n"
     ]
    }
   ],
   "source": [
    "!monasca help alarm-history"
   ]
  },
  {
   "cell_type": "code",
   "execution_count": 119,
   "metadata": {
    "collapsed": false,
    "slideshow": {
     "slide_type": "subslide"
    }
   },
   "outputs": [
    {
     "name": "stdout",
     "output_type": "stream",
     "text": [
      "usage: monasca alarm-history-list [--dimensions <KEY1=VALUE1,KEY2=VALUE2...>]\r\n",
      "                                  [--starttime <UTC_START_TIME>]\r\n",
      "                                  [--endtime <UTC_END_TIME>]\r\n",
      "                                  [--offset <OFFSET LOCATION>]\r\n",
      "                                  [--limit <RETURN LIMIT>]\r\n",
      "\r\n",
      "List alarms state history.\r\n",
      "\r\n",
      "Optional arguments:\r\n",
      "  --dimensions <KEY1=VALUE1,KEY2=VALUE2...>\r\n",
      "                        key value pair used to specify a metric dimension.\r\n",
      "                        This can be specified multiple times, or once with\r\n",
      "                        parameters separated by a comma. Dimensions need\r\n",
      "                        quoting when they contain special chars\r\n",
      "                        [&,(,),{,},>,<] that confuse the CLI parser.\r\n",
      "  --starttime <UTC_START_TIME>\r\n",
      "                        measurements >= UTC time. format:\r\n",
      "                        2014-01-01T00:00:00Z. OR format: -120 (previous 120\r\n",
      "                        minutes).\r\n",
      "  --endtime <UTC_END_TIME>\r\n",
      "                        measurements <= UTC time. format:\r\n",
      "                        2014-01-01T00:00:00Z.\r\n",
      "  --offset <OFFSET LOCATION>\r\n",
      "                        The offset used to paginate the return data.\r\n",
      "  --limit <RETURN LIMIT>\r\n",
      "                        The amount of data to be returned up to the API\r\n",
      "                        maximum limit.\r\n"
     ]
    }
   ],
   "source": [
    "!monasca help alarm-history-list"
   ]
  },
  {
   "cell_type": "markdown",
   "metadata": {
    "slideshow": {
     "slide_type": "subslide"
    }
   },
   "source": [
    "# List alarm history help\n",
    "---"
   ]
  },
  {
   "cell_type": "code",
   "execution_count": 120,
   "metadata": {
    "collapsed": false,
    "slideshow": {
     "slide_type": "subslide"
    }
   },
   "outputs": [
    {
     "name": "stdout",
     "output_type": "stream",
     "text": [
      "usage: monasca alarm-history-list [--dimensions <KEY1=VALUE1,KEY2=VALUE2...>]\r\n",
      "                                  [--starttime <UTC_START_TIME>]\r\n",
      "                                  [--endtime <UTC_END_TIME>]\r\n",
      "                                  [--offset <OFFSET LOCATION>]\r\n",
      "                                  [--limit <RETURN LIMIT>]\r\n",
      "\r\n",
      "List alarms state history.\r\n",
      "\r\n",
      "Optional arguments:\r\n",
      "  --dimensions <KEY1=VALUE1,KEY2=VALUE2...>\r\n",
      "                        key value pair used to specify a metric dimension.\r\n",
      "                        This can be specified multiple times, or once with\r\n",
      "                        parameters separated by a comma. Dimensions need\r\n",
      "                        quoting when they contain special chars\r\n",
      "                        [&,(,),{,},>,<] that confuse the CLI parser.\r\n",
      "  --starttime <UTC_START_TIME>\r\n",
      "                        measurements >= UTC time. format:\r\n",
      "                        2014-01-01T00:00:00Z. OR format: -120 (previous 120\r\n",
      "                        minutes).\r\n",
      "  --endtime <UTC_END_TIME>\r\n",
      "                        measurements <= UTC time. format:\r\n",
      "                        2014-01-01T00:00:00Z.\r\n",
      "  --offset <OFFSET LOCATION>\r\n",
      "                        The offset used to paginate the return data.\r\n",
      "  --limit <RETURN LIMIT>\r\n",
      "                        The amount of data to be returned up to the API\r\n",
      "                        maximum limit.\r\n"
     ]
    }
   ],
   "source": [
    "!monasca help alarm-history-list"
   ]
  },
  {
   "cell_type": "markdown",
   "metadata": {
    "slideshow": {
     "slide_type": "subslide"
    }
   },
   "source": [
    "# List alarm history"
   ]
  },
  {
   "cell_type": "code",
   "execution_count": 121,
   "metadata": {
    "collapsed": false,
    "slideshow": {
     "slide_type": "-"
    }
   },
   "outputs": [
    {
     "name": "stdout",
     "output_type": "stream",
     "text": [
      "\r\n"
     ]
    }
   ],
   "source": [
    "!monasca alarm-history-list"
   ]
  },
  {
   "cell_type": "markdown",
   "metadata": {
    "slideshow": {
     "slide_type": "subslide"
    }
   },
   "source": [
    "# List alarm history using the Monasca client\n",
    "---"
   ]
  },
  {
   "cell_type": "code",
   "execution_count": 122,
   "metadata": {
    "collapsed": false,
    "scrolled": true,
    "slideshow": {
     "slide_type": "-"
    }
   },
   "outputs": [
    {
     "data": {
      "text/plain": [
       "[]"
      ]
     },
     "execution_count": 122,
     "metadata": {},
     "output_type": "execute_result"
    }
   ],
   "source": [
    "monasca_client.alarms.history_list(**{})"
   ]
  },
  {
   "cell_type": "markdown",
   "metadata": {
    "slideshow": {
     "slide_type": "slide"
    }
   },
   "source": [
    "# Agent\n",
    "---\n",
    "* A Python monitoring agent\n",
    "* Push model\n",
    "* Agent is installed on the systems that we want to monitor\n",
    "* Collects metrics by running a set of collection plugins every X amount of seconds \n",
    "* Collection plugins are enabled by detection plugins\n",
    "* Detection plugins generate yaml config files that the collection plugins read from\n",
    "* The agent has a monasca-setup command line tool that helps configure the agent and run detection plugins"
   ]
  },
  {
   "cell_type": "markdown",
   "metadata": {
    "slideshow": {
     "slide_type": "subslide"
    }
   },
   "source": [
    "# Agent\n",
    "\n",
    "* System metrics (cpu, memory, network, filesystem, …)\n",
    "\n",
    "* Service metrics\n",
    "\n",
    "* RabbitMQ, MySQL, Kafka, and many others\n",
    "\n",
    "* Application metrics\n",
    "\n",
    "    * Built-in statsd daemon\n",
    "\n",
    "    * Python monasca-statsd library: Adds support for dimensions\n",
    "\n",
    "* VM system metrics\n",
    "\n",
    "* Active checks\n",
    "\n",
    "    * HTTP status checks and response times\n",
    "    \n",
    "    * System up/down checks (ping and ssh)\n",
    "    \n",
    "* Support for Nagios and checkmk\n",
    "\n",
    "* Extensible/Pluggable: Additional services can be easily added\n"
   ]
  },
  {
   "cell_type": "markdown",
   "metadata": {
    "slideshow": {
     "slide_type": "subslide"
    }
   },
   "source": [
    "# Monasca-setup options"
   ]
  },
  {
   "cell_type": "code",
   "execution_count": 123,
   "metadata": {
    "collapsed": false
   },
   "outputs": [
    {
     "name": "stdout",
     "output_type": "stream",
     "text": [
      "usage: monasca-setup [-h] [-u USERNAME] [-p PASSWORD]\n",
      "                     [--user_domain_id USER_DOMAIN_ID]\n",
      "                     [--user_domain_name USER_DOMAIN_NAME]\n",
      "                     [--keystone_url KEYSTONE_URL]\n",
      "                     [--project_name PROJECT_NAME]\n",
      "                     [--project_domain_id PROJECT_DOMAIN_ID]\n",
      "                     [--project_domain_name PROJECT_DOMAIN_NAME]\n",
      "                     [--project_id PROJECT_ID] [--monasca_url MONASCA_URL]\n",
      "                     [--system_only]\n",
      "                     [-d [DETECTION_PLUGINS [DETECTION_PLUGINS ...]]]\n",
      "                     [-a DETECTION_ARGS] [--check_frequency CHECK_FREQUENCY]\n",
      "                     [--dimensions DIMENSIONS] [--ca_file CA_FILE]\n",
      "                     [--insecure INSECURE] [--config_dir CONFIG_DIR]\n",
      "                     [--log_dir LOG_DIR] [--log_level LOG_LEVEL]\n",
      "                     [--template_dir TEMPLATE_DIR] [--overwrite] [-r]\n",
      "                     [--skip_enable] [--install_plugins_only] [--user USER]\n",
      "                     [-s SERVICE] [--amplifier AMPLIFIER] [-v] [--dry_run]\n",
      "\n",
      "Configure and setup the agent. In a full run it will detect running daemons\n",
      "then configure and start the agent.\n",
      "\n",
      "optional arguments:\n",
      "  -h, --help            show this help message and exit\n",
      "  -u USERNAME, --username USERNAME\n",
      "                        Username used for keystone authentication. Required\n",
      "                        for basic configuration. (default: None)\n",
      "  -p PASSWORD, --password PASSWORD\n",
      "                        Password used for keystone authentication. Required\n",
      "                        for basic configuration. (default: None)\n",
      "  --user_domain_id USER_DOMAIN_ID\n",
      "                        User domain id for keystone authentication (default: )\n",
      "  --user_domain_name USER_DOMAIN_NAME\n",
      "                        User domain name for keystone authentication (default:\n",
      "                        )\n",
      "  --keystone_url KEYSTONE_URL\n",
      "                        Keystone url. Required for basic configuration.\n",
      "                        (default: None)\n",
      "  --project_name PROJECT_NAME\n",
      "                        Project name for keystone authentication (default: )\n",
      "  --project_domain_id PROJECT_DOMAIN_ID\n",
      "                        Project domain id for keystone authentication\n",
      "                        (default: )\n",
      "  --project_domain_name PROJECT_DOMAIN_NAME\n",
      "                        Project domain name for keystone authentication\n",
      "                        (default: )\n",
      "  --project_id PROJECT_ID\n",
      "                        Keystone project id for keystone authentication\n",
      "                        (default: )\n",
      "  --monasca_url MONASCA_URL\n",
      "                        Monasca API url, if not defined the url is pulled from\n",
      "                        keystone (default: )\n",
      "  --system_only         Setup the service but only configure the base config\n",
      "                        and system metrics (cpu, disk, load, memory, network).\n",
      "                        (default: False)\n",
      "  -d [DETECTION_PLUGINS [DETECTION_PLUGINS ...]], --detection_plugins [DETECTION_PLUGINS [DETECTION_PLUGINS ...]]\n",
      "                        Skip base config and service setup and only configure\n",
      "                        this space separated list. This assumes the base\n",
      "                        config has already run. (default: None)\n",
      "  -a DETECTION_ARGS, --detection_args DETECTION_ARGS\n",
      "                        A string of arguments that will be passed to detection\n",
      "                        plugins. Only certain detection plugins use arguments.\n",
      "                        (default: None)\n",
      "  --check_frequency CHECK_FREQUENCY\n",
      "                        How often to run metric collection in seconds\n",
      "                        (default: 30)\n",
      "  --dimensions DIMENSIONS\n",
      "                        Additional dimensions to set for all metrics. A comma\n",
      "                        separated list of name/value pairs,\n",
      "                        'name:value,name2:value2' (default: None)\n",
      "  --ca_file CA_FILE     Sets the path to the ca certs file if using\n",
      "                        certificates. Required only if insecure is set to\n",
      "                        False (default: )\n",
      "  --insecure INSECURE   Set whether certificates are used for Keystone\n",
      "                        authentication (default: False)\n",
      "  --config_dir CONFIG_DIR\n",
      "                        Configuration directory (default: /etc/monasca/agent)\n",
      "  --log_dir LOG_DIR     monasca-agent log directory (default:\n",
      "                        /var/log/monasca/agent)\n",
      "  --log_level LOG_LEVEL\n",
      "                        monasca-agent logging level (ERROR, WARNING, INFO,\n",
      "                        DEBUG) (default: WARN)\n",
      "  --template_dir TEMPLATE_DIR\n",
      "                        Alternative template directory (default: /opt/monasca-\n",
      "                        agent/share/monasca/agent)\n",
      "  --overwrite           Overwrite existing plugin configuration. The default\n",
      "                        is to merge. agent.yaml is always overwritten.\n",
      "                        (default: False)\n",
      "  -r, --remove          Rather than add the detected configuration remove it.\n",
      "                        (default: False)\n",
      "  --skip_enable         By default the service is enabled, which requires the\n",
      "                        script run as root. Set this to skip that step.\n",
      "                        (default: False)\n",
      "  --install_plugins_only\n",
      "                        Only update plugin configuration, do not configure\n",
      "                        services, users, etc. or restart services (default:\n",
      "                        False)\n",
      "  --user USER           User name to run monasca-agent as (default: mon-agent)\n",
      "  -s SERVICE, --service SERVICE\n",
      "                        Service this node is associated with, added as a\n",
      "                        dimension. (default: None)\n",
      "  --amplifier AMPLIFIER\n",
      "                        Integer for the number of additional measurements to\n",
      "                        create. Additional measurements contain the\n",
      "                        'amplifier' dimension. Useful for load testing; not\n",
      "                        for production use. (default: 0)\n",
      "  -v, --verbose         Verbose Output (default: False)\n",
      "  --dry_run             Make no changes just report on changes (default:\n",
      "                        False)\n",
      "\n"
     ]
    }
   ],
   "source": [
    "monasca_agent_help = shell.run([\"/opt/monasca-agent/bin/monasca-setup\", \"-h\"])\n",
    "print monasca_agent_help.output"
   ]
  },
  {
   "cell_type": "markdown",
   "metadata": {
    "slideshow": {
     "slide_type": "subslide"
    }
   },
   "source": [
    "# Monasca-setup configuring agent"
   ]
  },
  {
   "cell_type": "code",
   "execution_count": 124,
   "metadata": {
    "collapsed": false
   },
   "outputs": [
    {
     "name": "stdout",
     "output_type": "stream",
     "text": [
      "#!/bin/sh\n",
      "'/opt/monasca-agent/bin/monasca-setup' \\\n",
      "    -u 'monasca-agent' \\\n",
      "    -p 'password' \\\n",
      "     -s 'monitoring'  \\\n",
      "    --keystone_url 'http://192.168.10.6:35357/v3' \\\n",
      "    --project_name 'mini-mon' \\\n",
      "     --monasca_url 'http://192.168.10.6:8070/v2.0'  \\\n",
      "     \\\n",
      "     --check_frequency '15'  \\\n",
      "     \\\n",
      "     --log_level 'WARN'  \\\n",
      "    --overwrite \\\n",
      "    --system_only\n",
      "\n"
     ]
    }
   ],
   "source": [
    "monasca_agent_setup_command = shell.run([\"sudo\", \"cat\", \"/usr/local/bin/monasca-reconfigure\"])\n",
    "print monasca_agent_setup_command.output"
   ]
  },
  {
   "cell_type": "markdown",
   "metadata": {
    "slideshow": {
     "slide_type": "subslide"
    }
   },
   "source": [
    "# Monasca agent configuration file"
   ]
  },
  {
   "cell_type": "code",
   "execution_count": 125,
   "metadata": {
    "collapsed": false
   },
   "outputs": [
    {
     "name": "stdout",
     "output_type": "stream",
     "text": [
      "Api:\n",
      "  amplifier: 0\n",
      "  backlog_send_rate: 1000\n",
      "  ca_file: null\n",
      "  insecure: false\n",
      "  keystone_url: http://192.168.10.6:35357/v3\n",
      "  max_buffer_size: 1000\n",
      "  password: password\n",
      "  project_domain_id: null\n",
      "  project_domain_name: null\n",
      "  project_id: null\n",
      "  project_name: mini-mon\n",
      "  url: http://192.168.10.6:8070/v2.0\n",
      "  user_domain_id: null\n",
      "  user_domain_name: null\n",
      "  username: monasca-agent\n",
      "Logging:\n",
      "  collector_log_file: /var/log/monasca/agent/collector.log\n",
      "  forwarder_log_file: /var/log/monasca/agent/forwarder.log\n",
      "  log_level: WARN\n",
      "  statsd_log_file: /var/log/monasca/agent/statsd.log\n",
      "Main:\n",
      "  check_freq: 15\n",
      "  collector_restart_interval: 24\n",
      "  dimensions:\n",
      "    service: monitoring\n",
      "  hostname: localhost\n",
      "  sub_collection_warn: 6\n",
      "Statsd:\n",
      "  monasca_statsd_port: 8125\n",
      "\n"
     ]
    }
   ],
   "source": [
    "monasca_agent_setup_command = shell.run([\"sudo\", \"cat\", \"/etc/monasca/agent/agent.yaml\"])\n",
    "print monasca_agent_setup_command.output"
   ]
  },
  {
   "cell_type": "markdown",
   "metadata": {
    "slideshow": {
     "slide_type": "subslide"
    }
   },
   "source": [
    "# Agent Detection Plugins\n",
    "\n",
    "* Run after initial configuration is run\n",
    "* List of avaiable plugins \n"
   ]
  },
  {
   "cell_type": "markdown",
   "metadata": {
    "slideshow": {
     "slide_type": "subslide"
    }
   },
   "source": [
    "# Run Kafka Detection Plugin"
   ]
  },
  {
   "cell_type": "code",
   "execution_count": 126,
   "metadata": {
    "collapsed": false
   },
   "outputs": [
    {
     "name": "stdout",
     "output_type": "stream",
     "text": [
      "INFO: \tWatching the kafka process.\n",
      "INFO: \tKafka found listening on 192.168.10.6:9092\n",
      "INFO: \tInstalling kafka_consumer plugin.\n",
      "INFO: Configuring Kafka\n",
      "INFO: No changes found for plugins ['Kafka'], skipping restart of Monasca Agent\n",
      "\n"
     ]
    }
   ],
   "source": [
    "monasca_agent_mysql_detection_run = shell.run([\"sudo\", \"/opt/monasca-agent/bin/monasca-setup\", \"-d\", \"kafka\"])\n",
    "print monasca_agent_mysql_detection_run.stderr_output"
   ]
  },
  {
   "cell_type": "markdown",
   "metadata": {
    "slideshow": {
     "slide_type": "subslide"
    }
   },
   "source": [
    "# Query the Kafka consumer lag metrics"
   ]
  },
  {
   "cell_type": "code",
   "execution_count": 127,
   "metadata": {
    "collapsed": false,
    "slideshow": {
     "slide_type": "fragment"
    }
   },
   "outputs": [
    {
     "name": "stdout",
     "output_type": "stream",
     "text": [
      "+--------------------+---------------------------------------------------------+\r\n",
      "| name               | dimensions                                              |\r\n",
      "+--------------------+---------------------------------------------------------+\r\n",
      "| kafka.consumer_lag | topic: window-1                                         |\r\n",
      "|                    | hostname: devstack                                      |\r\n",
      "|                    | component: kafka                                        |\r\n",
      "|                    | service: kafka                                          |\r\n",
      "|                    | consumer_group: monasca-transform-aggregate-transformer |\r\n",
      "| kafka.consumer_lag | topic: window-0                                         |\r\n",
      "|                    | hostname: devstack                                      |\r\n",
      "|                    | component: kafka                                        |\r\n",
      "|                    | service: kafka                                          |\r\n",
      "|                    | consumer_group: monasca-transform-aggregate-transformer |\r\n",
      "| kafka.consumer_lag | topic: metrics                                          |\r\n",
      "|                    | hostname: devstack                                      |\r\n",
      "|                    | component: kafka                                        |\r\n",
      "|                    | service: kafka                                          |\r\n",
      "|                    | consumer_group: thresh-metric                           |\r\n",
      "| kafka.consumer_lag | topic: metrics                                          |\r\n",
      "|                    | hostname: devstack                                      |\r\n",
      "|                    | component: kafka                                        |\r\n",
      "|                    | service: kafka                                          |\r\n",
      "|                    | consumer_group: monasca-transform-identity-transformer  |\r\n",
      "| kafka.consumer_lag | topic: alarm-state-transitions                          |\r\n",
      "|                    | hostname: devstack                                      |\r\n",
      "|                    | component: kafka                                        |\r\n",
      "|                    | service: kafka                                          |\r\n",
      "|                    | consumer_group: monasca-notification                    |\r\n",
      "| kafka.consumer_lag | topic: alarm-state-transitions                          |\r\n",
      "|                    | hostname: devstack                                      |\r\n",
      "|                    | component: kafka                                        |\r\n",
      "|                    | service: kafka                                          |\r\n",
      "|                    | consumer_group: 1_alarm-state-transitions               |\r\n",
      "| kafka.consumer_lag | topic: window-2                                         |\r\n",
      "|                    | hostname: devstack                                      |\r\n",
      "|                    | component: kafka                                        |\r\n",
      "|                    | service: kafka                                          |\r\n",
      "|                    | consumer_group: monasca-transform-aggregate-transformer |\r\n",
      "| kafka.consumer_lag | topic: retry-notifications                              |\r\n",
      "|                    | hostname: devstack                                      |\r\n",
      "|                    | component: kafka                                        |\r\n",
      "|                    | service: kafka                                          |\r\n",
      "|                    | consumer_group: monasca-notification                    |\r\n",
      "| kafka.consumer_lag | topic: window-3                                         |\r\n",
      "|                    | hostname: devstack                                      |\r\n",
      "|                    | component: kafka                                        |\r\n",
      "|                    | service: kafka                                          |\r\n",
      "|                    | consumer_group: monasca-transform-aggregate-transformer |\r\n",
      "| kafka.consumer_lag | topic: metrics                                          |\r\n",
      "|                    | hostname: devstack                                      |\r\n",
      "|                    | component: kafka                                        |\r\n",
      "|                    | service: kafka                                          |\r\n",
      "|                    | consumer_group: 1_metrics                               |\r\n",
      "| kafka.consumer_lag | topic: events                                           |\r\n",
      "|                    | hostname: devstack                                      |\r\n",
      "|                    | component: kafka                                        |\r\n",
      "|                    | service: kafka                                          |\r\n",
      "|                    | consumer_group: thresh-event                            |\r\n",
      "+--------------------+---------------------------------------------------------+\r\n"
     ]
    }
   ],
   "source": [
    "!monasca metric-list --name kafka.consumer_lag"
   ]
  },
  {
   "cell_type": "markdown",
   "metadata": {
    "slideshow": {
     "slide_type": "subslide"
    }
   },
   "source": [
    "# Query the Kafka consumer lag measurements"
   ]
  },
  {
   "cell_type": "code",
   "execution_count": 128,
   "metadata": {
    "collapsed": false,
    "slideshow": {
     "slide_type": "-"
    }
   },
   "outputs": [
    {
     "name": "stdout",
     "output_type": "stream",
     "text": [
      "+--------------------+---------------------------+--------------------------+--------------+------------+\n",
      "| name               | dimensions                | timestamp                | value        | value_meta |\n",
      "+--------------------+---------------------------+--------------------------+--------------+------------+\n",
      "| kafka.consumer_lag | topic: metrics            | 2016-04-23T22:32:51.000Z |       66.000 |            |\n",
      "|                    | hostname: devstack        | 2016-04-23T22:33:06.000Z |       34.000 |            |\n",
      "|                    | component: kafka          | 2016-04-23T22:33:21.000Z |       68.000 |            |\n",
      "|                    | service: kafka            | 2016-04-23T22:33:36.000Z |       68.000 |            |\n",
      "|                    | consumer_group: 1_metrics | 2016-04-23T22:33:51.000Z |       66.000 |            |\n",
      "|                    |                           | 2016-04-23T22:34:06.000Z |       34.000 |            |\n",
      "|                    |                           | 2016-04-23T22:34:21.000Z |       68.000 |            |\n",
      "|                    |                           | 2016-04-23T22:34:36.000Z |       68.000 |            |\n",
      "|                    |                           | 2016-04-23T22:34:52.000Z |       66.000 |            |\n",
      "|                    |                           | 2016-04-23T22:35:06.000Z |       34.000 |            |\n",
      "+--------------------+---------------------------+--------------------------+--------------+------------+\n"
     ]
    }
   ],
   "source": [
    "!monasca measurement-list kafka.consumer_lag --dimensions consumer_group=1_metrics -10 --limit 10"
   ]
  },
  {
   "cell_type": "markdown",
   "metadata": {
    "slideshow": {
     "slide_type": "subslide"
    }
   },
   "source": [
    "# Display using Plotly"
   ]
  },
  {
   "cell_type": "code",
   "execution_count": 130,
   "metadata": {
    "collapsed": false,
    "slideshow": {
     "slide_type": "subslide"
    }
   },
   "outputs": [
    {
     "data": {
      "text/html": [
       "<div id=\"9705a33d-a971-4245-887d-83c61a5baf1b\" style=\"height: 587; width: 1116px;\" class=\"plotly-graph-div\"></div><script type=\"text/javascript\">window.PLOTLYENV=window.PLOTLYENV || {};window.PLOTLYENV.BASE_URL=\"https://plot.ly\";Plotly.newPlot(\"9705a33d-a971-4245-887d-83c61a5baf1b\", [{\"name\": \"kafka.consumer_lag.monasca-transform-aggregate-transformer\", \"text\": \"\", \"mode\": \"lines\", \"fillcolor\": \"rgba(226, 74, 51, 0.3)\", \"y\": [\"40.0\", \"40.0\", \"40.0\", \"40.0\", \"40.0\", \"40.0\", \"40.0\", \"40.0\", \"40.0\", \"40.0\", \"40.0\", \"40.0\", \"40.0\", \"40.0\", \"40.0\", \"40.0\", \"40.0\", \"40.0\", \"40.0\", \"40.0\", \"40.0\", \"40.0\", \"40.0\", \"40.0\", \"40.0\", \"40.0\", \"40.0\", \"40.0\", \"40.0\", \"40.0\", \"40.0\", \"40.0\", \"40.0\", \"40.0\", \"40.0\", \"40.0\", \"40.0\", \"40.0\", \"40.0\", \"40.0\", \"40.0\", \"40.0\", \"40.0\", \"40.0\", \"40.0\", \"40.0\", \"40.0\", \"40.0\", \"40.0\", \"40.0\", \"40.0\", \"40.0\", \"40.0\", \"40.0\", \"40.0\", \"40.0\", \"40.0\", \"40.0\", \"40.0\", \"40.0\"], \"x\": [\"2016-04-23T21:44:00.000Z\", \"2016-04-23T21:45:00.000Z\", \"2016-04-23T21:46:00.000Z\", \"2016-04-23T21:47:00.000Z\", \"2016-04-23T21:48:00.000Z\", \"2016-04-23T21:49:00.000Z\", \"2016-04-23T21:50:00.000Z\", \"2016-04-23T21:51:00.000Z\", \"2016-04-23T21:52:00.000Z\", \"2016-04-23T21:53:00.000Z\", \"2016-04-23T21:54:00.000Z\", \"2016-04-23T21:55:00.000Z\", \"2016-04-23T21:56:00.000Z\", \"2016-04-23T21:57:00.000Z\", \"2016-04-23T21:58:00.000Z\", \"2016-04-23T21:59:00.000Z\", \"2016-04-23T22:00:00.000Z\", \"2016-04-23T22:01:00.000Z\", \"2016-04-23T22:02:00.000Z\", \"2016-04-23T22:03:00.000Z\", \"2016-04-23T22:04:00.000Z\", \"2016-04-23T22:05:00.000Z\", \"2016-04-23T22:06:00.000Z\", \"2016-04-23T22:07:00.000Z\", \"2016-04-23T22:08:00.000Z\", \"2016-04-23T22:09:00.000Z\", \"2016-04-23T22:10:00.000Z\", \"2016-04-23T22:11:00.000Z\", \"2016-04-23T22:12:00.000Z\", \"2016-04-23T22:13:00.000Z\", \"2016-04-23T22:14:00.000Z\", \"2016-04-23T22:15:00.000Z\", \"2016-04-23T22:16:00.000Z\", \"2016-04-23T22:17:00.000Z\", \"2016-04-23T22:18:00.000Z\", \"2016-04-23T22:19:00.000Z\", \"2016-04-23T22:20:00.000Z\", \"2016-04-23T22:21:00.000Z\", \"2016-04-23T22:22:00.000Z\", \"2016-04-23T22:23:00.000Z\", \"2016-04-23T22:24:00.000Z\", \"2016-04-23T22:25:00.000Z\", \"2016-04-23T22:26:00.000Z\", \"2016-04-23T22:27:00.000Z\", \"2016-04-23T22:28:00.000Z\", \"2016-04-23T22:29:00.000Z\", \"2016-04-23T22:30:00.000Z\", \"2016-04-23T22:31:00.000Z\", \"2016-04-23T22:32:00.000Z\", \"2016-04-23T22:33:00.000Z\", \"2016-04-23T22:34:00.000Z\", \"2016-04-23T22:35:00.000Z\", \"2016-04-23T22:36:00.000Z\", \"2016-04-23T22:37:00.000Z\", \"2016-04-23T22:38:00.000Z\", \"2016-04-23T22:39:00.000Z\", \"2016-04-23T22:40:00.000Z\", \"2016-04-23T22:41:00.000Z\", \"2016-04-23T22:42:00.000Z\", \"2016-04-23T22:43:00.000Z\"], \"line\": {\"color\": \"rgba(226, 74, 51, 1.0)\", \"width\": 1.3, \"dash\": \"solid\"}, \"type\": \"scatter\", \"fill\": \"tozeroy\"}, {\"name\": \"kafka.consumer_lag.thresh-metric\", \"text\": \"\", \"mode\": \"lines\", \"fillcolor\": \"rgba(62, 111, 176, 0.3)\", \"y\": [\"101.5\", \"101.5\", \"101.5\", \"101.5\", \"101.5\", \"101.5\", \"101.5\", \"101.5\", \"101.5\", \"101.5\", \"101.5\", \"101.5\", \"101.5\", \"101.5\", \"101.5\", \"95.2\", \"134.5\", \"101.5\", \"101.5\", \"101.5\", \"101.5\", \"101.5\", \"101.5\", \"101.5\", \"101.5\", \"101.5\", \"101.5\", \"101.5\", \"101.5\", \"101.5\", \"101.5\", \"101.5\", \"101.5\", \"101.5\", \"101.5\", \"101.5\", \"101.5\", \"101.5\", \"101.5\", \"101.5\", \"101.5\", \"101.5\", \"101.5\", \"101.5\", \"101.5\", \"101.5\", \"101.5\", \"101.5\", \"101.5\", \"101.5\", \"101.5\", \"101.5\", \"101.5\", \"102.5\", \"103.0\", \"102.25\", \"101.75\", \"104.25\", \"101.5\", \"103.5\"], \"x\": [\"2016-04-23T21:44:00.000Z\", \"2016-04-23T21:45:00.000Z\", \"2016-04-23T21:46:00.000Z\", \"2016-04-23T21:47:00.000Z\", \"2016-04-23T21:48:00.000Z\", \"2016-04-23T21:49:00.000Z\", \"2016-04-23T21:50:00.000Z\", \"2016-04-23T21:51:00.000Z\", \"2016-04-23T21:52:00.000Z\", \"2016-04-23T21:53:00.000Z\", \"2016-04-23T21:54:00.000Z\", \"2016-04-23T21:55:00.000Z\", \"2016-04-23T21:56:00.000Z\", \"2016-04-23T21:57:00.000Z\", \"2016-04-23T21:58:00.000Z\", \"2016-04-23T21:59:00.000Z\", \"2016-04-23T22:00:00.000Z\", \"2016-04-23T22:01:00.000Z\", \"2016-04-23T22:02:00.000Z\", \"2016-04-23T22:03:00.000Z\", \"2016-04-23T22:04:00.000Z\", \"2016-04-23T22:05:00.000Z\", \"2016-04-23T22:06:00.000Z\", \"2016-04-23T22:07:00.000Z\", \"2016-04-23T22:08:00.000Z\", \"2016-04-23T22:09:00.000Z\", \"2016-04-23T22:10:00.000Z\", \"2016-04-23T22:11:00.000Z\", \"2016-04-23T22:12:00.000Z\", \"2016-04-23T22:13:00.000Z\", \"2016-04-23T22:14:00.000Z\", \"2016-04-23T22:15:00.000Z\", \"2016-04-23T22:16:00.000Z\", \"2016-04-23T22:17:00.000Z\", \"2016-04-23T22:18:00.000Z\", \"2016-04-23T22:19:00.000Z\", \"2016-04-23T22:20:00.000Z\", \"2016-04-23T22:21:00.000Z\", \"2016-04-23T22:22:00.000Z\", \"2016-04-23T22:23:00.000Z\", \"2016-04-23T22:24:00.000Z\", \"2016-04-23T22:25:00.000Z\", \"2016-04-23T22:26:00.000Z\", \"2016-04-23T22:27:00.000Z\", \"2016-04-23T22:28:00.000Z\", \"2016-04-23T22:29:00.000Z\", \"2016-04-23T22:30:00.000Z\", \"2016-04-23T22:31:00.000Z\", \"2016-04-23T22:32:00.000Z\", \"2016-04-23T22:33:00.000Z\", \"2016-04-23T22:34:00.000Z\", \"2016-04-23T22:35:00.000Z\", \"2016-04-23T22:36:00.000Z\", \"2016-04-23T22:37:00.000Z\", \"2016-04-23T22:38:00.000Z\", \"2016-04-23T22:39:00.000Z\", \"2016-04-23T22:40:00.000Z\", \"2016-04-23T22:41:00.000Z\", \"2016-04-23T22:42:00.000Z\", \"2016-04-23T22:43:00.000Z\"], \"line\": {\"color\": \"rgba(62, 111, 176, 1.0)\", \"width\": 1.3, \"dash\": \"solid\"}, \"type\": \"scatter\", \"fill\": \"tozeroy\"}, {\"name\": \"kafka.consumer_lag.monasca-transform-identity-transformer\", \"text\": \"\", \"mode\": \"lines\", \"fillcolor\": \"rgba(132, 118, 202, 0.3)\", \"y\": [\"1113053.5\", \"1113323.5\", \"1113593.5\", \"1113863.5\", \"1114133.5\", \"1114403.5\", \"1114673.5\", \"1114943.5\", \"1115213.5\", \"1115483.5\", \"1115753.5\", \"1116023.5\", \"1116293.5\", \"1116563.5\", \"1116833.5\", \"1117097.2\", \"1117406.5\", \"1117709.5\", \"1117979.5\", \"1118249.5\", \"1118519.5\", \"1118789.5\", \"1119059.5\", \"1119329.5\", \"1119599.5\", \"1119869.5\", \"1120139.5\", \"1120409.5\", \"1120679.5\", \"1120949.5\", \"1121219.5\", \"1121489.5\", \"1121759.5\", \"1122029.5\", \"1122299.5\", \"1122569.5\", \"1122839.5\", \"1123109.5\", \"1123379.5\", \"1123649.5\", \"1123919.5\", \"1124189.5\", \"1124459.5\", \"1124729.5\", \"1124999.5\", \"1125269.5\", \"1125539.5\", \"1125809.5\", \"1126079.5\", \"1126349.5\", \"1126619.5\", \"1126889.5\", \"1127159.5\", \"1127430.5\", \"1127704.0\", \"1127976.25\", \"1128251.75\", \"1128525.25\", \"1128796.5\", \"1129073.5\"], \"x\": [\"2016-04-23T21:44:00.000Z\", \"2016-04-23T21:45:00.000Z\", \"2016-04-23T21:46:00.000Z\", \"2016-04-23T21:47:00.000Z\", \"2016-04-23T21:48:00.000Z\", \"2016-04-23T21:49:00.000Z\", \"2016-04-23T21:50:00.000Z\", \"2016-04-23T21:51:00.000Z\", \"2016-04-23T21:52:00.000Z\", \"2016-04-23T21:53:00.000Z\", \"2016-04-23T21:54:00.000Z\", \"2016-04-23T21:55:00.000Z\", \"2016-04-23T21:56:00.000Z\", \"2016-04-23T21:57:00.000Z\", \"2016-04-23T21:58:00.000Z\", \"2016-04-23T21:59:00.000Z\", \"2016-04-23T22:00:00.000Z\", \"2016-04-23T22:01:00.000Z\", \"2016-04-23T22:02:00.000Z\", \"2016-04-23T22:03:00.000Z\", \"2016-04-23T22:04:00.000Z\", \"2016-04-23T22:05:00.000Z\", \"2016-04-23T22:06:00.000Z\", \"2016-04-23T22:07:00.000Z\", \"2016-04-23T22:08:00.000Z\", \"2016-04-23T22:09:00.000Z\", \"2016-04-23T22:10:00.000Z\", \"2016-04-23T22:11:00.000Z\", \"2016-04-23T22:12:00.000Z\", \"2016-04-23T22:13:00.000Z\", \"2016-04-23T22:14:00.000Z\", \"2016-04-23T22:15:00.000Z\", \"2016-04-23T22:16:00.000Z\", \"2016-04-23T22:17:00.000Z\", \"2016-04-23T22:18:00.000Z\", \"2016-04-23T22:19:00.000Z\", \"2016-04-23T22:20:00.000Z\", \"2016-04-23T22:21:00.000Z\", \"2016-04-23T22:22:00.000Z\", \"2016-04-23T22:23:00.000Z\", \"2016-04-23T22:24:00.000Z\", \"2016-04-23T22:25:00.000Z\", \"2016-04-23T22:26:00.000Z\", \"2016-04-23T22:27:00.000Z\", \"2016-04-23T22:28:00.000Z\", \"2016-04-23T22:29:00.000Z\", \"2016-04-23T22:30:00.000Z\", \"2016-04-23T22:31:00.000Z\", \"2016-04-23T22:32:00.000Z\", \"2016-04-23T22:33:00.000Z\", \"2016-04-23T22:34:00.000Z\", \"2016-04-23T22:35:00.000Z\", \"2016-04-23T22:36:00.000Z\", \"2016-04-23T22:37:00.000Z\", \"2016-04-23T22:38:00.000Z\", \"2016-04-23T22:39:00.000Z\", \"2016-04-23T22:40:00.000Z\", \"2016-04-23T22:41:00.000Z\", \"2016-04-23T22:42:00.000Z\", \"2016-04-23T22:43:00.000Z\"], \"line\": {\"color\": \"rgba(132, 118, 202, 1.0)\", \"width\": 1.3, \"dash\": \"solid\"}, \"type\": \"scatter\", \"fill\": \"tozeroy\"}, {\"name\": \"kafka.consumer_lag.monasca-notification\", \"text\": \"\", \"mode\": \"lines\", \"fillcolor\": \"rgba(101, 101, 101, 0.3)\", \"y\": [\"0.0\", \"0.0\", \"0.0\", \"0.0\", \"0.0\", \"0.0\", \"0.0\", \"0.0\", \"0.0\", \"0.0\", \"0.0\", \"0.0\", \"0.0\", \"0.0\", \"0.0\", \"0.0\", \"0.0\", \"0.0\", \"0.0\", \"0.0\", \"0.0\", \"0.0\", \"0.0\", \"0.0\", \"0.0\", \"0.0\", \"0.0\", \"0.0\", \"0.0\", \"0.0\", \"0.0\", \"0.0\", \"0.0\", \"0.0\", \"0.0\", \"0.0\", \"0.0\", \"0.0\", \"0.0\", \"0.0\", \"0.0\", \"0.0\", \"0.0\", \"0.0\", \"0.0\", \"0.0\", \"0.0\", \"0.0\", \"0.0\", \"0.0\", \"0.0\", \"0.0\", \"0.0\", \"0.0\", \"0.0\", \"0.0\", \"0.0\", \"0.0\", \"0.0\", \"0.0\"], \"x\": [\"2016-04-23T21:44:00.000Z\", \"2016-04-23T21:45:00.000Z\", \"2016-04-23T21:46:00.000Z\", \"2016-04-23T21:47:00.000Z\", \"2016-04-23T21:48:00.000Z\", \"2016-04-23T21:49:00.000Z\", \"2016-04-23T21:50:00.000Z\", \"2016-04-23T21:51:00.000Z\", \"2016-04-23T21:52:00.000Z\", \"2016-04-23T21:53:00.000Z\", \"2016-04-23T21:54:00.000Z\", \"2016-04-23T21:55:00.000Z\", \"2016-04-23T21:56:00.000Z\", \"2016-04-23T21:57:00.000Z\", \"2016-04-23T21:58:00.000Z\", \"2016-04-23T21:59:00.000Z\", \"2016-04-23T22:00:00.000Z\", \"2016-04-23T22:01:00.000Z\", \"2016-04-23T22:02:00.000Z\", \"2016-04-23T22:03:00.000Z\", \"2016-04-23T22:04:00.000Z\", \"2016-04-23T22:05:00.000Z\", \"2016-04-23T22:06:00.000Z\", \"2016-04-23T22:07:00.000Z\", \"2016-04-23T22:08:00.000Z\", \"2016-04-23T22:09:00.000Z\", \"2016-04-23T22:10:00.000Z\", \"2016-04-23T22:11:00.000Z\", \"2016-04-23T22:12:00.000Z\", \"2016-04-23T22:13:00.000Z\", \"2016-04-23T22:14:00.000Z\", \"2016-04-23T22:15:00.000Z\", \"2016-04-23T22:16:00.000Z\", \"2016-04-23T22:17:00.000Z\", \"2016-04-23T22:18:00.000Z\", \"2016-04-23T22:19:00.000Z\", \"2016-04-23T22:20:00.000Z\", \"2016-04-23T22:21:00.000Z\", \"2016-04-23T22:22:00.000Z\", \"2016-04-23T22:23:00.000Z\", \"2016-04-23T22:24:00.000Z\", \"2016-04-23T22:25:00.000Z\", \"2016-04-23T22:26:00.000Z\", \"2016-04-23T22:27:00.000Z\", \"2016-04-23T22:28:00.000Z\", \"2016-04-23T22:29:00.000Z\", \"2016-04-23T22:30:00.000Z\", \"2016-04-23T22:31:00.000Z\", \"2016-04-23T22:32:00.000Z\", \"2016-04-23T22:33:00.000Z\", \"2016-04-23T22:34:00.000Z\", \"2016-04-23T22:35:00.000Z\", \"2016-04-23T22:36:00.000Z\", \"2016-04-23T22:37:00.000Z\", \"2016-04-23T22:38:00.000Z\", \"2016-04-23T22:39:00.000Z\", \"2016-04-23T22:40:00.000Z\", \"2016-04-23T22:41:00.000Z\", \"2016-04-23T22:42:00.000Z\", \"2016-04-23T22:43:00.000Z\"], \"line\": {\"color\": \"rgba(101, 101, 101, 1.0)\", \"width\": 1.3, \"dash\": \"solid\"}, \"type\": \"scatter\", \"fill\": \"tozeroy\"}, {\"name\": \"kafka.consumer_lag.1_alarm-state-transitions\", \"text\": \"\", \"mode\": \"lines\", \"fillcolor\": \"rgba(251, 193, 94, 0.3)\", \"y\": [\"0.0\", \"0.0\", \"0.0\", \"0.0\", \"0.0\", \"0.0\", \"0.0\", \"0.0\", \"0.0\", \"0.0\", \"0.0\", \"0.0\", \"0.0\", \"0.0\", \"0.0\", \"0.0\", \"0.0\", \"0.0\", \"0.0\", \"0.0\", \"0.0\", \"0.0\", \"0.0\", \"0.0\", \"0.0\", \"0.0\", \"0.0\", \"0.0\", \"0.0\", \"0.0\", \"0.0\", \"0.0\", \"0.0\", \"0.0\", \"0.0\", \"0.0\", \"0.0\", \"0.0\", \"0.0\", \"0.0\", \"0.0\", \"0.0\", \"0.0\", \"0.0\", \"0.0\", \"0.0\", \"0.0\", \"0.0\", \"0.0\", \"0.0\", \"0.0\", \"0.0\", \"0.0\", \"0.0\", \"0.0\", \"0.0\", \"0.0\", \"0.0\", \"0.0\", \"0.0\"], \"x\": [\"2016-04-23T21:44:00.000Z\", \"2016-04-23T21:45:00.000Z\", \"2016-04-23T21:46:00.000Z\", \"2016-04-23T21:47:00.000Z\", \"2016-04-23T21:48:00.000Z\", \"2016-04-23T21:49:00.000Z\", \"2016-04-23T21:50:00.000Z\", \"2016-04-23T21:51:00.000Z\", \"2016-04-23T21:52:00.000Z\", \"2016-04-23T21:53:00.000Z\", \"2016-04-23T21:54:00.000Z\", \"2016-04-23T21:55:00.000Z\", \"2016-04-23T21:56:00.000Z\", \"2016-04-23T21:57:00.000Z\", \"2016-04-23T21:58:00.000Z\", \"2016-04-23T21:59:00.000Z\", \"2016-04-23T22:00:00.000Z\", \"2016-04-23T22:01:00.000Z\", \"2016-04-23T22:02:00.000Z\", \"2016-04-23T22:03:00.000Z\", \"2016-04-23T22:04:00.000Z\", \"2016-04-23T22:05:00.000Z\", \"2016-04-23T22:06:00.000Z\", \"2016-04-23T22:07:00.000Z\", \"2016-04-23T22:08:00.000Z\", \"2016-04-23T22:09:00.000Z\", \"2016-04-23T22:10:00.000Z\", \"2016-04-23T22:11:00.000Z\", \"2016-04-23T22:12:00.000Z\", \"2016-04-23T22:13:00.000Z\", \"2016-04-23T22:14:00.000Z\", \"2016-04-23T22:15:00.000Z\", \"2016-04-23T22:16:00.000Z\", \"2016-04-23T22:17:00.000Z\", \"2016-04-23T22:18:00.000Z\", \"2016-04-23T22:19:00.000Z\", \"2016-04-23T22:20:00.000Z\", \"2016-04-23T22:21:00.000Z\", \"2016-04-23T22:22:00.000Z\", \"2016-04-23T22:23:00.000Z\", \"2016-04-23T22:24:00.000Z\", \"2016-04-23T22:25:00.000Z\", \"2016-04-23T22:26:00.000Z\", \"2016-04-23T22:27:00.000Z\", \"2016-04-23T22:28:00.000Z\", \"2016-04-23T22:29:00.000Z\", \"2016-04-23T22:30:00.000Z\", \"2016-04-23T22:31:00.000Z\", \"2016-04-23T22:32:00.000Z\", \"2016-04-23T22:33:00.000Z\", \"2016-04-23T22:34:00.000Z\", \"2016-04-23T22:35:00.000Z\", \"2016-04-23T22:36:00.000Z\", \"2016-04-23T22:37:00.000Z\", \"2016-04-23T22:38:00.000Z\", \"2016-04-23T22:39:00.000Z\", \"2016-04-23T22:40:00.000Z\", \"2016-04-23T22:41:00.000Z\", \"2016-04-23T22:42:00.000Z\", \"2016-04-23T22:43:00.000Z\"], \"line\": {\"color\": \"rgba(251, 193, 94, 1.0)\", \"width\": 1.3, \"dash\": \"solid\"}, \"type\": \"scatter\", \"fill\": \"tozeroy\"}, {\"name\": \"kafka.consumer_lag.1_metrics\", \"text\": \"\", \"mode\": \"lines\", \"fillcolor\": \"rgba(142, 186, 66, 0.3)\", \"y\": [\"43.0\", \"43.0\", \"27.0\", \"1.0\", \"0.5\", \"0.0\", \"67.5\", \"51.0\", \"43.0\", \"43.0\", \"43.0\", \"43.0\", \"43.0\", \"51.0\", \"59.0\", \"47.6\", \"34.0\", \"1.0\", \"0.5\", \"16.5\", \"67.5\", \"51.0\", \"43.0\", \"43.0\", \"27.0\", \"1.0\", \"0.5\", \"1.75\", \"67.5\", \"51.0\", \"43.0\", \"43.0\", \"43.0\", \"43.0\", \"51.0\", \"59.0\", \"59.0\", \"59.0\", \"59.0\", \"59.0\", \"59.0\", \"59.0\", \"59.0\", \"59.0\", \"59.0\", \"59.0\", \"59.0\", \"59.0\", \"59.0\", \"59.0\", \"59.0\", \"59.0\", \"59.0\", \"59.75\", \"60.25\", \"59.25\", \"52.5\", \"52.25\", \"59.25\", \"60.75\"], \"x\": [\"2016-04-23T21:44:00.000Z\", \"2016-04-23T21:45:00.000Z\", \"2016-04-23T21:46:00.000Z\", \"2016-04-23T21:47:00.000Z\", \"2016-04-23T21:48:00.000Z\", \"2016-04-23T21:49:00.000Z\", \"2016-04-23T21:50:00.000Z\", \"2016-04-23T21:51:00.000Z\", \"2016-04-23T21:52:00.000Z\", \"2016-04-23T21:53:00.000Z\", \"2016-04-23T21:54:00.000Z\", \"2016-04-23T21:55:00.000Z\", \"2016-04-23T21:56:00.000Z\", \"2016-04-23T21:57:00.000Z\", \"2016-04-23T21:58:00.000Z\", \"2016-04-23T21:59:00.000Z\", \"2016-04-23T22:00:00.000Z\", \"2016-04-23T22:01:00.000Z\", \"2016-04-23T22:02:00.000Z\", \"2016-04-23T22:03:00.000Z\", \"2016-04-23T22:04:00.000Z\", \"2016-04-23T22:05:00.000Z\", \"2016-04-23T22:06:00.000Z\", \"2016-04-23T22:07:00.000Z\", \"2016-04-23T22:08:00.000Z\", \"2016-04-23T22:09:00.000Z\", \"2016-04-23T22:10:00.000Z\", \"2016-04-23T22:11:00.000Z\", \"2016-04-23T22:12:00.000Z\", \"2016-04-23T22:13:00.000Z\", \"2016-04-23T22:14:00.000Z\", \"2016-04-23T22:15:00.000Z\", \"2016-04-23T22:16:00.000Z\", \"2016-04-23T22:17:00.000Z\", \"2016-04-23T22:18:00.000Z\", \"2016-04-23T22:19:00.000Z\", \"2016-04-23T22:20:00.000Z\", \"2016-04-23T22:21:00.000Z\", \"2016-04-23T22:22:00.000Z\", \"2016-04-23T22:23:00.000Z\", \"2016-04-23T22:24:00.000Z\", \"2016-04-23T22:25:00.000Z\", \"2016-04-23T22:26:00.000Z\", \"2016-04-23T22:27:00.000Z\", \"2016-04-23T22:28:00.000Z\", \"2016-04-23T22:29:00.000Z\", \"2016-04-23T22:30:00.000Z\", \"2016-04-23T22:31:00.000Z\", \"2016-04-23T22:32:00.000Z\", \"2016-04-23T22:33:00.000Z\", \"2016-04-23T22:34:00.000Z\", \"2016-04-23T22:35:00.000Z\", \"2016-04-23T22:36:00.000Z\", \"2016-04-23T22:37:00.000Z\", \"2016-04-23T22:38:00.000Z\", \"2016-04-23T22:39:00.000Z\", \"2016-04-23T22:40:00.000Z\", \"2016-04-23T22:41:00.000Z\", \"2016-04-23T22:42:00.000Z\", \"2016-04-23T22:43:00.000Z\"], \"line\": {\"color\": \"rgba(142, 186, 66, 1.0)\", \"width\": 1.3, \"dash\": \"solid\"}, \"type\": \"scatter\", \"fill\": \"tozeroy\"}], {\"title\": \"Statistics\", \"paper_bgcolor\": \"#FFFFFF\", \"plot_bgcolor\": \"#E5E5E5\", \"xaxis1\": {\"tickfont\": {\"color\": \"#666666\"}, \"title\": \"Date\", \"showgrid\": true, \"zerolinecolor\": \"#F6F6F6\", \"gridcolor\": \"#F6F6F6\", \"titlefont\": {\"color\": \"#666666\"}}, \"height\": 587, \"yaxis1\": {\"tickfont\": {\"color\": \"#666666\"}, \"title\": \"Value\", \"showgrid\": true, \"zerolinecolor\": \"#F6F6F6\", \"gridcolor\": \"#F6F6F6\", \"titlefont\": {\"color\": \"#666666\"}}, \"width\": 1116, \"titlefont\": {\"color\": \"#151516\"}, \"legend\": {\"bgcolor\": \"#FFFFFF\", \"font\": {\"color\": \"#666666\"}}}, {\"linkText\": \"Export to plot.ly\", \"showLink\": true})</script>"
      ],
      "text/plain": [
       "<IPython.core.display.HTML object>"
      ]
     },
     "metadata": {},
     "output_type": "display_data"
    }
   ],
   "source": [
    "metrics = get_metrics(names=['kafka.consumer_lag'])\n",
    "statistics = get_statistics(metrics, ['avg'], 3600)\n",
    "df = df_from_statistics(statistics, group_by=['consumer_group'])\n",
    "df.iplot(kind='line', fill=True, xTitle='Date', yTitle='Value', title='Statistics')"
   ]
  },
  {
   "cell_type": "markdown",
   "metadata": {
    "slideshow": {
     "slide_type": "subslide"
    }
   },
   "source": [
    "# Display a boxplot using Plotly"
   ]
  },
  {
   "cell_type": "code",
   "execution_count": 132,
   "metadata": {
    "collapsed": false,
    "slideshow": {
     "slide_type": "-"
    }
   },
   "outputs": [
    {
     "data": {
      "text/html": [
       "<div id=\"f5af1328-27cf-4954-9265-3c3d37048d6d\" style=\"height: 587; width: 1116px;\" class=\"plotly-graph-div\"></div><script type=\"text/javascript\">window.PLOTLYENV=window.PLOTLYENV || {};window.PLOTLYENV.BASE_URL=\"https://plot.ly\";Plotly.newPlot(\"f5af1328-27cf-4954-9265-3c3d37048d6d\", [{\"name\": \"kafka.consumer_lag.monasca-transform-aggregate-transformer\", \"marker\": {\"color\": \"rgba(226, 74, 51, 1.0)\"}, \"y\": [\"40.0\", \"40.0\", \"40.0\", \"40.0\", \"40.0\", \"40.0\", \"40.0\", \"40.0\", \"40.0\", \"40.0\", \"40.0\", \"40.0\", \"40.0\", \"40.0\", \"40.0\", \"40.0\", \"40.0\", \"40.0\", \"40.0\", \"40.0\", \"40.0\", \"40.0\", \"40.0\", \"40.0\", \"40.0\", \"40.0\", \"40.0\", \"40.0\", \"40.0\", \"40.0\", \"40.0\", \"40.0\", \"40.0\", \"40.0\", \"40.0\", \"40.0\", \"40.0\", \"40.0\", \"40.0\", \"40.0\", \"40.0\", \"40.0\", \"40.0\", \"40.0\", \"40.0\", \"40.0\", \"40.0\", \"40.0\", \"40.0\", \"40.0\", \"40.0\", \"40.0\", \"40.0\", \"40.0\", \"40.0\", \"40.0\", \"40.0\", \"40.0\", \"40.0\", \"40.0\"], \"line\": {\"width\": 1.3}, \"type\": \"box\", \"boxpoints\": false}, {\"name\": \"kafka.consumer_lag.thresh-metric\", \"marker\": {\"color\": \"rgba(62, 111, 176, 1.0)\"}, \"y\": [\"101.5\", \"101.5\", \"101.5\", \"101.5\", \"101.5\", \"101.5\", \"101.5\", \"101.5\", \"101.5\", \"101.5\", \"101.5\", \"101.5\", \"101.5\", \"101.5\", \"101.5\", \"95.2\", \"134.5\", \"101.5\", \"101.5\", \"101.5\", \"101.5\", \"101.5\", \"101.5\", \"101.5\", \"101.5\", \"101.5\", \"101.5\", \"101.5\", \"101.5\", \"101.5\", \"101.5\", \"101.5\", \"101.5\", \"101.5\", \"101.5\", \"101.5\", \"101.5\", \"101.5\", \"101.5\", \"101.5\", \"101.5\", \"101.5\", \"101.5\", \"101.5\", \"101.5\", \"101.5\", \"101.5\", \"101.5\", \"101.5\", \"101.5\", \"101.5\", \"101.5\", \"101.5\", \"102.5\", \"103.0\", \"102.25\", \"101.75\", \"104.25\", \"101.5\", \"103.5\"], \"line\": {\"width\": 1.3}, \"type\": \"box\", \"boxpoints\": false}, {\"name\": \"kafka.consumer_lag.monasca-transform-identity-transformer\", \"marker\": {\"color\": \"rgba(132, 118, 202, 1.0)\"}, \"y\": [\"1113053.5\", \"1113323.5\", \"1113593.5\", \"1113863.5\", \"1114133.5\", \"1114403.5\", \"1114673.5\", \"1114943.5\", \"1115213.5\", \"1115483.5\", \"1115753.5\", \"1116023.5\", \"1116293.5\", \"1116563.5\", \"1116833.5\", \"1117097.2\", \"1117406.5\", \"1117709.5\", \"1117979.5\", \"1118249.5\", \"1118519.5\", \"1118789.5\", \"1119059.5\", \"1119329.5\", \"1119599.5\", \"1119869.5\", \"1120139.5\", \"1120409.5\", \"1120679.5\", \"1120949.5\", \"1121219.5\", \"1121489.5\", \"1121759.5\", \"1122029.5\", \"1122299.5\", \"1122569.5\", \"1122839.5\", \"1123109.5\", \"1123379.5\", \"1123649.5\", \"1123919.5\", \"1124189.5\", \"1124459.5\", \"1124729.5\", \"1124999.5\", \"1125269.5\", \"1125539.5\", \"1125809.5\", \"1126079.5\", \"1126349.5\", \"1126619.5\", \"1126889.5\", \"1127159.5\", \"1127430.5\", \"1127704.0\", \"1127976.25\", \"1128251.75\", \"1128525.25\", \"1128796.5\", \"1129073.5\"], \"line\": {\"width\": 1.3}, \"type\": \"box\", \"boxpoints\": false}, {\"name\": \"kafka.consumer_lag.monasca-notification\", \"marker\": {\"color\": \"rgba(101, 101, 101, 1.0)\"}, \"y\": [\"0.0\", \"0.0\", \"0.0\", \"0.0\", \"0.0\", \"0.0\", \"0.0\", \"0.0\", \"0.0\", \"0.0\", \"0.0\", \"0.0\", \"0.0\", \"0.0\", \"0.0\", \"0.0\", \"0.0\", \"0.0\", \"0.0\", \"0.0\", \"0.0\", \"0.0\", \"0.0\", \"0.0\", \"0.0\", \"0.0\", \"0.0\", \"0.0\", \"0.0\", \"0.0\", \"0.0\", \"0.0\", \"0.0\", \"0.0\", \"0.0\", \"0.0\", \"0.0\", \"0.0\", \"0.0\", \"0.0\", \"0.0\", \"0.0\", \"0.0\", \"0.0\", \"0.0\", \"0.0\", \"0.0\", \"0.0\", \"0.0\", \"0.0\", \"0.0\", \"0.0\", \"0.0\", \"0.0\", \"0.0\", \"0.0\", \"0.0\", \"0.0\", \"0.0\", \"0.0\"], \"line\": {\"width\": 1.3}, \"type\": \"box\", \"boxpoints\": false}, {\"name\": \"kafka.consumer_lag.1_alarm-state-transitions\", \"marker\": {\"color\": \"rgba(251, 193, 94, 1.0)\"}, \"y\": [\"0.0\", \"0.0\", \"0.0\", \"0.0\", \"0.0\", \"0.0\", \"0.0\", \"0.0\", \"0.0\", \"0.0\", \"0.0\", \"0.0\", \"0.0\", \"0.0\", \"0.0\", \"0.0\", \"0.0\", \"0.0\", \"0.0\", \"0.0\", \"0.0\", \"0.0\", \"0.0\", \"0.0\", \"0.0\", \"0.0\", \"0.0\", \"0.0\", \"0.0\", \"0.0\", \"0.0\", \"0.0\", \"0.0\", \"0.0\", \"0.0\", \"0.0\", \"0.0\", \"0.0\", \"0.0\", \"0.0\", \"0.0\", \"0.0\", \"0.0\", \"0.0\", \"0.0\", \"0.0\", \"0.0\", \"0.0\", \"0.0\", \"0.0\", \"0.0\", \"0.0\", \"0.0\", \"0.0\", \"0.0\", \"0.0\", \"0.0\", \"0.0\", \"0.0\", \"0.0\"], \"line\": {\"width\": 1.3}, \"type\": \"box\", \"boxpoints\": false}, {\"name\": \"kafka.consumer_lag.1_metrics\", \"marker\": {\"color\": \"rgba(142, 186, 66, 1.0)\"}, \"y\": [\"43.0\", \"43.0\", \"27.0\", \"1.0\", \"0.5\", \"0.0\", \"67.5\", \"51.0\", \"43.0\", \"43.0\", \"43.0\", \"43.0\", \"43.0\", \"51.0\", \"59.0\", \"47.6\", \"34.0\", \"1.0\", \"0.5\", \"16.5\", \"67.5\", \"51.0\", \"43.0\", \"43.0\", \"27.0\", \"1.0\", \"0.5\", \"1.75\", \"67.5\", \"51.0\", \"43.0\", \"43.0\", \"43.0\", \"43.0\", \"51.0\", \"59.0\", \"59.0\", \"59.0\", \"59.0\", \"59.0\", \"59.0\", \"59.0\", \"59.0\", \"59.0\", \"59.0\", \"59.0\", \"59.0\", \"59.0\", \"59.0\", \"59.0\", \"59.0\", \"59.0\", \"59.0\", \"59.75\", \"60.25\", \"59.25\", \"52.5\", \"52.25\", \"59.25\", \"60.75\"], \"line\": {\"width\": 1.3}, \"type\": \"box\", \"boxpoints\": false}], {\"width\": 1116, \"paper_bgcolor\": \"#FFFFFF\", \"plot_bgcolor\": \"#E5E5E5\", \"xaxis1\": {\"tickfont\": {\"color\": \"#666666\"}, \"title\": \"\", \"showgrid\": true, \"zerolinecolor\": \"#F6F6F6\", \"gridcolor\": \"#F6F6F6\", \"titlefont\": {\"color\": \"#666666\"}}, \"height\": 587, \"yaxis1\": {\"tickfont\": {\"color\": \"#666666\"}, \"title\": \"\", \"showgrid\": true, \"zerolinecolor\": \"#F6F6F6\", \"gridcolor\": \"#F6F6F6\", \"titlefont\": {\"color\": \"#666666\"}}, \"titlefont\": {\"color\": \"#151516\"}, \"legend\": {\"bgcolor\": \"#FFFFFF\", \"font\": {\"color\": \"#666666\"}}}, {\"linkText\": \"Export to plot.ly\", \"showLink\": true})</script>"
      ],
      "text/plain": [
       "<IPython.core.display.HTML object>"
      ]
     },
     "metadata": {},
     "output_type": "display_data"
    }
   ],
   "source": [
    "df.iplot(kind='box')"
   ]
  },
  {
   "cell_type": "markdown",
   "metadata": {
    "slideshow": {
     "slide_type": "subslide"
    }
   },
   "source": [
    "# Example detection yaml configuration"
   ]
  },
  {
   "cell_type": "code",
   "execution_count": 133,
   "metadata": {
    "collapsed": false,
    "slideshow": {
     "slide_type": "-"
    }
   },
   "outputs": [
    {
     "name": "stdout",
     "output_type": "stream",
     "text": [
      "init_config: null\n",
      "instances:\n",
      "- built_by: Kafka\n",
      "  consumer_groups:\n",
      "    1_alarm-state-transitions:\n",
      "      alarm-state-transitions: []\n",
      "    1_metrics:\n",
      "      metrics: []\n",
      "    monasca-notification:\n",
      "      alarm-state-transitions: []\n",
      "      retry-notifications: []\n",
      "    monasca-transform-aggregate-transformer:\n",
      "      window-0: []\n",
      "      window-1: []\n",
      "      window-2: []\n",
      "      window-3: []\n",
      "    monasca-transform-identity-transformer:\n",
      "      metrics: []\n",
      "    thresh-event:\n",
      "      events: []\n",
      "    thresh-metric:\n",
      "      metrics: []\n",
      "  kafka_connect_str: 192.168.10.6:9092\n",
      "  name: 192.168.10.6:9092\n",
      "  per_partition: false\n",
      "\n"
     ]
    }
   ],
   "source": [
    "monasca_agent_detection_conf_example = shell.run([\"sudo\", \"cat\", \"/etc/monasca/agent/conf.d/kafka_consumer.yaml\"])\n",
    "print monasca_agent_detection_conf_example.output"
   ]
  },
  {
   "cell_type": "markdown",
   "metadata": {
    "slideshow": {
     "slide_type": "slide"
    }
   },
   "source": [
    "# Developing and Testing\n",
    "---"
   ]
  },
  {
   "cell_type": "markdown",
   "metadata": {
    "slideshow": {
     "slide_type": "fragment"
    }
   },
   "source": [
    "* Python and Java codebase"
   ]
  },
  {
   "cell_type": "markdown",
   "metadata": {
    "slideshow": {
     "slide_type": "fragment"
    }
   },
   "source": [
    "* Monasca DevStack Plugin"
   ]
  },
  {
   "cell_type": "markdown",
   "metadata": {
    "slideshow": {
     "slide_type": "fragment"
    }
   },
   "source": [
    "* Unit Tests"
   ]
  },
  {
   "cell_type": "markdown",
   "metadata": {
    "slideshow": {
     "slide_type": "fragment"
    }
   },
   "source": [
    "* Monasca Tempest Tests"
   ]
  },
  {
   "cell_type": "markdown",
   "metadata": {
    "slideshow": {
     "slide_type": "fragment"
    }
   },
   "source": [
    "* Monasca and OpenStack CI"
   ]
  },
  {
   "cell_type": "markdown",
   "metadata": {
    "slideshow": {
     "slide_type": "subslide"
    }
   },
   "source": [
    "# Monasca Repos\n",
    "---\n",
    "* Monasca is a micro-services message bus based architecture.\n",
    "* Several repos:\n",
    "    * monasca-api: both Python and Java  \n",
    "    * monasca-persister: both Python and Java\n",
    "    * monasca-thresh: Java\n",
    "    * monasca-notification: Python\n",
    "    * monasca-common: both Python and Java\n",
    "    * monasca-agent: Python\n",
    "    * monasca-statsd: Python\n",
    "    * monasca-ui: Python\n",
    "    * python-monascaclient: Python\n",
    "    * puppet-monasca: Puppet\n",
    "    * monasca-log-api"
   ]
  },
  {
   "cell_type": "markdown",
   "metadata": {
    "slideshow": {
     "slide_type": "subslide"
    }
   },
   "source": [
    "# Monasca DevStack Plugin\n",
    "---"
   ]
  },
  {
   "cell_type": "markdown",
   "metadata": {
    "slideshow": {
     "slide_type": "-"
    }
   },
   "source": [
    "* DevStack is the primary developmement environment for OpenStack.\n",
    "\n",
    "    * See http://docs.openstack.org/developer/devstack/\n",
    "\n",
    "* The Monasca DevStack plugin installs the Monasca Service, Agent, Horizon Panel, and Grafana\n",
    "\n",
    "* README at, https://github.com/openstack/monasca-api/tree/master/devstack\n",
    "\n",
    "* Best way to get started is to install Vagrant using the Vagrantfile at, https://github.com/openstack/monasca-api/blob/master/devstack/Vagrantfile."
   ]
  },
  {
   "cell_type": "markdown",
   "metadata": {
    "slideshow": {
     "slide_type": "subslide"
    }
   },
   "source": [
    "# Monasca Tempest Tests\n",
    "---"
   ]
  },
  {
   "cell_type": "markdown",
   "metadata": {
    "slideshow": {
     "slide_type": "-"
    }
   },
   "source": [
    "* [Tempest](http://docs.openstack.org/developer/tempest) is the integration test suite for OpenStack.\n",
    "\n",
    "* Tempest has an external [Test Plugin Interface](http://docs.openstack.org/developer/tempest/plugin.html) interface that enables anyone to integrate an external test suite.\n",
    "\n",
    "* There is a [Monasca Tempest Plugin](https://github.com/openstack/monasca-api/tree/master/monasca_tempest_tests)\n",
    "\n",
    "* Currently, there are around 150 Tempest Tests written for Monasca that run in around 5 minutes."
   ]
  },
  {
   "cell_type": "markdown",
   "metadata": {
    "slideshow": {
     "slide_type": "subslide"
    }
   },
   "source": [
    "# Monasca and OpenStack CI\n",
    "---"
   ]
  },
  {
   "cell_type": "markdown",
   "metadata": {
    "slideshow": {
     "slide_type": "-"
    }
   },
   "source": [
    "* Monasca is fully integrated in the OpenStack CI system.\n",
    "\n",
    "* Gated jobs are run with each commit on both the Python and Java components through the normal gates and all the Monasca Tempest tests using the Monasca DevStack Plugin.\n",
    "\n",
    "* Currently, Java is non-voting"
   ]
  },
  {
   "cell_type": "markdown",
   "metadata": {
    "slideshow": {
     "slide_type": "subslide"
    }
   },
   "source": [
    "# Monasca Weekly Meetings\n",
    "---\n",
    "Weekly on Wednesday at 1500 UTC in #openstack-meeting-3 (IRC webclient)"
   ]
  },
  {
   "cell_type": "markdown",
   "metadata": {
    "slideshow": {
     "slide_type": "slide"
    }
   },
   "source": [
    "# What's new?\n",
    "---\n",
    "* Many enhancements for filtering and sorting resources that return arrays.\n",
    "\n",
    "* Multiple metrics (in progress): Allow multiple metrics to be returned in a single request.\n",
    "\n",
    "* Sporadic metrics (in progress): Supports event based metrics. Metrics that occur infrequently or when events occur.\n",
    "\n",
    "* Periodic notifications (in progress): Send notifications more than once. Better support for Heat auto-scaling."
   ]
  },
  {
   "cell_type": "markdown",
   "metadata": {
    "slideshow": {
     "slide_type": "slide"
    }
   },
   "source": [
    "# Next Steps\n",
    "---\n",
    "\n",
    "* monasca-transform: A transform and aggregation micro-service for Monasca.\n",
    "\n",
    "    * blueprint: https://blueprints.launchpad.net/monasca/+spec/monasca-transform\n",
    "    \n",
    "    * repo: https://github.com/openstack/monasca-transform\n",
    "\n",
    "* monasca-analytics: An experimental micro-service for Monasca that does anomaly detection and alarm clustering/correlation.\n",
    "\n",
    "* monasca-events"
   ]
  },
  {
   "cell_type": "markdown",
   "metadata": {
    "slideshow": {
     "slide_type": "slide"
    }
   },
   "source": [
    "# Acknowledgments\n",
    "---"
   ]
  },
  {
   "cell_type": "markdown",
   "metadata": {
    "slideshow": {
     "slide_type": "fragment"
    }
   },
   "source": [
    "* The OpenStack Technical Committee: Doug Hellman, Flavio Percoco, Thierry Carrez"
   ]
  },
  {
   "cell_type": "markdown",
   "metadata": {
    "slideshow": {
     "slide_type": "fragment"
    }
   },
   "source": [
    "* Hewlett Packard Enterprise"
   ]
  },
  {
   "cell_type": "markdown",
   "metadata": {
    "slideshow": {
     "slide_type": "fragment"
    }
   },
   "source": [
    "* Time Warner Cable"
   ]
  },
  {
   "cell_type": "markdown",
   "metadata": {
    "slideshow": {
     "slide_type": "fragment"
    }
   },
   "source": [
    "* Fujitsu"
   ]
  },
  {
   "cell_type": "markdown",
   "metadata": {
    "slideshow": {
     "slide_type": "fragment"
    }
   },
   "source": [
    "* Cisco"
   ]
  },
  {
   "cell_type": "markdown",
   "metadata": {
    "slideshow": {
     "slide_type": "fragment"
    }
   },
   "source": [
    "* NEC"
   ]
  },
  {
   "cell_type": "markdown",
   "metadata": {
    "slideshow": {
     "slide_type": "fragment"
    }
   },
   "source": [
    "* Cray"
   ]
  },
  {
   "cell_type": "markdown",
   "metadata": {
    "slideshow": {
     "slide_type": "fragment"
    }
   },
   "source": [
    "* SAP"
   ]
  },
  {
   "cell_type": "markdown",
   "metadata": {
    "slideshow": {
     "slide_type": "slide"
    }
   },
   "source": [
    "# Resources\n",
    "---\n",
    "\n",
    "## Cufflinks\n",
    "* https://plot.ly/ipython-notebooks/cufflinks/\n",
    "* http://web.quant-platform.com/trial/yves/Plotly_Cufflinks.html\n",
    "\n",
    "## ipython Slideshow/RISE\n",
    "* https://github.com/damianavila/RISE\n",
    "* http://www.slideviper.oquanta.info/tutorial/slideshow_tutorial_slides.html#/3\n",
    "* http://www.damian.oquanta.info/posts/make-your-slides-with-ipython.html\n",
    "* https://github.com/damianavila/slideviper_test/blob/gh-pages/tutorial/slideshow_tutorial.ipynb\n",
    "* http://lab.hakim.se/reveal-js/#/themes"
   ]
  },
  {
   "cell_type": "markdown",
   "metadata": {
    "slideshow": {
     "slide_type": "slide"
    }
   },
   "source": [
    "# Thank you\n",
    "![Thank you](austin-thank-you.png)"
   ]
  },
  {
   "cell_type": "code",
   "execution_count": null,
   "metadata": {
    "collapsed": true
   },
   "outputs": [],
   "source": []
  }
 ],
 "metadata": {
  "celltoolbar": "Slideshow",
  "kernelspec": {
   "display_name": "Python 2",
   "language": "python",
   "name": "python2"
  },
  "language_info": {
   "codemirror_mode": {
    "name": "ipython",
    "version": 2
   },
   "file_extension": ".py",
   "mimetype": "text/x-python",
   "name": "python",
   "nbconvert_exporter": "python",
   "pygments_lexer": "ipython2",
   "version": "2.7.11"
  }
 },
 "nbformat": 4,
 "nbformat_minor": 0
}
