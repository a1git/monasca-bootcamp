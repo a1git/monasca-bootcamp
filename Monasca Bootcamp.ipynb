{
 "cells": [
  {
   "cell_type": "markdown",
   "metadata": {
    "slideshow": {
     "slide_type": "slide"
    }
   },
   "source": [
    "\n",
    "# Monasca Bootcamp\n",
    "## Hands on Lab\n",
    "---\n",
    "### [Roland Hochmuth](https://www.linkedin.com/in/rolandhochmuth)\n",
    "email: <roland.hochmuth@hpe.com>\n",
    "### [Michael Hoppal](https://www.linkedin.com/in/hoppalmichael)\n",
    "email: <michael.jam.hoppal@hpe.com>"
   ]
  },
  {
   "cell_type": "markdown",
   "metadata": {
    "slideshow": {
     "slide_type": "slide"
    }
   },
   "source": [
    "# Agenda\n",
    "---\n",
    "* Overview\n",
    "* Architecture\n",
    "* Deployment\n",
    "* API, CLI (python-monascaclient) and client\n",
    "* Agent\n",
    "* Developing\n",
    "* Current status\n",
    "* What next?\n"
   ]
  },
  {
   "cell_type": "markdown",
   "metadata": {
    "slideshow": {
     "slide_type": "slide"
    }
   },
   "source": [
    "# Architecture\n",
    "---"
   ]
  },
  {
   "cell_type": "markdown",
   "metadata": {
    "slideshow": {
     "slide_type": "subslide"
    }
   },
   "source": [
    "# Horizon\n",
    "---"
   ]
  },
  {
   "cell_type": "markdown",
   "metadata": {
    "slideshow": {
     "slide_type": "subslide"
    }
   },
   "source": [
    "# Grafana 2\n",
    "---"
   ]
  },
  {
   "cell_type": "markdown",
   "metadata": {
    "slideshow": {
     "slide_type": "subslide"
    }
   },
   "source": [
    "# Logging-as-a-Service\n",
    "---"
   ]
  },
  {
   "cell_type": "markdown",
   "metadata": {},
   "source": [
    "# Integration with other OpenStack projects\n",
    "---\n",
    "* Ceilometer\n",
    "* Heat\n",
    "* Congress\n",
    "* Vitrage\n",
    "* Broadview\n",
    "* Neutron\n",
    "* Rally"
   ]
  },
  {
   "cell_type": "markdown",
   "metadata": {},
   "source": [
    "# Other Monasca activities at the Austin OpenStack Summit\n",
    "---"
   ]
  },
  {
   "cell_type": "markdown",
   "metadata": {
    "slideshow": {
     "slide_type": "slide"
    }
   },
   "source": [
    "# Deployment\n",
    "---"
   ]
  },
  {
   "cell_type": "markdown",
   "metadata": {
    "slideshow": {
     "slide_type": "slide"
    }
   },
   "source": [
    "# Import libraries\n",
    "---"
   ]
  },
  {
   "cell_type": "code",
   "execution_count": null,
   "metadata": {
    "collapsed": false,
    "slideshow": {
     "slide_type": "-"
    }
   },
   "outputs": [],
   "source": [
    "import datetime\n",
    "import time\n",
    "\n",
    "# Import libraries use for visualization and analysis\n",
    "import pandas as pd\n",
    "import numpy as np\n",
    "from plotly.offline import download_plotlyjs, init_notebook_mode, iplot\n",
    "from plotly.graph_objs import *\n",
    "import cufflinks as cf\n",
    "\n",
    "# Import the Monasca and Keystone client\n",
    "from monascaclient import client\n",
    "from monascaclient import ksclient\n",
    "\n",
    "# Import library to execute remote commands for monasca-agent demo\n",
    "import spur"
   ]
  },
  {
   "cell_type": "markdown",
   "metadata": {
    "slideshow": {
     "slide_type": "slide"
    }
   },
   "source": [
    "# Initialize the Keystone and Monasca Client\n",
    "---"
   ]
  },
  {
   "cell_type": "code",
   "execution_count": null,
   "metadata": {
    "collapsed": true,
    "slideshow": {
     "slide_type": "-"
    }
   },
   "outputs": [],
   "source": [
    "KEYSTONE_URL = 'http://192.168.10.6:5000/v3'\n",
    "PROJECT_NAME = 'mini-mon'\n",
    "USERNAME = 'mini-mon'\n",
    "PASSWORD = 'password'"
   ]
  },
  {
   "cell_type": "code",
   "execution_count": null,
   "metadata": {
    "collapsed": false,
    "slideshow": {
     "slide_type": "-"
    }
   },
   "outputs": [],
   "source": [
    "# Authenticate to Keystone\n",
    "keystone_client = ksclient.KSClient(auth_url=KEYSTONE_URL, username=USERNAME, password=PASSWORD)\n",
    "\n",
    "# Create the Monasca client\n",
    "monasca_client = client.Client('2_0', keystone_client.monasca_url, token=keystone_client.token)\n",
    "\n",
    "# Initialize environment variables to use the Monasca CLI\n",
    "%env OS_PROJECT_NAME=$PROJECT_NAME\n",
    "%env OS_PASSWORD=$PASSWORD\n",
    "%env OS_AUTH_URL=$KEYSTONE_URL\n",
    "%env OS_USERNAME=$USERNAME\n",
    "\n",
    "# If you are doing development on your local system and running from there then set the URL to the Monasca API\n",
    "# to override the one returned from Keystone\n",
    "# %env MONASCA_API_URL=http://127.0.0.1:8070/v2.0"
   ]
  },
  {
   "cell_type": "markdown",
   "metadata": {
    "slideshow": {
     "slide_type": "slide"
    }
   },
   "source": [
    "# Initialize Plotly\n",
    "---\n",
    "\n",
    "We'll be using Plotly for displaying some graphs later on in this notebook."
   ]
  },
  {
   "cell_type": "code",
   "execution_count": null,
   "metadata": {
    "collapsed": false,
    "slideshow": {
     "slide_type": "-"
    }
   },
   "outputs": [],
   "source": [
    "WIDTH = 640\n",
    "HEIGHT = 768\n",
    "\n",
    "cf.offline.go_offline()\n",
    "\n",
    "layout = Layout(\n",
    "    autosize=False,\n",
    "    width=WIDTH,\n",
    "    height=HEIGHT,\n",
    "    margin=Margin(\n",
    "        l=50,\n",
    "        r=50,\n",
    "        b=100,\n",
    "        t=100,\n",
    "        pad=4\n",
    "    ))"
   ]
  },
  {
   "cell_type": "markdown",
   "metadata": {
    "slideshow": {
     "slide_type": "slide"
    }
   },
   "source": [
    "# Using the API\n",
    "---\n",
    "\n",
    "The Monasca API Specification has the following resources:\n",
    "\n",
    "* Versions\n",
    "\n",
    "* Metrics\n",
    "\n",
    "* Metrics Measurements\n",
    "\n",
    "* Metrics Statistics\n",
    "\n",
    "* Metrics Names\n",
    "\n",
    "* Notification Methods\n",
    "\n",
    "* Alarm Definitions\n",
    "\n",
    "* Alarms\n",
    "\n",
    "* Alarms State History"
   ]
  },
  {
   "cell_type": "markdown",
   "metadata": {
    "slideshow": {
     "slide_type": "slide"
    }
   },
   "source": [
    "# Common concepts"
   ]
  },
  {
   "cell_type": "markdown",
   "metadata": {
    "slideshow": {
     "slide_type": "subslide"
    }
   },
   "source": [
    "# Dimensions\n",
    "---\n",
    "\n",
    "* A dictionary of (key, value) pairs that are used to uniquely identify a metric.\n",
    "\n",
    "* Used to slice and dice metrics when querying.\n",
    "\n",
    "* Examples: hostname, service, component, region zone, resource_id, ..."
   ]
  },
  {
   "cell_type": "markdown",
   "metadata": {
    "slideshow": {
     "slide_type": "subslide"
    }
   },
   "source": [
    "# Roles\n",
    "---\n",
    "\n",
    "There are three roles in Monasca:\n",
    "\n",
    "1. user: Allows the client access to all CRUD operations on the API.\n",
    "\n",
    "2. agent: Can only POST metrics to the API.\n",
    "\n",
    "3. delegate: Allows the user to POST or query metrics."
   ]
  },
  {
   "cell_type": "markdown",
   "metadata": {
    "slideshow": {
     "slide_type": "subslide"
    }
   },
   "source": [
    "# Pagination\n",
    "---"
   ]
  },
  {
   "cell_type": "markdown",
   "metadata": {
    "slideshow": {
     "slide_type": "slide"
    }
   },
   "source": [
    "# Metrics\n",
    "---\n",
    "\n",
    "* name (string(255), required) - The name of the metric.\n",
    "\n",
    "* dimensions ({string(255): string(255)}, optional) - A dictionary consisting of (key, value) pairs used to uniquely identify a metric and slice and dice on.\n",
    "\n",
    "    * Examples: hostname, region, zone, service, component, process, ...\n",
    "\n",
    "* timestamp (string, required) - The timestamp in milliseconds from the Epoch.\n",
    "\n",
    "* value (float, required) - Value of the metric.\n",
    "\n",
    "* value_meta ({string(255): string(2048)}, optional) - A dictionary consisting of (key, value) pairs used to add information about the value.\n",
    "\n",
    "    * Examples: status_code, msg\n",
    "\n",
    "* tenant_id: Tenant ID to create metrics on behalf of.\n",
    "\n",
    "    * This parameter can be used to submit metrics from one tenant, to another.\n",
    "    * Requires the delegate role."
   ]
  },
  {
   "cell_type": "markdown",
   "metadata": {
    "slideshow": {
     "slide_type": "subslide"
    }
   },
   "source": [
    "# Create metrics\n",
    "---"
   ]
  },
  {
   "cell_type": "code",
   "execution_count": null,
   "metadata": {
    "collapsed": false,
    "slideshow": {
     "slide_type": "subslide"
    }
   },
   "outputs": [],
   "source": [
    "!monasca help metric-create"
   ]
  },
  {
   "cell_type": "markdown",
   "metadata": {
    "slideshow": {
     "slide_type": "subslide"
    }
   },
   "source": [
    "# POST /v2.0/metrics request body\n",
    "---\n",
    "\n",
    "```\n",
    "{\n",
    "\tname: http_status,\n",
    "\tdimensions: {\n",
    "\t\thostname: hostname.domain.com,\n",
    "\t\tregion: uswest,\n",
    "\t\tzone: 1,\n",
    "\t\tservice: compute\n",
    "\t}\n",
    "\ttimestamp: 0, /* milliseconds */\n",
    "\tvalue: 0.0,\n",
    "\tvalue_meta: {\n",
    "\t\tstatus_code: 500,\n",
    "\t\tmsg: Internal server error\n",
    "\t}\n",
    "}\n",
    "```"
   ]
  },
  {
   "cell_type": "markdown",
   "metadata": {
    "slideshow": {
     "slide_type": "subslide"
    }
   },
   "source": [
    "# List Metrics\n",
    "---"
   ]
  },
  {
   "cell_type": "code",
   "execution_count": null,
   "metadata": {
    "collapsed": false
   },
   "outputs": [],
   "source": [
    "!monasca help metric-list"
   ]
  },
  {
   "cell_type": "markdown",
   "metadata": {
    "slideshow": {
     "slide_type": "subslide"
    }
   },
   "source": [
    "# List metrics\n",
    "---"
   ]
  },
  {
   "cell_type": "code",
   "execution_count": null,
   "metadata": {
    "collapsed": false
   },
   "outputs": [],
   "source": [
    "!monasca metric-list --limit 5"
   ]
  },
  {
   "cell_type": "markdown",
   "metadata": {
    "slideshow": {
     "slide_type": "subslide"
    }
   },
   "source": [
    "# List metrics and filter on name, dimensions and starttime\n",
    "---"
   ]
  },
  {
   "cell_type": "code",
   "execution_count": null,
   "metadata": {
    "collapsed": false
   },
   "outputs": [],
   "source": [
    "!monasca metric-list --name cpu.user_perc --dimensions hostname=devstack --starttime -60 --limit 10\n"
   ]
  },
  {
   "cell_type": "markdown",
   "metadata": {
    "slideshow": {
     "slide_type": "subslide"
    }
   },
   "source": [
    "# Create a function to get metrics using the Monasca client\n",
    "---"
   ]
  },
  {
   "cell_type": "code",
   "execution_count": null,
   "metadata": {
    "collapsed": true
   },
   "outputs": [],
   "source": [
    "def get_metrics(names = [None], dimensions = None, limit=10):\n",
    "    metrics = []\n",
    "    for name in names:\n",
    "        kwargs = {}\n",
    "        if name is not None:\n",
    "            kwargs['name'] = name\n",
    "        if dimensions is not None:\n",
    "            kwargs['dimensions'] = dimensions\n",
    "        kwargs['limit'] = limit\n",
    "        \n",
    "        # Invoke the Monasca client\n",
    "        metrics = metrics + monasca_client.metrics.list(**kwargs)\n",
    "    return metrics"
   ]
  },
  {
   "cell_type": "markdown",
   "metadata": {
    "slideshow": {
     "slide_type": "slide"
    }
   },
   "source": [
    "# Metrics Measurements\n",
    "---"
   ]
  },
  {
   "cell_type": "markdown",
   "metadata": {
    "slideshow": {
     "slide_type": "subslide"
    }
   },
   "source": [
    "# Query measurements\n",
    "---"
   ]
  },
  {
   "cell_type": "code",
   "execution_count": null,
   "metadata": {
    "collapsed": false
   },
   "outputs": [],
   "source": [
    "!monasca help measurement-list"
   ]
  },
  {
   "cell_type": "markdown",
   "metadata": {
    "slideshow": {
     "slide_type": "subslide"
    }
   },
   "source": [
    "# Query measurement list\n",
    "---"
   ]
  },
  {
   "cell_type": "code",
   "execution_count": null,
   "metadata": {
    "collapsed": false,
    "slideshow": {
     "slide_type": "-"
    }
   },
   "outputs": [],
   "source": [
    "!monasca measurement-list --dimensions hostname=devstack --limit 5 cpu.user_perc -120"
   ]
  },
  {
   "cell_type": "markdown",
   "metadata": {
    "slideshow": {
     "slide_type": "subslide"
    }
   },
   "source": [
    "# Create a function to get measurements using the Monasca Client\n",
    "---"
   ]
  },
  {
   "cell_type": "code",
   "execution_count": null,
   "metadata": {
    "collapsed": true
   },
   "outputs": [],
   "source": [
    "def get_measurements(metrics, start_time = None, end_time = None, limit=None):\n",
    "    measurements = []\n",
    "    \n",
    "    if start_time == None:\n",
    "        start_date = datetime.datetime.utcnow() - datetime.timedelta(seconds=3600)\n",
    "        start_time = start_date.strftime(\"%Y-%m-%dT%H:%M:%SZ\")\n",
    "\n",
    "    if end_time == None:\n",
    "        end_date = datetime.datetime.utcnow() - datetime.timedelta(seconds=0)\n",
    "        end_time = end_date.strftime(\"%Y-%m-%dT%H:%M:%SZ\")\n",
    "        \n",
    "    for metric in metrics:\n",
    "        kwargs = {}\n",
    "        kwargs['name'] = metric['name']\n",
    "        kwargs['dimensions'] = metric['dimensions']\n",
    "        kwargs['start_time'] = start_time\n",
    "        kwargs['end_time'] = end_time\n",
    "        \n",
    "        # Invoke the Monasca client\n",
    "        measurements.append(monasca_client.metrics.list_measurements(**kwargs))\n",
    "        \n",
    "    return measurements"
   ]
  },
  {
   "cell_type": "code",
   "execution_count": null,
   "metadata": {
    "collapsed": false,
    "slideshow": {
     "slide_type": "subslide"
    }
   },
   "outputs": [],
   "source": [
    "metrics = get_metrics(['cpu.user_perc'])\n",
    "get_measurements(metrics)"
   ]
  },
  {
   "cell_type": "markdown",
   "metadata": {
    "slideshow": {
     "slide_type": "subslide"
    }
   },
   "source": [
    "# Create a function to translate measurements to a Pandas DataFrame\n",
    "---"
   ]
  },
  {
   "cell_type": "code",
   "execution_count": null,
   "metadata": {
    "collapsed": true,
    "slideshow": {
     "slide_type": "-"
    }
   },
   "outputs": [],
   "source": [
    "def df_from_measurements(measurements):\n",
    "    '''Returns a DataFrame given measurements'''\n",
    "    measurement = measurements[0][0]\n",
    "    m = np.array(measurement['measurements'])  \n",
    "    timestamps = m[:, measurement['columns'].index('timestamp')]\n",
    "    df = pd.DataFrame(index = timestamps)  \n",
    "    \n",
    "    for measurement in measurements:\n",
    "        measure = measurement[0]\n",
    "        m = np.array(measure['measurements'])\n",
    "        name = measure['name']\n",
    "        df[name] = m[:, measure['columns'].index('value')]     \n",
    "    return df"
   ]
  },
  {
   "cell_type": "markdown",
   "metadata": {
    "slideshow": {
     "slide_type": "subslide"
    }
   },
   "source": [
    "# Query measurements using the Monasca client\n",
    "---\n"
   ]
  },
  {
   "cell_type": "code",
   "execution_count": null,
   "metadata": {
    "collapsed": false
   },
   "outputs": [],
   "source": [
    "#metrics = get_metrics(names=['cpu.user_perc', 'cpu.system_perc'])\n",
    "metrics = get_metrics()\n",
    "measurements = get_measurements(metrics)"
   ]
  },
  {
   "cell_type": "markdown",
   "metadata": {
    "slideshow": {
     "slide_type": "subslide"
    }
   },
   "source": [
    "# Display measurements using Plotly\n",
    "---"
   ]
  },
  {
   "cell_type": "code",
   "execution_count": null,
   "metadata": {
    "collapsed": false,
    "scrolled": true
   },
   "outputs": [],
   "source": [
    "df = df_from_measurements(measurements)\n",
    "df.iplot(subplots=True, shape=(len(df.columns),1), shared_xaxes=True, fill=True)\n",
    "#df.iplot(kind='line', fill=True,\n",
    "#         xTitle='Date',\n",
    "#         yTitle='Value',\n",
    "#         title='Statistics',\n",
    "#         layout=layout)\n",
    "#df.scatter_matrix(world_readable=True)"
   ]
  },
  {
   "cell_type": "markdown",
   "metadata": {
    "slideshow": {
     "slide_type": "slide"
    }
   },
   "source": [
    "# Metrics Statistics\n",
    "---"
   ]
  },
  {
   "cell_type": "markdown",
   "metadata": {
    "slideshow": {
     "slide_type": "subslide"
    }
   },
   "source": [
    "# Get statistics\n",
    "---"
   ]
  },
  {
   "cell_type": "code",
   "execution_count": null,
   "metadata": {
    "collapsed": false
   },
   "outputs": [],
   "source": [
    "!monasca help metric-statistics"
   ]
  },
  {
   "cell_type": "markdown",
   "metadata": {
    "slideshow": {
     "slide_type": "subslide"
    }
   },
   "source": [
    "# Create a function to get statistics using the Monasca client\n",
    "---"
   ]
  },
  {
   "cell_type": "code",
   "execution_count": null,
   "metadata": {
    "collapsed": false
   },
   "outputs": [],
   "source": [
    "def get_statistics(metrics, statistics=['avg'], interval = 3600, start_time = None, end_time = None):\n",
    "    statistics_list = []\n",
    "    \n",
    "    period = interval / 512\n",
    "    \n",
    "    if period < 60:\n",
    "        period = 60\n",
    "        \n",
    "    period = period - period%60\n",
    "    \n",
    "    if start_time == None:\n",
    "        start_date = datetime.datetime.utcnow() - datetime.timedelta(seconds=interval)\n",
    "        start_time = start_date.strftime(\"%Y-%m-%dT%H:%M:%SZ\")\n",
    "\n",
    "    if end_time == None:\n",
    "        end_date = datetime.datetime.utcnow() - datetime.timedelta(seconds=0)\n",
    "        end_time = end_date.strftime(\"%Y-%m-%dT%H:%M:%SZ\")\n",
    "        \n",
    "    for metric in metrics:\n",
    "        kwargs = {}\n",
    "        kwargs['statistics'] = statistics\n",
    "        kwargs['period'] = period\n",
    "        kwargs['name'] = metric['name']\n",
    "        kwargs['dimensions'] = metric['dimensions']\n",
    "        kwargs['start_time'] = start_time\n",
    "        kwargs['end_time'] = end_time            \n",
    "        statistics_list.append(monasca_client.metrics.list_statistics(**kwargs))\n",
    "        \n",
    "    return statistics_list"
   ]
  },
  {
   "cell_type": "markdown",
   "metadata": {
    "slideshow": {
     "slide_type": "subslide"
    }
   },
   "source": [
    "# Create a function to translate statistics to a Pandas DataFrame\n",
    "---"
   ]
  },
  {
   "cell_type": "code",
   "execution_count": null,
   "metadata": {
    "collapsed": false
   },
   "outputs": [],
   "source": [
    "def df_from_statistics(statistics, fn = 'avg', group_by=[]):\n",
    "    '''Returns a DataFrame given statistics'''\n",
    "    stat = statistics[0][0]\n",
    "    m = np.array(stat['statistics'])  \n",
    "    timestamps = m[:, stat['columns'].index('timestamp')]\n",
    "    df = pd.DataFrame(index = timestamps)\n",
    "    \n",
    "    for statistic in statistics:\n",
    "        stat = statistic[0]\n",
    "        m = np.array(stat['statistics'])\n",
    "        name = stat['name']\n",
    "        dimensions = stat['dimensions']\n",
    "        \n",
    "        for group in group_by:\n",
    "            name = name + dimensions[group]\n",
    "            \n",
    "        df[name] = m[:, stat['columns'].index(fn)]\n",
    "    return df"
   ]
  },
  {
   "cell_type": "markdown",
   "metadata": {
    "slideshow": {
     "slide_type": "subslide"
    }
   },
   "source": [
    "# Query statistics using the Monasca client\n",
    "---"
   ]
  },
  {
   "cell_type": "code",
   "execution_count": null,
   "metadata": {
    "collapsed": false
   },
   "outputs": [],
   "source": [
    "#metrics = get_metrics(names=['cpu.user_perc', 'cpu.system_perc'])\n",
    "metrics = get_metrics()\n",
    "statistics = get_statistics(metrics, ['avg'], 3600)\n"
   ]
  },
  {
   "cell_type": "markdown",
   "metadata": {
    "slideshow": {
     "slide_type": "subslide"
    }
   },
   "source": [
    "# Display statistics using Plotly\n",
    "---"
   ]
  },
  {
   "cell_type": "code",
   "execution_count": null,
   "metadata": {
    "collapsed": false
   },
   "outputs": [],
   "source": [
    "metrics = get_metrics(names=['cpu.user_perc', 'cpu.system_perc'])\n",
    "metrics = get_metrics()\n",
    "statistics = get_statistics(metrics, ['avg'], 3600)\n",
    "df = df_from_statistics(statistics)\n",
    "#df.iplot(subplots=True, shape=(len(df.columns),1), shared_xaxes=True, fill=True,\n",
    "df.iplot(kind='line', fill=True,\n",
    "         xTitle='Date',\n",
    "         yTitle='Value',\n",
    "         title='Statistics',\n",
    "         layout=layout)\n",
    "# df.scatter_matrix(world_readable=True)"
   ]
  },
  {
   "cell_type": "code",
   "execution_count": null,
   "metadata": {
    "collapsed": false
   },
   "outputs": [],
   "source": [
    "df.iplot(kind='box', layout=layout)"
   ]
  },
  {
   "cell_type": "markdown",
   "metadata": {
    "slideshow": {
     "slide_type": "slide"
    }
   },
   "source": [
    "# Notification Methods\n",
    "---"
   ]
  },
  {
   "cell_type": "markdown",
   "metadata": {
    "slideshow": {
     "slide_type": "slide"
    }
   },
   "source": [
    "# Alarm Defintions\n",
    "---"
   ]
  },
  {
   "cell_type": "markdown",
   "metadata": {
    "slideshow": {
     "slide_type": "slide"
    }
   },
   "source": [
    "# Alarms\n",
    "---"
   ]
  },
  {
   "cell_type": "markdown",
   "metadata": {
    "slideshow": {
     "slide_type": "slide"
    }
   },
   "source": [
    "# Alarm History\n",
    "---"
   ]
  },
  {
   "cell_type": "markdown",
   "metadata": {
    "slideshow": {
     "slide_type": "subslide"
    }
   },
   "source": [
    "# Query the Alarm History\n",
    "---"
   ]
  },
  {
   "cell_type": "code",
   "execution_count": null,
   "metadata": {
    "collapsed": false,
    "slideshow": {
     "slide_type": "subslide"
    }
   },
   "outputs": [],
   "source": [
    "!monasca help alarm-history-list"
   ]
  },
  {
   "cell_type": "markdown",
   "metadata": {
    "slideshow": {
     "slide_type": "subslide"
    }
   },
   "source": [
    "# Query the alarm history using the Monasca client\n",
    "---"
   ]
  },
  {
   "cell_type": "code",
   "execution_count": null,
   "metadata": {
    "collapsed": false,
    "scrolled": true,
    "slideshow": {
     "slide_type": "subslide"
    }
   },
   "outputs": [],
   "source": [
    "monasca_client.alarms.history_list(**{})"
   ]
  },
  {
   "cell_type": "markdown",
   "metadata": {
    "slideshow": {
     "slide_type": "slide"
    }
   },
   "source": [
    "# Agent\n",
    "---\n",
    "* Push model\n",
    "* Agent is installed on the systems that we want to monitor\n",
    "* Collects metrics by running a set of collection plugins every X amount of seconds \n",
    "* Collection plugins are enabled by detection plugins\n",
    "* Detection plugins generate yaml config files that the collection plugins read from\n",
    "* The agent has a monasca-setup command line tool that helps configure the agent and run detection plugins"
   ]
  },
  {
   "cell_type": "code",
   "execution_count": null,
   "metadata": {
    "collapsed": true,
    "slideshow": {
     "slide_type": "skip"
    }
   },
   "outputs": [],
   "source": [
    "vagrant_private_key_path = \"Put vagrant private key path here\"\n",
    "shell = spur.SshShell(hostname=\"192.168.10.6\",\n",
    "                      username=\"vagrant\",\n",
    "                      private_key_file=vagrant_private_key_path)\n",
    "monasca_agent_help = shell.run([\"/opt/monasca-agent/bin/monasca-setup\", \"-h\"])"
   ]
  },
  {
   "cell_type": "markdown",
   "metadata": {
    "slideshow": {
     "slide_type": "subslide"
    }
   },
   "source": [
    "# Monasca-setup options"
   ]
  },
  {
   "cell_type": "code",
   "execution_count": null,
   "metadata": {
    "collapsed": false
   },
   "outputs": [],
   "source": [
    "monasca_agent_help = shell.run([\"/opt/monasca-agent/bin/monasca-setup\", \"-h\"])\n",
    "print monasca_agent_help.output"
   ]
  },
  {
   "cell_type": "markdown",
   "metadata": {
    "slideshow": {
     "slide_type": "subslide"
    }
   },
   "source": [
    "# Monasca-setup configuring agent"
   ]
  },
  {
   "cell_type": "code",
   "execution_count": null,
   "metadata": {
    "collapsed": false
   },
   "outputs": [],
   "source": [
    "monasca_agent_setup_command = shell.run([\"sudo\", \"cat\", \"/usr/local/bin/monasca-reconfigure\"])\n",
    "print monasca_agent_setup_command.output"
   ]
  },
  {
   "cell_type": "markdown",
   "metadata": {
    "slideshow": {
     "slide_type": "subslide"
    }
   },
   "source": [
    "# Monasca agent configuration file"
   ]
  },
  {
   "cell_type": "code",
   "execution_count": null,
   "metadata": {
    "collapsed": false
   },
   "outputs": [],
   "source": [
    "monasca_agent_setup_command = shell.run([\"sudo\", \"cat\", \"/etc/monasca/agent/agent.yaml\"])\n",
    "print monasca_agent_setup_command.output"
   ]
  },
  {
   "cell_type": "markdown",
   "metadata": {
    "slideshow": {
     "slide_type": "subslide"
    }
   },
   "source": [
    "# Agent Detection Plugins\n",
    "\n",
    "* Run after initial configuration is run\n",
    "* List of avaiable plugins \n"
   ]
  },
  {
   "cell_type": "markdown",
   "metadata": {
    "slideshow": {
     "slide_type": "subslide"
    }
   },
   "source": [
    "# Run Kafka Detection Plugin"
   ]
  },
  {
   "cell_type": "code",
   "execution_count": null,
   "metadata": {
    "collapsed": false
   },
   "outputs": [],
   "source": [
    "monasca_agent_mysql_detection_run = shell.run([\"sudo\", \"/opt/monasca-agent/bin/monasca-setup\", \"-d\", \"kafka\"])\n",
    "print monasca_agent_mysql_detection_run.stderr_output"
   ]
  },
  {
   "cell_type": "markdown",
   "metadata": {
    "slideshow": {
     "slide_type": "subslide"
    }
   },
   "source": [
    "# Query new Kafka Metrics"
   ]
  },
  {
   "cell_type": "code",
   "execution_count": null,
   "metadata": {
    "collapsed": false,
    "slideshow": {
     "slide_type": "subslide"
    }
   },
   "outputs": [],
   "source": [
    "!monasca metric-list --name kafka.consumer_lag"
   ]
  },
  {
   "cell_type": "code",
   "execution_count": null,
   "metadata": {
    "collapsed": false,
    "slideshow": {
     "slide_type": "subslide"
    }
   },
   "outputs": [],
   "source": [
    "!monasca measurement-list kafka.consumer_lag --dimensions consumer_group=1_metrics -10"
   ]
  },
  {
   "cell_type": "markdown",
   "metadata": {
    "slideshow": {
     "slide_type": "subslide"
    }
   },
   "source": [
    "# Example detection yaml configuration"
   ]
  },
  {
   "cell_type": "code",
   "execution_count": null,
   "metadata": {
    "collapsed": false
   },
   "outputs": [],
   "source": [
    "monasca_agent_detection_conf_example = shell.run([\"sudo\", \"cat\", \"/etc/monasca/agent/conf.d/kafka_consumer.yaml\"])\n",
    "print monasca_agent_detection_conf_example.output"
   ]
  },
  {
   "cell_type": "markdown",
   "metadata": {
    "slideshow": {
     "slide_type": "slide"
    }
   },
   "source": [
    "# Developing and Testing\n",
    "---"
   ]
  },
  {
   "cell_type": "markdown",
   "metadata": {
    "slideshow": {
     "slide_type": "fragment"
    }
   },
   "source": [
    "* Python and Java codebase"
   ]
  },
  {
   "cell_type": "markdown",
   "metadata": {
    "slideshow": {
     "slide_type": "fragment"
    }
   },
   "source": [
    "* Monasca DevStack Plugin"
   ]
  },
  {
   "cell_type": "markdown",
   "metadata": {
    "slideshow": {
     "slide_type": "fragment"
    }
   },
   "source": [
    "* Unit Tests"
   ]
  },
  {
   "cell_type": "markdown",
   "metadata": {
    "slideshow": {
     "slide_type": "fragment"
    }
   },
   "source": [
    "* Monasca Tempest Tests"
   ]
  },
  {
   "cell_type": "markdown",
   "metadata": {
    "slideshow": {
     "slide_type": "fragment"
    }
   },
   "source": [
    "* Monasca and OpenStack CI"
   ]
  },
  {
   "cell_type": "markdown",
   "metadata": {
    "slideshow": {
     "slide_type": "subslide"
    }
   },
   "source": [
    "# Monasca Repos\n",
    "---\n",
    "* Monasca is a micro-services message bus based architecture.\n",
    "* Several repos:\n",
    "    * monasca-api: both Python and Java  \n",
    "    * monasca-persister: both Python and Java\n",
    "    * monasca-thresh: Java\n",
    "    * monasca-notification: Python\n",
    "    * monasca-common: both Python and Java\n",
    "    * monasca-agent: Python\n",
    "    * monasca-statsd: Python\n",
    "    * monasca-ui: Python\n",
    "    * python-monascaclient: Python\n",
    "    * puppet-monasca: Puppet\n",
    "    * monasca-log-api"
   ]
  },
  {
   "cell_type": "markdown",
   "metadata": {
    "slideshow": {
     "slide_type": "subslide"
    }
   },
   "source": [
    "# Monasca DevStack Plugin\n",
    "---"
   ]
  },
  {
   "cell_type": "markdown",
   "metadata": {
    "slideshow": {
     "slide_type": "fragment"
    }
   },
   "source": [
    "* DevStack is the primary developmement environment for OpenStack.\n",
    "\n",
    "    * See http://docs.openstack.org/developer/devstack/\n",
    "\n",
    "* The Monasca DevStack plugin installs the Monasca Service, Agent, Horizon Panel, and Grafana\n",
    "\n",
    "* README at, https://github.com/openstack/monasca-api/tree/master/devstack\n",
    "\n",
    "* Best way to get started is to install Vagrant using the Vagrantfile at, https://github.com/openstack/monasca-api/blob/master/devstack/Vagrantfile."
   ]
  },
  {
   "cell_type": "markdown",
   "metadata": {
    "slideshow": {
     "slide_type": "subslide"
    }
   },
   "source": [
    "# Monasca Tempest Tests\n",
    "---"
   ]
  },
  {
   "cell_type": "markdown",
   "metadata": {
    "slideshow": {
     "slide_type": "fragment"
    }
   },
   "source": [
    "* [Tempest](http://docs.openstack.org/developer/tempest) is the integration test suite for OpenStack.\n",
    "\n",
    "* Tempest has an external [Test Plugin Interface](http://docs.openstack.org/developer/tempest/plugin.html) interface that enables anyone to integrate an external test suite.\n",
    "\n",
    "* There is a [Monasca Tempest Plugin](https://github.com/openstack/monasca-api/tree/master/monasca_tempest_tests)\n",
    "\n",
    "* Currently, there are around 150 Tempest Tests written for Monasca that run in around 5 minutes."
   ]
  },
  {
   "cell_type": "markdown",
   "metadata": {
    "slideshow": {
     "slide_type": "subslide"
    }
   },
   "source": [
    "# Monasca CI\n",
    "---"
   ]
  },
  {
   "cell_type": "markdown",
   "metadata": {
    "slideshow": {
     "slide_type": "fragment"
    }
   },
   "source": [
    "* Monasca is fully integrated in the OpenStack CI system.\n",
    "\n",
    "* Gated jobs are run with each commit on both the Python and Java components through the normal gates and all the Monasca Tempest tests using the Monasca DevStack Plugin.\n",
    "\n",
    "* Currently, Java is non-voting"
   ]
  },
  {
   "cell_type": "markdown",
   "metadata": {
    "slideshow": {
     "slide_type": "subslide"
    }
   },
   "source": [
    "# Monasca Weekly Meetings\n",
    "---"
   ]
  },
  {
   "cell_type": "markdown",
   "metadata": {
    "slideshow": {
     "slide_type": "slide"
    }
   },
   "source": [
    "# What's new?\n",
    "---\n",
    "\n",
    "* Multiple metrics\n",
    "\n",
    "* Many enhancements for filtering and sorting resources that return arrays."
   ]
  },
  {
   "cell_type": "markdown",
   "metadata": {
    "slideshow": {
     "slide_type": "slide"
    }
   },
   "source": [
    "# Next Steps\n",
    "---\n",
    "\n",
    "* monasca-transform\n",
    "\n",
    "* monasca-analytics\n",
    "\n",
    "* monasca-events\n",
    "\n",
    "* Multiple metrics"
   ]
  },
  {
   "cell_type": "markdown",
   "metadata": {
    "slideshow": {
     "slide_type": "slide"
    }
   },
   "source": [
    "# Acknowledgments\n",
    "---"
   ]
  },
  {
   "cell_type": "markdown",
   "metadata": {
    "slideshow": {
     "slide_type": "fragment"
    }
   },
   "source": [
    "* Hewlett Packard Enterprise"
   ]
  },
  {
   "cell_type": "markdown",
   "metadata": {
    "slideshow": {
     "slide_type": "fragment"
    }
   },
   "source": [
    "* Time Warner Cable"
   ]
  },
  {
   "cell_type": "markdown",
   "metadata": {
    "slideshow": {
     "slide_type": "fragment"
    }
   },
   "source": [
    "* Fujitsu"
   ]
  },
  {
   "cell_type": "markdown",
   "metadata": {
    "slideshow": {
     "slide_type": "fragment"
    }
   },
   "source": [
    "* Cisco"
   ]
  },
  {
   "cell_type": "markdown",
   "metadata": {
    "slideshow": {
     "slide_type": "fragment"
    }
   },
   "source": [
    "* NEC"
   ]
  },
  {
   "cell_type": "markdown",
   "metadata": {
    "slideshow": {
     "slide_type": "fragment"
    }
   },
   "source": [
    "* Cray"
   ]
  },
  {
   "cell_type": "markdown",
   "metadata": {
    "slideshow": {
     "slide_type": "fragment"
    }
   },
   "source": [
    "* SAP"
   ]
  },
  {
   "cell_type": "markdown",
   "metadata": {
    "slideshow": {
     "slide_type": "fragment"
    }
   },
   "source": [
    "* The OpenStack Technical Committee: Doug Hellman, Flavio Percoco, Thierry Carrez"
   ]
  },
  {
   "cell_type": "markdown",
   "metadata": {
    "slideshow": {
     "slide_type": "slide"
    }
   },
   "source": [
    "# Resources\n",
    "---\n",
    "\n",
    "## Cufflinks\n",
    "* https://plot.ly/ipython-notebooks/cufflinks/\n",
    "* http://web.quant-platform.com/trial/yves/Plotly_Cufflinks.html\n",
    "\n",
    "## ipython Slideshow/RISE\n",
    "* https://github.com/damianavila/RISE\n",
    "* http://www.slideviper.oquanta.info/tutorial/slideshow_tutorial_slides.html#/3\n",
    "* http://www.damian.oquanta.info/posts/make-your-slides-with-ipython.html\n",
    "* https://github.com/damianavila/slideviper_test/blob/gh-pages/tutorial/slideshow_tutorial.ipynb\n",
    "* http://lab.hakim.se/reveal-js/#/themes"
   ]
  },
  {
   "cell_type": "markdown",
   "metadata": {
    "slideshow": {
     "slide_type": "slide"
    }
   },
   "source": [
    "# Thank you"
   ]
  },
  {
   "cell_type": "code",
   "execution_count": null,
   "metadata": {
    "collapsed": false,
    "slideshow": {
     "slide_type": "slide"
    }
   },
   "outputs": [],
   "source": [
    "!monasca metric-list --limit 5"
   ]
  },
  {
   "cell_type": "code",
   "execution_count": null,
   "metadata": {
    "collapsed": false,
    "slideshow": {
     "slide_type": "slide"
    }
   },
   "outputs": [],
   "source": [
    "metrics = get_metrics(names=['cpu.user_perc', 'cpu.idle_perc', 'cpu.stolen_perc', 'cpu.system_perc', 'cpu.wait_perc'])\n",
    "statistics = get_statistics(metrics, ['avg'], 3600)\n",
    "df = df_from_statistics(statistics)\n",
    "#df.iplot(subplots=False, shape=(len(df.columns),1), shared_xaxes=True, fill=True)\n",
    "#df.iplot(kind='line', fill=True,\n",
    "#         xTitle='Date',\n",
    "#         yTitle='Value',\n",
    "#         title='Statistics',\n",
    "#         layout=layout)\n",
    "# df.scatter_matrix(world_readable=True)\n",
    "df.iplot(kind='box', shape=(len(df.columns),1), shared_xaxes=True, fill=True, dimensions=(WIDTH, HEIGHT))"
   ]
  },
  {
   "cell_type": "markdown",
   "metadata": {},
   "source": [
    "# stress-ng -c 2 -i 1 -m 1 --vm-bytes 128M -t 60s"
   ]
  }
 ],
 "metadata": {
  "celltoolbar": "Slideshow",
  "kernelspec": {
   "display_name": "Python 2",
   "language": "python",
   "name": "python2"
  },
  "language_info": {
   "codemirror_mode": {
    "name": "ipython",
    "version": 2
   },
   "file_extension": ".py",
   "mimetype": "text/x-python",
   "name": "python",
   "nbconvert_exporter": "python",
   "pygments_lexer": "ipython2",
   "version": "2.7.6"
  }
 },
 "nbformat": 4,
 "nbformat_minor": 0
}
