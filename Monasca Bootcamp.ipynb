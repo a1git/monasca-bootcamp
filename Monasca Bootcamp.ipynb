{
 "cells": [
  {
   "cell_type": "markdown",
   "metadata": {
    "slideshow": {
     "slide_type": "slide"
    }
   },
   "source": [
    "# Monasca Bootcamp\n",
    "## Hands on Lab\n",
    "\n",
    "https://github.com/witekest/monasca-bootcamp\n",
    "\n",
    "---\n",
    "### [Roland Hochmuth](https://www.linkedin.com/in/rolandhochmuth)\n",
    "\n",
    "company: Hewlett Packard Enterprise\n",
    "\n",
    "email: <roland.hochmuth@hpe.com>\n",
    "\n",
    "### Witek Bedyk\n",
    "\n",
    "company: Fujitsu EST\n",
    "\n",
    "email: <witold.bedyk@est.fujitsu.com>"
   ]
  },
  {
   "cell_type": "markdown",
   "metadata": {
    "slideshow": {
     "slide_type": "slide"
    }
   },
   "source": [
    "# The Monasca team attending the Austin Summit\n",
    "\n",
    "* Stefano Canepa (Hewlett Packard Enterprise)\n",
    "\n",
    "* James Gu (SUSE)\n",
    "\n",
    "* Dan ? (SUSE)\n",
    "\n",
    "* Haruki Yamanashi (Fujitsu Limited)\n",
    "\n",
    "* Cristiano Bellucci (Fujitsu EST)\n",
    "\n",
    "* and more"
   ]
  },
  {
   "cell_type": "markdown",
   "metadata": {
    "slideshow": {
     "slide_type": "slide"
    }
   },
   "source": [
    "# Running the iPython notebook\n",
    "---\n",
    "This is an iPython/Jupyter notebook that you can run on your own. You will require the following installed on your system:\n",
    "\n",
    "* iPython\n",
    "\n",
    "    * See, https://ipython.org/install.html\n",
    "\n",
    "* An OpenStack DevStack install with the Monasca DevStack plugin installed.\n",
    "\n",
    "    * See, https://github.com/openstack/monasca-log-api/tree/master/devstack"
   ]
  },
  {
   "cell_type": "markdown",
   "metadata": {
    "slideshow": {
     "slide_type": "slide"
    }
   },
   "source": [
    "# Running notebook on your worshop instance\n",
    "---\n",
    "* Set up the SSH tunnel to your instance\n",
    "    \n",
    "    * `ssh -NfL localhost:8888:localhost:8889 ubuntu@<your_instance_ip>`\n",
    "    \n",
    "* SSH to your instance and start the notebook\n",
    "\n",
    "    * `ssh ubuntu@<your_instance_ip>`\n",
    "    * `/opt/jupyter/bin/jupyter notebook --no-browser --port=8889 --notebook-dir monasca-bootcamp/`\n",
    "    \n",
    "* Copy the URL and open it in your local browser. Remember to set the port number to `8888`.\n",
    "\n",
    "* Open `Monasca Bootcamp.ipynb` notebook."
   ]
  },
  {
   "cell_type": "markdown",
   "metadata": {
    "slideshow": {
     "slide_type": "slide"
    }
   },
   "source": [
    "# Agenda\n",
    "---\n",
    "* Architecture and Overview\n",
    "* API, CLI (python-monascaclient) and client hands-on\n",
    "* Agent hands-on\n",
    "* Horizon, Grafana, Kibana hands-on"
   ]
  },
  {
   "cell_type": "markdown",
   "metadata": {
    "slideshow": {
     "slide_type": "slide"
    }
   },
   "source": [
    "# Architecture\n",
    "---\n",
    "![Monasca Architecture](architecture.png)"
   ]
  },
  {
   "cell_type": "markdown",
   "metadata": {
    "slideshow": {
     "slide_type": "subslide"
    }
   },
   "source": [
    "# Logging\n",
    "---\n",
    "![Logging Architecture](Logging_Architecture.png)"
   ]
  },
  {
   "cell_type": "markdown",
   "metadata": {
    "slideshow": {
     "slide_type": "subslide"
    }
   },
   "source": [
    "# Start the services"
   ]
  },
  {
   "cell_type": "code",
   "execution_count": 1,
   "metadata": {},
   "outputs": [
    {
     "name": "stdout",
     "output_type": "stream",
     "text": [
      "Starting rabbitmq-server\n",
      "Starting apache2\n",
      "Starting zookeeper\n",
      "Starting storm-nimbus\n",
      "Starting storm-supervisor\n",
      "Starting mysql\n",
      "Starting kafka\n",
      "Starting influxdb\n",
      "Starting elasticsearch\n",
      "Starting memcached\n",
      "Starting monasca-thresh\n",
      "Starting monasca-notification\n",
      "Starting monasca-persister\n",
      "Starting monasca-log-transformer\n",
      "Starting monasca-log-persister\n",
      "Starting monasca-log-metrics\n",
      "Starting monasca-api\n",
      "Starting monasca-log-api\n",
      "Starting monasca-agent\n",
      "Starting monasca-log-agent\n",
      "Starting grafana-server\n",
      "Starting kibana\n",
      "Service rabbitmq-server is \u001b[32mactive\u001b[m.\n",
      "Service apache2 is \u001b[32mactive\u001b[m.\n",
      "Service zookeeper is \u001b[32mactive\u001b[m.\n",
      "Service storm-nimbus is \u001b[32mactive\u001b[m.\n",
      "Service storm-supervisor is \u001b[32mactive\u001b[m.\n",
      "Service mysql is \u001b[32mactive\u001b[m.\n",
      "Service kafka is \u001b[32mactive\u001b[m.\n",
      "Service influxdb is \u001b[32mactive\u001b[m.\n",
      "Service elasticsearch is \u001b[32mactive\u001b[m.\n",
      "Service memcached is \u001b[32mactive\u001b[m.\n",
      "Service monasca-thresh is \u001b[32mactive\u001b[m.\n",
      "Service monasca-notification is \u001b[32mactive\u001b[m.\n",
      "Service monasca-persister is \u001b[32mactive\u001b[m.\n",
      "Service monasca-log-transformer is \u001b[32mactive\u001b[m.\n",
      "Service monasca-log-persister is \u001b[32mactive\u001b[m.\n",
      "Service monasca-log-metrics is \u001b[32mactive\u001b[m.\n",
      "Service monasca-api is \u001b[32mactive\u001b[m.\n",
      "Service monasca-log-api is \u001b[32mactive\u001b[m.\n",
      "Service monasca-agent is \u001b[32mactive\u001b[m.\n",
      "Service monasca-log-agent is \u001b[32mactive\u001b[m.\n",
      "Service grafana-server is \u001b[32mactive\u001b[m.\n",
      "Service kibana is \u001b[32mactive\u001b[m.\n"
     ]
    }
   ],
   "source": [
    "!~/scripts/start_services.sh\n",
    "!~/scripts/list_services.sh"
   ]
  },
  {
   "cell_type": "markdown",
   "metadata": {
    "slideshow": {
     "slide_type": "slide"
    }
   },
   "source": [
    "# Import libraries and initialization\n",
    "---\n",
    "Let's first import some libraries used in the rest of the notebook."
   ]
  },
  {
   "cell_type": "code",
   "execution_count": 2,
   "metadata": {
    "collapsed": true,
    "scrolled": true,
    "slideshow": {
     "slide_type": "-"
    }
   },
   "outputs": [],
   "source": [
    "import datetime\n",
    "import json\n",
    "import time\n",
    "\n",
    "# Import the Monasca and Keystone clients\n",
    "from monascaclient import client\n",
    "from monascaclient import ksclient"
   ]
  },
  {
   "cell_type": "markdown",
   "metadata": {
    "slideshow": {
     "slide_type": "subslide"
    }
   },
   "source": [
    "# Initialize the Keystone and Monasca Client\n",
    "---\n",
    "We'll be connecting to the DevStack VM and using the `mini-mon` project and username."
   ]
  },
  {
   "cell_type": "code",
   "execution_count": 4,
   "metadata": {
    "collapsed": true,
    "slideshow": {
     "slide_type": "-"
    }
   },
   "outputs": [],
   "source": [
    "KEYSTONE_URL = 'http://<your_instance_ip>:35357/v3'\n",
    "PROJECT_NAME = 'mini-mon'\n",
    "USERNAME = 'mini-mon'\n",
    "PASSWORD = 'password'"
   ]
  },
  {
   "cell_type": "code",
   "execution_count": 5,
   "metadata": {
    "slideshow": {
     "slide_type": "-"
    }
   },
   "outputs": [
    {
     "name": "stdout",
     "output_type": "stream",
     "text": [
      "env: OS_PROJECT_NAME=mini-mon\n",
      "env: OS_PASSWORD=password\n",
      "env: OS_AUTH_URL=http://192.168.10.6:35357/v3\n",
      "env: OS_USERNAME=mini-mon\n"
     ]
    }
   ],
   "source": [
    "# Authenticate to Keystone\n",
    "keystone_client = ksclient.KSClient(auth_url=KEYSTONE_URL, username=USERNAME, password=PASSWORD,\n",
    "                                   project_name=PROJECT_NAME)\n",
    "\n",
    "# Create the Monasca client\n",
    "monasca_client = client.Client('2_0', keystone_client.monasca_url, token=keystone_client.token)\n",
    "\n",
    "# Initialize environment variables to use the Monasca CLI\n",
    "%env OS_PROJECT_NAME=$PROJECT_NAME\n",
    "%env OS_PASSWORD=$PASSWORD\n",
    "%env OS_AUTH_URL=$KEYSTONE_URL\n",
    "%env OS_USERNAME=$USERNAME"
   ]
  },
  {
   "cell_type": "markdown",
   "metadata": {
    "slideshow": {
     "slide_type": "slide"
    }
   },
   "source": [
    "# Using the API\n",
    "---\n",
    "\n",
    "The [Monasca API](https://github.com/openstack/monasca-api/blob/master/docs/monasca-api-spec.md) has the following resources:\n",
    "\n",
    "* Versions\n",
    "\n",
    "* Metrics\n",
    "\n",
    "* Metrics Measurements\n",
    "\n",
    "* Metrics Statistics\n",
    "\n",
    "* Metrics Names\n",
    "\n",
    "* Notification Methods\n",
    "\n",
    "* Alarm Definitions\n",
    "\n",
    "* Alarms\n",
    "\n",
    "* Alarms Count\n",
    "\n",
    "* Alarms State History\n",
    "\n",
    "Please consult the spec for the full details."
   ]
  },
  {
   "cell_type": "markdown",
   "metadata": {
    "slideshow": {
     "slide_type": "slide"
    }
   },
   "source": [
    "# Metrics\n",
    "---\n",
    "* GET, POST /v2.0/metrics\n",
    "\n",
    "* name (string(255), required) - The name of the metric. Naming conventions for metric names:\n",
    "\n",
    "    * lowercase, `.` to delimit groups, `_` (snake case) to delimit words, with a unit of measurement often as the suffix.\n",
    "    \n",
    "    * e.g. cpu.user_perc, kafka.consumer_lag\n",
    "\n",
    "* dimensions ({string(255): string(255)}, optional) - A dictionary consisting of (key, value) pairs used to uniquely identify a metric and slice and dice on.\n",
    "\n",
    "* timestamp (string, required) - The timestamp in milliseconds from the Epoch.\n",
    "\n",
    "* value (float, required) - Value of the metric.\n",
    "\n",
    "* value_meta ({string(255): string(2048)}, optional) - A dictionary consisting of (key, value) pairs used to describe the metric.\n",
    "\n",
    "    * Examples: status_code, msg\n",
    "\n",
    "* tenant_id: Tenant ID to create metrics on behalf of.\n",
    "\n",
    "    * This parameter can be used to submit metrics from one tenant, to another.\n",
    "    * Requires the delegate role."
   ]
  },
  {
   "cell_type": "markdown",
   "metadata": {
    "slideshow": {
     "slide_type": "subslide"
    }
   },
   "source": [
    "# Dimensions\n",
    "---\n",
    "\n",
    "* A dictionary of (key, value) pairs that are used to uniquely identify a metric.\n",
    "\n",
    "* Used to slice and dice metrics when querying.\n",
    "\n",
    "* Examples: hostname, service, component, region zone, resource_id, ...\n",
    "\n",
    "* Dimensions can be anything you want, but naming conventions should be adopted for consistency.\n",
    "\n",
    "* Examples of dimension keys are the following: hostname, region, zone, service, component, process, ..."
   ]
  },
  {
   "cell_type": "markdown",
   "metadata": {
    "slideshow": {
     "slide_type": "subslide"
    }
   },
   "source": [
    "# Example: Metrics request body\n",
    "---\n",
    "In this example, we are reporting the status of a HTTP check as a binary value, 0 or 1, for a specific host. The API is down, and the status code and msg returned are returned as meta data.\n",
    "```\n",
    "{\n",
    "\tname: http_status,\n",
    "\tdimensions: {\n",
    "\t\turl: http://service.domain.com:80,\n",
    "\t\tregion: uswest,\n",
    "\t\tzone: 1,\n",
    "\t\tservice: compute\n",
    "\t}\n",
    "\ttimestamp: 1461600900000, /* milliseconds */\n",
    "\tvalue: 1.0,\n",
    "\tvalue_meta: {\n",
    "\t\tstatus_code: 500,\n",
    "\t\tmsg: Internal server error\n",
    "\t}\n",
    "}\n",
    "```"
   ]
  },
  {
   "cell_type": "markdown",
   "metadata": {
    "slideshow": {
     "slide_type": "subslide"
    }
   },
   "source": [
    "# Help: Create metrics\n",
    "---"
   ]
  },
  {
   "cell_type": "code",
   "execution_count": 6,
   "metadata": {
    "slideshow": {
     "slide_type": "-"
    }
   },
   "outputs": [
    {
     "name": "stdout",
     "output_type": "stream",
     "text": [
      "usage: monasca metric-create [--dimensions <KEY1=VALUE1,KEY2=VALUE2...>]\r\n",
      "                             [--value-meta <KEY1=VALUE1,KEY2=VALUE2...>]\r\n",
      "                             [--time <UNIX_TIMESTAMP>]\r\n",
      "                             [--project-id <CROSS_PROJECT_ID>]\r\n",
      "                             <METRIC_NAME> <METRIC_VALUE>\r\n",
      "\r\n",
      "Create metric.\r\n",
      "\r\n",
      "Positional arguments:\r\n",
      "  <METRIC_NAME>         Name of the metric to create.\r\n",
      "  <METRIC_VALUE>        Metric value.\r\n",
      "\r\n",
      "Optional arguments:\r\n",
      "  --dimensions <KEY1=VALUE1,KEY2=VALUE2...>\r\n",
      "                        key value pair used to create a metric dimension. This\r\n",
      "                        can be specified multiple times, or once with\r\n",
      "                        parameters separated by a comma. Dimensions need\r\n",
      "                        quoting when they contain special chars\r\n",
      "                        [&,(,),{,},>,<] that confuse the CLI parser.\r\n",
      "  --value-meta <KEY1=VALUE1,KEY2=VALUE2...>\r\n",
      "                        key value pair for extra information about a value.\r\n",
      "                        This can be specified multiple times, or once with\r\n",
      "                        parameters separated by a comma. value_meta need\r\n",
      "                        quoting when they contain special chars\r\n",
      "                        [&,(,),{,},>,<] that confuse the CLI parser.\r\n",
      "  --time <UNIX_TIMESTAMP>\r\n",
      "                        Metric timestamp in milliseconds. Default: current\r\n",
      "                        timestamp.\r\n",
      "  --project-id <CROSS_PROJECT_ID>\r\n",
      "                        The Project ID to create metric on behalf of. Requires\r\n",
      "                        monitoring-delegate role in keystone.\r\n"
     ]
    }
   ],
   "source": [
    "!monasca help metric-create"
   ]
  },
  {
   "cell_type": "markdown",
   "metadata": {
    "slideshow": {
     "slide_type": "subslide"
    }
   },
   "source": [
    "# Example: Create a metric\n",
    "Let's create a metric with the metric `openstack.handson_status` and some dimensions "
   ]
  },
  {
   "cell_type": "code",
   "execution_count": 7,
   "metadata": {},
   "outputs": [
    {
     "name": "stdout",
     "output_type": "stream",
     "text": [
      "Successfully created metric\r\n"
     ]
    }
   ],
   "source": [
    "!monasca metric-create --dimensions region=useast,state=MA,city=Boston,session=monasca openstack.handson_status 1.0"
   ]
  },
  {
   "cell_type": "markdown",
   "metadata": {
    "slideshow": {
     "slide_type": "subslide"
    }
   },
   "source": [
    "# List metrics\n",
    "Lists all the unique metrics in the system\n",
    "\n",
    "* GET /v2.0/metrics\n",
    "\n",
    "* A unique metric is identitifed by it's name and dimensions.\n",
    "\n",
    "* Starttime, endtime, offset and limit paramaters are available.\n",
    "\n",
    "* Note, if you are monitoring OpenStack resources, such as VMs, based on the amount of churn (VMs being created/destroyed) in the system and your retention policy, it is recommended to specify the starttime, to limit the amount of metrics returned, such that queries return in a reasonable amount of time."
   ]
  },
  {
   "cell_type": "markdown",
   "metadata": {
    "slideshow": {
     "slide_type": "subslide"
    }
   },
   "source": [
    "# Help: List Metrics\n",
    "---\n"
   ]
  },
  {
   "cell_type": "code",
   "execution_count": 8,
   "metadata": {},
   "outputs": [
    {
     "name": "stdout",
     "output_type": "stream",
     "text": [
      "usage: monasca metric-list [--name <METRIC_NAME>]\r\n",
      "                           [--dimensions <KEY1=VALUE1,KEY2=VALUE2...>]\r\n",
      "                           [--starttime <UTC_START_TIME>]\r\n",
      "                           [--endtime <UTC_END_TIME>]\r\n",
      "                           [--offset <OFFSET LOCATION>]\r\n",
      "                           [--limit <RETURN LIMIT>] [--tenant-id <TENANT_ID>]\r\n",
      "\r\n",
      "List metrics for this tenant.\r\n",
      "\r\n",
      "Optional arguments:\r\n",
      "  --name <METRIC_NAME>  Name of the metric to list.\r\n",
      "  --dimensions <KEY1=VALUE1,KEY2=VALUE2...>\r\n",
      "                        key value pair used to specify a metric dimension.\r\n",
      "                        This can be specified multiple times, or once with\r\n",
      "                        parameters separated by a comma. Dimensions need\r\n",
      "                        quoting when they contain special chars\r\n",
      "                        [&,(,),{,},>,<] that confuse the CLI parser.\r\n",
      "  --starttime <UTC_START_TIME>\r\n",
      "                        measurements >= UTC time. format:\r\n",
      "                        2014-01-01T00:00:00Z. OR Format: -120 (previous 120\r\n",
      "                        minutes).\r\n",
      "  --endtime <UTC_END_TIME>\r\n",
      "                        measurements <= UTC time. format:\r\n",
      "                        2014-01-01T00:00:00Z.\r\n",
      "  --offset <OFFSET LOCATION>\r\n",
      "                        The offset used to paginate the return data.\r\n",
      "  --limit <RETURN LIMIT>\r\n",
      "                        The amount of data to be returned up to the API\r\n",
      "                        maximum limit.\r\n",
      "  --tenant-id <TENANT_ID>\r\n",
      "                        Retrieve data for the specified tenant/project id\r\n",
      "                        instead of the tenant/project from the user's Keystone\r\n",
      "                        credentials.\r\n"
     ]
    }
   ],
   "source": [
    "!monasca help metric-list"
   ]
  },
  {
   "cell_type": "markdown",
   "metadata": {
    "slideshow": {
     "slide_type": "subslide"
    }
   },
   "source": [
    "# Example: List metrics"
   ]
  },
  {
   "cell_type": "code",
   "execution_count": 9,
   "metadata": {
    "slideshow": {
     "slide_type": "-"
    }
   },
   "outputs": [
    {
     "name": "stdout",
     "output_type": "stream",
     "text": [
      "+-------------------+---------------------+\r\n",
      "| name              | dimensions          |\r\n",
      "+-------------------+---------------------+\r\n",
      "| cpu.frequency_mhz | hostname: devstack  |\r\n",
      "|                   | service: monitoring |\r\n",
      "| cpu.idle_perc     | hostname: devstack  |\r\n",
      "|                   | service: monitoring |\r\n",
      "| cpu.idle_time     | hostname: devstack  |\r\n",
      "|                   | service: monitoring |\r\n",
      "| cpu.percent       | hostname: devstack  |\r\n",
      "|                   | service: monitoring |\r\n",
      "| cpu.stolen_perc   | hostname: devstack  |\r\n",
      "|                   | service: monitoring |\r\n",
      "| cpu.system_perc   | hostname: devstack  |\r\n",
      "|                   | service: monitoring |\r\n",
      "| cpu.system_time   | hostname: devstack  |\r\n",
      "|                   | service: monitoring |\r\n",
      "| cpu.user_perc     | hostname: devstack  |\r\n",
      "|                   | service: monitoring |\r\n",
      "| cpu.user_time     | hostname: devstack  |\r\n",
      "|                   | service: monitoring |\r\n",
      "| cpu.wait_perc     | hostname: devstack  |\r\n",
      "|                   | service: monitoring |\r\n",
      "+-------------------+---------------------+\r\n"
     ]
    }
   ],
   "source": [
    "!monasca metric-list --limit 10"
   ]
  },
  {
   "cell_type": "markdown",
   "metadata": {
    "slideshow": {
     "slide_type": "subslide"
    }
   },
   "source": [
    "# Exercise 1: List metrics and filter on name, dimensions and starttime\n",
    "---\n",
    "Extend the following command to filter the list and find the previously generated metric."
   ]
  },
  {
   "cell_type": "code",
   "execution_count": 11,
   "metadata": {},
   "outputs": [
    {
     "name": "stdout",
     "output_type": "stream",
     "text": [
      "+--------------------------+------------------+\r\n",
      "| name                     | dimensions       |\r\n",
      "+--------------------------+------------------+\r\n",
      "| openstack.handson_status | city: Boston     |\r\n",
      "|                          | region: useast   |\r\n",
      "|                          | session: monasca |\r\n",
      "|                          | state: MA        |\r\n",
      "+--------------------------+------------------+\r\n"
     ]
    }
   ],
   "source": [
    "!monasca metric-list # put your options here"
   ]
  },
  {
   "cell_type": "markdown",
   "metadata": {
    "slideshow": {
     "slide_type": "subslide"
    }
   },
   "source": [
    "# Example: Create a function to get metrics using the Monasca client\n",
    "---\n",
    "Now let's try to create a function which returns the list of metrics using the Monasca Python client.\n",
    "We will use the previously instantiated 'monasca_client' object and its 'metrics.list' method.\n",
    "All the CLI options can be used as named arguments.\n"
   ]
  },
  {
   "cell_type": "code",
   "execution_count": 10,
   "metadata": {},
   "outputs": [
    {
     "name": "stdout",
     "output_type": "stream",
     "text": [
      "[\n",
      "    {\n",
      "        \"dimensions\": {\n",
      "            \"city\": \"Boston\", \n",
      "            \"region\": \"useast\", \n",
      "            \"session\": \"monasca\", \n",
      "            \"state\": \"MA\"\n",
      "        }, \n",
      "        \"name\": \"openstack.handson_status\", \n",
      "        \"id\": \"0\"\n",
      "    }, \n",
      "    {\n",
      "        \"dimensions\": {\n",
      "            \"city\": \"austin\", \n",
      "            \"region\": \"uscentral\", \n",
      "            \"session\": \"monasca\", \n",
      "            \"state\": \"texas\"\n",
      "        }, \n",
      "        \"name\": \"openstack.handson_status\", \n",
      "        \"id\": \"1\"\n",
      "    }\n",
      "]\n"
     ]
    }
   ],
   "source": [
    "def get_metrics(names=[None], dimensions={}, limit=10):\n",
    "    metrics = []\n",
    "    for name in names:        \n",
    "        # Invoke the Monasca client\n",
    "        metrics = metrics + monasca_client.metrics.list(name=name, dimensions=dimensions, limit=limit)\n",
    "    return metrics\n",
    "\n",
    "metrics = get_metrics(['openstack.handson_status'])\n",
    "print json.dumps(metrics, indent=4)"
   ]
  },
  {
   "cell_type": "markdown",
   "metadata": {
    "slideshow": {
     "slide_type": "slide"
    }
   },
   "source": [
    "# Metric names\n",
    "* List all the metric names stored in the service\n",
    "\n",
    "* GET /v2.0/metrics/names\n",
    "\n",
    "* Query parameters: tenant_id, offset, limit and dimensions\n",
    "\n",
    "* Very useful for user-interfaces that need to display the names of all the metrics in the system.\n",
    "\n",
    "    * Querying all metrics and determining all the distinct metric names is too costly."
   ]
  },
  {
   "cell_type": "markdown",
   "metadata": {
    "slideshow": {
     "slide_type": "slide"
    }
   },
   "source": [
    "# Help: List metric names"
   ]
  },
  {
   "cell_type": "code",
   "execution_count": 19,
   "metadata": {},
   "outputs": [
    {
     "name": "stdout",
     "output_type": "stream",
     "text": [
      "usage: monasca metric-name-list [--dimensions <KEY1=VALUE1,KEY2=VALUE2...>]\r\n",
      "                                [--offset <OFFSET LOCATION>]\r\n",
      "                                [--limit <RETURN LIMIT>]\r\n",
      "                                [--tenant-id <TENANT_ID>]\r\n",
      "\r\n",
      "List names of metrics.\r\n",
      "\r\n",
      "Optional arguments:\r\n",
      "  --dimensions <KEY1=VALUE1,KEY2=VALUE2...>\r\n",
      "                        key value pair used to specify a metric dimension.\r\n",
      "                        This can be specified multiple times, or once with\r\n",
      "                        parameters separated by a comma. Dimensions need\r\n",
      "                        quoting when they contain special chars\r\n",
      "                        [&,(,),{,},>,<] that confuse the CLI parser.\r\n",
      "  --offset <OFFSET LOCATION>\r\n",
      "                        The offset used to paginate the return data.\r\n",
      "  --limit <RETURN LIMIT>\r\n",
      "                        The amount of data to be returned up to the API\r\n",
      "                        maximum limit.\r\n",
      "  --tenant-id <TENANT_ID>\r\n",
      "                        Retrieve data for the specified tenant/project id\r\n",
      "                        instead of the tenant/project from the user's Keystone\r\n",
      "                        credentials.\r\n"
     ]
    }
   ],
   "source": [
    "!monasca help metric-name-list"
   ]
  },
  {
   "cell_type": "markdown",
   "metadata": {
    "slideshow": {
     "slide_type": "slide"
    }
   },
   "source": [
    "# Example: List metric names"
   ]
  },
  {
   "cell_type": "code",
   "execution_count": 20,
   "metadata": {},
   "outputs": [
    {
     "name": "stdout",
     "output_type": "stream",
     "text": [
      "+----------------------+\r\n",
      "| Name                 |\r\n",
      "+----------------------+\r\n",
      "| cpu.frequency_mhz    |\r\n",
      "| cpu.idle_perc        |\r\n",
      "| cpu.idle_time        |\r\n",
      "| cpu.percent          |\r\n",
      "| cpu.stolen_perc      |\r\n",
      "| cpu.system_perc      |\r\n",
      "| cpu.system_time      |\r\n",
      "| cpu.user_perc        |\r\n",
      "| cpu.user_time        |\r\n",
      "| cpu.wait_perc        |\r\n",
      "| cpu.wait_time        |\r\n",
      "| disk.inode_used_perc |\r\n",
      "| disk.space_used_perc |\r\n",
      "| host_alive_status    |\r\n",
      "| io.read_kbytes_sec   |\r\n",
      "| io.read_req_sec      |\r\n",
      "| io.read_time_sec     |\r\n",
      "| io.write_kbytes_sec  |\r\n",
      "| io.write_req_sec     |\r\n",
      "| io.write_time_sec    |\r\n",
      "+----------------------+\r\n"
     ]
    }
   ],
   "source": [
    "!monasca metric-name-list --limit 20"
   ]
  },
  {
   "cell_type": "markdown",
   "metadata": {
    "slideshow": {
     "slide_type": "slide"
    }
   },
   "source": [
    "# Metrics Measurements\n",
    "---\n",
    "Operations for returning measurements.\n",
    "\n",
    "* GET /v2.0/metrics/measurements\n",
    "\n",
    "* Name and dimensions supplied as query parameters\n",
    "\n",
    "* Startime, endtime, offset, limit and group_by supplied.\n",
    "\n",
    "* Note:\n",
    "\n",
    "    * If group_by is not specified, metrics must be fully qualified with name and dimensions."
   ]
  },
  {
   "cell_type": "markdown",
   "metadata": {
    "slideshow": {
     "slide_type": "subslide"
    }
   },
   "source": [
    "# Help: List Measurements\n",
    "---"
   ]
  },
  {
   "cell_type": "code",
   "execution_count": 21,
   "metadata": {
    "scrolled": true
   },
   "outputs": [
    {
     "name": "stdout",
     "output_type": "stream",
     "text": [
      "usage: monasca measurement-list [--dimensions <KEY1=VALUE1,KEY2=VALUE2...>]\r\n",
      "                                [--endtime <UTC_END_TIME>]\r\n",
      "                                [--offset <OFFSET LOCATION>]\r\n",
      "                                [--limit <RETURN LIMIT>] [--merge_metrics]\r\n",
      "                                [--group_by <KEY1,KEY2,...>]\r\n",
      "                                [--tenant-id <TENANT_ID>]\r\n",
      "                                <METRIC_NAME> <UTC_START_TIME>\r\n",
      "\r\n",
      "List measurements for the specified metric.\r\n",
      "\r\n",
      "Positional arguments:\r\n",
      "  <METRIC_NAME>         Name of the metric to list measurements.\r\n",
      "  <UTC_START_TIME>      measurements >= UTC time. format:\r\n",
      "                        2014-01-01T00:00:00Z. OR Format: -120 (previous 120\r\n",
      "                        minutes).\r\n",
      "\r\n",
      "Optional arguments:\r\n",
      "  --dimensions <KEY1=VALUE1,KEY2=VALUE2...>\r\n",
      "                        key value pair used to specify a metric dimension.\r\n",
      "                        This can be specified multiple times, or once with\r\n",
      "                        parameters separated by a comma. Dimensions need\r\n",
      "                        quoting when they contain special chars\r\n",
      "                        [&,(,),{,},>,<] that confuse the CLI parser.\r\n",
      "  --endtime <UTC_END_TIME>\r\n",
      "                        measurements <= UTC time. format:\r\n",
      "                        2014-01-01T00:00:00Z.\r\n",
      "  --offset <OFFSET LOCATION>\r\n",
      "                        The offset used to paginate the return data.\r\n",
      "  --limit <RETURN LIMIT>\r\n",
      "                        The amount of data to be returned up to the API\r\n",
      "                        maximum limit.\r\n",
      "  --merge_metrics       Merge multiple metrics into a single result.\r\n",
      "  --group_by <KEY1,KEY2,...>\r\n",
      "                        Select which keys to use for grouping. A '*' groups by\r\n",
      "                        all keys.\r\n",
      "  --tenant-id <TENANT_ID>\r\n",
      "                        Retrieve data for the specified tenant/project id\r\n",
      "                        instead of the tenant/project from the user's Keystone\r\n",
      "                        credentials.\r\n"
     ]
    }
   ],
   "source": [
    "!monasca help measurement-list"
   ]
  },
  {
   "cell_type": "markdown",
   "metadata": {
    "slideshow": {
     "slide_type": "subslide"
    }
   },
   "source": [
    "# Excercise 2: List measurement\n",
    "---\n",
    "Get the list of 5 last measurements with the metric name 'monasca.thread_count' for service 'monitoring' within the last 5 minutes."
   ]
  },
  {
   "cell_type": "code",
   "execution_count": 23,
   "metadata": {
    "slideshow": {
     "slide_type": "-"
    }
   },
   "outputs": [
    {
     "name": "stdout",
     "output_type": "stream",
     "text": [
      "+----------------------+--------------------------+--------------------------+--------------+------------+\r\n",
      "| name                 | dimensions               | timestamp                | value        | value_meta |\r\n",
      "+----------------------+--------------------------+--------------------------+--------------+------------+\r\n",
      "| monasca.thread_count | hostname: devstack       | 2017-05-01T10:24:54.553Z |        9.000 |            |\r\n",
      "|                      | component: monasca-agent | 2017-05-01T10:25:09.555Z |        9.000 |            |\r\n",
      "|                      | service: monitoring      | 2017-05-01T10:25:24.553Z |        9.000 |            |\r\n",
      "|                      |                          | 2017-05-01T10:25:39.555Z |        9.000 |            |\r\n",
      "|                      |                          | 2017-05-01T10:25:54.555Z |        9.000 |            |\r\n",
      "|                      |                          | 2017-05-01T10:26:09.562Z |        9.000 |            |\r\n",
      "|                      |                          | 2017-05-01T10:26:24.554Z |        9.000 |            |\r\n",
      "|                      |                          | 2017-05-01T10:26:39.562Z |        9.000 |            |\r\n",
      "|                      |                          | 2017-05-01T10:26:54.556Z |        9.000 |            |\r\n",
      "|                      |                          | 2017-05-01T10:27:09.556Z |        9.000 |            |\r\n",
      "|                      |                          | 2017-05-01T10:27:24.557Z |        9.000 |            |\r\n",
      "|                      |                          | 2017-05-01T10:27:39.560Z |        9.000 |            |\r\n",
      "|                      |                          | 2017-05-01T10:27:54.558Z |        9.000 |            |\r\n",
      "|                      |                          | 2017-05-01T10:28:09.566Z |        9.000 |            |\r\n",
      "|                      |                          | 2017-05-01T10:28:24.559Z |        9.000 |            |\r\n",
      "|                      |                          | 2017-05-01T10:28:39.559Z |        9.000 |            |\r\n",
      "|                      |                          | 2017-05-01T10:28:54.560Z |        9.000 |            |\r\n",
      "|                      |                          | 2017-05-01T10:29:09.567Z |        9.000 |            |\r\n",
      "|                      |                          | 2017-05-01T10:29:24.561Z |        9.000 |            |\r\n",
      "+----------------------+--------------------------+--------------------------+--------------+------------+\r\n"
     ]
    }
   ],
   "source": [
    "!monasca measurement-list --dimensions 'service=monitoring' monasca.thread_count -5   # put your command here"
   ]
  },
  {
   "cell_type": "markdown",
   "metadata": {
    "slideshow": {
     "slide_type": "subslide"
    }
   },
   "source": [
    "# Exercise 3: List measurements by dimension\n",
    "---\n",
    "Get the list of measurements with the metric name 'disk.space_used_perc' within last 2 minutes. Please compare with the metric-list and try out using 'group_by' option.\n"
   ]
  },
  {
   "cell_type": "code",
   "execution_count": 28,
   "metadata": {},
   "outputs": [
    {
     "name": "stdout",
     "output_type": "stream",
     "text": [
      "+----------------------+---------------------------------------+--------------------------+--------------+------------+\r\n",
      "| name                 | dimensions                            | timestamp                | value        | value_meta |\r\n",
      "+----------------------+---------------------------------------+--------------------------+--------------+------------+\r\n",
      "| disk.space_used_perc | mount_point: /                        | 2017-05-01T10:32:24.556Z |       37.100 |            |\r\n",
      "|                      |                                       | 2017-05-01T10:32:39.557Z |       37.100 |            |\r\n",
      "|                      |                                       | 2017-05-01T10:32:54.558Z |       37.100 |            |\r\n",
      "|                      |                                       | 2017-05-01T10:33:09.560Z |       37.100 |            |\r\n",
      "|                      |                                       | 2017-05-01T10:33:24.557Z |       37.100 |            |\r\n",
      "|                      |                                       | 2017-05-01T10:33:39.560Z |       37.100 |            |\r\n",
      "|                      |                                       | 2017-05-01T10:33:54.562Z |       37.100 |            |\r\n",
      "| disk.space_used_perc | mount_point: /boot                    | 2017-05-01T10:32:24.556Z |       12.700 |            |\r\n",
      "|                      |                                       | 2017-05-01T10:32:39.557Z |       12.700 |            |\r\n",
      "|                      |                                       | 2017-05-01T10:32:54.558Z |       12.700 |            |\r\n",
      "|                      |                                       | 2017-05-01T10:33:09.560Z |       12.700 |            |\r\n",
      "|                      |                                       | 2017-05-01T10:33:24.557Z |       12.700 |            |\r\n",
      "|                      |                                       | 2017-05-01T10:33:39.560Z |       12.700 |            |\r\n",
      "|                      |                                       | 2017-05-01T10:33:54.562Z |       12.700 |            |\r\n",
      "| disk.space_used_perc | mount_point: /dev/mqueue              | 2017-05-01T10:32:24.556Z |        0.000 |            |\r\n",
      "|                      |                                       | 2017-05-01T10:32:39.557Z |        0.000 |            |\r\n",
      "|                      |                                       | 2017-05-01T10:32:54.558Z |        0.000 |            |\r\n",
      "|                      |                                       | 2017-05-01T10:33:09.560Z |        0.000 |            |\r\n",
      "|                      |                                       | 2017-05-01T10:33:24.557Z |        0.000 |            |\r\n",
      "|                      |                                       | 2017-05-01T10:33:39.560Z |        0.000 |            |\r\n",
      "|                      |                                       | 2017-05-01T10:33:54.562Z |        0.000 |            |\r\n",
      "| disk.space_used_perc | mount_point: /proc/sys/fs/binfmt_misc | 2017-05-01T10:32:24.556Z |        0.000 |            |\r\n",
      "|                      |                                       | 2017-05-01T10:32:24.557Z |        0.000 |            |\r\n",
      "|                      |                                       | 2017-05-01T10:32:39.557Z |        0.000 |            |\r\n",
      "|                      |                                       | 2017-05-01T10:32:39.557Z |        0.000 |            |\r\n",
      "|                      |                                       | 2017-05-01T10:32:54.558Z |        0.000 |            |\r\n",
      "|                      |                                       | 2017-05-01T10:32:54.558Z |        0.000 |            |\r\n",
      "|                      |                                       | 2017-05-01T10:33:09.560Z |        0.000 |            |\r\n",
      "|                      |                                       | 2017-05-01T10:33:09.560Z |        0.000 |            |\r\n",
      "|                      |                                       | 2017-05-01T10:33:24.557Z |        0.000 |            |\r\n",
      "|                      |                                       | 2017-05-01T10:33:24.557Z |        0.000 |            |\r\n",
      "|                      |                                       | 2017-05-01T10:33:39.560Z |        0.000 |            |\r\n",
      "|                      |                                       | 2017-05-01T10:33:39.561Z |        0.000 |            |\r\n",
      "|                      |                                       | 2017-05-01T10:33:54.562Z |        0.000 |            |\r\n",
      "|                      |                                       | 2017-05-01T10:33:54.562Z |        0.000 |            |\r\n",
      "| disk.space_used_perc | mount_point: /var/lib/lxcfs           | 2017-05-01T10:32:24.557Z |        0.000 |            |\r\n",
      "|                      |                                       | 2017-05-01T10:32:39.557Z |        0.000 |            |\r\n",
      "|                      |                                       | 2017-05-01T10:32:54.558Z |        0.000 |            |\r\n",
      "|                      |                                       | 2017-05-01T10:33:09.560Z |        0.000 |            |\r\n",
      "|                      |                                       | 2017-05-01T10:33:24.557Z |        0.000 |            |\r\n",
      "|                      |                                       | 2017-05-01T10:33:39.560Z |        0.000 |            |\r\n",
      "|                      |                                       | 2017-05-01T10:33:54.562Z |        0.000 |            |\r\n",
      "+----------------------+---------------------------------------+--------------------------+--------------+------------+\r\n"
     ]
    }
   ],
   "source": [
    "!monasca  # put your command here"
   ]
  },
  {
   "cell_type": "markdown",
   "metadata": {
    "slideshow": {
     "slide_type": "subslide"
    }
   },
   "source": [
    "# Create a function to get measurements using the Monasca Client\n",
    "---\n",
    "Let's try to use client's method 'metrics.list_measurements' to get the list of measurements.\n",
    "Please use the output of the get_metrics() function defined in the previous example as the first argument of the new function. Remember that the metric is defined by its name and the unique set of dimensions (these are attributes of the metric)."
   ]
  },
  {
   "cell_type": "code",
   "execution_count": 33,
   "metadata": {},
   "outputs": [
    {
     "name": "stdout",
     "output_type": "stream",
     "text": [
      "[\n",
      "    {\n",
      "        \"name\": \"cpu.user_perc\", \n",
      "        \"measurements\": [\n",
      "            [\n",
      "                \"2017-05-01T09:37:09.399Z\", \n",
      "                4.2, \n",
      "                {}\n",
      "            ], \n",
      "            [\n",
      "                \"2017-05-01T09:37:24.401Z\", \n",
      "                4.4, \n",
      "                {}\n",
      "            ]\n",
      "        ], \n",
      "        \"id\": \"0\", \n",
      "        \"columns\": [\n",
      "            \"timestamp\", \n",
      "            \"value\", \n",
      "            \"value_meta\"\n",
      "        ], \n",
      "        \"dimensions\": {\n",
      "            \"hostname\": \"devstack\", \n",
      "            \"service\": \"monitoring\"\n",
      "        }\n",
      "    }, \n",
      "    {\n",
      "        \"name\": \"cpu.system_perc\", \n",
      "        \"measurements\": [\n",
      "            [\n",
      "                \"2017-05-01T09:37:09.399Z\", \n",
      "                3.5, \n",
      "                {}\n",
      "            ], \n",
      "            [\n",
      "                \"2017-05-01T09:37:24.401Z\", \n",
      "                2, \n",
      "                {}\n",
      "            ]\n",
      "        ], \n",
      "        \"id\": \"0\", \n",
      "        \"columns\": [\n",
      "            \"timestamp\", \n",
      "            \"value\", \n",
      "            \"value_meta\"\n",
      "        ], \n",
      "        \"dimensions\": {\n",
      "            \"hostname\": \"devstack\", \n",
      "            \"service\": \"monitoring\"\n",
      "        }\n",
      "    }\n",
      "]\n"
     ]
    }
   ],
   "source": [
    "def get_measurements(metrics, start_time = None, end_time = None, limit=100):\n",
    "    measurements = []\n",
    "    \n",
    "    if start_time == None:\n",
    "        start_date = datetime.datetime.utcnow() - datetime.timedelta(seconds=3600)\n",
    "        start_time = start_date.strftime(\"%Y-%m-%dT%H:%M:%SZ\")\n",
    "\n",
    "    if end_time == None:\n",
    "        end_date = datetime.datetime.utcnow() - datetime.timedelta(seconds=0)\n",
    "        end_time = end_date.strftime(\"%Y-%m-%dT%H:%M:%SZ\")\n",
    "        \n",
    "    for metric in metrics:        \n",
    "        # Invoke the Monasca client\n",
    "        # please put your code here\n",
    "        measurements += monasca_client.metrics.list_measurements(\n",
    "                name=metric['name'],\n",
    "                dimensions=metric['dimensions'],\n",
    "                start_time=start_time,\n",
    "                end_time=end_time,\n",
    "                limit=limit)\n",
    "        \n",
    "    return measurements\n",
    "\n",
    "# TEST\n",
    "metrics = get_metrics(['cpu.user_perc','cpu.system_perc'])\n",
    "measurements = get_measurements(metrics, limit=2)\n",
    "assert measurements[0]['name'] == 'cpu.user_perc'\n",
    "assert len(measurements[0]['measurements']) == 2\n",
    "assert measurements[1]['name'] == 'cpu.system_perc'\n",
    "\n",
    "print json.dumps(measurements, indent=4)"
   ]
  },
  {
   "cell_type": "markdown",
   "metadata": {
    "slideshow": {
     "slide_type": "slide"
    }
   },
   "source": [
    "# Notification Methods\n",
    "---\n",
    "Specify the name, type and address to send a notification to.\n",
    "\n",
    "* GET, POST, PUT, DELETE, PATCH /v2.0/notification-methods\n",
    "\n",
    "* Notification methods are associated with actions in alarms and are invoked when alarm state transitions occur.\n",
    "\n",
    "* Supported notification methods are:\n",
    "\n",
    "  * Email\n",
    "  \n",
    "  * PagerDuty\n",
    "  \n",
    "  * Webhooks\n",
    "  \n",
    "* Plugins available for:\n",
    "\n",
    "  * Jira\n",
    "  \n",
    "  * HipChat\n",
    "  \n",
    "  * Slack"
   ]
  },
  {
   "cell_type": "markdown",
   "metadata": {
    "slideshow": {
     "slide_type": "skip"
    }
   },
   "source": [
    "# Delete all existing notifications\n",
    "Let's first delete all existing notifications to prepare the service for creating new ones."
   ]
  },
  {
   "cell_type": "code",
   "execution_count": 11,
   "metadata": {
    "collapsed": true,
    "slideshow": {
     "slide_type": "skip"
    }
   },
   "outputs": [],
   "source": [
    "notifications = monasca_client.notifications.list()\n",
    "\n",
    "for notification in notifications:\n",
    "    monasca_client.notifications.delete(\n",
    "        notification_id = notification['id']\n",
    "    )"
   ]
  },
  {
   "cell_type": "markdown",
   "metadata": {
    "slideshow": {
     "slide_type": "subslide"
    }
   },
   "source": [
    "# Help: Create Notification Method\n",
    "---"
   ]
  },
  {
   "cell_type": "code",
   "execution_count": 12,
   "metadata": {
    "slideshow": {
     "slide_type": "-"
    }
   },
   "outputs": [
    {
     "name": "stdout",
     "output_type": "stream",
     "text": [
      "usage: monasca notification-create [--period <PERIOD>]\r\n",
      "                                   <NOTIFICATION_NAME> <TYPE> <ADDRESS>\r\n",
      "\r\n",
      "Create notification.\r\n",
      "\r\n",
      "Positional arguments:\r\n",
      "  <NOTIFICATION_NAME>  Name of the notification to create.\r\n",
      "  <TYPE>               The notification type. Type must be EMAIL, WEBHOOK, or\r\n",
      "                       PAGERDUTY.\r\n",
      "  <ADDRESS>            A valid EMAIL Address, URL, or SERVICE KEY.\r\n",
      "\r\n",
      "Optional arguments:\r\n",
      "  --period <PERIOD>    A period for the notification method. Can only be non\r\n",
      "                       zero with webhooks\r\n"
     ]
    }
   ],
   "source": [
    "!monasca help notification-create"
   ]
  },
  {
   "cell_type": "markdown",
   "metadata": {
    "slideshow": {
     "slide_type": "subslide"
    }
   },
   "source": [
    "# Example: Create an email notification method"
   ]
  },
  {
   "cell_type": "code",
   "execution_count": 13,
   "metadata": {
    "slideshow": {
     "slide_type": "-"
    }
   },
   "outputs": [
    {
     "name": "stdout",
     "output_type": "stream",
     "text": [
      "{\r\n",
      "  \"name\": \"Email Notification\", \r\n",
      "  \"links\": [\r\n",
      "    {\r\n",
      "      \"href\": \"http://192.168.10.6:8070/v2.0/notification-methods/5478409f-d348-41dc-930b-fa6986fec0c7\", \r\n",
      "      \"rel\": \"self\"\r\n",
      "    }\r\n",
      "  ], \r\n",
      "  \"period\": 0, \r\n",
      "  \"address\": \"john.doe@domain.com\", \r\n",
      "  \"type\": \"EMAIL\", \r\n",
      "  \"id\": \"5478409f-d348-41dc-930b-fa6986fec0c7\"\r\n",
      "}\r\n"
     ]
    }
   ],
   "source": [
    "!monasca notification-create \"Email Notification\" EMAIL john.doe@domain.com"
   ]
  },
  {
   "cell_type": "markdown",
   "metadata": {
    "slideshow": {
     "slide_type": "subslide"
    }
   },
   "source": [
    "# Help: List Notification Methods\n",
    "---"
   ]
  },
  {
   "cell_type": "code",
   "execution_count": 27,
   "metadata": {
    "slideshow": {
     "slide_type": "-"
    }
   },
   "outputs": [
    {
     "name": "stdout",
     "output_type": "stream",
     "text": [
      "usage: monasca notification-list [--sort-by <SORT BY FIELDS>]\r\n",
      "                                 [--offset <OFFSET LOCATION>]\r\n",
      "                                 [--limit <RETURN LIMIT>]\r\n",
      "\r\n",
      "List notifications for this tenant.\r\n",
      "\r\n",
      "Optional arguments:\r\n",
      "  --sort-by <SORT BY FIELDS>\r\n",
      "                        Fields to sort by as a comma separated list. Valid\r\n",
      "                        values are id, name, type, address, created_at,\r\n",
      "                        updated_at. Fields may be followed by \"asc\" or \"desc\",\r\n",
      "                        ex \"address desc\", to set the direction of sorting.\r\n",
      "  --offset <OFFSET LOCATION>\r\n",
      "                        The offset used to paginate the return data.\r\n",
      "  --limit <RETURN LIMIT>\r\n",
      "                        The amount of data to be returned up to the API\r\n",
      "                        maximum limit.\r\n"
     ]
    }
   ],
   "source": [
    "!monasca help notification-list"
   ]
  },
  {
   "cell_type": "markdown",
   "metadata": {
    "slideshow": {
     "slide_type": "subslide"
    }
   },
   "source": [
    "# Example: List Notification Methods"
   ]
  },
  {
   "cell_type": "code",
   "execution_count": 14,
   "metadata": {
    "slideshow": {
     "slide_type": "-"
    }
   },
   "outputs": [
    {
     "name": "stdout",
     "output_type": "stream",
     "text": [
      "+--------------------+--------------------------------------+-------+---------------------+--------+\r\n",
      "| name               | id                                   | type  | address             | period |\r\n",
      "+--------------------+--------------------------------------+-------+---------------------+--------+\r\n",
      "| Email Notification | 5478409f-d348-41dc-930b-fa6986fec0c7 | EMAIL | john.doe@domain.com | 0      |\r\n",
      "+--------------------+--------------------------------------+-------+---------------------+--------+\r\n"
     ]
    }
   ],
   "source": [
    "!monasca notification-list"
   ]
  },
  {
   "cell_type": "markdown",
   "metadata": {
    "slideshow": {
     "slide_type": "slide"
    }
   },
   "source": [
    "# Alarm Definitions\n",
    "---\n",
    "Operations for creating, reading updating and deleting alarm definitions.\n",
    "\n",
    "* GET, POST /v2.0/alarm-definitions\n",
    "\n",
    "* GET, PUT, PATCH, DELETE /v2.0/alarm-definitions/{alarm-definition-id}\n",
    "\n",
    "* Alarm definitions are templates that are used to automatically create alarms based on matching metric names and dimensions\n",
    "\n",
    "    * The `match-by` paramater is used to match/group metrics together by dimension\n",
    "    \n",
    "    * e.g. `--match-by hostname` will create an alarm per unique hostname.\n",
    "\n",
    "* One alarm definition can result in many alarms\n",
    "\n",
    "* Simple grammar for creating compound alarm expressions:\n",
    "\n",
    "   avg(cpu.user_perc{}) > 85 or avg(disk.read_ops{device=vda}, 120) > 1000\n",
    "\n",
    "\n",
    "* Alarm state (ALARM, OK and UNDETERMINED)\n",
    "\n",
    "* Actions (notification methods) associated with alarms for state transitions\n",
    "\n",
    "* User assigned severity (LOW, MEDIUM, HIGH, CRITICAL)\n",
    "\n"
   ]
  },
  {
   "cell_type": "markdown",
   "metadata": {
    "slideshow": {
     "slide_type": "skip"
    }
   },
   "source": [
    "# Delete existing alarm definitions\n",
    "Let's first delete all existing alarm definitions to prepare the service for creating new ones."
   ]
  },
  {
   "cell_type": "code",
   "execution_count": 29,
   "metadata": {
    "collapsed": true,
    "slideshow": {
     "slide_type": "skip"
    }
   },
   "outputs": [],
   "source": [
    "alarm_definitions = monasca_client.alarm_definitions.list()\n",
    "\n",
    "for definition in alarm_definitions:\n",
    "    monasca_client.alarm_definitions.delete(alarm_id=definition['id'])    "
   ]
  },
  {
   "cell_type": "markdown",
   "metadata": {
    "slideshow": {
     "slide_type": "subslide"
    }
   },
   "source": [
    "# Help: Create alarm definition"
   ]
  },
  {
   "cell_type": "code",
   "execution_count": null,
   "metadata": {
    "collapsed": true
   },
   "outputs": [],
   "source": [
    "!monasca help alarm-definition-create"
   ]
  },
  {
   "cell_type": "markdown",
   "metadata": {
    "slideshow": {
     "slide_type": "subslide"
    }
   },
   "source": [
    "# Example: Create alarm definition\n",
    "Create an alarm definition that triggers if the avg of CPU user percent is greater than 80% over 3 60 s periods."
   ]
  },
  {
   "cell_type": "code",
   "execution_count": null,
   "metadata": {
    "collapsed": true
   },
   "outputs": [],
   "source": [
    "!monasca alarm-definition-create simple-alarm \"max(cpu.user_perc{}, 60) > 80 times 3\""
   ]
  },
  {
   "cell_type": "markdown",
   "metadata": {
    "slideshow": {
     "slide_type": "subslide"
    }
   },
   "source": [
    "# Example: Create a compound alarm definition\n",
    "An alarm definition that triggers if either the CPU user or system percent is greater than 80% over 3 60 second periods."
   ]
  },
  {
   "cell_type": "code",
   "execution_count": null,
   "metadata": {
    "collapsed": true
   },
   "outputs": [],
   "source": [
    "!monasca alarm-definition-create compound-alarm \"avg(cpu.user_perc{}, 60) > 80 times 3 or avg(cpu.system_perc{}, 60) > 80 times 3\""
   ]
  },
  {
   "cell_type": "markdown",
   "metadata": {
    "slideshow": {
     "slide_type": "subslide"
    }
   },
   "source": [
    "# Alarm definition match_by\n",
    "\n",
    "* As metrics are consumed by the Threshold Engine they are filtered and checked if they match the definitions that have been specified, based on the metric name and dimensions.\n",
    "\n",
    "* If a match is found and it is the first one, a new alarm is created.\n",
    "\n",
    "* If the match_by parameter is specified, metrics are grouped into alarms that match the specified dimensions."
   ]
  },
  {
   "cell_type": "markdown",
   "metadata": {
    "slideshow": {
     "slide_type": "subslide"
    }
   },
   "source": [
    "# Example: Two alarm definitions\n",
    "1. One with no match_by parameter\n",
    "2. One with match_by set on hostname"
   ]
  },
  {
   "cell_type": "code",
   "execution_count": null,
   "metadata": {
    "collapsed": true
   },
   "outputs": [],
   "source": [
    "!monasca alarm-definition-create \"match name only\" \"max(test-metric{}) > 80\"\n",
    "!monasca alarm-definition-create --match-by hostname \"match by hostname\" \"max(test-metric{}) > 80\""
   ]
  },
  {
   "cell_type": "markdown",
   "metadata": {
    "slideshow": {
     "slide_type": "subslide"
    }
   },
   "source": [
    "# Example: Send two metrics\n",
    "1. One with a name of test-metric and a hostname set to foo\n",
    "2. One with a name of test-metric and a hostname set to bar"
   ]
  },
  {
   "cell_type": "code",
   "execution_count": null,
   "metadata": {
    "collapsed": true
   },
   "outputs": [],
   "source": [
    "!monasca metric-create --dimensions hostname=foo test-metric 0.0\n",
    "!monasca metric-create --dimensions hostname=bar test-metric 0.0"
   ]
  },
  {
   "cell_type": "markdown",
   "metadata": {
    "slideshow": {
     "slide_type": "subslide"
    }
   },
   "source": [
    "# Quiz: How many alarms were created?"
   ]
  },
  {
   "cell_type": "code",
   "execution_count": null,
   "metadata": {
    "collapsed": true,
    "slideshow": {
     "slide_type": "fragment"
    }
   },
   "outputs": [],
   "source": [
    "!monasca alarm-list --metric-name \"test-metric\""
   ]
  },
  {
   "cell_type": "markdown",
   "metadata": {
    "slideshow": {
     "slide_type": "fragment"
    }
   },
   "source": [
    "Three alarms were created:\n",
    "\n",
    "1. There is one alarm with name \"match name only\". It has two metrics that are associated with it.\n",
    "\n",
    "2. There are two alarms with name \"match by hostname\". Each alarm has one metric that is associated with it, based on the hostnames of `foo` and `bar`."
   ]
  },
  {
   "cell_type": "markdown",
   "metadata": {
    "slideshow": {
     "slide_type": "subslide"
    }
   },
   "source": [
    "# UNDETERMINED alarm state\n",
    "* There are three states of an alarm, `OK`, `ALARM` and `UNDETERMINED`.\n",
    "\n",
    "* The `UNDETERMINED` alarm state occurs when metrics are no longer being received by an alarm.\n",
    "\n",
    "* For example, a service is disabled, a system goes down, the network experiences a disruption.\n",
    "\n",
    "* You can define the alarm as `deterministic`. The only allowed states are then: `OK` and `ALARM`."
   ]
  },
  {
   "cell_type": "markdown",
   "metadata": {
    "slideshow": {
     "slide_type": "subslide"
    }
   },
   "source": [
    "# Example: Create an alarm definition with an alarm action."
   ]
  },
  {
   "cell_type": "code",
   "execution_count": null,
   "metadata": {
    "collapsed": true
   },
   "outputs": [],
   "source": [
    "!monasca alarm-definition-show 07e06d69-2067-486a-aaa2-ae163468f44b"
   ]
  },
  {
   "cell_type": "code",
   "execution_count": null,
   "metadata": {
    "collapsed": true
   },
   "outputs": [],
   "source": [
    "# Get the ID of the pagerduty notification method\n",
    "notifications = monasca_client.notifications.list(sort_by='TYPE')\n",
    "pagerduty_notification_id = None\n",
    "for notification in notifications:\n",
    "    if notification['type'] == 'PAGERDUTY':\n",
    "        pagerduty_notification = notification   \n",
    "        pagerduty_notification_id = pagerduty_notification['id']\n",
    "\n",
    "# Create the alarm        \n",
    "monasca_client.alarm_definitions.create(name='bootcamp-test',\n",
    "                                        expression='max(cpu.user_perc{}) > 0',\n",
    "                                        alarm_actions=pagerduty_notification_id)"
   ]
  },
  {
   "cell_type": "markdown",
   "metadata": {
    "slideshow": {
     "slide_type": "slide"
    }
   },
   "source": [
    "# Alarms\n",
    "---\n",
    "Alarms are created when incoming metrics match alarm definitions\n",
    "\n",
    "\n",
    "* GET /v2.0/alarms\n",
    "* GET, PUT, PATCH, DELETE /v2.0/alarms/{alarm-id}\n",
    "\n",
    "* Query Parameters\n",
    "\n",
    "    * alarm_definition_id (string, optional) - Alarm definition ID to filter by.\n",
    "\n",
    "    * metric_name (string(255), optional) - Name of metric to filter by.\n",
    "\n",
    "    * metric_dimensions ({string(255): string(255)}, optional) - Dimensions of metrics to filter by specified as a comma separated array of (key, value) pairs as `key1:value1,key1:value1, ...`\n",
    "\n",
    "    * state (string, optional) - State of alarm to filter by, either `OK`, `ALARM` or `UNDETERMINED`.\n",
    "\n",
    "    * state_updated_start_time (string, optional) - The start time in ISO 8601 combined date and time format in UTC.\n",
    "    \n",
    "    * sort-by: Fields to sort by\n",
    "    \n",
    "    * offset, limit\n"
   ]
  },
  {
   "cell_type": "markdown",
   "metadata": {
    "slideshow": {
     "slide_type": "subslide"
    }
   },
   "source": [
    "# Help: Alarms list"
   ]
  },
  {
   "cell_type": "code",
   "execution_count": null,
   "metadata": {
    "collapsed": true,
    "slideshow": {
     "slide_type": "-"
    }
   },
   "outputs": [],
   "source": [
    "!monasca help alarm-list"
   ]
  },
  {
   "cell_type": "markdown",
   "metadata": {
    "slideshow": {
     "slide_type": "subslide"
    }
   },
   "source": [
    "# Example: Alarm list"
   ]
  },
  {
   "cell_type": "code",
   "execution_count": null,
   "metadata": {
    "collapsed": true
   },
   "outputs": [],
   "source": [
    "!monasca alarm-list --sort-by severity"
   ]
  },
  {
   "cell_type": "markdown",
   "metadata": {
    "slideshow": {
     "slide_type": "slide"
    }
   },
   "source": [
    "# Alarm Counts\n",
    "---\n",
    "Provides the ability to query counts of alarms using a number of filter and group-by query parameters.\n",
    "\n",
    "* GET /v2.0/alarms/counts\n",
    "\n",
    "* Primarily used in summary/overview dashboards to show the number of alarms in the OK, ALARM and UNDETERMINED state.\n",
    "\n",
    "* Queries are processed in-database, not client-side.\n",
    "\n",
    "* A number of filter and group-by fields are supported."
   ]
  },
  {
   "cell_type": "markdown",
   "metadata": {
    "slideshow": {
     "slide_type": "subslide"
    }
   },
   "source": [
    "# Help: Alarm counts"
   ]
  },
  {
   "cell_type": "code",
   "execution_count": null,
   "metadata": {
    "collapsed": true,
    "slideshow": {
     "slide_type": "-"
    }
   },
   "outputs": [],
   "source": [
    "!monasca help alarm-count"
   ]
  },
  {
   "cell_type": "markdown",
   "metadata": {
    "slideshow": {
     "slide_type": "subslide"
    }
   },
   "source": [
    "# Example: Alarm counts"
   ]
  },
  {
   "cell_type": "code",
   "execution_count": null,
   "metadata": {
    "collapsed": true,
    "slideshow": {
     "slide_type": "-"
    }
   },
   "outputs": [],
   "source": [
    "!monasca alarm-count --metric-dimensions service=monitoring --group-by state,dimension_name"
   ]
  },
  {
   "cell_type": "markdown",
   "metadata": {
    "slideshow": {
     "slide_type": "slide"
    }
   },
   "source": [
    "# Agent\n",
    "---\n",
    "* A Python monitoring agent\n",
    "* Push model\n",
    "* Agent is installed on the systems that we want to monitor\n",
    "* Collects metrics by running a set of collection plugins every X amount of seconds \n",
    "* Collection plugins are enabled by detection plugins\n",
    "* Detection plugins generate yaml config files that the collection plugins read from\n",
    "* The agent has a monasca-setup command line tool that helps configure the agent and run detection plugins"
   ]
  },
  {
   "cell_type": "markdown",
   "metadata": {
    "slideshow": {
     "slide_type": "subslide"
    }
   },
   "source": [
    "# Agent Metrics and Plugins\n",
    "\n",
    "* System metrics (cpu, memory, network, filesystem, …)\n",
    "\n",
    "* Service metrics\n",
    "\n",
    "* RabbitMQ, MySQL, Kafka, and many others\n",
    "\n",
    "* Application metrics\n",
    "\n",
    "    * Built-in statsd daemon\n",
    "\n",
    "    * Python monasca-statsd library: Adds support for dimensions\n",
    "\n",
    "* VM system metrics\n",
    "\n",
    "* Active checks\n",
    "\n",
    "    * HTTP status checks and response times\n",
    "    \n",
    "    * System up/down checks (ping and ssh)\n",
    "    \n",
    "* Support for Nagios and checkmk\n",
    "\n",
    "* Extensible/Pluggable: Additional services can be easily added\n"
   ]
  },
  {
   "cell_type": "markdown",
   "metadata": {
    "slideshow": {
     "slide_type": "subslide"
    }
   },
   "source": [
    "# Monasca-setup options"
   ]
  },
  {
   "cell_type": "code",
   "execution_count": null,
   "metadata": {
    "collapsed": true
   },
   "outputs": [],
   "source": [
    "!/opt/monasca-agent/bin/monasca-setup -h"
   ]
  },
  {
   "cell_type": "markdown",
   "metadata": {
    "slideshow": {
     "slide_type": "subslide"
    }
   },
   "source": [
    "# Monasca-setup configuring agent"
   ]
  },
  {
   "cell_type": "code",
   "execution_count": 17,
   "metadata": {},
   "outputs": [
    {
     "name": "stdout",
     "output_type": "stream",
     "text": [
      "#!/bin/sh\r\n",
      "'/opt/monasca-agent/bin/monasca-setup' \\\r\n",
      "    -u 'monasca-agent' \\\r\n",
      "    -p 'password' \\\r\n",
      "     -s 'monitoring'  \\\r\n",
      "    --keystone_url 'http://192.168.10.6:35357/v3' \\\r\n",
      "    --project_name 'mini-mon' \\\r\n",
      "     --monasca_url 'http://192.168.10.6:8070/v2.0'  \\\r\n",
      "     \\\r\n",
      "     --check_frequency '15'  \\\r\n",
      "     \\\r\n",
      "     --log_level 'WARN'  \\\r\n",
      "    --overwrite \\\r\n",
      "    --system_only \\\r\n",
      "    --monasca_statsd_port 8125\r\n"
     ]
    }
   ],
   "source": [
    "!sudo cat /usr/local/bin/monasca-reconfigure\n",
    "#monasca_agent_setup_command = shell.run([\"sudo\", \"cat\", \"/usr/local/bin/monasca-reconfigure\"])\n",
    "#print monasca_agent_setup_command.output"
   ]
  },
  {
   "cell_type": "markdown",
   "metadata": {
    "slideshow": {
     "slide_type": "subslide"
    }
   },
   "source": [
    "# Monasca agent configuration file"
   ]
  },
  {
   "cell_type": "code",
   "execution_count": 18,
   "metadata": {},
   "outputs": [
    {
     "name": "stdout",
     "output_type": "stream",
     "text": [
      "Api:\r\n",
      "  amplifier: 0\r\n",
      "  backlog_send_rate: 1000\r\n",
      "  ca_file: null\r\n",
      "  endpoint_type: null\r\n",
      "  insecure: false\r\n",
      "  keystone_url: http://192.168.10.6:35357/v3\r\n",
      "  max_buffer_size: 1000\r\n",
      "  max_measurement_buffer_size: -1\r\n",
      "  password: password\r\n",
      "  project_domain_id: null\r\n",
      "  project_domain_name: null\r\n",
      "  project_id: null\r\n",
      "  project_name: mini-mon\r\n",
      "  region_name: null\r\n",
      "  service_type: null\r\n",
      "  url: http://192.168.10.6:8070/v2.0\r\n",
      "  user_domain_id: null\r\n",
      "  user_domain_name: null\r\n",
      "  username: monasca-agent\r\n",
      "Logging:\r\n",
      "  collector_log_file: /var/log/monasca/agent/collector.log\r\n",
      "  forwarder_log_file: /var/log/monasca/agent/forwarder.log\r\n",
      "  log_level: WARN\r\n",
      "  statsd_log_file: /var/log/monasca/agent/statsd.log\r\n",
      "Main:\r\n",
      "  check_freq: 15\r\n",
      "  collector_restart_interval: 24\r\n",
      "  dimensions:\r\n",
      "    service: monitoring\r\n",
      "  hostname: devstack\r\n",
      "  num_collector_threads: 1\r\n",
      "  pool_full_max_retries: 4\r\n",
      "  sub_collection_warn: 6\r\n",
      "Statsd:\r\n",
      "  monasca_statsd_port: 8125\r\n"
     ]
    }
   ],
   "source": [
    "!sudo cat /etc/monasca/agent/agent.yaml\n",
    "\n",
    "#monasca_agent_setup_command = shell.run([\"sudo\", \"cat\", \"/etc/monasca/agent/agent.yaml\"])\n",
    "#print monasca_agent_setup_command.output"
   ]
  },
  {
   "cell_type": "markdown",
   "metadata": {
    "slideshow": {
     "slide_type": "subslide"
    }
   },
   "source": [
    "# Agent Detection Plugins\n",
    "\n",
    "* Run after initial configuration is run\n",
    "* List of avaiable plugins \n"
   ]
  },
  {
   "cell_type": "markdown",
   "metadata": {
    "slideshow": {
     "slide_type": "subslide"
    }
   },
   "source": [
    "# Run Kafka Detection Plugin"
   ]
  },
  {
   "cell_type": "code",
   "execution_count": null,
   "metadata": {
    "collapsed": true
   },
   "outputs": [],
   "source": [
    "monasca_agent_mysql_detection_run = shell.run([\"sudo\", \"/opt/monasca-agent/bin/monasca-setup\", \"-d\", \"kafka\"])\n",
    "print monasca_agent_mysql_detection_run.stderr_output"
   ]
  },
  {
   "cell_type": "markdown",
   "metadata": {
    "slideshow": {
     "slide_type": "subslide"
    }
   },
   "source": [
    "# Example: Query the Kafka consumer lag metrics"
   ]
  },
  {
   "cell_type": "code",
   "execution_count": null,
   "metadata": {
    "collapsed": true,
    "slideshow": {
     "slide_type": "fragment"
    }
   },
   "outputs": [],
   "source": [
    "!monasca metric-list --name kafka.consumer_lag"
   ]
  },
  {
   "cell_type": "markdown",
   "metadata": {
    "slideshow": {
     "slide_type": "subslide"
    }
   },
   "source": [
    "# Example: Query the Kafka consumer lag measurements"
   ]
  },
  {
   "cell_type": "code",
   "execution_count": null,
   "metadata": {
    "collapsed": true,
    "slideshow": {
     "slide_type": "-"
    }
   },
   "outputs": [],
   "source": [
    "!monasca measurement-list kafka.consumer_lag --dimensions consumer_group=1_metrics -10 --limit 10"
   ]
  },
  {
   "cell_type": "markdown",
   "metadata": {
    "slideshow": {
     "slide_type": "subslide"
    }
   },
   "source": [
    "# Example: Display Kafka consumer lag using Plotly"
   ]
  },
  {
   "cell_type": "code",
   "execution_count": null,
   "metadata": {
    "collapsed": true,
    "slideshow": {
     "slide_type": "-"
    }
   },
   "outputs": [],
   "source": [
    "metrics = get_metrics(names=['kafka.consumer_lag'])\n",
    "statistics = get_statistics(metrics, interval=600)\n",
    "df = df_from_statistics(statistics, group_by=['consumer_group'])\n",
    "df.iplot(kind='line', fill=True, xTitle='Date', yTitle='Value', title='Statistics')"
   ]
  },
  {
   "cell_type": "markdown",
   "metadata": {
    "slideshow": {
     "slide_type": "subslide"
    }
   },
   "source": [
    "# Example: Display a boxplot of Kafka consumer lag using Plotly"
   ]
  },
  {
   "cell_type": "code",
   "execution_count": null,
   "metadata": {
    "collapsed": true,
    "slideshow": {
     "slide_type": "-"
    }
   },
   "outputs": [],
   "source": [
    "df.iplot(kind='box')"
   ]
  },
  {
   "cell_type": "markdown",
   "metadata": {
    "slideshow": {
     "slide_type": "subslide"
    }
   },
   "source": [
    "# Example: Detection yaml configuration"
   ]
  },
  {
   "cell_type": "code",
   "execution_count": null,
   "metadata": {
    "collapsed": true,
    "slideshow": {
     "slide_type": "-"
    }
   },
   "outputs": [],
   "source": [
    "monasca_agent_detection_conf_example = shell.run([\"sudo\", \"cat\", \"/etc/monasca/agent/conf.d/kafka_consumer.yaml\"])\n",
    "print monasca_agent_detection_conf_example.output"
   ]
  },
  {
   "cell_type": "markdown",
   "metadata": {
    "slideshow": {
     "slide_type": "slide"
    }
   },
   "source": [
    "# Developing and Testing\n",
    "---"
   ]
  },
  {
   "cell_type": "markdown",
   "metadata": {
    "slideshow": {
     "slide_type": "fragment"
    }
   },
   "source": [
    "* Python and Java codebase"
   ]
  },
  {
   "cell_type": "markdown",
   "metadata": {
    "slideshow": {
     "slide_type": "fragment"
    }
   },
   "source": [
    "* Monasca DevStack Plugin"
   ]
  },
  {
   "cell_type": "markdown",
   "metadata": {
    "slideshow": {
     "slide_type": "fragment"
    }
   },
   "source": [
    "* Unit Tests"
   ]
  },
  {
   "cell_type": "markdown",
   "metadata": {
    "slideshow": {
     "slide_type": "fragment"
    }
   },
   "source": [
    "* Monasca Tempest Tests"
   ]
  },
  {
   "cell_type": "markdown",
   "metadata": {
    "slideshow": {
     "slide_type": "fragment"
    }
   },
   "source": [
    "* Monasca and OpenStack CI"
   ]
  },
  {
   "cell_type": "markdown",
   "metadata": {
    "slideshow": {
     "slide_type": "subslide"
    }
   },
   "source": [
    "# Monasca Repos\n",
    "---\n",
    "* Monasca is a micro-services message bus based architecture.\n",
    "* Several repos:\n",
    "    * monasca-api: The Monasca API, both Python and Java. \n",
    "    * monasca-persister: The Monasca Persister, both Python and Java.\n",
    "    * monasca-thresh: The Monasca Threshold Engine. Java only. Uses Apache Kafka.\n",
    "    * monasca-notification: The Monasca Notification Engine. Python only.\n",
    "    * monasca-common: Both Python and Java.\n",
    "    * monasca-agent: Python.\n",
    "    * monasca-statsd: Python.\n",
    "    * monasca-ui: Python.\n",
    "    * python-monascaclient: Python.\n",
    "    * puppet-monasca: Puppet.\n",
    "    * monasca-log-api: Focused on Python."
   ]
  },
  {
   "cell_type": "markdown",
   "metadata": {
    "slideshow": {
     "slide_type": "subslide"
    }
   },
   "source": [
    "# Monasca DevStack Plugin\n",
    "---"
   ]
  },
  {
   "cell_type": "markdown",
   "metadata": {
    "slideshow": {
     "slide_type": "-"
    }
   },
   "source": [
    "* DevStack is the primary developmement environment for OpenStack.\n",
    "\n",
    "    * See http://docs.openstack.org/developer/devstack/\n",
    "\n",
    "* The Monasca DevStack plugin installs the Monasca Service, Agent, Horizon Panel, and Grafana\n",
    "\n",
    "* README at, https://github.com/openstack/monasca-api/tree/master/devstack\n",
    "\n",
    "* Best way to get started is to deply with Vagrant using the Vagrantfile at, https://github.com/openstack/monasca-api/blob/master/devstack/Vagrantfile.\n",
    "\n",
    "* The Monasca Log API has a DevStack plugin too."
   ]
  },
  {
   "cell_type": "markdown",
   "metadata": {
    "slideshow": {
     "slide_type": "subslide"
    }
   },
   "source": [
    "# Monasca Tempest Tests\n",
    "---"
   ]
  },
  {
   "cell_type": "markdown",
   "metadata": {
    "slideshow": {
     "slide_type": "-"
    }
   },
   "source": [
    "* [Tempest](http://docs.openstack.org/developer/tempest) is the integration test suite for OpenStack.\n",
    "\n",
    "* Tempest has an external [Test Plugin Interface](http://docs.openstack.org/developer/tempest/plugin.html) interface that enables anyone to integrate an external test suite.\n",
    "\n",
    "* There is a [Monasca Tempest Plugin](https://github.com/openstack/monasca-api/tree/master/monasca_tempest_tests)\n",
    "\n",
    "* Currently, there are around 150 Tempest Tests written for Monasca that run in around 5 minutes."
   ]
  },
  {
   "cell_type": "markdown",
   "metadata": {
    "slideshow": {
     "slide_type": "subslide"
    }
   },
   "source": [
    "# Monasca and OpenStack CI\n",
    "---"
   ]
  },
  {
   "cell_type": "markdown",
   "metadata": {
    "slideshow": {
     "slide_type": "-"
    }
   },
   "source": [
    "* Monasca is fully integrated in the OpenStack CI system.\n",
    "\n",
    "* Gated jobs are run with each commit on both the Python and Java components through the normal gates and all the Monasca Tempest tests using the Monasca DevStack Plugin."
   ]
  },
  {
   "cell_type": "markdown",
   "metadata": {
    "slideshow": {
     "slide_type": "subslide"
    }
   },
   "source": [
    "# Contact the Monasca Team\n",
    "---\n",
    "Here are a couple of ways of getting in-touch with us.\n",
    "\n",
    "* Monasca Weekly Meetings\n",
    "\n",
    "    * Weekly on Wednesday at 1500 UTC in #openstack-meeting-3 (IRC webclient)\n",
    "    \n",
    "* Monasca in IRC\n",
    "\n",
    "    * #openstack-monasca"
   ]
  },
  {
   "cell_type": "markdown",
   "metadata": {
    "slideshow": {
     "slide_type": "slide"
    }
   },
   "source": [
    "# What's new?\n",
    "---\n",
    "* Many enhancements for filtering and sorting resources that return arrays. Focused on improving user experience.\n",
    "\n",
    "* Multiple metrics (in progress): Allow multiple metrics to be returned in a single request. Improves query performance.\n",
    "\n",
    "* Sporadic metrics (in progress): Supports event based metrics. Metrics that occur infrequently or when events occur. Support events and primarily focused on supporting the Monasca Log Metrics component.\n",
    "\n",
    "* Periodic notifications (in progress): Send notifications more than once. Improves Heat auto-scaling.\n",
    "\n",
    "* VM metrics for `host_alive` and `ping_check`. Enables detection of VM status.\n",
    "\n",
    "* Log API."
   ]
  },
  {
   "cell_type": "markdown",
   "metadata": {
    "slideshow": {
     "slide_type": "slide"
    }
   },
   "source": [
    "# Next Steps\n",
    "---\n",
    "\n",
    "* monasca-transform: A transform and aggregation micro-service for Monasca.\n",
    "\n",
    "    * blueprint: https://blueprints.launchpad.net/monasca/+spec/monasca-transform\n",
    "    \n",
    "    * repo: https://github.com/openstack/monasca-transform\n",
    "\n",
    "* monasca-analytics: An experimental micro-service for Monasca that does anomaly detection and alarm clustering/correlation.\n",
    "\n",
    "* monasca-events: Complex events processing. Primarily focused on OpenStack notifications.\n",
    "\n",
    "* Retention periods\n",
    "\n",
    "* Compression\n",
    "\n",
    "* More performance improvements\n",
    "\n",
    "* Dimensions resource.\n",
    "\n",
    "* Network monitoring: Broadview, Neutron. [OVS Virtual Router Metrics](https://review.openstack.org/#/c/306621/)\n",
    "\n",
    "Monasca workgroup sessions Wednesday at the Austin Summit Wednesday, 9:00-2:30."
   ]
  },
  {
   "cell_type": "markdown",
   "metadata": {
    "slideshow": {
     "slide_type": "slide"
    }
   },
   "source": [
    "# Horizon and Grafana 2 Demo\n",
    "\n",
    "[Horizon](http://192.168.10.6)\n",
    "\n",
    "[Grafana 2.0](http://192.168.10.6:3000/login)"
   ]
  },
  {
   "cell_type": "markdown",
   "metadata": {
    "slideshow": {
     "slide_type": "slide"
    }
   },
   "source": [
    "# Example: Add Monasca datasource to Grafana\n",
    "\n",
    "![Monasca Datasource](monasca-datasource.png)"
   ]
  },
  {
   "cell_type": "markdown",
   "metadata": {
    "slideshow": {
     "slide_type": "slide"
    }
   },
   "source": [
    "# Acknowledgments\n",
    "---"
   ]
  },
  {
   "cell_type": "markdown",
   "metadata": {
    "slideshow": {
     "slide_type": "fragment"
    }
   },
   "source": [
    "* The OpenStack Technical Committee: Doug Hellman, Flavio Percoco, Thierry Carrez"
   ]
  },
  {
   "cell_type": "markdown",
   "metadata": {
    "slideshow": {
     "slide_type": "fragment"
    }
   },
   "source": [
    "* Hewlett Packard Enterprise"
   ]
  },
  {
   "cell_type": "markdown",
   "metadata": {
    "slideshow": {
     "slide_type": "fragment"
    }
   },
   "source": [
    "* Time Warner Cable"
   ]
  },
  {
   "cell_type": "markdown",
   "metadata": {
    "slideshow": {
     "slide_type": "fragment"
    }
   },
   "source": [
    "* Fujitsu"
   ]
  },
  {
   "cell_type": "markdown",
   "metadata": {
    "slideshow": {
     "slide_type": "fragment"
    }
   },
   "source": [
    "* Cisco"
   ]
  },
  {
   "cell_type": "markdown",
   "metadata": {
    "slideshow": {
     "slide_type": "fragment"
    }
   },
   "source": [
    "* NEC"
   ]
  },
  {
   "cell_type": "markdown",
   "metadata": {
    "slideshow": {
     "slide_type": "fragment"
    }
   },
   "source": [
    "* Cray"
   ]
  },
  {
   "cell_type": "markdown",
   "metadata": {
    "slideshow": {
     "slide_type": "fragment"
    }
   },
   "source": [
    "* SAP"
   ]
  },
  {
   "cell_type": "markdown",
   "metadata": {
    "slideshow": {
     "slide_type": "slide"
    }
   },
   "source": [
    "# Thank you\n",
    "![Thank you](austin-thank-you.png)"
   ]
  },
  {
   "cell_type": "markdown",
   "metadata": {
    "slideshow": {
     "slide_type": "skip"
    }
   },
   "source": [
    "# Resources\n",
    "---"
   ]
  },
  {
   "cell_type": "code",
   "execution_count": null,
   "metadata": {
    "collapsed": true,
    "slideshow": {
     "slide_type": "skip"
    }
   },
   "outputs": [],
   "source": [
    "!monasca -j measurement-list cpu.user_perc -1"
   ]
  },
  {
   "cell_type": "raw",
   "metadata": {
    "slideshow": {
     "slide_type": "skip"
    }
   },
   "source": [
    "import time\n",
    "up = ['nova', 'neutron', 'glance', 'cinder', 'swift', 'ceilometer']\n",
    "down = []\n",
    "while True:\n",
    "    for s in up:\n",
    "        !monasca metric-create --dimensions service=$s http_status 0.0\n",
    "    for s in down:\n",
    "        !monasca metric-create --dimensions service=$s http_status 1.0        \n",
    "    time.sleep(30)"
   ]
  },
  {
   "cell_type": "markdown",
   "metadata": {
    "slideshow": {
     "slide_type": "skip"
    }
   },
   "source": [
    "# Example: Alarm with nested alarm subexpression"
   ]
  },
  {
   "cell_type": "raw",
   "metadata": {
    "slideshow": {
     "slide_type": "skip"
    }
   },
   "source": [
    "!monasca alarm-definition-create nested-alarms \"(min(http_status{}) > 0) or (avg(cpu.user_perc{}, 60) > 80 or avg(cpu.system_perc{}, 60) > 80)\""
   ]
  },
  {
   "cell_type": "code",
   "execution_count": null,
   "metadata": {
    "collapsed": true,
    "slideshow": {
     "slide_type": "skip"
    }
   },
   "outputs": [],
   "source": []
  }
 ],
 "metadata": {
  "celltoolbar": "Slideshow",
  "kernelspec": {
   "display_name": "Python 2",
   "language": "python",
   "name": "python2"
  },
  "language_info": {
   "codemirror_mode": {
    "name": "ipython",
    "version": 2
   },
   "file_extension": ".py",
   "mimetype": "text/x-python",
   "name": "python",
   "nbconvert_exporter": "python",
   "pygments_lexer": "ipython2",
   "version": "2.7.12"
  }
 },
 "nbformat": 4,
 "nbformat_minor": 1
}
