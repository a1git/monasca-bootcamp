{
 "cells": [
  {
   "cell_type": "code",
   "execution_count": 27,
   "metadata": {
    "collapsed": false,
    "slideshow": {
     "slide_type": "skip"
    }
   },
   "outputs": [
    {
     "data": {
      "text/plain": [
       "{u'start_slideshow_at': 'selected', u'theme': 'serif', u'transition': 'zoom'}"
      ]
     },
     "execution_count": 27,
     "metadata": {},
     "output_type": "execute_result"
    }
   ],
   "source": [
    "# http://www.slideviper.oquanta.info/tutorial/slideshow_tutorial_slides.html#/3\n",
    "# http://www.damian.oquanta.info/posts/make-your-slides-with-ipython.html\n",
    "# https://github.com/damianavila/slideviper_test/blob/gh-pages/tutorial/slideshow_tutorial.ipynb\n",
    "from notebook.services.config import ConfigManager\n",
    "cm = ConfigManager()\n",
    "cm.update('livereveal', {\n",
    "              'theme': 'serif',\n",
    "              'transition': 'zoom',\n",
    "              'start_slideshow_at': 'selected',\n",
    "})"
   ]
  },
  {
   "cell_type": "markdown",
   "metadata": {
    "slideshow": {
     "slide_type": "slide"
    }
   },
   "source": [
    "# Monasca Bootcamp\n",
    "\n",
    "[Roland Hochmuth](https://www.linkedin.com/in/rolandhochmuth)\n",
    "\n",
    "[Michael Hoppal](https://www.linkedin.com/in/hoppalmichael)"
   ]
  },
  {
   "cell_type": "markdown",
   "metadata": {
    "slideshow": {
     "slide_type": "slide"
    }
   },
   "source": [
    "# Agenda\n",
    "\n",
    "* Overview\n",
    "* Architecture\n",
    "* Deployment\n",
    "* API, CLI (python-monascaclient) and client\n",
    "* Agent\n",
    "* Developing\n",
    "* Current status\n",
    "* What next?\n"
   ]
  },
  {
   "cell_type": "markdown",
   "metadata": {
    "slideshow": {
     "slide_type": "slide"
    }
   },
   "source": [
    "# Who is involved in the project?"
   ]
  },
  {
   "cell_type": "markdown",
   "metadata": {
    "slideshow": {
     "slide_type": "fragment"
    }
   },
   "source": [
    "* Hewlett Packard Enterprise"
   ]
  },
  {
   "cell_type": "markdown",
   "metadata": {
    "slideshow": {
     "slide_type": "fragment"
    }
   },
   "source": [
    "* Time Warner Cable"
   ]
  },
  {
   "cell_type": "markdown",
   "metadata": {
    "slideshow": {
     "slide_type": "fragment"
    }
   },
   "source": [
    "* Fujitsu"
   ]
  },
  {
   "cell_type": "markdown",
   "metadata": {
    "slideshow": {
     "slide_type": "fragment"
    }
   },
   "source": [
    "* Cisco"
   ]
  },
  {
   "cell_type": "markdown",
   "metadata": {
    "slideshow": {
     "slide_type": "fragment"
    }
   },
   "source": [
    "* NEC"
   ]
  },
  {
   "cell_type": "markdown",
   "metadata": {
    "slideshow": {
     "slide_type": "fragment"
    }
   },
   "source": [
    "* Cray"
   ]
  },
  {
   "cell_type": "markdown",
   "metadata": {
    "slideshow": {
     "slide_type": "fragment"
    }
   },
   "source": [
    "* SAP"
   ]
  },
  {
   "cell_type": "markdown",
   "metadata": {
    "slideshow": {
     "slide_type": "slide"
    }
   },
   "source": [
    "# Import libraries"
   ]
  },
  {
   "cell_type": "code",
   "execution_count": 28,
   "metadata": {
    "collapsed": false,
    "slideshow": {
     "slide_type": "-"
    }
   },
   "outputs": [],
   "source": [
    "import datetime\n",
    "import time\n",
    "\n",
    "# Import libraries use for visualization and analysis\n",
    "import pandas as pd\n",
    "import plotly.plotly as py\n",
    "import plotly.graph_objs as go\n",
    "import cufflinks as cf\n",
    "import numpy as np\n",
    "\n",
    "# Import the Monasca and Keystone client\n",
    "from monascaclient import client\n",
    "from monascaclient import ksclient"
   ]
  },
  {
   "cell_type": "markdown",
   "metadata": {
    "slideshow": {
     "slide_type": "slide"
    }
   },
   "source": [
    "# Initialize the Keystone and Monasca Client"
   ]
  },
  {
   "cell_type": "code",
   "execution_count": 29,
   "metadata": {
    "collapsed": true,
    "slideshow": {
     "slide_type": "-"
    }
   },
   "outputs": [],
   "source": [
    "KEYSTONE_URL = 'http://192.168.10.6:5000/v3'\n",
    "PROJECT_NAME = 'mini-mon'\n",
    "USERNAME = 'mini-mon'\n",
    "PASSWORD = 'password'"
   ]
  },
  {
   "cell_type": "code",
   "execution_count": 30,
   "metadata": {
    "collapsed": false,
    "slideshow": {
     "slide_type": "-"
    }
   },
   "outputs": [
    {
     "name": "stdout",
     "output_type": "stream",
     "text": [
      "env: OS_PROJECT_NAME=mini-mon\n",
      "env: OS_PASSWORD=password\n",
      "env: OS_AUTH_URL=http://192.168.10.6:5000/v3\n",
      "env: OS_USERNAME=mini-mon\n"
     ]
    }
   ],
   "source": [
    "# Authenticate to Keystone\n",
    "keystone_client = ksclient.KSClient(auth_url=KEYSTONE_URL, username=USERNAME, password=PASSWORD)\n",
    "\n",
    "# Create the Monasca client\n",
    "monasca_client = client.Client('2_0', keystone_client.monasca_url, token=keystone_client.token)\n",
    "\n",
    "# Initialize environment variables to use the Monasca CLI\n",
    "%env OS_PROJECT_NAME=$PROJECT_NAME\n",
    "%env OS_PASSWORD=$PASSWORD\n",
    "%env OS_AUTH_URL=$KEYSTONE_URL\n",
    "%env OS_USERNAME=$USERNAME\n",
    "\n",
    "# If you are doing development on your local system and running from there then set the URL to the Monasca API\n",
    "# to override the one returned from Keystone\n",
    "# %env MONASCA_API_URL=http://127.0.0.1:8070/v2.0"
   ]
  },
  {
   "cell_type": "markdown",
   "metadata": {
    "slideshow": {
     "slide_type": "slide"
    }
   },
   "source": [
    "# Initialize Plotly\n",
    "\n",
    "We'll be using Plotly for displaying some graphs later on in this notebook."
   ]
  },
  {
   "cell_type": "code",
   "execution_count": 31,
   "metadata": {
    "collapsed": false,
    "slideshow": {
     "slide_type": "-"
    }
   },
   "outputs": [],
   "source": [
    "WIDTH = 640\n",
    "HEIGHT = 768\n",
    "\n",
    "layout = go.Layout(\n",
    "    autosize=False,\n",
    "    width=WIDTH,\n",
    "    height=HEIGHT,\n",
    "    margin=go.Margin(\n",
    "        l=50,\n",
    "        r=50,\n",
    "        b=100,\n",
    "        t=100,\n",
    "        pad=4\n",
    "    ))"
   ]
  },
  {
   "cell_type": "markdown",
   "metadata": {
    "slideshow": {
     "slide_type": "slide"
    }
   },
   "source": [
    "# List Metrics"
   ]
  },
  {
   "cell_type": "code",
   "execution_count": 32,
   "metadata": {
    "collapsed": false
   },
   "outputs": [
    {
     "name": "stdout",
     "output_type": "stream",
     "text": [
      "usage: monasca metric-list [--name <METRIC_NAME>]\r\n",
      "                           [--dimensions <KEY1=VALUE1,KEY2=VALUE2...>]\r\n",
      "                           [--starttime <UTC_START_TIME>]\r\n",
      "                           [--endtime <UTC_END_TIME>]\r\n",
      "                           [--offset <OFFSET LOCATION>]\r\n",
      "                           [--limit <RETURN LIMIT>]\r\n",
      "\r\n",
      "List metrics for this tenant.\r\n",
      "\r\n",
      "Optional arguments:\r\n",
      "  --name <METRIC_NAME>  Name of the metric to list.\r\n",
      "  --dimensions <KEY1=VALUE1,KEY2=VALUE2...>\r\n",
      "                        key value pair used to specify a metric dimension.\r\n",
      "                        This can be specified multiple times, or once with\r\n",
      "                        parameters separated by a comma. Dimensions need\r\n",
      "                        quoting when they contain special chars\r\n",
      "                        [&,(,),{,},>,<] that confuse the CLI parser.\r\n",
      "  --starttime <UTC_START_TIME>\r\n",
      "                        measurements >= UTC time. format:\r\n",
      "                        2014-01-01T00:00:00Z. OR Format: -120 (previous 120\r\n",
      "                        minutes).\r\n",
      "  --endtime <UTC_END_TIME>\r\n",
      "                        measurements <= UTC time. format:\r\n",
      "                        2014-01-01T00:00:00Z.\r\n",
      "  --offset <OFFSET LOCATION>\r\n",
      "                        The offset used to paginate the return data.\r\n",
      "  --limit <RETURN LIMIT>\r\n",
      "                        The amount of data to be returned up to the API\r\n",
      "                        maximum limit.\r\n"
     ]
    }
   ],
   "source": [
    "!monasca help metric-list"
   ]
  },
  {
   "cell_type": "markdown",
   "metadata": {},
   "source": [
    "# List all metrics"
   ]
  },
  {
   "cell_type": "code",
   "execution_count": 33,
   "metadata": {
    "collapsed": false
   },
   "outputs": [
    {
     "name": "stdout",
     "output_type": "stream",
     "text": [
      "+-----------------------------+---------------------------------+\n",
      "| name                        | dimensions                      |\n",
      "+-----------------------------+---------------------------------+\n",
      "| cpu.idle_perc               | hostname: devstack              |\n",
      "|                             | service: monitoring             |\n",
      "| cpu.stolen_perc             | hostname: devstack              |\n",
      "|                             | service: monitoring             |\n",
      "| cpu.system_perc             | hostname: devstack              |\n",
      "|                             | service: monitoring             |\n",
      "| cpu.user_perc               | hostname: devstack              |\n",
      "|                             | service: monitoring             |\n",
      "| cpu.wait_perc               | hostname: devstack              |\n",
      "|                             | service: monitoring             |\n",
      "| disk.inode_used_perc        | device: vagrant-cache           |\n",
      "|                             | hostname: devstack              |\n",
      "|                             | mount_point: /tmp/vagrant-cache |\n",
      "|                             | service: monitoring             |\n",
      "| disk.inode_used_perc        | device: vagrant_home            |\n",
      "|                             | hostname: devstack              |\n",
      "|                             | mount_point: /vagrant_home      |\n",
      "|                             | service: monitoring             |\n",
      "| disk.inode_used_perc        | device: sda1                    |\n",
      "|                             | hostname: devstack              |\n",
      "|                             | mount_point: /                  |\n",
      "|                             | service: monitoring             |\n",
      "| disk.inode_used_perc        | device: vagrant                 |\n",
      "|                             | hostname: devstack              |\n",
      "|                             | mount_point: /vagrant           |\n",
      "|                             | service: monitoring             |\n",
      "| disk.space_used_perc        | device: vagrant                 |\n",
      "|                             | hostname: devstack              |\n",
      "|                             | mount_point: /vagrant           |\n",
      "|                             | service: monitoring             |\n",
      "| disk.space_used_perc        | device: sda1                    |\n",
      "|                             | hostname: devstack              |\n",
      "|                             | mount_point: /                  |\n",
      "|                             | service: monitoring             |\n",
      "| disk.space_used_perc        | device: vagrant_home            |\n",
      "|                             | hostname: devstack              |\n",
      "|                             | mount_point: /vagrant_home      |\n",
      "|                             | service: monitoring             |\n",
      "| disk.space_used_perc        | device: vagrant-cache           |\n",
      "|                             | hostname: devstack              |\n",
      "|                             | mount_point: /tmp/vagrant-cache |\n",
      "|                             | service: monitoring             |\n",
      "| host_alive_status           | test_type: ssh                  |\n",
      "|                             | hostname: 127.0.0.1             |\n",
      "|                             | observer_host: devstack         |\n",
      "|                             | service: monitoring             |\n",
      "| io.read_kbytes_sec          | device: sda1                    |\n",
      "|                             | hostname: devstack              |\n",
      "|                             | mount_point: /                  |\n",
      "|                             | service: monitoring             |\n",
      "| io.read_req_sec             | device: sda1                    |\n",
      "|                             | hostname: devstack              |\n",
      "|                             | mount_point: /                  |\n",
      "|                             | service: monitoring             |\n",
      "| io.read_time_sec            | device: sda1                    |\n",
      "|                             | hostname: devstack              |\n",
      "|                             | mount_point: /                  |\n",
      "|                             | service: monitoring             |\n",
      "| io.write_kbytes_sec         | device: sda1                    |\n",
      "|                             | hostname: devstack              |\n",
      "|                             | mount_point: /                  |\n",
      "|                             | service: monitoring             |\n",
      "| io.write_req_sec            | device: sda1                    |\n",
      "|                             | hostname: devstack              |\n",
      "|                             | mount_point: /                  |\n",
      "|                             | service: monitoring             |\n",
      "| io.write_time_sec           | device: sda1                    |\n",
      "|                             | hostname: devstack              |\n",
      "|                             | mount_point: /                  |\n",
      "|                             | service: monitoring             |\n",
      "| load.avg_15_min             | hostname: devstack              |\n",
      "|                             | service: monitoring             |\n",
      "| load.avg_1_min              | hostname: devstack              |\n",
      "|                             | service: monitoring             |\n",
      "| load.avg_5_min              | hostname: devstack              |\n",
      "|                             | service: monitoring             |\n",
      "| mem.free_mb                 | hostname: devstack              |\n",
      "|                             | service: monitoring             |\n",
      "| mem.swap_free_mb            | hostname: devstack              |\n",
      "|                             | service: monitoring             |\n",
      "| mem.swap_free_perc          | hostname: devstack              |\n",
      "|                             | service: monitoring             |\n",
      "| mem.swap_total_mb           | hostname: devstack              |\n",
      "|                             | service: monitoring             |\n",
      "| mem.swap_used_mb            | hostname: devstack              |\n",
      "|                             | service: monitoring             |\n",
      "| mem.total_mb                | hostname: devstack              |\n",
      "|                             | service: monitoring             |\n",
      "| mem.usable_mb               | hostname: devstack              |\n",
      "|                             | service: monitoring             |\n",
      "| mem.usable_perc             | hostname: devstack              |\n",
      "|                             | service: monitoring             |\n",
      "| mem.used_buffers            | hostname: devstack              |\n",
      "|                             | service: monitoring             |\n",
      "| mem.used_cache              | hostname: devstack              |\n",
      "|                             | service: monitoring             |\n",
      "| monasca.collection_time_sec | hostname: devstack              |\n",
      "|                             | component: monasca-agent        |\n",
      "|                             | service: monitoring             |\n",
      "| monasca.thread_count        | hostname: devstack              |\n",
      "|                             | component: monasca-agent        |\n",
      "|                             | service: monitoring             |\n",
      "| net.in_bytes_sec            | device: eth1                    |\n",
      "|                             | hostname: devstack              |\n",
      "|                             | service: monitoring             |\n",
      "| net.in_bytes_sec            | device: eth0                    |\n",
      "|                             | hostname: devstack              |\n",
      "|                             | service: monitoring             |\n",
      "| net.in_errors_sec           | device: eth0                    |\n",
      "|                             | hostname: devstack              |\n",
      "|                             | service: monitoring             |\n",
      "| net.in_errors_sec           | device: eth1                    |\n",
      "|                             | hostname: devstack              |\n",
      "|                             | service: monitoring             |\n",
      "| net.in_packets_dropped_sec  | device: eth1                    |\n",
      "|                             | hostname: devstack              |\n",
      "|                             | service: monitoring             |\n",
      "| net.in_packets_dropped_sec  | device: eth0                    |\n",
      "|                             | hostname: devstack              |\n",
      "|                             | service: monitoring             |\n",
      "| net.in_packets_sec          | device: eth0                    |\n",
      "|                             | hostname: devstack              |\n",
      "|                             | service: monitoring             |\n",
      "| net.in_packets_sec          | device: eth1                    |\n",
      "|                             | hostname: devstack              |\n",
      "|                             | service: monitoring             |\n",
      "| net.out_bytes_sec           | device: eth0                    |\n",
      "|                             | hostname: devstack              |\n",
      "|                             | service: monitoring             |\n",
      "| net.out_bytes_sec           | device: eth1                    |\n",
      "|                             | hostname: devstack              |\n",
      "|                             | service: monitoring             |\n",
      "| net.out_errors_sec          | device: eth0                    |\n",
      "|                             | hostname: devstack              |\n",
      "|                             | service: monitoring             |\n",
      "| net.out_errors_sec          | device: eth1                    |\n",
      "|                             | hostname: devstack              |\n",
      "|                             | service: monitoring             |\n",
      "| net.out_packets_dropped_sec | device: eth1                    |\n",
      "|                             | hostname: devstack              |\n",
      "|                             | service: monitoring             |\n",
      "| net.out_packets_dropped_sec | device: eth0                    |\n",
      "|                             | hostname: devstack              |\n",
      "|                             | service: monitoring             |\n",
      "| net.out_packets_sec         | device: eth0                    |\n",
      "|                             | hostname: devstack              |\n",
      "|                             | service: monitoring             |\n",
      "| net.out_packets_sec         | device: eth1                    |\n",
      "|                             | hostname: devstack              |\n",
      "|                             | service: monitoring             |\n",
      "+-----------------------------+---------------------------------+\n"
     ]
    }
   ],
   "source": [
    "!monasca metric-list"
   ]
  },
  {
   "cell_type": "markdown",
   "metadata": {},
   "source": [
    "# List metrics and filter on name, dimensions and starttime"
   ]
  },
  {
   "cell_type": "code",
   "execution_count": 34,
   "metadata": {
    "collapsed": false
   },
   "outputs": [
    {
     "name": "stdout",
     "output_type": "stream",
     "text": [
      "+---------------+---------------------+\r\n",
      "| name          | dimensions          |\r\n",
      "+---------------+---------------------+\r\n",
      "| cpu.user_perc | hostname: devstack  |\r\n",
      "|               | service: monitoring |\r\n",
      "+---------------+---------------------+\r\n"
     ]
    }
   ],
   "source": [
    "!monasca metric-list --name cpu.user_perc --dimensions hostname=devstack --starttime -60\n"
   ]
  },
  {
   "cell_type": "markdown",
   "metadata": {
    "slideshow": {
     "slide_type": "subslide"
    }
   },
   "source": [
    "# Create a function to get metrics using the Monasca client"
   ]
  },
  {
   "cell_type": "code",
   "execution_count": 35,
   "metadata": {
    "collapsed": true
   },
   "outputs": [],
   "source": [
    "def get_metrics(names = [None], dimensions = None, limit=10):\n",
    "    metrics = []\n",
    "    for name in names:\n",
    "        kwargs = {}\n",
    "        if name is not None:\n",
    "            kwargs['name'] = name\n",
    "        if dimensions is not None:\n",
    "            kwargs['dimensions'] = dimensions\n",
    "        kwargs['limit'] = limit\n",
    "        metrics = metrics + monasca_client.metrics.list(**kwargs)\n",
    "    return metrics"
   ]
  },
  {
   "cell_type": "markdown",
   "metadata": {
    "slideshow": {
     "slide_type": "slide"
    }
   },
   "source": [
    "# Query measurements"
   ]
  },
  {
   "cell_type": "code",
   "execution_count": 36,
   "metadata": {
    "collapsed": false
   },
   "outputs": [
    {
     "name": "stdout",
     "output_type": "stream",
     "text": [
      "usage: monasca measurement-list [--dimensions <KEY1=VALUE1,KEY2=VALUE2...>]\r\n",
      "                                [--endtime <UTC_END_TIME>]\r\n",
      "                                [--offset <OFFSET LOCATION>]\r\n",
      "                                [--limit <RETURN LIMIT>] [--merge_metrics]\r\n",
      "                                <METRIC_NAME> <UTC_START_TIME>\r\n",
      "\r\n",
      "List measurements for the specified metric.\r\n",
      "\r\n",
      "Positional arguments:\r\n",
      "  <METRIC_NAME>         Name of the metric to list measurements.\r\n",
      "  <UTC_START_TIME>      measurements >= UTC time. format:\r\n",
      "                        2014-01-01T00:00:00Z. OR Format: -120 (previous 120\r\n",
      "                        minutes).\r\n",
      "\r\n",
      "Optional arguments:\r\n",
      "  --dimensions <KEY1=VALUE1,KEY2=VALUE2...>\r\n",
      "                        key value pair used to specify a metric dimension.\r\n",
      "                        This can be specified multiple times, or once with\r\n",
      "                        parameters separated by a comma. Dimensions need\r\n",
      "                        quoting when they contain special chars\r\n",
      "                        [&,(,),{,},>,<] that confuse the CLI parser.\r\n",
      "  --endtime <UTC_END_TIME>\r\n",
      "                        measurements <= UTC time. format:\r\n",
      "                        2014-01-01T00:00:00Z.\r\n",
      "  --offset <OFFSET LOCATION>\r\n",
      "                        The offset used to paginate the return data.\r\n",
      "  --limit <RETURN LIMIT>\r\n",
      "                        The amount of data to be returned up to the API\r\n",
      "                        maximum limit.\r\n",
      "  --merge_metrics       Merge multiple metrics into a single result.\r\n"
     ]
    }
   ],
   "source": [
    "!monasca help measurement-list"
   ]
  },
  {
   "cell_type": "markdown",
   "metadata": {
    "slideshow": {
     "slide_type": "slide"
    }
   },
   "source": [
    "# Query measurement list"
   ]
  },
  {
   "cell_type": "code",
   "execution_count": 37,
   "metadata": {
    "collapsed": false,
    "slideshow": {
     "slide_type": "-"
    }
   },
   "outputs": [
    {
     "name": "stdout",
     "output_type": "stream",
     "text": [
      "+---------------+---------------------+--------------------------+--------------+------------+\r\n",
      "| name          | dimensions          | timestamp                | value        | value_meta |\r\n",
      "+---------------+---------------------+--------------------------+--------------+------------+\r\n",
      "| cpu.user_perc | hostname: devstack  | 2016-04-08T23:01:41.000Z |        3.900 |            |\r\n",
      "|               | service: monitoring | 2016-04-08T23:01:56.000Z |        4.400 |            |\r\n",
      "|               |                     | 2016-04-08T23:02:11.000Z |        4.100 |            |\r\n",
      "|               |                     | 2016-04-08T23:02:26.000Z |        4.100 |            |\r\n",
      "|               |                     | 2016-04-08T23:02:41.000Z |        4.300 |            |\r\n",
      "|               |                     | 2016-04-08T23:02:56.000Z |        3.800 |            |\r\n",
      "|               |                     | 2016-04-08T23:03:11.000Z |        4.500 |            |\r\n",
      "|               |                     | 2016-04-08T23:03:26.000Z |        4.300 |            |\r\n",
      "|               |                     | 2016-04-08T23:03:41.000Z |        4.400 |            |\r\n",
      "|               |                     | 2016-04-08T23:03:56.000Z |        4.500 |            |\r\n",
      "|               |                     | 2016-04-08T23:04:11.000Z |        4.300 |            |\r\n",
      "|               |                     | 2016-04-08T23:04:26.000Z |        4.100 |            |\r\n",
      "|               |                     | 2016-04-08T23:04:41.000Z |        4.300 |            |\r\n",
      "|               |                     | 2016-04-08T23:04:56.000Z |        4.500 |            |\r\n",
      "|               |                     | 2016-04-08T23:05:11.000Z |        4.600 |            |\r\n",
      "|               |                     | 2016-04-08T23:05:26.000Z |        4.200 |            |\r\n",
      "|               |                     | 2016-04-08T23:05:41.000Z |        3.800 |            |\r\n",
      "|               |                     | 2016-04-08T23:05:56.000Z |        4.000 |            |\r\n",
      "|               |                     | 2016-04-08T23:06:11.000Z |        4.100 |            |\r\n",
      "|               |                     | 2016-04-08T23:06:26.000Z |        4.400 |            |\r\n",
      "|               |                     | 2016-04-08T23:06:41.000Z |        4.000 |            |\r\n",
      "|               |                     | 2016-04-08T23:06:56.000Z |        4.000 |            |\r\n",
      "|               |                     | 2016-04-08T23:07:11.000Z |        4.100 |            |\r\n",
      "|               |                     | 2016-04-08T23:07:26.000Z |        4.300 |            |\r\n",
      "|               |                     | 2016-04-08T23:07:41.000Z |        4.400 |            |\r\n",
      "|               |                     | 2016-04-08T23:07:56.000Z |        4.200 |            |\r\n",
      "|               |                     | 2016-04-08T23:08:11.000Z |        4.300 |            |\r\n",
      "|               |                     | 2016-04-08T23:08:26.000Z |        4.100 |            |\r\n",
      "|               |                     | 2016-04-08T23:08:41.000Z |        4.500 |            |\r\n",
      "|               |                     | 2016-04-08T23:08:56.000Z |        4.000 |            |\r\n",
      "|               |                     | 2016-04-08T23:09:11.000Z |        4.200 |            |\r\n",
      "|               |                     | 2016-04-08T23:09:26.000Z |        4.500 |            |\r\n",
      "|               |                     | 2016-04-08T23:09:41.000Z |        4.200 |            |\r\n",
      "|               |                     | 2016-04-08T23:09:56.000Z |        4.300 |            |\r\n",
      "|               |                     | 2016-04-08T23:10:11.000Z |        4.400 |            |\r\n",
      "|               |                     | 2016-04-08T23:10:26.000Z |        4.500 |            |\r\n",
      "|               |                     | 2016-04-08T23:10:41.000Z |        4.000 |            |\r\n",
      "|               |                     | 2016-04-08T23:10:56.000Z |        3.900 |            |\r\n",
      "|               |                     | 2016-04-08T23:11:11.000Z |        4.300 |            |\r\n",
      "|               |                     | 2016-04-08T23:11:26.000Z |        4.000 |            |\r\n",
      "|               |                     | 2016-04-08T23:11:41.000Z |        4.200 |            |\r\n",
      "|               |                     | 2016-04-08T23:11:56.000Z |        4.500 |            |\r\n",
      "|               |                     | 2016-04-08T23:12:11.000Z |        4.500 |            |\r\n",
      "|               |                     | 2016-04-08T23:12:26.000Z |        4.200 |            |\r\n",
      "|               |                     | 2016-04-08T23:12:41.000Z |        4.100 |            |\r\n",
      "|               |                     | 2016-04-08T23:12:56.000Z |        4.100 |            |\r\n",
      "|               |                     | 2016-04-08T23:13:11.000Z |        4.400 |            |\r\n",
      "|               |                     | 2016-04-08T23:13:26.000Z |        4.000 |            |\r\n",
      "|               |                     | 2016-04-08T23:13:41.000Z |        4.400 |            |\r\n",
      "|               |                     | 2016-04-08T23:13:56.000Z |        4.200 |            |\r\n",
      "|               |                     | 2016-04-08T23:14:11.000Z |        4.200 |            |\r\n",
      "|               |                     | 2016-04-08T23:14:26.000Z |        4.100 |            |\r\n",
      "|               |                     | 2016-04-08T23:14:41.000Z |        4.200 |            |\r\n",
      "|               |                     | 2016-04-08T23:14:56.000Z |        4.000 |            |\r\n",
      "|               |                     | 2016-04-08T23:15:11.000Z |        4.300 |            |\r\n",
      "|               |                     | 2016-04-08T23:15:26.000Z |        4.400 |            |\r\n",
      "|               |                     | 2016-04-08T23:15:41.000Z |        4.100 |            |\r\n",
      "|               |                     | 2016-04-08T23:15:56.000Z |        4.100 |            |\r\n",
      "|               |                     | 2016-04-08T23:16:11.000Z |        4.400 |            |\r\n",
      "|               |                     | 2016-04-08T23:16:26.000Z |        4.000 |            |\r\n",
      "|               |                     | 2016-04-08T23:16:41.000Z |        3.800 |            |\r\n",
      "|               |                     | 2016-04-08T23:16:57.000Z |        4.000 |            |\r\n",
      "|               |                     | 2016-04-08T23:17:12.000Z |        5.000 |            |\r\n",
      "|               |                     | 2016-04-08T23:17:27.000Z |        4.400 |            |\r\n",
      "|               |                     | 2016-04-08T23:17:42.000Z |        4.700 |            |\r\n",
      "|               |                     | 2016-04-08T23:17:57.000Z |        4.300 |            |\r\n",
      "|               |                     | 2016-04-08T23:18:12.000Z |        4.100 |            |\r\n",
      "|               |                     | 2016-04-08T23:18:27.000Z |        4.600 |            |\r\n",
      "|               |                     | 2016-04-08T23:18:42.000Z |        3.900 |            |\r\n",
      "|               |                     | 2016-04-08T23:18:57.000Z |        4.200 |            |\r\n",
      "|               |                     | 2016-04-08T23:19:12.000Z |        3.900 |            |\r\n",
      "|               |                     | 2016-04-08T23:19:27.000Z |        4.000 |            |\r\n",
      "|               |                     | 2016-04-08T23:19:42.000Z |        4.100 |            |\r\n",
      "|               |                     | 2016-04-08T23:19:57.000Z |        4.000 |            |\r\n",
      "|               |                     | 2016-04-08T23:20:12.000Z |        4.100 |            |\r\n",
      "|               |                     | 2016-04-08T23:20:27.000Z |        4.400 |            |\r\n",
      "|               |                     | 2016-04-08T23:20:42.000Z |        3.900 |            |\r\n",
      "|               |                     | 2016-04-08T23:20:57.000Z |        4.300 |            |\r\n",
      "|               |                     | 2016-04-08T23:21:12.000Z |        4.100 |            |\r\n",
      "|               |                     | 2016-04-08T23:21:27.000Z |        4.300 |            |\r\n",
      "|               |                     | 2016-04-08T23:21:42.000Z |        4.200 |            |\r\n",
      "|               |                     | 2016-04-08T23:21:57.000Z |        4.300 |            |\r\n",
      "|               |                     | 2016-04-08T23:22:12.000Z |        4.300 |            |\r\n",
      "|               |                     | 2016-04-08T23:22:27.000Z |        4.100 |            |\r\n",
      "|               |                     | 2016-04-08T23:22:42.000Z |        4.200 |            |\r\n",
      "|               |                     | 2016-04-08T23:22:57.000Z |        3.900 |            |\r\n",
      "|               |                     | 2016-04-08T23:59:12.000Z |       22.700 |            |\r\n",
      "|               |                     | 2016-04-08T23:59:27.000Z |       17.000 |            |\r\n",
      "|               |                     | 2016-04-08T23:59:42.000Z |        4.500 |            |\r\n",
      "|               |                     | 2016-04-08T23:59:57.000Z |        4.500 |            |\r\n",
      "|               |                     | 2016-04-09T00:00:12.000Z |        4.300 |            |\r\n",
      "|               |                     | 2016-04-09T00:00:27.000Z |        4.400 |            |\r\n",
      "|               |                     | 2016-04-09T00:00:42.000Z |        4.400 |            |\r\n",
      "|               |                     | 2016-04-09T00:00:57.000Z |        4.500 |            |\r\n",
      "|               |                     | 2016-04-09T00:01:12.000Z |        4.500 |            |\r\n",
      "|               |                     | 2016-04-09T00:01:27.000Z |        4.100 |            |\r\n",
      "|               |                     | 2016-04-09T00:01:42.000Z |        4.200 |            |\r\n",
      "|               |                     | 2016-04-09T00:01:57.000Z |        5.000 |            |\r\n",
      "|               |                     | 2016-04-09T00:02:12.000Z |        4.200 |            |\r\n",
      "|               |                     | 2016-04-09T00:02:27.000Z |        4.300 |            |\r\n",
      "|               |                     | 2016-04-09T00:02:42.000Z |        4.100 |            |\r\n",
      "|               |                     | 2016-04-09T00:02:57.000Z |        4.100 |            |\r\n",
      "|               |                     | 2016-04-09T00:03:12.000Z |        4.300 |            |\r\n",
      "|               |                     | 2016-04-09T00:03:27.000Z |        3.700 |            |\r\n",
      "|               |                     | 2016-04-09T00:03:42.000Z |        4.000 |            |\r\n",
      "|               |                     | 2016-04-09T00:03:57.000Z |        4.100 |            |\r\n",
      "|               |                     | 2016-04-09T00:04:12.000Z |        4.400 |            |\r\n",
      "|               |                     | 2016-04-09T00:04:27.000Z |        4.700 |            |\r\n",
      "|               |                     | 2016-04-09T00:04:42.000Z |        4.600 |            |\r\n",
      "|               |                     | 2016-04-09T00:04:57.000Z |        4.600 |            |\r\n",
      "|               |                     | 2016-04-09T00:05:12.000Z |        4.000 |            |\r\n",
      "|               |                     | 2016-04-09T00:05:27.000Z |        4.500 |            |\r\n",
      "|               |                     | 2016-04-09T00:05:42.000Z |        3.700 |            |\r\n",
      "|               |                     | 2016-04-09T00:05:57.000Z |        4.200 |            |\r\n",
      "|               |                     | 2016-04-09T00:06:12.000Z |        3.900 |            |\r\n",
      "|               |                     | 2016-04-09T00:06:27.000Z |        4.500 |            |\r\n",
      "|               |                     | 2016-04-09T00:06:43.000Z |        4.000 |            |\r\n",
      "|               |                     | 2016-04-09T00:06:58.000Z |        3.900 |            |\r\n",
      "|               |                     | 2016-04-09T00:07:13.000Z |        4.400 |            |\r\n",
      "|               |                     | 2016-04-09T00:07:28.000Z |        4.100 |            |\r\n",
      "|               |                     | 2016-04-09T00:07:43.000Z |        4.100 |            |\r\n",
      "|               |                     | 2016-04-09T00:07:58.000Z |        4.600 |            |\r\n",
      "|               |                     | 2016-04-09T00:08:13.000Z |        4.200 |            |\r\n",
      "|               |                     | 2016-04-09T00:08:28.000Z |        4.700 |            |\r\n",
      "|               |                     | 2016-04-09T00:08:43.000Z |        4.100 |            |\r\n",
      "|               |                     | 2016-04-09T00:08:58.000Z |        4.300 |            |\r\n",
      "|               |                     | 2016-04-09T00:09:13.000Z |        4.200 |            |\r\n",
      "|               |                     | 2016-04-09T00:09:28.000Z |        4.100 |            |\r\n",
      "|               |                     | 2016-04-09T00:09:43.000Z |        4.100 |            |\r\n",
      "|               |                     | 2016-04-09T00:09:58.000Z |        4.000 |            |\r\n",
      "|               |                     | 2016-04-09T00:10:13.000Z |        4.600 |            |\r\n",
      "|               |                     | 2016-04-09T00:10:28.000Z |        4.500 |            |\r\n",
      "|               |                     | 2016-04-09T00:10:43.000Z |        4.000 |            |\r\n",
      "|               |                     | 2016-04-09T00:10:58.000Z |        4.800 |            |\r\n",
      "|               |                     | 2016-04-09T00:11:13.000Z |        4.200 |            |\r\n",
      "|               |                     | 2016-04-09T00:11:28.000Z |        4.000 |            |\r\n",
      "|               |                     | 2016-04-09T00:11:43.000Z |        4.500 |            |\r\n",
      "|               |                     | 2016-04-09T00:11:58.000Z |        4.200 |            |\r\n",
      "|               |                     | 2016-04-09T00:12:13.000Z |        4.000 |            |\r\n",
      "|               |                     | 2016-04-09T00:12:28.000Z |        3.900 |            |\r\n",
      "|               |                     | 2016-04-09T00:12:43.000Z |        4.000 |            |\r\n",
      "|               |                     | 2016-04-09T00:12:58.000Z |        4.200 |            |\r\n",
      "|               |                     | 2016-04-09T00:13:13.000Z |        4.100 |            |\r\n",
      "|               |                     | 2016-04-09T00:13:28.000Z |        4.200 |            |\r\n",
      "|               |                     | 2016-04-09T00:13:43.000Z |        4.400 |            |\r\n",
      "|               |                     | 2016-04-09T00:13:58.000Z |        4.200 |            |\r\n",
      "|               |                     | 2016-04-09T00:14:13.000Z |        4.000 |            |\r\n",
      "|               |                     | 2016-04-09T00:14:28.000Z |        4.100 |            |\r\n",
      "|               |                     | 2016-04-09T00:14:43.000Z |        4.200 |            |\r\n",
      "|               |                     | 2016-04-09T00:14:58.000Z |        4.000 |            |\r\n",
      "|               |                     | 2016-04-09T00:15:13.000Z |        4.500 |            |\r\n",
      "|               |                     | 2016-04-09T00:15:28.000Z |        4.300 |            |\r\n",
      "|               |                     | 2016-04-09T00:15:43.000Z |        3.600 |            |\r\n",
      "|               |                     | 2016-04-09T00:15:58.000Z |        4.100 |            |\r\n",
      "|               |                     | 2016-04-09T00:16:13.000Z |        4.300 |            |\r\n",
      "|               |                     | 2016-04-09T00:16:28.000Z |        4.200 |            |\r\n",
      "|               |                     | 2016-04-09T00:16:43.000Z |        4.100 |            |\r\n",
      "|               |                     | 2016-04-09T00:16:58.000Z |        4.200 |            |\r\n",
      "|               |                     | 2016-04-09T00:17:13.000Z |        4.800 |            |\r\n",
      "|               |                     | 2016-04-09T00:17:28.000Z |        3.900 |            |\r\n",
      "|               |                     | 2016-04-09T00:17:43.000Z |        3.900 |            |\r\n",
      "|               |                     | 2016-04-09T00:17:58.000Z |        3.900 |            |\r\n",
      "|               |                     | 2016-04-09T00:18:13.000Z |        4.100 |            |\r\n",
      "|               |                     | 2016-04-09T00:18:28.000Z |        4.000 |            |\r\n",
      "|               |                     | 2016-04-09T00:18:43.000Z |        4.000 |            |\r\n",
      "|               |                     | 2016-04-09T00:18:58.000Z |        3.900 |            |\r\n",
      "|               |                     | 2016-04-09T00:19:13.000Z |        4.200 |            |\r\n",
      "|               |                     | 2016-04-09T00:19:28.000Z |        4.100 |            |\r\n",
      "|               |                     | 2016-04-09T00:19:43.000Z |        4.500 |            |\r\n",
      "|               |                     | 2016-04-09T00:19:58.000Z |        4.100 |            |\r\n",
      "|               |                     | 2016-04-09T00:20:13.000Z |        4.200 |            |\r\n",
      "|               |                     | 2016-04-09T00:20:28.000Z |        4.200 |            |\r\n",
      "|               |                     | 2016-04-09T00:20:43.000Z |        4.300 |            |\r\n",
      "|               |                     | 2016-04-09T00:20:58.000Z |        4.200 |            |\r\n",
      "|               |                     | 2016-04-09T00:21:13.000Z |        3.900 |            |\r\n",
      "|               |                     | 2016-04-09T00:21:28.000Z |        3.800 |            |\r\n",
      "|               |                     | 2016-04-09T00:21:43.000Z |        4.000 |            |\r\n",
      "|               |                     | 2016-04-09T00:21:58.000Z |        3.500 |            |\r\n",
      "|               |                     | 2016-04-09T00:22:13.000Z |        3.700 |            |\r\n",
      "|               |                     | 2016-04-09T00:22:28.000Z |        4.000 |            |\r\n",
      "|               |                     | 2016-04-09T00:22:43.000Z |        4.200 |            |\r\n",
      "|               |                     | 2016-04-09T00:22:58.000Z |        4.500 |            |\r\n",
      "|               |                     | 2016-04-09T00:23:13.000Z |        4.000 |            |\r\n",
      "|               |                     | 2016-04-09T00:23:28.000Z |        4.100 |            |\r\n",
      "|               |                     | 2016-04-09T00:23:43.000Z |        4.000 |            |\r\n",
      "|               |                     | 2016-04-09T00:23:58.000Z |        4.800 |            |\r\n",
      "|               |                     | 2016-04-09T00:24:13.000Z |        3.900 |            |\r\n",
      "|               |                     | 2016-04-09T00:24:28.000Z |        3.800 |            |\r\n",
      "|               |                     | 2016-04-09T00:24:43.000Z |        4.500 |            |\r\n",
      "|               |                     | 2016-04-09T00:24:58.000Z |        4.100 |            |\r\n",
      "|               |                     | 2016-04-09T00:25:13.000Z |        4.200 |            |\r\n",
      "|               |                     | 2016-04-09T00:25:29.000Z |        3.800 |            |\r\n",
      "|               |                     | 2016-04-09T00:25:44.000Z |        4.000 |            |\r\n",
      "|               |                     | 2016-04-09T00:25:59.000Z |        3.800 |            |\r\n",
      "|               |                     | 2016-04-09T00:26:14.000Z |        4.300 |            |\r\n",
      "|               |                     | 2016-04-09T00:26:29.000Z |        4.400 |            |\r\n",
      "|               |                     | 2016-04-09T00:26:44.000Z |        3.400 |            |\r\n",
      "|               |                     | 2016-04-09T00:26:59.000Z |        3.100 |            |\r\n",
      "|               |                     | 2016-04-09T00:27:14.000Z |        4.100 |            |\r\n",
      "|               |                     | 2016-04-09T00:27:29.000Z |        4.100 |            |\r\n",
      "|               |                     | 2016-04-09T00:27:44.000Z |        3.900 |            |\r\n",
      "|               |                     | 2016-04-09T00:27:59.000Z |        4.200 |            |\r\n",
      "|               |                     | 2016-04-09T00:28:14.000Z |        4.200 |            |\r\n",
      "|               |                     | 2016-04-09T00:28:29.000Z |        4.200 |            |\r\n",
      "|               |                     | 2016-04-09T00:28:44.000Z |        4.100 |            |\r\n",
      "|               |                     | 2016-04-09T00:28:59.000Z |        4.100 |            |\r\n",
      "|               |                     | 2016-04-09T00:29:14.000Z |        4.100 |            |\r\n",
      "|               |                     | 2016-04-09T00:29:29.000Z |        3.800 |            |\r\n",
      "|               |                     | 2016-04-09T00:29:44.000Z |        4.100 |            |\r\n",
      "|               |                     | 2016-04-09T00:29:59.000Z |        3.800 |            |\r\n",
      "|               |                     | 2016-04-09T00:30:14.000Z |        4.000 |            |\r\n",
      "|               |                     | 2016-04-09T00:30:29.000Z |        4.100 |            |\r\n",
      "|               |                     | 2016-04-09T00:30:44.000Z |        3.700 |            |\r\n",
      "|               |                     | 2016-04-09T00:30:59.000Z |        3.700 |            |\r\n",
      "|               |                     | 2016-04-09T00:31:14.000Z |        4.000 |            |\r\n",
      "|               |                     | 2016-04-09T00:31:29.000Z |        3.800 |            |\r\n",
      "|               |                     | 2016-04-09T00:31:44.000Z |        4.000 |            |\r\n",
      "|               |                     | 2016-04-09T00:31:59.000Z |        4.200 |            |\r\n",
      "|               |                     | 2016-04-09T00:32:14.000Z |        4.000 |            |\r\n",
      "|               |                     | 2016-04-09T00:32:29.000Z |        3.900 |            |\r\n",
      "|               |                     | 2016-04-09T00:32:44.000Z |        3.900 |            |\r\n",
      "|               |                     | 2016-04-09T00:32:59.000Z |        4.400 |            |\r\n",
      "|               |                     | 2016-04-09T00:33:14.000Z |        4.100 |            |\r\n",
      "|               |                     | 2016-04-09T00:33:29.000Z |        4.000 |            |\r\n",
      "|               |                     | 2016-04-09T00:33:44.000Z |        3.500 |            |\r\n",
      "|               |                     | 2016-04-09T00:33:59.000Z |        3.800 |            |\r\n",
      "|               |                     | 2016-04-09T00:34:14.000Z |        4.200 |            |\r\n",
      "|               |                     | 2016-04-09T00:34:29.000Z |        3.900 |            |\r\n",
      "|               |                     | 2016-04-09T00:34:44.000Z |        4.000 |            |\r\n",
      "|               |                     | 2016-04-09T00:34:59.000Z |        4.000 |            |\r\n",
      "|               |                     | 2016-04-09T00:35:14.000Z |        4.400 |            |\r\n",
      "|               |                     | 2016-04-09T00:35:29.000Z |        4.700 |            |\r\n",
      "|               |                     | 2016-04-09T00:35:44.000Z |        4.000 |            |\r\n",
      "|               |                     | 2016-04-09T00:35:59.000Z |        4.200 |            |\r\n",
      "|               |                     | 2016-04-09T00:36:14.000Z |        4.000 |            |\r\n",
      "|               |                     | 2016-04-09T00:36:29.000Z |        4.200 |            |\r\n",
      "|               |                     | 2016-04-09T00:36:44.000Z |        4.300 |            |\r\n",
      "|               |                     | 2016-04-09T00:36:59.000Z |        4.300 |            |\r\n",
      "|               |                     | 2016-04-09T00:37:14.000Z |        4.000 |            |\r\n",
      "|               |                     | 2016-04-09T00:37:29.000Z |        3.900 |            |\r\n",
      "|               |                     | 2016-04-09T00:37:44.000Z |        4.100 |            |\r\n",
      "|               |                     | 2016-04-09T00:37:59.000Z |        4.200 |            |\r\n",
      "|               |                     | 2016-04-09T00:38:14.000Z |        4.300 |            |\r\n",
      "|               |                     | 2016-04-09T00:38:29.000Z |        4.100 |            |\r\n",
      "|               |                     | 2016-04-09T00:38:44.000Z |        4.300 |            |\r\n",
      "|               |                     | 2016-04-09T00:38:59.000Z |        4.000 |            |\r\n",
      "|               |                     | 2016-04-09T00:39:14.000Z |        3.800 |            |\r\n",
      "|               |                     | 2016-04-09T00:39:29.000Z |        4.100 |            |\r\n",
      "|               |                     | 2016-04-09T00:39:44.000Z |        3.600 |            |\r\n",
      "|               |                     | 2016-04-09T00:39:59.000Z |        3.600 |            |\r\n",
      "|               |                     | 2016-04-09T00:40:14.000Z |        4.300 |            |\r\n",
      "|               |                     | 2016-04-09T00:40:29.000Z |        4.400 |            |\r\n",
      "|               |                     | 2016-04-09T00:40:44.000Z |        4.300 |            |\r\n",
      "|               |                     | 2016-04-09T00:40:59.000Z |        3.900 |            |\r\n",
      "|               |                     | 2016-04-09T00:41:14.000Z |        3.900 |            |\r\n",
      "|               |                     | 2016-04-09T00:41:29.000Z |        3.800 |            |\r\n",
      "|               |                     | 2016-04-09T00:41:44.000Z |        3.700 |            |\r\n",
      "|               |                     | 2016-04-09T00:41:59.000Z |        4.500 |            |\r\n",
      "|               |                     | 2016-04-09T00:42:14.000Z |        4.200 |            |\r\n",
      "|               |                     | 2016-04-09T00:42:29.000Z |        4.000 |            |\r\n",
      "|               |                     | 2016-04-09T00:42:44.000Z |        4.300 |            |\r\n",
      "|               |                     | 2016-04-09T00:42:59.000Z |        4.300 |            |\r\n",
      "|               |                     | 2016-04-09T00:43:14.000Z |        4.000 |            |\r\n",
      "|               |                     | 2016-04-09T00:43:29.000Z |        4.000 |            |\r\n",
      "|               |                     | 2016-04-09T00:43:44.000Z |        3.900 |            |\r\n",
      "|               |                     | 2016-04-09T00:43:59.000Z |        3.700 |            |\r\n",
      "|               |                     | 2016-04-09T00:44:14.000Z |        4.000 |            |\r\n",
      "|               |                     | 2016-04-09T00:44:29.000Z |        4.100 |            |\r\n",
      "|               |                     | 2016-04-09T00:44:44.000Z |        4.100 |            |\r\n",
      "|               |                     | 2016-04-09T00:44:59.000Z |        4.000 |            |\r\n",
      "|               |                     | 2016-04-09T00:45:14.000Z |        3.700 |            |\r\n",
      "|               |                     | 2016-04-09T00:45:29.000Z |        3.900 |            |\r\n",
      "|               |                     | 2016-04-09T00:45:44.000Z |        4.100 |            |\r\n",
      "|               |                     | 2016-04-09T00:45:59.000Z |        4.200 |            |\r\n",
      "|               |                     | 2016-04-09T00:46:15.000Z |        4.100 |            |\r\n",
      "|               |                     | 2016-04-09T00:46:30.000Z |        4.400 |            |\r\n",
      "|               |                     | 2016-04-09T00:46:45.000Z |        3.800 |            |\r\n",
      "|               |                     | 2016-04-09T00:47:00.000Z |        4.000 |            |\r\n",
      "|               |                     | 2016-04-09T00:47:15.000Z |        4.200 |            |\r\n",
      "|               |                     | 2016-04-09T00:47:30.000Z |        4.100 |            |\r\n",
      "|               |                     | 2016-04-09T00:47:45.000Z |        4.400 |            |\r\n",
      "|               |                     | 2016-04-09T00:48:00.000Z |        4.000 |            |\r\n",
      "|               |                     | 2016-04-09T00:48:15.000Z |        4.300 |            |\r\n",
      "|               |                     | 2016-04-09T00:48:30.000Z |        4.300 |            |\r\n",
      "|               |                     | 2016-04-09T00:48:45.000Z |        3.800 |            |\r\n",
      "|               |                     | 2016-04-09T00:49:00.000Z |        4.100 |            |\r\n",
      "|               |                     | 2016-04-09T00:49:15.000Z |        4.300 |            |\r\n",
      "|               |                     | 2016-04-09T00:49:30.000Z |        3.800 |            |\r\n",
      "|               |                     | 2016-04-09T00:49:45.000Z |        3.900 |            |\r\n",
      "|               |                     | 2016-04-09T00:50:00.000Z |        3.600 |            |\r\n",
      "|               |                     | 2016-04-09T00:50:15.000Z |        4.200 |            |\r\n",
      "|               |                     | 2016-04-09T00:50:30.000Z |        4.000 |            |\r\n",
      "|               |                     | 2016-04-09T00:50:45.000Z |        4.100 |            |\r\n",
      "|               |                     | 2016-04-09T00:51:00.000Z |        4.200 |            |\r\n",
      "|               |                     | 2016-04-09T00:51:15.000Z |        4.100 |            |\r\n",
      "|               |                     | 2016-04-09T00:51:30.000Z |        4.000 |            |\r\n",
      "|               |                     | 2016-04-09T00:51:45.000Z |        3.900 |            |\r\n",
      "|               |                     | 2016-04-09T00:52:00.000Z |        3.900 |            |\r\n",
      "|               |                     | 2016-04-09T00:52:15.000Z |        4.200 |            |\r\n",
      "|               |                     | 2016-04-09T00:52:30.000Z |        4.100 |            |\r\n",
      "|               |                     | 2016-04-09T00:52:45.000Z |        3.900 |            |\r\n",
      "|               |                     | 2016-04-09T00:53:00.000Z |        4.000 |            |\r\n",
      "|               |                     | 2016-04-09T00:53:15.000Z |        4.100 |            |\r\n",
      "|               |                     | 2016-04-09T00:53:30.000Z |        3.900 |            |\r\n",
      "|               |                     | 2016-04-09T00:53:45.000Z |        4.000 |            |\r\n",
      "|               |                     | 2016-04-09T00:54:00.000Z |        3.900 |            |\r\n",
      "|               |                     | 2016-04-09T00:54:15.000Z |        4.100 |            |\r\n",
      "|               |                     | 2016-04-09T00:54:30.000Z |        3.800 |            |\r\n",
      "|               |                     | 2016-04-09T00:54:45.000Z |        4.200 |            |\r\n",
      "|               |                     | 2016-04-09T00:55:00.000Z |        4.000 |            |\r\n",
      "|               |                     | 2016-04-09T00:55:15.000Z |        4.300 |            |\r\n",
      "|               |                     | 2016-04-09T00:55:30.000Z |        3.800 |            |\r\n",
      "|               |                     | 2016-04-09T00:55:45.000Z |        3.700 |            |\r\n",
      "|               |                     | 2016-04-09T00:56:00.000Z |        3.900 |            |\r\n",
      "|               |                     | 2016-04-09T00:56:15.000Z |        4.300 |            |\r\n",
      "|               |                     | 2016-04-09T00:56:30.000Z |        3.800 |            |\r\n",
      "|               |                     | 2016-04-09T00:56:45.000Z |        4.400 |            |\r\n",
      "|               |                     | 2016-04-09T00:57:00.000Z |        4.400 |            |\r\n",
      "|               |                     | 2016-04-09T00:57:15.000Z |        4.200 |            |\r\n",
      "|               |                     | 2016-04-09T00:57:30.000Z |        4.200 |            |\r\n",
      "|               |                     | 2016-04-09T00:57:45.000Z |        4.200 |            |\r\n",
      "+---------------+---------------------+--------------------------+--------------+------------+\r\n"
     ]
    }
   ],
   "source": [
    "!monasca measurement-list --dimensions hostname=devstack cpu.user_perc -120"
   ]
  },
  {
   "cell_type": "markdown",
   "metadata": {},
   "source": [
    "# Create a function to get measurements using the Monasca Client"
   ]
  },
  {
   "cell_type": "code",
   "execution_count": 38,
   "metadata": {
    "collapsed": true
   },
   "outputs": [],
   "source": [
    "def get_measurements(metrics, start_time = None, end_time = None, limit=None):\n",
    "    measurements = []\n",
    "    \n",
    "    if start_time == None:\n",
    "        start_date = datetime.datetime.utcnow() - datetime.timedelta(seconds=3600)\n",
    "        start_time = start_date.strftime(\"%Y-%m-%dT%H:%M:%SZ\")\n",
    "\n",
    "    if end_time == None:\n",
    "        end_date = datetime.datetime.utcnow() - datetime.timedelta(seconds=0)\n",
    "        end_time = end_date.strftime(\"%Y-%m-%dT%H:%M:%SZ\")\n",
    "        \n",
    "    for metric in metrics:\n",
    "        kwargs = {}\n",
    "        kwargs['name'] = metric['name']\n",
    "        kwargs['dimensions'] = metric['dimensions']\n",
    "        kwargs['start_time'] = start_time\n",
    "        kwargs['end_time'] = end_time\n",
    "        \n",
    "        # Invoke the monasca client\n",
    "        measurements.append(monasca_client.metrics.list_measurements(**kwargs))\n",
    "        \n",
    "    return measurements"
   ]
  },
  {
   "cell_type": "code",
   "execution_count": 39,
   "metadata": {
    "collapsed": false
   },
   "outputs": [
    {
     "data": {
      "text/plain": [
       "[[{u'columns': [u'timestamp', u'value', u'value_meta'],\n",
       "   u'dimensions': {u'hostname': u'devstack', u'service': u'monitoring'},\n",
       "   u'id': u'2016-04-09T00:57:45.000Z',\n",
       "   u'measurements': [[u'2016-04-09T00:01:42.000Z', 4.2, {}],\n",
       "    [u'2016-04-09T00:01:57.000Z', 5, {}],\n",
       "    [u'2016-04-09T00:02:12.000Z', 4.2, {}],\n",
       "    [u'2016-04-09T00:02:27.000Z', 4.3, {}],\n",
       "    [u'2016-04-09T00:02:42.000Z', 4.1, {}],\n",
       "    [u'2016-04-09T00:02:57.000Z', 4.1, {}],\n",
       "    [u'2016-04-09T00:03:12.000Z', 4.3, {}],\n",
       "    [u'2016-04-09T00:03:27.000Z', 3.7, {}],\n",
       "    [u'2016-04-09T00:03:42.000Z', 4, {}],\n",
       "    [u'2016-04-09T00:03:57.000Z', 4.1, {}],\n",
       "    [u'2016-04-09T00:04:12.000Z', 4.4, {}],\n",
       "    [u'2016-04-09T00:04:27.000Z', 4.7, {}],\n",
       "    [u'2016-04-09T00:04:42.000Z', 4.6, {}],\n",
       "    [u'2016-04-09T00:04:57.000Z', 4.6, {}],\n",
       "    [u'2016-04-09T00:05:12.000Z', 4, {}],\n",
       "    [u'2016-04-09T00:05:27.000Z', 4.5, {}],\n",
       "    [u'2016-04-09T00:05:42.000Z', 3.7, {}],\n",
       "    [u'2016-04-09T00:05:57.000Z', 4.2, {}],\n",
       "    [u'2016-04-09T00:06:12.000Z', 3.9, {}],\n",
       "    [u'2016-04-09T00:06:27.000Z', 4.5, {}],\n",
       "    [u'2016-04-09T00:06:43.000Z', 4, {}],\n",
       "    [u'2016-04-09T00:06:58.000Z', 3.9, {}],\n",
       "    [u'2016-04-09T00:07:13.000Z', 4.4, {}],\n",
       "    [u'2016-04-09T00:07:28.000Z', 4.1, {}],\n",
       "    [u'2016-04-09T00:07:43.000Z', 4.1, {}],\n",
       "    [u'2016-04-09T00:07:58.000Z', 4.6, {}],\n",
       "    [u'2016-04-09T00:08:13.000Z', 4.2, {}],\n",
       "    [u'2016-04-09T00:08:28.000Z', 4.7, {}],\n",
       "    [u'2016-04-09T00:08:43.000Z', 4.1, {}],\n",
       "    [u'2016-04-09T00:08:58.000Z', 4.3, {}],\n",
       "    [u'2016-04-09T00:09:13.000Z', 4.2, {}],\n",
       "    [u'2016-04-09T00:09:28.000Z', 4.1, {}],\n",
       "    [u'2016-04-09T00:09:43.000Z', 4.1, {}],\n",
       "    [u'2016-04-09T00:09:58.000Z', 4, {}],\n",
       "    [u'2016-04-09T00:10:13.000Z', 4.6, {}],\n",
       "    [u'2016-04-09T00:10:28.000Z', 4.5, {}],\n",
       "    [u'2016-04-09T00:10:43.000Z', 4, {}],\n",
       "    [u'2016-04-09T00:10:58.000Z', 4.8, {}],\n",
       "    [u'2016-04-09T00:11:13.000Z', 4.2, {}],\n",
       "    [u'2016-04-09T00:11:28.000Z', 4, {}],\n",
       "    [u'2016-04-09T00:11:43.000Z', 4.5, {}],\n",
       "    [u'2016-04-09T00:11:58.000Z', 4.2, {}],\n",
       "    [u'2016-04-09T00:12:13.000Z', 4, {}],\n",
       "    [u'2016-04-09T00:12:28.000Z', 3.9, {}],\n",
       "    [u'2016-04-09T00:12:43.000Z', 4, {}],\n",
       "    [u'2016-04-09T00:12:58.000Z', 4.2, {}],\n",
       "    [u'2016-04-09T00:13:13.000Z', 4.1, {}],\n",
       "    [u'2016-04-09T00:13:28.000Z', 4.2, {}],\n",
       "    [u'2016-04-09T00:13:43.000Z', 4.4, {}],\n",
       "    [u'2016-04-09T00:13:58.000Z', 4.2, {}],\n",
       "    [u'2016-04-09T00:14:13.000Z', 4, {}],\n",
       "    [u'2016-04-09T00:14:28.000Z', 4.1, {}],\n",
       "    [u'2016-04-09T00:14:43.000Z', 4.2, {}],\n",
       "    [u'2016-04-09T00:14:58.000Z', 4, {}],\n",
       "    [u'2016-04-09T00:15:13.000Z', 4.5, {}],\n",
       "    [u'2016-04-09T00:15:28.000Z', 4.3, {}],\n",
       "    [u'2016-04-09T00:15:43.000Z', 3.6, {}],\n",
       "    [u'2016-04-09T00:15:58.000Z', 4.1, {}],\n",
       "    [u'2016-04-09T00:16:13.000Z', 4.3, {}],\n",
       "    [u'2016-04-09T00:16:28.000Z', 4.2, {}],\n",
       "    [u'2016-04-09T00:16:43.000Z', 4.1, {}],\n",
       "    [u'2016-04-09T00:16:58.000Z', 4.2, {}],\n",
       "    [u'2016-04-09T00:17:13.000Z', 4.8, {}],\n",
       "    [u'2016-04-09T00:17:28.000Z', 3.9, {}],\n",
       "    [u'2016-04-09T00:17:43.000Z', 3.9, {}],\n",
       "    [u'2016-04-09T00:17:58.000Z', 3.9, {}],\n",
       "    [u'2016-04-09T00:18:13.000Z', 4.1, {}],\n",
       "    [u'2016-04-09T00:18:28.000Z', 4, {}],\n",
       "    [u'2016-04-09T00:18:43.000Z', 4, {}],\n",
       "    [u'2016-04-09T00:18:58.000Z', 3.9, {}],\n",
       "    [u'2016-04-09T00:19:13.000Z', 4.2, {}],\n",
       "    [u'2016-04-09T00:19:28.000Z', 4.1, {}],\n",
       "    [u'2016-04-09T00:19:43.000Z', 4.5, {}],\n",
       "    [u'2016-04-09T00:19:58.000Z', 4.1, {}],\n",
       "    [u'2016-04-09T00:20:13.000Z', 4.2, {}],\n",
       "    [u'2016-04-09T00:20:28.000Z', 4.2, {}],\n",
       "    [u'2016-04-09T00:20:43.000Z', 4.3, {}],\n",
       "    [u'2016-04-09T00:20:58.000Z', 4.2, {}],\n",
       "    [u'2016-04-09T00:21:13.000Z', 3.9, {}],\n",
       "    [u'2016-04-09T00:21:28.000Z', 3.8, {}],\n",
       "    [u'2016-04-09T00:21:43.000Z', 4, {}],\n",
       "    [u'2016-04-09T00:21:58.000Z', 3.5, {}],\n",
       "    [u'2016-04-09T00:22:13.000Z', 3.7, {}],\n",
       "    [u'2016-04-09T00:22:28.000Z', 4, {}],\n",
       "    [u'2016-04-09T00:22:43.000Z', 4.2, {}],\n",
       "    [u'2016-04-09T00:22:58.000Z', 4.5, {}],\n",
       "    [u'2016-04-09T00:23:13.000Z', 4, {}],\n",
       "    [u'2016-04-09T00:23:28.000Z', 4.1, {}],\n",
       "    [u'2016-04-09T00:23:43.000Z', 4, {}],\n",
       "    [u'2016-04-09T00:23:58.000Z', 4.8, {}],\n",
       "    [u'2016-04-09T00:24:13.000Z', 3.9, {}],\n",
       "    [u'2016-04-09T00:24:28.000Z', 3.8, {}],\n",
       "    [u'2016-04-09T00:24:43.000Z', 4.5, {}],\n",
       "    [u'2016-04-09T00:24:58.000Z', 4.1, {}],\n",
       "    [u'2016-04-09T00:25:13.000Z', 4.2, {}],\n",
       "    [u'2016-04-09T00:25:29.000Z', 3.8, {}],\n",
       "    [u'2016-04-09T00:25:44.000Z', 4, {}],\n",
       "    [u'2016-04-09T00:25:59.000Z', 3.8, {}],\n",
       "    [u'2016-04-09T00:26:14.000Z', 4.3, {}],\n",
       "    [u'2016-04-09T00:26:29.000Z', 4.4, {}],\n",
       "    [u'2016-04-09T00:26:44.000Z', 3.4, {}],\n",
       "    [u'2016-04-09T00:26:59.000Z', 3.1, {}],\n",
       "    [u'2016-04-09T00:27:14.000Z', 4.1, {}],\n",
       "    [u'2016-04-09T00:27:29.000Z', 4.1, {}],\n",
       "    [u'2016-04-09T00:27:44.000Z', 3.9, {}],\n",
       "    [u'2016-04-09T00:27:59.000Z', 4.2, {}],\n",
       "    [u'2016-04-09T00:28:14.000Z', 4.2, {}],\n",
       "    [u'2016-04-09T00:28:29.000Z', 4.2, {}],\n",
       "    [u'2016-04-09T00:28:44.000Z', 4.1, {}],\n",
       "    [u'2016-04-09T00:28:59.000Z', 4.1, {}],\n",
       "    [u'2016-04-09T00:29:14.000Z', 4.1, {}],\n",
       "    [u'2016-04-09T00:29:29.000Z', 3.8, {}],\n",
       "    [u'2016-04-09T00:29:44.000Z', 4.1, {}],\n",
       "    [u'2016-04-09T00:29:59.000Z', 3.8, {}],\n",
       "    [u'2016-04-09T00:30:14.000Z', 4, {}],\n",
       "    [u'2016-04-09T00:30:29.000Z', 4.1, {}],\n",
       "    [u'2016-04-09T00:30:44.000Z', 3.7, {}],\n",
       "    [u'2016-04-09T00:30:59.000Z', 3.7, {}],\n",
       "    [u'2016-04-09T00:31:14.000Z', 4, {}],\n",
       "    [u'2016-04-09T00:31:29.000Z', 3.8, {}],\n",
       "    [u'2016-04-09T00:31:44.000Z', 4, {}],\n",
       "    [u'2016-04-09T00:31:59.000Z', 4.2, {}],\n",
       "    [u'2016-04-09T00:32:14.000Z', 4, {}],\n",
       "    [u'2016-04-09T00:32:29.000Z', 3.9, {}],\n",
       "    [u'2016-04-09T00:32:44.000Z', 3.9, {}],\n",
       "    [u'2016-04-09T00:32:59.000Z', 4.4, {}],\n",
       "    [u'2016-04-09T00:33:14.000Z', 4.1, {}],\n",
       "    [u'2016-04-09T00:33:29.000Z', 4, {}],\n",
       "    [u'2016-04-09T00:33:44.000Z', 3.5, {}],\n",
       "    [u'2016-04-09T00:33:59.000Z', 3.8, {}],\n",
       "    [u'2016-04-09T00:34:14.000Z', 4.2, {}],\n",
       "    [u'2016-04-09T00:34:29.000Z', 3.9, {}],\n",
       "    [u'2016-04-09T00:34:44.000Z', 4, {}],\n",
       "    [u'2016-04-09T00:34:59.000Z', 4, {}],\n",
       "    [u'2016-04-09T00:35:14.000Z', 4.4, {}],\n",
       "    [u'2016-04-09T00:35:29.000Z', 4.7, {}],\n",
       "    [u'2016-04-09T00:35:44.000Z', 4, {}],\n",
       "    [u'2016-04-09T00:35:59.000Z', 4.2, {}],\n",
       "    [u'2016-04-09T00:36:14.000Z', 4, {}],\n",
       "    [u'2016-04-09T00:36:29.000Z', 4.2, {}],\n",
       "    [u'2016-04-09T00:36:44.000Z', 4.3, {}],\n",
       "    [u'2016-04-09T00:36:59.000Z', 4.3, {}],\n",
       "    [u'2016-04-09T00:37:14.000Z', 4, {}],\n",
       "    [u'2016-04-09T00:37:29.000Z', 3.9, {}],\n",
       "    [u'2016-04-09T00:37:44.000Z', 4.1, {}],\n",
       "    [u'2016-04-09T00:37:59.000Z', 4.2, {}],\n",
       "    [u'2016-04-09T00:38:14.000Z', 4.3, {}],\n",
       "    [u'2016-04-09T00:38:29.000Z', 4.1, {}],\n",
       "    [u'2016-04-09T00:38:44.000Z', 4.3, {}],\n",
       "    [u'2016-04-09T00:38:59.000Z', 4, {}],\n",
       "    [u'2016-04-09T00:39:14.000Z', 3.8, {}],\n",
       "    [u'2016-04-09T00:39:29.000Z', 4.1, {}],\n",
       "    [u'2016-04-09T00:39:44.000Z', 3.6, {}],\n",
       "    [u'2016-04-09T00:39:59.000Z', 3.6, {}],\n",
       "    [u'2016-04-09T00:40:14.000Z', 4.3, {}],\n",
       "    [u'2016-04-09T00:40:29.000Z', 4.4, {}],\n",
       "    [u'2016-04-09T00:40:44.000Z', 4.3, {}],\n",
       "    [u'2016-04-09T00:40:59.000Z', 3.9, {}],\n",
       "    [u'2016-04-09T00:41:14.000Z', 3.9, {}],\n",
       "    [u'2016-04-09T00:41:29.000Z', 3.8, {}],\n",
       "    [u'2016-04-09T00:41:44.000Z', 3.7, {}],\n",
       "    [u'2016-04-09T00:41:59.000Z', 4.5, {}],\n",
       "    [u'2016-04-09T00:42:14.000Z', 4.2, {}],\n",
       "    [u'2016-04-09T00:42:29.000Z', 4, {}],\n",
       "    [u'2016-04-09T00:42:44.000Z', 4.3, {}],\n",
       "    [u'2016-04-09T00:42:59.000Z', 4.3, {}],\n",
       "    [u'2016-04-09T00:43:14.000Z', 4, {}],\n",
       "    [u'2016-04-09T00:43:29.000Z', 4, {}],\n",
       "    [u'2016-04-09T00:43:44.000Z', 3.9, {}],\n",
       "    [u'2016-04-09T00:43:59.000Z', 3.7, {}],\n",
       "    [u'2016-04-09T00:44:14.000Z', 4, {}],\n",
       "    [u'2016-04-09T00:44:29.000Z', 4.1, {}],\n",
       "    [u'2016-04-09T00:44:44.000Z', 4.1, {}],\n",
       "    [u'2016-04-09T00:44:59.000Z', 4, {}],\n",
       "    [u'2016-04-09T00:45:14.000Z', 3.7, {}],\n",
       "    [u'2016-04-09T00:45:29.000Z', 3.9, {}],\n",
       "    [u'2016-04-09T00:45:44.000Z', 4.1, {}],\n",
       "    [u'2016-04-09T00:45:59.000Z', 4.2, {}],\n",
       "    [u'2016-04-09T00:46:15.000Z', 4.1, {}],\n",
       "    [u'2016-04-09T00:46:30.000Z', 4.4, {}],\n",
       "    [u'2016-04-09T00:46:45.000Z', 3.8, {}],\n",
       "    [u'2016-04-09T00:47:00.000Z', 4, {}],\n",
       "    [u'2016-04-09T00:47:15.000Z', 4.2, {}],\n",
       "    [u'2016-04-09T00:47:30.000Z', 4.1, {}],\n",
       "    [u'2016-04-09T00:47:45.000Z', 4.4, {}],\n",
       "    [u'2016-04-09T00:48:00.000Z', 4, {}],\n",
       "    [u'2016-04-09T00:48:15.000Z', 4.3, {}],\n",
       "    [u'2016-04-09T00:48:30.000Z', 4.3, {}],\n",
       "    [u'2016-04-09T00:48:45.000Z', 3.8, {}],\n",
       "    [u'2016-04-09T00:49:00.000Z', 4.1, {}],\n",
       "    [u'2016-04-09T00:49:15.000Z', 4.3, {}],\n",
       "    [u'2016-04-09T00:49:30.000Z', 3.8, {}],\n",
       "    [u'2016-04-09T00:49:45.000Z', 3.9, {}],\n",
       "    [u'2016-04-09T00:50:00.000Z', 3.6, {}],\n",
       "    [u'2016-04-09T00:50:15.000Z', 4.2, {}],\n",
       "    [u'2016-04-09T00:50:30.000Z', 4, {}],\n",
       "    [u'2016-04-09T00:50:45.000Z', 4.1, {}],\n",
       "    [u'2016-04-09T00:51:00.000Z', 4.2, {}],\n",
       "    [u'2016-04-09T00:51:15.000Z', 4.1, {}],\n",
       "    [u'2016-04-09T00:51:30.000Z', 4, {}],\n",
       "    [u'2016-04-09T00:51:45.000Z', 3.9, {}],\n",
       "    [u'2016-04-09T00:52:00.000Z', 3.9, {}],\n",
       "    [u'2016-04-09T00:52:15.000Z', 4.2, {}],\n",
       "    [u'2016-04-09T00:52:30.000Z', 4.1, {}],\n",
       "    [u'2016-04-09T00:52:45.000Z', 3.9, {}],\n",
       "    [u'2016-04-09T00:53:00.000Z', 4, {}],\n",
       "    [u'2016-04-09T00:53:15.000Z', 4.1, {}],\n",
       "    [u'2016-04-09T00:53:30.000Z', 3.9, {}],\n",
       "    [u'2016-04-09T00:53:45.000Z', 4, {}],\n",
       "    [u'2016-04-09T00:54:00.000Z', 3.9, {}],\n",
       "    [u'2016-04-09T00:54:15.000Z', 4.1, {}],\n",
       "    [u'2016-04-09T00:54:30.000Z', 3.8, {}],\n",
       "    [u'2016-04-09T00:54:45.000Z', 4.2, {}],\n",
       "    [u'2016-04-09T00:55:00.000Z', 4, {}],\n",
       "    [u'2016-04-09T00:55:15.000Z', 4.3, {}],\n",
       "    [u'2016-04-09T00:55:30.000Z', 3.8, {}],\n",
       "    [u'2016-04-09T00:55:45.000Z', 3.7, {}],\n",
       "    [u'2016-04-09T00:56:00.000Z', 3.9, {}],\n",
       "    [u'2016-04-09T00:56:15.000Z', 4.3, {}],\n",
       "    [u'2016-04-09T00:56:30.000Z', 3.8, {}],\n",
       "    [u'2016-04-09T00:56:45.000Z', 4.4, {}],\n",
       "    [u'2016-04-09T00:57:00.000Z', 4.4, {}],\n",
       "    [u'2016-04-09T00:57:15.000Z', 4.2, {}],\n",
       "    [u'2016-04-09T00:57:30.000Z', 4.2, {}],\n",
       "    [u'2016-04-09T00:57:45.000Z', 4.2, {}]],\n",
       "   u'name': u'cpu.user_perc'}]]"
      ]
     },
     "execution_count": 39,
     "metadata": {},
     "output_type": "execute_result"
    }
   ],
   "source": [
    "metrics = get_metrics(['cpu.user_perc'])\n",
    "get_measurements(metrics)"
   ]
  },
  {
   "cell_type": "markdown",
   "metadata": {
    "slideshow": {
     "slide_type": "slide"
    }
   },
   "source": [
    "# Create a function to translate measurements to a Pandas DataFrame¶"
   ]
  },
  {
   "cell_type": "code",
   "execution_count": 40,
   "metadata": {
    "collapsed": true
   },
   "outputs": [],
   "source": [
    "def df_from_measurements(measurements):\n",
    "    '''Returns a DataFrame given measurements'''\n",
    "    measurement = measurements[0][0]\n",
    "    m = np.array(measurement['measurements'])  \n",
    "    timestamps = m[:, measurement['columns'].index('timestamp')]\n",
    "    df = pd.DataFrame(index = timestamps)  \n",
    "    \n",
    "    for measurement in measurements:\n",
    "        measure = measurement[0]\n",
    "        m = np.array(measure['measurements'])\n",
    "        name = measure['name']\n",
    "        df[name] = m[:, measure['columns'].index('value')]     \n",
    "    return df"
   ]
  },
  {
   "cell_type": "markdown",
   "metadata": {},
   "source": [
    "# Query measurements using the Monasca client\n"
   ]
  },
  {
   "cell_type": "code",
   "execution_count": 41,
   "metadata": {
    "collapsed": false
   },
   "outputs": [],
   "source": [
    "#metrics = get_metrics(names=['cpu.user_perc', 'cpu.system_perc'])\n",
    "metrics = get_metrics()\n",
    "measurements = get_measurements(metrics)"
   ]
  },
  {
   "cell_type": "markdown",
   "metadata": {},
   "source": [
    "# Display measurements using Plotly"
   ]
  },
  {
   "cell_type": "code",
   "execution_count": 42,
   "metadata": {
    "collapsed": false
   },
   "outputs": [
    {
     "data": {
      "text/html": [
       "<iframe id=\"igraph\" scrolling=\"no\" style=\"border:none;\" seamless=\"seamless\" src=\"https://plot.ly/~rhochmuth/105.embed\" height=\"587px\" width=\"1116px\"></iframe>"
      ],
      "text/plain": [
       "<plotly.tools.PlotlyDisplay object>"
      ]
     },
     "execution_count": 42,
     "metadata": {},
     "output_type": "execute_result"
    }
   ],
   "source": [
    "df = df_from_measurements(measurements)\n",
    "df.iplot(subplots=True, shape=(len(df.columns),1), shared_xaxes=True, fill=True)\n",
    "#df.iplot(kind='line', fill=True,\n",
    "#         xTitle='Date',\n",
    "#         yTitle='Value',\n",
    "#         title='Statistics',\n",
    "#         layout=layout)\n",
    "#df.scatter_matrix(world_readable=True)"
   ]
  },
  {
   "cell_type": "markdown",
   "metadata": {
    "slideshow": {
     "slide_type": "slide"
    }
   },
   "source": [
    "# Get statistics"
   ]
  },
  {
   "cell_type": "code",
   "execution_count": 43,
   "metadata": {
    "collapsed": false
   },
   "outputs": [
    {
     "name": "stdout",
     "output_type": "stream",
     "text": [
      "usage: monasca metric-statistics [--dimensions <KEY1=VALUE1,KEY2=VALUE2...>]\r\n",
      "                                 [--endtime <UTC_END_TIME>]\r\n",
      "                                 [--period <PERIOD>]\r\n",
      "                                 [--offset <OFFSET LOCATION>]\r\n",
      "                                 [--limit <RETURN LIMIT>] [--merge_metrics]\r\n",
      "                                 <METRIC_NAME> <STATISTICS> <UTC_START_TIME>\r\n",
      "\r\n",
      "List measurement statistics for the specified metric.\r\n",
      "\r\n",
      "Positional arguments:\r\n",
      "  <METRIC_NAME>         Name of the metric to report measurement statistics.\r\n",
      "  <STATISTICS>          Statistics is one or more (separated by commas) of\r\n",
      "                        [AVG, MIN, MAX, COUNT, SUM].\r\n",
      "  <UTC_START_TIME>      measurements >= UTC time. format:\r\n",
      "                        2014-01-01T00:00:00Z. OR Format: -120 (previous 120\r\n",
      "                        minutes).\r\n",
      "\r\n",
      "Optional arguments:\r\n",
      "  --dimensions <KEY1=VALUE1,KEY2=VALUE2...>\r\n",
      "                        key value pair used to specify a metric dimension.\r\n",
      "                        This can be specified multiple times, or once with\r\n",
      "                        parameters separated by a comma. Dimensions need\r\n",
      "                        quoting when they contain special chars\r\n",
      "                        [&,(,),{,},>,<] that confuse the CLI parser.\r\n",
      "  --endtime <UTC_END_TIME>\r\n",
      "                        measurements <= UTC time. format:\r\n",
      "                        2014-01-01T00:00:00Z.\r\n",
      "  --period <PERIOD>     number of seconds per interval (default is 300)\r\n",
      "  --offset <OFFSET LOCATION>\r\n",
      "                        The offset used to paginate the return data.\r\n",
      "  --limit <RETURN LIMIT>\r\n",
      "                        The amount of data to be returned up to the API\r\n",
      "                        maximum limit.\r\n",
      "  --merge_metrics       Merge multiple metrics into a single result.\r\n"
     ]
    }
   ],
   "source": [
    "!monasca help metric-statistics"
   ]
  },
  {
   "cell_type": "markdown",
   "metadata": {},
   "source": [
    "# Create a function to get statistics using the Monasca client"
   ]
  },
  {
   "cell_type": "code",
   "execution_count": 44,
   "metadata": {
    "collapsed": false
   },
   "outputs": [],
   "source": [
    "def get_statistics(metrics, statistics=['avg'], interval = 3600, start_time = None, end_time = None):\n",
    "    statistics_list = []\n",
    "    \n",
    "    period = interval / 512\n",
    "    \n",
    "    if period < 60:\n",
    "        period = 60\n",
    "        \n",
    "    period = period - period%60\n",
    "    \n",
    "    if start_time == None:\n",
    "        start_date = datetime.datetime.utcnow() - datetime.timedelta(seconds=interval)\n",
    "        start_time = start_date.strftime(\"%Y-%m-%dT%H:%M:%SZ\")\n",
    "\n",
    "    if end_time == None:\n",
    "        end_date = datetime.datetime.utcnow() - datetime.timedelta(seconds=0)\n",
    "        end_time = end_date.strftime(\"%Y-%m-%dT%H:%M:%SZ\")\n",
    "        \n",
    "    for metric in metrics:\n",
    "        kwargs = {}\n",
    "        kwargs['statistics'] = statistics\n",
    "        kwargs['period'] = period\n",
    "        kwargs['name'] = metric['name']\n",
    "        kwargs['dimensions'] = metric['dimensions']\n",
    "        kwargs['start_time'] = start_time\n",
    "        kwargs['end_time'] = end_time            \n",
    "        statistics_list.append(monasca_client.metrics.list_statistics(**kwargs))\n",
    "        \n",
    "    return statistics_list"
   ]
  },
  {
   "cell_type": "markdown",
   "metadata": {
    "slideshow": {
     "slide_type": "slide"
    }
   },
   "source": [
    "# Create a function to translate statistics to a Pandas DataFrame"
   ]
  },
  {
   "cell_type": "code",
   "execution_count": 45,
   "metadata": {
    "collapsed": false
   },
   "outputs": [],
   "source": [
    "def df_from_statistics(statistics, fn = 'avg'):\n",
    "    '''Returns a DataFrame given statistics'''\n",
    "    stat = statistics[0][0]\n",
    "    m = np.array(stat['statistics'])  \n",
    "    timestamps = m[:, stat['columns'].index('timestamp')]\n",
    "    df = pd.DataFrame(index = timestamps)\n",
    "    \n",
    "    for statistic in statistics:\n",
    "        stat = statistic[0]\n",
    "        m = np.array(stat['statistics'])\n",
    "        name = stat['name']\n",
    "        df[name] = m[:, stat['columns'].index('avg')]\n",
    "    return df"
   ]
  },
  {
   "cell_type": "markdown",
   "metadata": {
    "slideshow": {
     "slide_type": "slide"
    }
   },
   "source": [
    "# Query statistics using the Monasca client"
   ]
  },
  {
   "cell_type": "code",
   "execution_count": 46,
   "metadata": {
    "collapsed": false
   },
   "outputs": [],
   "source": [
    "#metrics = get_metrics(names=['cpu.user_perc', 'cpu.system_perc'])\n",
    "metrics = get_metrics()\n",
    "statistics = get_statistics(metrics, ['avg'], 3600)\n"
   ]
  },
  {
   "cell_type": "markdown",
   "metadata": {
    "slideshow": {
     "slide_type": "slide"
    }
   },
   "source": [
    "# Display statistics using Plotly"
   ]
  },
  {
   "cell_type": "code",
   "execution_count": 47,
   "metadata": {
    "collapsed": false
   },
   "outputs": [
    {
     "data": {
      "text/html": [
       "<iframe id=\"igraph\" scrolling=\"no\" style=\"border:none;\" seamless=\"seamless\" src=\"https://plot.ly/~rhochmuth/107.embed\" height=\"587px\" width=\"1116px\"></iframe>"
      ],
      "text/plain": [
       "<plotly.tools.PlotlyDisplay object>"
      ]
     },
     "execution_count": 47,
     "metadata": {},
     "output_type": "execute_result"
    }
   ],
   "source": [
    "df = df_from_statistics(statistics)\n",
    "df.iplot(subplots=True, shape=(len(df.columns),1), shared_xaxes=True, fill=True)\n",
    "#df.iplot(kind='line', fill=True,\n",
    "#         xTitle='Date',\n",
    "#         yTitle='Value',\n",
    "#         title='Statistics',\n",
    "#         layout=layout)\n",
    "#df.scatter_matrix(world_readable=True)"
   ]
  },
  {
   "cell_type": "code",
   "execution_count": 48,
   "metadata": {
    "collapsed": false
   },
   "outputs": [
    {
     "data": {
      "text/html": [
       "<iframe id=\"igraph\" scrolling=\"no\" style=\"border:none;\" seamless=\"seamless\" src=\"https://plot.ly/~rhochmuth/109.embed\" height=\"525px\" width=\"100%\"></iframe>"
      ],
      "text/plain": [
       "<plotly.tools.PlotlyDisplay object>"
      ]
     },
     "execution_count": 48,
     "metadata": {},
     "output_type": "execute_result"
    }
   ],
   "source": [
    "metrics = get_metrics(names=['cpu.user_perc', 'cpu.system_perc'])\n",
    "metrics = get_metrics()\n",
    "statistics = get_statistics(metrics, ['avg'], 3600)\n",
    "df = df_from_statistics(statistics)\n",
    "#df.iplot(subplots=True, shape=(len(df.columns),1), shared_xaxes=True, fill=True,\n",
    "df.iplot(kind='line', fill=True,\n",
    "         xTitle='Date',\n",
    "         yTitle='Value',\n",
    "         title='Statistics',\n",
    "         layout=layout)\n",
    "df.scatter_matrix(world_readable=True)"
   ]
  },
  {
   "cell_type": "code",
   "execution_count": 49,
   "metadata": {
    "collapsed": false
   },
   "outputs": [
    {
     "data": {
      "text/html": [
       "<iframe id=\"igraph\" scrolling=\"no\" style=\"border:none;\" seamless=\"seamless\" src=\"https://plot.ly/~rhochmuth/111.embed\" height=\"768px\" width=\"640px\"></iframe>"
      ],
      "text/plain": [
       "<plotly.tools.PlotlyDisplay object>"
      ]
     },
     "execution_count": 49,
     "metadata": {},
     "output_type": "execute_result"
    }
   ],
   "source": [
    "df.iplot(kind='box', layout=layout)"
   ]
  },
  {
   "cell_type": "markdown",
   "metadata": {
    "slideshow": {
     "slide_type": "slide"
    }
   },
   "source": [
    "# Query the Alarm History"
   ]
  },
  {
   "cell_type": "code",
   "execution_count": 50,
   "metadata": {
    "collapsed": false
   },
   "outputs": [
    {
     "name": "stdout",
     "output_type": "stream",
     "text": [
      "usage: monasca alarm-history-list [--dimensions <KEY1=VALUE1,KEY2=VALUE2...>]\r\n",
      "                                  [--starttime <UTC_START_TIME>]\r\n",
      "                                  [--endtime <UTC_END_TIME>]\r\n",
      "                                  [--offset <OFFSET LOCATION>]\r\n",
      "                                  [--limit <RETURN LIMIT>]\r\n",
      "\r\n",
      "List alarms state history.\r\n",
      "\r\n",
      "Optional arguments:\r\n",
      "  --dimensions <KEY1=VALUE1,KEY2=VALUE2...>\r\n",
      "                        key value pair used to specify a metric dimension.\r\n",
      "                        This can be specified multiple times, or once with\r\n",
      "                        parameters separated by a comma. Dimensions need\r\n",
      "                        quoting when they contain special chars\r\n",
      "                        [&,(,),{,},>,<] that confuse the CLI parser.\r\n",
      "  --starttime <UTC_START_TIME>\r\n",
      "                        measurements >= UTC time. format:\r\n",
      "                        2014-01-01T00:00:00Z. OR format: -120 (previous 120\r\n",
      "                        minutes).\r\n",
      "  --endtime <UTC_END_TIME>\r\n",
      "                        measurements <= UTC time. format:\r\n",
      "                        2014-01-01T00:00:00Z.\r\n",
      "  --offset <OFFSET LOCATION>\r\n",
      "                        The offset used to paginate the return data.\r\n",
      "  --limit <RETURN LIMIT>\r\n",
      "                        The amount of data to be returned up to the API\r\n",
      "                        maximum limit.\r\n"
     ]
    }
   ],
   "source": [
    "!monasca help alarm-history-list"
   ]
  },
  {
   "cell_type": "markdown",
   "metadata": {
    "slideshow": {
     "slide_type": "slide"
    }
   },
   "source": [
    "# Query the alarm history using the Monasca client"
   ]
  },
  {
   "cell_type": "code",
   "execution_count": 51,
   "metadata": {
    "collapsed": false
   },
   "outputs": [
    {
     "data": {
      "text/plain": [
       "[]"
      ]
     },
     "execution_count": 51,
     "metadata": {},
     "output_type": "execute_result"
    }
   ],
   "source": [
    "monasca_client.alarms.history_list(**{})"
   ]
  },
  {
   "cell_type": "markdown",
   "metadata": {
    "slideshow": {
     "slide_type": "slide"
    }
   },
   "source": [
    "# Developing and Testing"
   ]
  },
  {
   "cell_type": "markdown",
   "metadata": {},
   "source": [
    "* Python and Java codebase"
   ]
  },
  {
   "cell_type": "markdown",
   "metadata": {
    "slideshow": {
     "slide_type": "fragment"
    }
   },
   "source": [
    "* Monasca DevStack Plugin"
   ]
  },
  {
   "cell_type": "markdown",
   "metadata": {
    "slideshow": {
     "slide_type": "fragment"
    }
   },
   "source": [
    "* Unit Tests"
   ]
  },
  {
   "cell_type": "markdown",
   "metadata": {
    "slideshow": {
     "slide_type": "fragment"
    }
   },
   "source": [
    "* Monasca Tempest Tests"
   ]
  },
  {
   "cell_type": "markdown",
   "metadata": {
    "slideshow": {
     "slide_type": "fragment"
    }
   },
   "source": [
    "* Monasca and OpenStack CI"
   ]
  },
  {
   "cell_type": "markdown",
   "metadata": {
    "slideshow": {
     "slide_type": "slide"
    }
   },
   "source": [
    "# Monasca Repos\n",
    "\n",
    "* Monasca is a micro-services message bus based architecture.\n",
    "\n",
    "* Several repos:\n",
    "\n",
    "    * monasca-api: both Python and Java\n",
    "    \n",
    "    * monasca-persister: both Python and Java\n",
    "    \n",
    "    * monasca-thresh: Java\n",
    "    \n",
    "    * monasca-notification: Python\n",
    "    \n",
    "    * monasca-common: both Python and Java\n",
    "    \n",
    "    * monasca-agent: Python\n",
    "    \n",
    "    * monasca-statsd: Python\n",
    "    \n",
    "    * monasca-ui: Python\n",
    "    \n",
    "    * python-monascaclient: Python"
   ]
  },
  {
   "cell_type": "markdown",
   "metadata": {
    "slideshow": {
     "slide_type": "slide"
    }
   },
   "source": [
    "# Monasca DevStack Plugin"
   ]
  },
  {
   "cell_type": "markdown",
   "metadata": {
    "slideshow": {
     "slide_type": "fragment"
    }
   },
   "source": [
    "* DevStack is the primary developmement environment for OpenStack.\n",
    "\n",
    "    * See http://docs.openstack.org/developer/devstack/\n",
    "\n",
    "* The Monasca DevStack plugin installs the Monasca Service, Agent, Horizon Panel, and Grafana\n",
    "\n",
    "* README at, https://github.com/openstack/monasca-api/tree/master/devstack\n",
    "\n",
    "* Best way to get started is to install Vagrant and the Vagrantfile at, https://github.com/openstack/monasca-api/blob/master/devstack/Vagrantfile."
   ]
  },
  {
   "cell_type": "markdown",
   "metadata": {
    "slideshow": {
     "slide_type": "slide"
    }
   },
   "source": [
    "# Monasca Tempest Tests"
   ]
  },
  {
   "cell_type": "markdown",
   "metadata": {
    "slideshow": {
     "slide_type": "fragment"
    }
   },
   "source": [
    "* [Tempest](http://docs.openstack.org/developer/tempest) is the integration test suite for OpenStack.\n",
    "\n",
    "* Tempest has an external [Test Plugin Interface](http://docs.openstack.org/developer/tempest/plugin.html) interface that enables anyone to integrate an external test suite.\n",
    "\n",
    "* There is a [Monasca Tempest Plugin](https://github.com/openstack/monasca-api/tree/master/monasca_tempest_tests)\n",
    "\n",
    "* Currently, there are around 150 Tempest Tests written for Monasca that run in around 5 minutes."
   ]
  },
  {
   "cell_type": "markdown",
   "metadata": {
    "slideshow": {
     "slide_type": "slide"
    }
   },
   "source": [
    "# Monasca CI"
   ]
  },
  {
   "cell_type": "markdown",
   "metadata": {
    "slideshow": {
     "slide_type": "fragment"
    }
   },
   "source": [
    "* Monasca is fully integrated in the OpenStack CI system.\n",
    "\n",
    "* Gated jobs are run with each commit on both the Python and Java components through the normal gates and all the Monasca Tempest tests using the Monasca DevStack Plugin.\n",
    "\n",
    "* Currently, Java is non-voting"
   ]
  }
 ],
 "metadata": {
  "celltoolbar": "Slideshow",
  "kernelspec": {
   "display_name": "Python 2",
   "language": "python",
   "name": "python2"
  },
  "language_info": {
   "codemirror_mode": {
    "name": "ipython",
    "version": 2
   },
   "file_extension": ".py",
   "mimetype": "text/x-python",
   "name": "python",
   "nbconvert_exporter": "python",
   "pygments_lexer": "ipython2",
   "version": "2.7.11"
  }
 },
 "nbformat": 4,
 "nbformat_minor": 0
}
